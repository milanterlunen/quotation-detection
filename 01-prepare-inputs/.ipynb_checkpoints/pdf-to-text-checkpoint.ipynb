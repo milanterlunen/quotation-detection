{
 "cells": [
  {
   "cell_type": "markdown",
   "metadata": {},
   "source": [
    "# PDF to Text with Page Number Detection\n",
    "\n",
    "**Recommended to run notebook in browser since user input functionality works better there.**\n",
    "\n",
    "This notebook converts a PDF to a text file and detects the page numbers. If multiple potential page numbers are detected, the user will be asked to confirm which of the page numbers is correct. The printed page numbers and the indexed page numbers are added after each page's text in the text file in the following format: \n",
    "\n",
    "~printed_page_number:[NUM HERE]~ \n",
    "\n",
    "~indexed_page_number:[NUM HERE]~\n",
    "\n",
    "The PDFs are converted to text using this package: https://github.com/jsvine/pdfplumber#extracting-text. Follow the installation instructions before running this notebook. If you're running jupyter notebook in your browser, just run the cell below to install packages."
   ]
  },
  {
   "cell_type": "code",
   "execution_count": 1,
   "metadata": {},
   "outputs": [
    {
     "name": "stdout",
     "output_type": "stream",
     "text": [
      "\u001b[31mERROR: Could not find a version that satisfies the requirement re (from versions: none)\u001b[0m\u001b[31m\n",
      "\u001b[0m\u001b[31mERROR: No matching distribution found for re\u001b[0m\u001b[31m\n",
      "\u001b[0mCollecting pdfplumber\n",
      "  Downloading pdfplumber-0.9.0-py3-none-any.whl (46 kB)\n",
      "\u001b[2K     \u001b[90m━━━━━━━━━━━━━━━━━━━━━━━━━━━━━━━━━━━━━━━\u001b[0m \u001b[32m46.1/46.1 kB\u001b[0m \u001b[31m964.2 kB/s\u001b[0m eta \u001b[36m0:00:00\u001b[0ma \u001b[36m0:00:01\u001b[0m\n",
      "\u001b[?25hRequirement already satisfied: Pillow>=9.1 in /Users/milan/anaconda3/lib/python3.10/site-packages (from pdfplumber) (9.4.0)\n",
      "Collecting Wand>=0.6.10\n",
      "  Downloading Wand-0.6.11-py2.py3-none-any.whl (143 kB)\n",
      "\u001b[2K     \u001b[90m━━━━━━━━━━━━━━━━━━━━━━━━━━━━━━━━━━━━━━━\u001b[0m \u001b[32m143.6/143.6 kB\u001b[0m \u001b[31m4.2 MB/s\u001b[0m eta \u001b[36m0:00:00\u001b[0m\n",
      "\u001b[?25hCollecting pdfminer.six==20221105\n",
      "  Downloading pdfminer.six-20221105-py3-none-any.whl (5.6 MB)\n",
      "\u001b[2K     \u001b[90m━━━━━━━━━━━━━━━━━━━━━━━━━━━━━━━━━━━━━━━━\u001b[0m \u001b[32m5.6/5.6 MB\u001b[0m \u001b[31m12.6 MB/s\u001b[0m eta \u001b[36m0:00:00\u001b[0m00:01\u001b[0m00:01\u001b[0m\n",
      "\u001b[?25hRequirement already satisfied: charset-normalizer>=2.0.0 in /Users/milan/anaconda3/lib/python3.10/site-packages (from pdfminer.six==20221105->pdfplumber) (2.0.4)\n",
      "Requirement already satisfied: cryptography>=36.0.0 in /Users/milan/anaconda3/lib/python3.10/site-packages (from pdfminer.six==20221105->pdfplumber) (39.0.1)\n",
      "Requirement already satisfied: cffi>=1.12 in /Users/milan/anaconda3/lib/python3.10/site-packages (from cryptography>=36.0.0->pdfminer.six==20221105->pdfplumber) (1.15.1)\n",
      "Requirement already satisfied: pycparser in /Users/milan/anaconda3/lib/python3.10/site-packages (from cffi>=1.12->cryptography>=36.0.0->pdfminer.six==20221105->pdfplumber) (2.21)\n",
      "Installing collected packages: Wand, pdfminer.six, pdfplumber\n",
      "Successfully installed Wand-0.6.11 pdfminer.six-20221105 pdfplumber-0.9.0\n"
     ]
    }
   ],
   "source": [
    "# run this cell to install packages if you're running jupyter notebook in browser \n",
    "import sys\n",
    "!{sys.executable} -m pip install re\n",
    "!{sys.executable} -m pip install pdfplumber"
   ]
  },
  {
   "cell_type": "code",
   "execution_count": null,
   "metadata": {},
   "outputs": [],
   "source": [
    "import re \n",
    "import pdfplumber\n",
    "\n",
    "full_pdf_text = \"\"\n",
    "\n",
    "# input the path to the PDF you want to convert here\n",
    "with pdfplumber.open(\"hooks.pdf\") as pdf:\n",
    "    for i in range(len(pdf.pages)):\n",
    "        full_page = pdf.pages[i].extract_text()\n",
    "\n",
    "        first_line = full_page.split(\"\\n\")[0] # where page numbers at the top of the page are likely to be found\n",
    "        last_line = full_page.split(\"\\n\")[-1] # where page numbers at the bottom of the page are likely to be found\n",
    "        full_pdf_text += full_page\n",
    "\n",
    "        if len(full_page) != 0:\n",
    "            top_left_page_matches = re.findall(\"^([xXvViIlL]+|\\d{1,3})\\s\", first_line)\n",
    "            top_right_page_matches = re.findall(\"\\s([xXvViIlL]+|\\d{1,3})$\", first_line)\n",
    "            bottom_page_matches = re.findall(\"^([xXvViIlL]+|\\d{1,3})$\", last_line)\n",
    "            \n",
    "            all_matches = []\n",
    "            if top_left_page_matches:\n",
    "                all_matches.append(top_left_page_matches[0].strip())\n",
    "            if top_right_page_matches:\n",
    "                all_matches.append(top_right_page_matches[-1].strip())\n",
    "            if bottom_page_matches:\n",
    "                all_matches.append(bottom_page_matches[-1].strip())\n",
    "                \n",
    "            if len(all_matches) > 0:\n",
    "                if len(all_matches) > 1: # more than one potential page number \n",
    "                    print(f'\\n{len(all_matches)} potential page numbers were found for this page.')\n",
    "                    print(all_matches)\n",
    "                    print(f'Check PDF page {i+1} for the correct page number and enter it below. If the page has no printed page number, do not input anything.')\n",
    "                    correct_page_number = input()\n",
    "                    print(correct_page_number)\n",
    "                    if len(correct_page_number.strip()) != 0:\n",
    "                        printed_page_number = correct_page_number.strip()\n",
    "                    else:\n",
    "                        printed_page_number = None\n",
    "                else:\n",
    "                    printed_page_number = all_matches[0]\n",
    "\n",
    "                if printed_page_number is not None: \n",
    "                    full_pdf_text += f'\\n\\n~printed_page_number:{printed_page_number}~'\n",
    "                \n",
    "        full_pdf_text += f'\\n~indexed_page_number:{i+1}~\\n\\n'\n",
    "\n",
    "# enter the name of your output file here     \n",
    "with open(\"hooks_output.txt\", \"w\", encoding=\"utf-8\") as text_file:\n",
    "    text_file.write(full_pdf_text)\n",
    "\n"
   ]
  }
 ],
 "metadata": {
  "kernelspec": {
   "display_name": "Python 3 (ipykernel)",
   "language": "python",
   "name": "python3"
  },
  "language_info": {
   "codemirror_mode": {
    "name": "ipython",
    "version": 3
   },
   "file_extension": ".py",
   "mimetype": "text/x-python",
   "name": "python",
   "nbconvert_exporter": "python",
   "pygments_lexer": "ipython3",
   "version": "3.10.9"
  },
  "vscode": {
   "interpreter": {
    "hash": "aee8b7b246df8f9039afb4144a1f6fd8d2ca17a180786b69acc140d282b71a49"
   }
  }
 },
 "nbformat": 4,
 "nbformat_minor": 2
}
