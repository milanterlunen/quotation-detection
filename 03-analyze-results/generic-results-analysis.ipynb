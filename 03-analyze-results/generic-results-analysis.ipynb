{
 "cells": [
  {
   "cell_type": "markdown",
   "metadata": {},
   "source": [
    "# Analysis of Quotation Data Generated from JSTOR Dataset"
   ]
  },
  {
   "cell_type": "markdown",
   "metadata": {},
   "source": [
    "This Notebook allows you to browse and analyze data on quotations from JSTOR generated from the notebook in \"02-detect-quotations\".\n",
    "\n",
    "You'll need to run all the cells under \"Initial setup\". Remaining sections can be run independently of each other, depending on which questions you want to ask.\n",
    "\n",
    "Any time your input is needed, a cell will begin with \"# ACTION:\"\n",
    "\n",
    "Optional cells begin with \"# OPTIONAL:\" - if you don't want to take this option, don't run the cell."
   ]
  },
  {
   "cell_type": "markdown",
   "metadata": {},
   "source": [
    "# Table of contents"
   ]
  },
  {
   "cell_type": "markdown",
   "metadata": {},
   "source": [
    "- [Terminology](#Terminology)\n",
    "- [Initial setup](#Initial-setup)\n",
    "- [Basic information about results](#Basic-information-about-results)\n",
    "- [Information about historical range](#Information-about-historical-range)\n",
    "- [Questions about distribution of quotations across source text](#Questions-about-distribution-of-quotations-across-source-text)\n",
    "\t- [How many items have quoted from each chunk of the text?](#How-many-items-have-quoted-from-each-chunk-of-the-text?)\n",
    "\t- [How many quotations were detected from each chunk of the text?](#How-many-quotations-were-detected-from-each-chunk-of-the-text?)\n",
    "\t- [How many quoted words were detected from each chunk of the text?](#How-many-quoted-words-were-detected-from-each-chunk-of-the-text?)\n",
    "\t- [How does the number of items quoting each chunk change over the decades?](#How-does-the-number-of-items-quoting-each-chunk-change-over-the-decades?)\n",
    "\t- [How does the number of quotations from each chunk change over the decades?](#How-does-the-number-of-quotations-from-each-chunk-change-over-the-decades?)\n",
    "\t- [How does the number of words quoted from each chunk change over the decades?](#How-does-the-number-of-words-quoted-from-each-chunk-change-over-the-decades?)\n",
    "- [Questions about frequently quoted passages](#Questions-about-frequently-quoted-passages)\n",
    "\t- [What are the most frequently quoted passages in the text?](#What-are-the-most-frequently-quoted-passages-in-the-text?)\n",
    "\t- [Which frequently-quoted passages have been most consistently quoted over time?](#Which-frequently-quoted-passages-have-been-most-consistently-quoted-over-time?)\n",
    "\t- [Which frequently-quoted passages have undergone the largest change over time?](#Which-frequently-quoted-passages-have-undergone-the-largest-change-over-time?)\n",
    "\t- [Which passages have increased or decreased the most in the last decade (2010s)?](#Which-passages-have-increased-or-decreased-the-most-in-the-last-decade-(2010s)?)\n",
    "- [Questions about a specific passage](#Questions-about-a-specific-passage)\n",
    "\t- [What is the most frequently quoted portion of this passage?](#What-is-the-most-frequently-quoted-portion-of-this-passage?)\n",
    "\t- [How has the quotation frequency for this passage changed over time?](#How-has-the-quotation-frequency-for-this-passage-changed-over-time?)\n",
    "\t- [What are the items quoting from this passage?](#What-are-the-items-quoting-from-this-passage?)\n",
    "- [Questions about text quoted](#Questions-about-text-quoted)\n",
    "\t- [What is the distribution of word counts for the quotations detected?](#What-is-the-distribution-of-word-counts-for-the-quotations-detected?)\n",
    "\t- [What are the most frequent words across all quoted passages?](#What-are-the-most-frequent-words-across-all-quoted-passages?)\n",
    "\t- [What are the most distinctive keywords for quoted passages compared to the rest of the text?](#What-are-the-most-distinctive-keywords-for-quoted-passages-compared-to-the-rest-of-the-text?)\n",
    "- [Question about academic journals](#Question-about-academic-journals)\n",
    "\t- [Which journals account for the largest number of items in the dataset?](#Which-journals-account-for-the-largest-number-of-items-in-the-dataset?)\n",
    "\t- [Which journals account for the largest number of quotations detected?](#Which-journals-account-for-the-largest-number-of-quotations-detected?)\n",
    "\t- [Which journals account for the largest number of words quoted?](#Which-journals-account-for-the-largest-number-of-words-quoted?)\n",
    "\t- [How have the top journals changed over the decades?](#How-have-the-top-journals-changed-over-the-decades?)\n",
    "\t- [What disciplinary affiliations do the journals have based on JSTOR metadata?](#What-disciplinary-affiliations-do-the-journals-have-based-on-JSTOR-metadata?)\n",
    "\t- [What disciplinary affiliations do the journals have based on keywords in titles?](#What-disciplinary-affiliations-do-the-journals-have-based-on-keywords-in-titles?)\n",
    "\t- [How do journals with a specified disciplinary affiliation relate to the rest of the results?](#How-do-journals-with-a-specified-disciplinary-affiliation-relate-to-the-rest-of-the-results?)\n",
    "\t- [How do journals from a specified list of titles relate to the rest of the results?](#How-do-journals-from-a-specified-list-of-titles-relate-to-the-rest-of-the-results?)\n",
    "\t- [What are the most distinctive keywords in quotations from specified journals compared to the rest of the corpus?](#What-are-the-most-distinctive-keywords-in-quotations-from-specified-journals-compared-to-the-rest-of-the-corpus?)\n",
    "- [Questions about change over time](#Questions-about-change-over-time)\n",
    "- [Code from previous version of Notebook starts below](#Code-from-previous-version-of-Notebook-starts-below)"
   ]
  },
  {
   "cell_type": "markdown",
   "metadata": {},
   "source": [
    "# Terminology"
   ]
  },
  {
   "cell_type": "markdown",
   "metadata": {},
   "source": [
    "|Term | Definition |\n",
    "|----------|:-------------:|\n",
    "|**chapter/part/volume** | subdivisions defined in the source text, whether by the author or an editor or publisher|\n",
    "|**character index**|this is how we specify locations within the source text or any item within the target corpus. each character (e.g. a-z, 0-9, punctuation, spaces) in the text is numbered sequentially, starting at 0. the plural of \"index\" can be \"indices\" or \"indexes\".|\n",
    "|**chunk**|a portion of the text defined by splitting the text into n equal-sized portions, defined by (character count/word count?)|\n",
    "|**decade**|groups items in the target corpus by publication date, starting from year ending in 0 and up to year ending in 9, i.e. 1980s is 1980-1989.|\n",
    "|**item**|each discrete text in the corpus is called an item - items may be journal articles, book reviews, obituaries, tables of contents, book chapters, etc.|\n",
    "|**journal**|an academic periodical typically published at a frequency somewhere between quarterly and yearly - most of the items in our corpora come from journals|\n",
    "|**quotation**|the verbatim replication of a passage of the source text in an item from the target corpus - near-verbatim replication is also included (see readme on text-matcher code for more info)|\n",
    "|**paragraph**|a portion of text that is bounded on both sides by two line breaks (\\n\\n)|\n",
    "|**passage**|a portion of text, which could be shorter than a sentence or as long as a paragraph|\n",
    "|**sentence**|a portion of text that is bounded on both sides by period/full stop (.), question mark (?), exclamation mark (!) or line break (\\n)|\n",
    "|**source text**|the text from which you're wanting to detect quotations|\n",
    "|**target corpus**|the collection of texts in which you're wanting to detect quotations (plural is \"corpora\")|\n",
    "|**word**|a string of characters bounded on both sides by a space ( ) or a new line (\\n)|"
   ]
  },
  {
   "cell_type": "markdown",
   "metadata": {},
   "source": [
    "# Initial setup"
   ]
  },
  {
   "cell_type": "code",
   "execution_count": 2,
   "metadata": {},
   "outputs": [],
   "source": [
    "# import libraries needed\n",
    "import sys\n",
    "\n",
    "import pandas as pd\n",
    "import numpy as np\n",
    "\n",
    "\n",
    "# TBD: Some of these libraries are relics of earlier notebooks.\n",
    "# Reactivate any of the following that are needed, delete any that aren't needed.\n",
    "\n",
    "#import spacy\n",
    "\n",
    "\n",
    "try:\n",
    "    import re\n",
    "except:\n",
    "    !{sys.executable} -m pip install re\n",
    "    import re\n",
    "\n",
    "\n",
    "try:\n",
    "    import json\n",
    "except:\n",
    "    !{sys.executable} -m pip install json\n",
    "    import json\n",
    "\n",
    "try:\n",
    "    import ipywidgets as widgets\n",
    "except:\n",
    "    !{sys.executable} -m pip install ipywidgets\n",
    "    import ipywidgets as widgets\n",
    "\n",
    "#%pip install altair\n",
    "\n",
    "try:\n",
    "    import altair as alt\n",
    "except:\n",
    "    !{sys.executable} -m pip install altair\n",
    "    import altair as alt\n",
    "\n",
    "\n",
    "try:\n",
    "    from pathlib import Path\n",
    "except:\n",
    "    !{sys.executable} -m pip install pathlib\n",
    "    from pathlib import Path\n",
    "\n",
    "\n",
    "\n",
    "# from IPython.display import display\n",
    "\n",
    "try:\n",
    "    from IPython.display import display\n",
    "except:\n",
    "    !{sys.executable} -m pip install IPython.display\n",
    "    from IPython.display import display\n",
    "\n",
    "#new viz library for single-column heatmap    \n",
    "\n",
    "try:\n",
    "    import matplotlib.pyplot as plt\n",
    "except:\n",
    "    !{sys.executable} -m pip install matplotlib.pyplot\n",
    "    import matplotlib.pyplot as plt\n",
    "\n",
    "\n",
    "try:\n",
    "    from tabulate import tabulate \n",
    "except:\n",
    "    !{sys.executable} -m pip install tabulate\n",
    "    from tabulate import tabulate\n",
    "\n",
    "from ipywidgets import Label\n",
    "\n",
    "\n",
    "import os\n",
    "\n",
    "\n",
    "try:\n",
    "    import seaborn as sns \n",
    "except:\n",
    "    !{sys.executable} -m pip install seaborn\n",
    "    import seaborn as sns\n",
    "\n",
    "\n",
    "#from nltk.corpus import names\n",
    "#from collections import Counter\n",
    "#from matplotlib import pyplot as plt\n",
    "#%matplotlib inline\n",
    "#plt.rcParams[\"figure.figsize\"] = [16, 6]\n",
    "#plt.style.use('ggplot')\n",
    "\n",
    "\n"
   ]
  },
  {
   "cell_type": "code",
   "execution_count": 3,
   "metadata": {},
   "outputs": [
    {
     "data": {
      "application/vnd.jupyter.widget-view+json": {
       "model_id": "aebbaec02f7840e2869fce1e79c61750",
       "version_major": 2,
       "version_minor": 0
      },
      "text/plain": [
       "VBox(children=(Label(value='Paste the path below:'), Textarea(value='C:\\\\Users\\\\bdt\\\\Documents\\\\Data\\\\Woolf\\\\1…"
      ]
     },
     "metadata": {},
     "output_type": "display_data"
    }
   ],
   "source": [
    "\n",
    "# ACTION: copy path to results JSONL file here (filename should end \"_results_[hyperparameters].jsonl\")\n",
    "#path_to_JSONL_file = \"my_path/to/JSONL_file\" \n",
    "\n",
    "\n",
    "# Create a text widget for the path input\n",
    "path_input = widgets.Textarea(\n",
    "    # 🚨has to be removed \n",
    "    value= r\"C:\\Users\\bdt\\Documents\\Data\\Woolf\\1925_Dalloway\\Results\\Woolf_1925_Dalloway_results_t2-c3-n2-m3-nostops.jsonl\",\n",
    "    placeholder=\"Paste the path here\",\n",
    "    description=\"Path:\",\n",
    "    rows=6,\n",
    "    width= 30)\n",
    "# Add the instruction line above the input field\n",
    "instruction_line = widgets.Label(\"Paste the path below:\")\n",
    "\n",
    "path_to_JSONL_file=path_input.value\n",
    "path_to_JSONL_file2 =Path(path_to_JSONL_file)\n",
    "\n",
    "\n",
    "# Create a VBox layout with the path_input widget\n",
    "panel_layout = widgets.VBox([path_input])\n",
    "\n",
    "# Create a button widget for the commit action\n",
    "commit_button = widgets.Button(description=\"Confirm\")\n",
    "text_label=widgets.Label(value=\"\")\n",
    "commit_box= widgets.HBox([commit_button, text_label])\n",
    "\n",
    "panel_layout.children = (instruction_line, path_input, commit_box)\n",
    "\n",
    "# Define the event handler for the commit button\n",
    "# Update the commit_button_clicked function\n",
    "\n",
    "\n",
    "def input_field_changed(change):\n",
    "    new_path = change['new']\n",
    "    new_path = new_path.replace(\"\\\\\", \"\\\\\\\\\")\n",
    "    new_path = new_path.replace(\"'\", \"\")\n",
    "    new_path = new_path.replace('\"', '')\n",
    "    if Path(new_path).exists():\n",
    "        instruction_line.value = \"Paste the path below:\"\n",
    "        text_label.value = 'This path exists'\n",
    "        commit_button.layout.visibility = 'visible'\n",
    "        commit_button.description = 'Confirm'\n",
    "    else:\n",
    "        commit_button.layout.visibility = 'hidden'\n",
    "        instruction_line.value = \"Please try again. Paste the path below\"\n",
    "        text_label.value = 'This path does not exist'\n",
    "    \n",
    "    if Path(new_path).exists():\n",
    "        instruction_line.value = \"Paste the path below:\"\n",
    "        text_label.value = 'This path exists'\n",
    "        commit_button.layout.visibility = 'visible'\n",
    "\n",
    "        commit_button.description = 'Confirm'\n",
    "    else:\n",
    "        commit_button.layout.visibility = 'hidden'\n",
    "        # commit_button.visible = False\n",
    "        instruction_line.value = \"Please try again. Paste the path below\"\n",
    "        text_label.value = 'This path does not exit' \n",
    "    # Perform actions based on the new value\n",
    "    \n",
    "# Attach the event handler to the value change event of input_field\n",
    "path_input.observe(input_field_changed, names='value')\n",
    "\n",
    "def commit_button_clicked(button):\n",
    "    global path_to_JSONL_file2, path_to_JSONL_file\n",
    "    new_path= str( path_input.value).replace(\"\\\\\",\"\\\\\\\\\")\n",
    "    new_path = new_path.replace(\"'\", \"\")\n",
    "    new_path = new_path.replace('\"', '')\n",
    "    exists= Path(new_path).exists()\n",
    "    if  exists:\n",
    "        instruction_line.value=\"Paste the path below:\"\n",
    "        path_to_JSONL_file=new_path\n",
    "        path_to_JSONL_file2 =Path(new_path)\n",
    "        commit_button.description='Confirmed'\n",
    "        text_label.value='This path exists'\n",
    "    else:\n",
    "        instruction_line.value=\"Please try again. Paste the path below\"\n",
    "        text_label.value='This path does not exist'\n",
    "\n",
    "\n",
    "# Attach the event handler to the commit button\n",
    "commit_button.on_click(commit_button_clicked)\n",
    "\n",
    "\n",
    "# Display the panel\n",
    "display(panel_layout)\n",
    "  "
   ]
  },
  {
   "cell_type": "markdown",
   "metadata": {},
   "source": [
    "# 🗣️ Infer unique project variables using pathlib\n",
    "\n",
    "\n",
    "\n",
    "### use class ProjectData for creating the subdirs for the project, on the basis of given dataDir and filename  "
   ]
  },
  {
   "cell_type": "code",
   "execution_count": 3,
   "metadata": {},
   "outputs": [],
   "source": [
    "# This cell defines a class and functions for managing project data\n",
    "\n",
    "# 🗣️ The class and functions need to be rewritten to only check for the existence of the correct folder structure\n",
    "# and give an error message if relevant folders are missing. 🗣️🚨\n",
    "\n",
    "# using pathlib\n",
    "# dataDir is the main directory of all projects of all authors \n",
    "#  \n",
    "\n",
    "\n",
    "def file_exists(full_filename_string):\n",
    "  filename_path = Path(full_filename_string)\n",
    "\n",
    "  if filename_path.exists():        \n",
    "    if filename_path.is_file():\n",
    "      return True\n",
    "    else:\n",
    "      print(f\"{filename_path} exists, but it is not a file.\")\n",
    "      return False    \n",
    "  else:\n",
    "    print(f\"{filename_path} does not exist.\")\n",
    "    return False\n",
    "\n"
   ]
  },
  {
   "cell_type": "code",
   "execution_count": 4,
   "metadata": {},
   "outputs": [],
   "source": [
    "\n",
    "\n",
    "# define project dir, short filename, make project data\n",
    "\n",
    "class ProjectData:\n",
    "  def __init__(self,the_filename, the_dataDir):\n",
    "    #the_filename is full file path in the current OS\n",
    "    #dataFDir is string of root dir path\n",
    "    self.filename = the_filename\n",
    "    self.dataDir = Path(the_dataDir)\n",
    "    #self.dataDir.mkdir(exist_ok=True)\n",
    "    self.project_name = self.filename.split('.')[0] \n",
    "   \n",
    "    self.make_project_data()\n",
    "    self.project_dir = self.dataDir/self.name_author/self.project_name   \n",
    "    #self.project_dir.mkdir(exist_ok=True) \n",
    "    \n",
    "    # these should theoretically already be created in other NB \n",
    "    # But  working on an other laptop with other OS it can be handy \n",
    "    # to have these directories  written in the current OS fashion  \n",
    "    #self.proj_dir= Path(self.dataDir/self.name_author/self.project_name)\n",
    "    \n",
    "    self.source_dir= Path(self.project_dir/'SourceText')\n",
    "    #self.source_dir_path = Path.mkdir(exist_ok=True)\n",
    "\n",
    "\n",
    "    self.corpus_dir=Path(self.project_dir/'TargetCorpus')\n",
    "    #self.corpus_dir.mkdir(exist_ok=True)\n",
    "    self.results_dir=Path(self.project_dir/'Results')\n",
    "    #self.results_dir.mkdir(exist_ok=True)\n",
    "    self.path=self.results_dir/self.filename \n",
    "\n",
    "\n",
    "    # Create a Path object\n",
    "    # directory_path= Path(dir_name_string)\n",
    "\n",
    "    # Check if the directory exists\n",
    "    # if not( directory_path.exists() and directory_path.is_dir()):\n",
    "    #   print(f\"{dir_name_string} does not exist as a directory.\")\n",
    "\n",
    "    \n",
    "  def make_project_data(self):\n",
    "    #Split the_filename into parts based on the underscore character\n",
    "    parts = self.filename.split('_')\n",
    "    # The first part is the author's name\n",
    "    self.name_author = parts[0]\n",
    "    # The second part is the publication year\n",
    "    self.publication_year = parts[1]\n",
    "    # The third part is the book's name\n",
    "    self.text_title = parts[2]   \n",
    "    self.suffix1 = parts[3] \n",
    "    # The fourth part contains the suffix and the extension\n",
    "    suffix_and_extension = parts[4]\n",
    "\n",
    "    # Split the fourth part into the suffix and the extension based on the period character\n",
    "    suffix_parts = suffix_and_extension.split('.')    \n",
    "    # The first part is the hyperparSuffix\n",
    "    self.hyperparSuffix = suffix_parts[0]\n",
    "    # The second part is the extension\n",
    "    self.extension = suffix_parts[1]\n",
    "    self.project_name=f\"{self.publication_year}_{self.text_title}\"\n",
    "\n",
    "    #this method checks if all of the project directorie exist. \n",
    "    # It returns true if so, and False if not\n",
    "\n",
    "  def all_project_dirs_exist(self):\n",
    "    #preetting the value of the return variable exist to False  \n",
    "    data_dir_exists= self.dataDir.exists()\n",
    "    if not data_dir_exists: \n",
    "      print( f\"The data directory {self.dataDir}  does not exist\")\n",
    "    else:\n",
    "      data_dir_exists = True\n",
    "      results_dir_exists = self.results_dir.exists()\n",
    "      if not results_dir_exists:\n",
    "        print( f\"The results directory {self.results_dir}  does not exist\")\n",
    "      else:\n",
    "        results_dir_exists = True \n",
    "      corpus_dir_exists = self.corpus_dir.exists()\n",
    "      if not corpus_dir_exists:\n",
    "        print( f\"The corpus directory {self.corpus_dir}  does not exist\")\n",
    "      else:\n",
    "        corpus_dir_exists = True  \n",
    "      \n",
    "      source_dir_exists = self.source_dir.exists()\n",
    "      if not source_dir_exists:\n",
    "        print( f\"The source directory {self.source_dir}  does not exist\")\n",
    "      else:  \n",
    "        source_dir_exists = True \n",
    "     \n",
    "    all_dirs_exist = data_dir_exists and source_dir_exists and results_dir_exists and corpus_dir_exists and source_dir_exists\n",
    "\n",
    "    return all_dirs_exist\n"
   ]
  },
  {
   "cell_type": "markdown",
   "metadata": {},
   "source": [
    "### Building an instance of Project data"
   ]
  },
  {
   "cell_type": "code",
   "execution_count": 4,
   "metadata": {},
   "outputs": [
    {
     "name": "stdout",
     "output_type": "stream",
     "text": [
      "'All project files exist' is:'True\n"
     ]
    }
   ],
   "source": [
    "# Building an instance of ProjectData\n",
    "# create and fill de the data frame df, reading the  JSONL file\n",
    "# doing a check of the existence of all project dirs\n",
    "\n",
    "#self.dataDir=dataDir file-exits\n",
    "path = path_to_JSONL_file2\n",
    "\n",
    "\n",
    "dataDir = path.parents[3]\n",
    "\n",
    "# extracts the filename from the file path\n",
    "the_filename = path.name\n",
    "\n",
    "if path_to_JSONL_file2.exists():\n",
    "    \n",
    "    my_project_data = ProjectData(the_filename,dataDir) \n",
    "    print(f\"'All project files exist' is:'{my_project_data.all_project_dirs_exist()}\")\n",
    " \n",
    "    # Load results as pandas dataframe\n",
    "    df = pd.read_json(path_to_JSONL_file, lines=True)\n",
    "   \n",
    "  \n",
    "else: \n",
    "    print(f\"file {path}  does not exist\" )\n",
    "\n",
    "\n"
   ]
  },
  {
   "cell_type": "markdown",
   "metadata": {},
   "source": [
    "### Prints the number of items with/without matches"
   ]
  },
  {
   "cell_type": "code",
   "execution_count": 5,
   "metadata": {},
   "outputs": [
    {
     "name": "stdout",
     "output_type": "stream",
     "text": [
      "Items with matches: 518\n",
      "Items without matches: 1977\n"
     ]
    }
   ],
   "source": [
    "# Count number of items with/without matches\n",
    "\n",
    "print(f\"Items with matches: {len(df[df['numMatches']>=1])}\\nItems without matches: {len(df[df['numMatches']==0])}\")"
   ]
  },
  {
   "cell_type": "markdown",
   "metadata": {},
   "source": [
    "# Basic information about results"
   ]
  },
  {
   "cell_type": "code",
   "execution_count": 6,
   "metadata": {},
   "outputs": [
    {
     "name": "stdout",
     "output_type": "stream",
     "text": [
      "Number of items: 2495\n",
      "Number of quotations: 1758\n"
     ]
    }
   ],
   "source": [
    "\n",
    "# Print:\n",
    "# Number of items\n",
    "\n",
    "num_Items = len(df)\n",
    "print(f'Number of items: {num_Items}')\n",
    "\n",
    "# Total number of quotations\n",
    "\n",
    "num_quotations = df['numMatches'].sum()\n",
    "print(f'Number of quotations: {num_quotations}')\n"
   ]
  },
  {
   "cell_type": "code",
   "execution_count": 7,
   "metadata": {},
   "outputs": [
    {
     "name": "stdout",
     "output_type": "stream",
     "text": [
      "|   Number of Quotations |   Count |\n",
      "|-----------------------:|--------:|\n",
      "|                      1 |     309 |\n",
      "|                      2 |      45 |\n",
      "|                      3 |      29 |\n",
      "|                      4 |      22 |\n",
      "|                      7 |      18 |\n",
      "|                      5 |      18 |\n",
      "|                      8 |      15 |\n",
      "|                      6 |      12 |\n",
      "|                     11 |      10 |\n",
      "|                     10 |       9 |\n",
      "|                      9 |       5 |\n",
      "|                     12 |       5 |\n",
      "|                     13 |       3 |\n",
      "|                     21 |       2 |\n",
      "|                     19 |       2 |\n",
      "|                     16 |       2 |\n",
      "|                     15 |       2 |\n",
      "|                     26 |       1 |\n",
      "|                     14 |       1 |\n",
      "|                     34 |       1 |\n",
      "|                     20 |       1 |\n",
      "|                     17 |       1 |\n",
      "|                     28 |       1 |\n",
      "|                     41 |       1 |\n",
      "|                     58 |       1 |\n",
      "|                     29 |       1 |\n",
      "|                     23 |       1 |\n"
     ]
    }
   ],
   "source": [
    "\n",
    "# Tally of number of quotations per item (i.e. from 1 to n)\n",
    "\n",
    "tally = df['numMatches'].value_counts()\n",
    "\n",
    "# 🗣️🚨 Remove this restriction: display entire tally\n",
    "# 🗣️🚨 make outlines for the table of this tally\n",
    "\n",
    "\n",
    "# Convert the tally to a DataFrame\n",
    "tally_df = tally.to_frame().reset_index()[1:]\n",
    "tally_df.columns = ['Number of Quotations', 'Count']\n",
    "\n",
    "# Create the table with outlines\n",
    "table = tabulate(tally_df, headers='keys', tablefmt='pipe', showindex=False)\n",
    "print(table)"
   ]
  },
  {
   "cell_type": "code",
   "execution_count": 8,
   "metadata": {},
   "outputs": [],
   "source": [
    "# definition of count_quotes_per_chunk\n",
    "\n",
    "def count_quotes_per_chunk(df, list_of_start_positions):\n",
    "\n",
    "    bins = [0] * len(list_of_start_positions)\n",
    "\n",
    "    for location_list in df['Locations in A']:\n",
    "        if isinstance(location_list, list) and len(location_list) > 0:\n",
    "            for location in location_list: \n",
    "                start_location=location[0]\n",
    "                length_loop=len(list_of_start_positions)-1\n",
    "                for j in range(length_loop):\n",
    "                    if (start_location >= list_of_start_positions[j]) and (start_location < list_of_start_positions[j+1]):\n",
    "                        bins[j] +=1\n",
    "                        break\n",
    "                    else:\n",
    "                        if j== length_loop-1:\n",
    "                            bins[j+1] += 1\n",
    "                            break\n",
    "    return bins\n",
    "\n",
    "\n",
    "\n",
    "\n"
   ]
  },
  {
   "cell_type": "code",
   "execution_count": 9,
   "metadata": {},
   "outputs": [],
   "source": [
    "# definition of count_words_quoted_in_chunks(df, list_of_start_positions, txt):\n",
    "\n",
    "\n",
    "def num_Words_in_Quotation( str):\n",
    "   return  len(str.split())\n",
    "\n",
    "def make_Quotation_str(location ,txt):\n",
    "   return txt[location[0]:location[1]+1]  \n",
    "\n",
    "def count_words_quoted_in_chunks(df, list_of_start_positions, txt):\n",
    "    bins = [0] * len(list_of_start_positions)\n",
    "    for location_list in df['Locations in A']:\n",
    "        if isinstance(location_list, list) and len(location_list) > 0:\n",
    "            for location in location_list: \n",
    "                quotation_str = make_Quotation_str(location, txt)\n",
    "                num_words_words_quoted=  num_Words_in_Quotation(quotation_str)\n",
    "                start_location=location[0]\n",
    "                length_loop=len(list_of_start_positions)-1\n",
    "                for j in range(length_loop):\n",
    "                    if (start_location >= list_of_start_positions[j]) and (start_location < list_of_start_positions[j+1]):\n",
    "                        bins[j] += num_words_words_quoted\n",
    "                        break\n",
    "                    else:\n",
    "                        if j== length_loop-1:\n",
    "                            bins[j+1] += num_words_words_quoted\n",
    "                            break\n",
    "    return bins\n",
    "\n"
   ]
  },
  {
   "cell_type": "code",
   "execution_count": 10,
   "metadata": {},
   "outputs": [],
   "source": [
    "# definition of total_count_words_quoted_(df txt):\n",
    "# counts all words quoted\n",
    "def total_count_words_quoted_(df, txt):\n",
    "    tally=0\n",
    "    for location_list in df['Locations in A']:\n",
    "        if isinstance(location_list, list) and len(location_list) > 0:\n",
    "            for location in location_list: \n",
    "                quotation_str = make_Quotation_str(location, txt)\n",
    "                num_words_words_quoted=  num_Words_in_Quotation(quotation_str)\n",
    "                tally += num_words_words_quoted\n",
    "    return tally\n",
    "\n",
    "\n",
    "\n"
   ]
  },
  {
   "cell_type": "code",
   "execution_count": 63,
   "metadata": {},
   "outputs": [],
   "source": [
    "\n",
    "# given the number of chunks, numOfChun, \n",
    "# #make a list of startpositions of using the read source A txtfile:  txt\n",
    "\n",
    "\n",
    "# list lowerbound of each chunk is defined\n",
    "\n",
    "def make_list_startpositions(numOfChunks, txt):\n",
    "    number_of_characters = len(txt)     \n",
    "    step=   int(number_of_characters/numOfChunks)\n",
    "    list_of_start_positions = list(range(0,numOfChunks*step, int(number_of_characters/numOfChunks)))\n",
    "    return list_of_start_positions\n"
   ]
  },
  {
   "cell_type": "code",
   "execution_count": 64,
   "metadata": {},
   "outputs": [],
   "source": [
    "#OPTIONAL: change numOfChunks\n",
    "numOfChunks = 20\n",
    "\n"
   ]
  },
  {
   "cell_type": "code",
   "execution_count": 13,
   "metadata": {},
   "outputs": [],
   "source": [
    "# 🗣️🚨 definining preparations to find the source S Textfile  \n",
    "# asuming naming conventions are respected \n",
    "\n",
    "\n",
    "\n",
    "def find_SourceText(project_data):\n",
    "  #source-dit is a path object \n",
    "  source_dir=project_data.source_dir\n",
    "  project_name= project_data.project_name\n",
    "  if source_dir.exists():\n",
    "    # Specify the file pattern to search for\n",
    "    matching_pattern = f\"*{project_name}*\"\n",
    "  matching_pattern = f\"*{project_name}*text.txt*\"\n",
    "\n",
    "  matching_files_list = list(source_dir.glob(matching_pattern))\n",
    "  for file in matching_files_list:\n",
    "    print(file) \n",
    "  if len(matching_files_list)==0:\n",
    "    print('The SourceText does not exist')\n",
    "  elif not len(matching_files_list)==1:\n",
    "    print('There are more SourceTexts.  Remove files before contuimuing')\n",
    "    matching_files_list= []\n",
    "                          \n",
    "  return matching_files_list[0]  \n",
    "  \n",
    "        "
   ]
  },
  {
   "cell_type": "code",
   "execution_count": 14,
   "metadata": {},
   "outputs": [
    {
     "name": "stdout",
     "output_type": "stream",
     "text": [
      "C:\\Users\\bdt\\Documents\\Data\\Woolf\\1925_Dalloway\\SourceText\\Woolf_1925_Dalloway_plaintext.txt\n",
      "359167\n"
     ]
    }
   ],
   "source": [
    "# 🗣️🚨 preparations to find and read the A source  Textfile  \n",
    "\n",
    "\n",
    "source_Text= find_SourceText(my_project_data)\n",
    "\n",
    "with open(source_Text,\"r\", encoding='utf-8' ) as f: \n",
    "   txt = f.read()\n",
    "\n",
    "\n",
    "textALength = len(txt)\n",
    "print(textALength) "
   ]
  },
  {
   "cell_type": "code",
   "execution_count": 65,
   "metadata": {},
   "outputs": [],
   "source": [
    "list_of_start_positions= make_list_startpositions(numOfChunks, txt)\n",
    "bins = count_quotes_per_chunk(df, list_of_start_positions)"
   ]
  },
  {
   "cell_type": "code",
   "execution_count": 66,
   "metadata": {},
   "outputs": [
    {
     "name": "stdout",
     "output_type": "stream",
     "text": [
      "    Index  Start Position\n",
      "0       0               0\n",
      "1       1           17958\n",
      "2       2           35916\n",
      "3       3           53874\n",
      "4       4           71832\n",
      "5       5           89790\n",
      "6       6          107748\n",
      "7       7          125706\n",
      "8       8          143664\n",
      "9       9          161622\n",
      "10     10          179580\n",
      "11     11          197538\n",
      "12     12          215496\n",
      "13     13          233454\n",
      "14     14          251412\n",
      "15     15          269370\n",
      "16     16          287328\n",
      "17     17          305286\n",
      "18     18          323244\n",
      "19     19          341202 \n",
      "\n",
      "number_of_characters: 359167\n",
      "number of chunks: 20\n"
     ]
    }
   ],
   "source": [
    "numOfChunks=20 \n",
    "\n",
    "list_of_start_positions= make_list_startpositions(numOfChunks, txt)\n",
    "\n",
    "df_Character_Indices = pd.DataFrame({'Index': range(len(list_of_start_positions)), 'Start Position': list_of_start_positions})\n",
    "\n",
    "\n",
    "number_of_characters = len(txt)\n",
    "#Display the indexed table\n",
    "\n",
    "print(df_Character_Indices,\"\\n\")\n",
    "print(f'number_of_characters: {number_of_characters}')\n",
    "print(f'number of chunks: {numOfChunks}')  \n",
    "\n"
   ]
  },
  {
   "cell_type": "code",
   "execution_count": 17,
   "metadata": {},
   "outputs": [
    {
     "name": "stdout",
     "output_type": "stream",
     "text": [
      "52190\n"
     ]
    }
   ],
   "source": [
    "\n",
    "# 🗣️🚨 Total no. of words quoted\n",
    "\n",
    "# Tally of no. of words quoted per item (i.e. from 1 to n)\n",
    "\n",
    "\n",
    "\n",
    "#total_count = sum(wordcount_bins)\n",
    "#print(total_count)\n",
    "\n",
    "total_count = total_count_words_quoted_(df, txt)\n",
    "print(total_count)\n",
    "\n"
   ]
  },
  {
   "cell_type": "code",
   "execution_count": 18,
   "metadata": {},
   "outputs": [
    {
     "name": "stdout",
     "output_type": "stream",
     "text": [
      "docType\n",
      "document    1505\n",
      "article      937\n",
      "chapter       49\n",
      "book           4\n",
      "Name: count, dtype: int64\n",
      "docSubType\n",
      "research-article    497\n",
      "book-review         304\n",
      "misc                124\n",
      "chapter               6\n",
      "index                 4\n",
      "book                  4\n",
      "other                 1\n",
      "notes                 1\n",
      "news                  1\n",
      "Name: count, dtype: int64\n",
      "Total number of items: 2495\n",
      "Total number of unique journals: 380\n",
      "Total number of journal items: 2104\n",
      "Total number of non journal items: 391\n",
      "Total number of articles is: 937\n",
      "Number of items with isPartOf == na and docType == 'article' 69\n"
     ]
    }
   ],
   "source": [
    "\n",
    "#  🗣️🚨 Breakdown of docType and docSubType for dataset\n",
    "#  🗣️🚨 No. of unique journals\n",
    "\n",
    "# 🗣️🚨 Needs to be rewritten to identify docType = article\n",
    "# 🗣️🚨 Check for items where docType is article but isPartOf = na - there shouldn't be any instances, but need to check\n",
    "\n",
    "tally_doctype = df['docType'].value_counts()\n",
    "print(tally_doctype)\n",
    "tally_subdoctype = df['docSubType'].value_counts()\n",
    "print(tally_subdoctype)\n",
    "\n",
    "\n",
    "total_num_items=len(df['isPartOf']) \n",
    "print(f'Total number of items: {total_num_items}')\n",
    "\n",
    "total_num_unique_journal_names=len(df['isPartOf'].unique()) \n",
    "print(f'Total number of unique journals: {total_num_unique_journal_names}')\n",
    "\n",
    "total_num_journal_items = len(df[df['isPartOf'].notna()])\n",
    "print(f'Total number of journal items: {total_num_journal_items}')\n",
    "\n",
    "print(f'Total number of non journal items: {num_Items - total_num_journal_items}')\n",
    "\n",
    "# 🗣️🚨 Needs to be rewritten to identify docType = article\n",
    "\n",
    "total_num_articles= len(df[df['docType'] == 'article']) \n",
    "print(f'Total number of articles is: {total_num_articles}')\n",
    "\n",
    "# 🗣️🚨 Check for items where docType is article but isPartOf = na - \n",
    "# there shouldn't be any instances, but need to check\n",
    "\n",
    "length = len(df[(df['isPartOf'].isna()) & (df['docType'] == 'article')])\n",
    "print(f\"Number of items with isPartOf == na and docType == 'article' {length}\")\n"
   ]
  },
  {
   "cell_type": "code",
   "execution_count": 19,
   "metadata": {},
   "outputs": [
    {
     "name": "stdout",
     "output_type": "stream",
     "text": [
      "Items now contained in dataset: 518\n"
     ]
    }
   ],
   "source": [
    "# Drop items with no matches from dataframe\n",
    "\n",
    "df = df[df['numMatches']>=1]\n",
    "print(f\"Items now contained in dataset: {len(df)}\")"
   ]
  },
  {
   "cell_type": "code",
   "execution_count": 20,
   "metadata": {},
   "outputs": [],
   "source": [
    "# Create tally of quotation frequency per word for whole source text\n",
    "\n",
    "\n",
    "# Note: this code has already been written for the \"font size visualization\"\n",
    "\n",
    "\n",
    "# 🚨 alright have to look into this"
   ]
  },
  {
   "cell_type": "markdown",
   "metadata": {},
   "source": [
    "# Information about historical range"
   ]
  },
  {
   "cell_type": "code",
   "execution_count": 21,
   "metadata": {},
   "outputs": [
    {
     "name": "stdout",
     "output_type": "stream",
     "text": [
      "|   Number of Quotations |   Count |\n",
      "|-----------------------:|--------:|\n",
      "|                   1920 |       1 |\n",
      "|                   2020 |       3 |\n",
      "|                   1940 |       5 |\n",
      "|                   1930 |       5 |\n",
      "|                   1950 |       9 |\n",
      "|                   1960 |      16 |\n",
      "|                   1970 |      52 |\n",
      "|                   1980 |      62 |\n",
      "|                   1990 |     103 |\n",
      "|                   2010 |     130 |\n",
      "|                   2000 |     132 |\n"
     ]
    }
   ],
   "source": [
    "\n",
    "\n",
    "\n",
    "# Print:\n",
    "# Raw count of items per decade\n",
    "\n",
    "\n",
    "# 🗣️🚨 rewrite to use Pandas value_counts method - check decades sorted chronologically\n",
    "tally=df[df['numMatches'] > 0]['Decade'].value_counts()\n",
    "\n",
    "\n",
    "sorted_tally = tally.sort_values(ascending=True)\n",
    "\n",
    "tally_df = sorted_tally.to_frame().reset_index()\n",
    "tally_df.columns = ['Number of Quotations', 'Count']\n",
    "\n",
    "# Create the table with outlines\n",
    "table = tabulate(tally_df, headers='keys', tablefmt='pipe', showindex=False)\n",
    "print(table)\n",
    "\n",
    "\n"
   ]
  },
  {
   "cell_type": "code",
   "execution_count": 22,
   "metadata": {},
   "outputs": [
    {
     "data": {
      "image/png": "[encoded data removed]",
      "text/plain": [
       "<Figure size 640x480 with 1 Axes>"
      ]
     },
     "metadata": {},
     "output_type": "display_data"
    },
    {
     "name": "stdout",
     "output_type": "stream",
     "text": [
      " Year  numMatches\n",
      " 1928           1\n",
      " 1931           4\n",
      " 1934           4\n",
      " 1935           1\n",
      " 1937           2\n",
      " 1940           1\n",
      " 1944           8\n",
      " 1946           7\n",
      " 1949           2\n",
      " 1953           1\n",
      " 1955           1\n",
      " 1956          36\n",
      " 1957           2\n",
      " 1958          27\n",
      " 1960           2\n",
      " 1961          12\n",
      " 1962           9\n",
      " 1964           1\n",
      " 1965          28\n",
      " 1966           7\n",
      " 1967           5\n",
      " 1968          10\n",
      " 1969           2\n",
      " 1970           6\n",
      " 1971           2\n",
      " 1972         119\n",
      " 1973          55\n",
      " 1974          56\n",
      " 1975           2\n",
      " 1977          16\n",
      " 1978          14\n",
      " 1979          18\n",
      " 1980          16\n",
      " 1981          12\n",
      " 1982           7\n",
      " 1983          25\n",
      " 1984          10\n",
      " 1985           7\n",
      " 1986          23\n",
      " 1987          11\n",
      " 1988          25\n",
      " 1989          18\n",
      " 1990          28\n",
      " 1991          23\n",
      " 1992          46\n",
      " 1993          15\n",
      " 1994          38\n",
      " 1995          45\n",
      " 1996          34\n",
      " 1997          27\n",
      " 1998          32\n",
      " 1999          56\n",
      " 2000          15\n",
      " 2001          39\n",
      " 2002          22\n",
      " 2003          59\n",
      " 2004          33\n",
      " 2005          76\n",
      " 2006          49\n",
      " 2007          21\n",
      " 2008          59\n",
      " 2009          24\n",
      " 2010          44\n",
      " 2011          26\n",
      " 2012          38\n",
      " 2013          65\n",
      " 2014          45\n",
      " 2015          89\n",
      " 2016          31\n",
      " 2017          36\n",
      " 2018          22\n",
      " 2019           3\n",
      " 2020           1\n",
      " 2021           2\n"
     ]
    }
   ],
   "source": [
    "\n",
    "# Box plot of items per year\n",
    "\n",
    "\n",
    "plt.boxplot(df[df['numMatches'] > 0]['Year'], vert=False)\n",
    "plt.xlabel('Year')\n",
    "plt.title('Boxplot of number of quotation items per year')\n",
    "plt.show()\n",
    "\n",
    "# Raw count of quotations per decade\n",
    "print(df.groupby('Year')['numMatches'].sum().reset_index().to_string(index=False))\n",
    "# Box plot of quotations per year\n"
   ]
  },
  {
   "cell_type": "code",
   "execution_count": 23,
   "metadata": {},
   "outputs": [
    {
     "name": "stdout",
     "output_type": "stream",
     "text": [
      "Index(['Year', 'numMatches'], dtype='object')\n",
      "|   Year |   Count |\n",
      "|-------:|--------:|\n",
      "|   1928 |       1 |\n",
      "|   1931 |       4 |\n",
      "|   1934 |       4 |\n",
      "|   1935 |       1 |\n",
      "|   1937 |       2 |\n",
      "|   1940 |       1 |\n",
      "|   1944 |       8 |\n",
      "|   1946 |       7 |\n",
      "|   1949 |       2 |\n",
      "|   1953 |       1 |\n",
      "|   1955 |       1 |\n",
      "|   1956 |      36 |\n",
      "|   1957 |       2 |\n",
      "|   1958 |      27 |\n",
      "|   1960 |       2 |\n",
      "|   1961 |      12 |\n",
      "|   1962 |       9 |\n",
      "|   1964 |       1 |\n",
      "|   1965 |      28 |\n",
      "|   1966 |       7 |\n",
      "|   1967 |       5 |\n",
      "|   1968 |      10 |\n",
      "|   1969 |       2 |\n",
      "|   1970 |       6 |\n",
      "|   1971 |       2 |\n",
      "|   1972 |     119 |\n",
      "|   1973 |      55 |\n",
      "|   1974 |      56 |\n",
      "|   1975 |       2 |\n",
      "|   1977 |      16 |\n",
      "|   1978 |      14 |\n",
      "|   1979 |      18 |\n",
      "|   1980 |      16 |\n",
      "|   1981 |      12 |\n",
      "|   1982 |       7 |\n",
      "|   1983 |      25 |\n",
      "|   1984 |      10 |\n",
      "|   1985 |       7 |\n",
      "|   1986 |      23 |\n",
      "|   1987 |      11 |\n",
      "|   1988 |      25 |\n",
      "|   1989 |      18 |\n",
      "|   1990 |      28 |\n",
      "|   1991 |      23 |\n",
      "|   1992 |      46 |\n",
      "|   1993 |      15 |\n",
      "|   1994 |      38 |\n",
      "|   1995 |      45 |\n",
      "|   1996 |      34 |\n",
      "|   1997 |      27 |\n",
      "|   1998 |      32 |\n",
      "|   1999 |      56 |\n",
      "|   2000 |      15 |\n",
      "|   2001 |      39 |\n",
      "|   2002 |      22 |\n",
      "|   2003 |      59 |\n",
      "|   2004 |      33 |\n",
      "|   2005 |      76 |\n",
      "|   2006 |      49 |\n",
      "|   2007 |      21 |\n",
      "|   2008 |      59 |\n",
      "|   2009 |      24 |\n",
      "|   2010 |      44 |\n",
      "|   2011 |      26 |\n",
      "|   2012 |      38 |\n",
      "|   2013 |      65 |\n",
      "|   2014 |      45 |\n",
      "|   2015 |      89 |\n",
      "|   2016 |      31 |\n",
      "|   2017 |      36 |\n",
      "|   2018 |      22 |\n",
      "|   2019 |       3 |\n",
      "|   2020 |       1 |\n",
      "|   2021 |       2 |\n"
     ]
    }
   ],
   "source": [
    "\n",
    "# 🗣️🚨 Change to be PER YEAR\n",
    "\n",
    "# 🗣️ 🚨Raw count of quotations per decade\n",
    "#print(df.groupby('Year')['numMatches'].sum().reset_index().to_string(index=False))\n",
    "tally = df.groupby('Year')['numMatches'].sum().reset_index()\n",
    "print(tally.columns)\n",
    "\n",
    "#print(tally )\n",
    "table = tabulate(tally, headers=['Year', 'Count'], tablefmt='pipe', showindex=False)\n",
    "print(table)\n",
    "\n",
    "\n",
    "\n"
   ]
  },
  {
   "cell_type": "code",
   "execution_count": 24,
   "metadata": {},
   "outputs": [
    {
     "data": {
      "image/png": "[encoded data removed]",
      "text/plain": [
       "<Figure size 640x480 with 1 Axes>"
      ]
     },
     "metadata": {},
     "output_type": "display_data"
    }
   ],
   "source": [
    "from ipywidgets import Label\n",
    "\n",
    "# Box plot of quotations per year\n",
    "#  🗣️ 🚨 Change to be PER YEAR\n",
    "\n",
    "\n",
    "weighted_appearances = []\n",
    "for index, row in tally.iterrows():\n",
    "    weighted_row = [row.Year]*row.numMatches\n",
    "    weighted_appearances += weighted_row\n",
    "\n",
    "plt.xlabel('Year')\n",
    "plt.title('Boxplot of number of quotations per year')\n",
    "\n",
    "plt.boxplot(weighted_appearances, vert=False)\n",
    "plt.show()\n",
    "\n",
    "\n",
    "\n",
    "\n",
    "\n"
   ]
  },
  {
   "cell_type": "markdown",
   "metadata": {},
   "source": [
    "## OPTIONAL: Setting upper an lower bound of decades"
   ]
  },
  {
   "cell_type": "code",
   "execution_count": 25,
   "metadata": {},
   "outputs": [],
   "source": [
    "# OPTIONAL: if you're interested in change over time, it's recommended that you limit your analysis\n",
    "# to decades for which there is a reasonable number of items. Do you want to do this?\n",
    "\n",
    "resultsStartYear = 1970\n",
    "resultsEndYear = 2020\n",
    "\n",
    "df = df[(df['Year'] >= resultsStartYear) & (df['Year'] <= resultsEndYear)]"
   ]
  },
  {
   "cell_type": "markdown",
   "metadata": {},
   "source": [
    "# Questions about distribution of quotations across source text"
   ]
  },
  {
   "cell_type": "code",
   "execution_count": 26,
   "metadata": {},
   "outputs": [],
   "source": [
    "# 🗣️🚨 definining preparations to find the source S Textfile  \n",
    "# asuming naming conventions are respected \n",
    "\n",
    "\n",
    "\n",
    "def find_SourceText(project_data):\n",
    "  #source-dit is a path object \n",
    "  source_dir=project_data.source_dir\n",
    "  project_name= project_data.project_name\n",
    "  if source_dir.exists():\n",
    "    # Specify the file pattern to search for\n",
    "    matching_pattern = f\"*{project_name}*\"\n",
    "  matching_pattern = f\"*{project_name}*text.txt*\"\n",
    "\n",
    "  matching_files_list = list(source_dir.glob(matching_pattern))\n",
    "  for file in matching_files_list:\n",
    "    print(file) \n",
    "  if len(matching_files_list)==0:\n",
    "    print('The SourceText does not exist')\n",
    "  elif not len(matching_files_list)==1:\n",
    "    print('There are more SourceTexts.  Remove files before contuimuing')\n",
    "    matching_files_list= []\n",
    "                          \n",
    "  return matching_files_list[0]  \n",
    "  \n",
    "        "
   ]
  },
  {
   "cell_type": "code",
   "execution_count": 27,
   "metadata": {},
   "outputs": [
    {
     "name": "stdout",
     "output_type": "stream",
     "text": [
      "C:\\Users\\bdt\\Documents\\Data\\Woolf\\1925_Dalloway\\SourceText\\Woolf_1925_Dalloway_plaintext.txt\n",
      "359167\n"
     ]
    }
   ],
   "source": [
    "# 🗣️🚨 preparations to find and read the Asource  Textfile  \n",
    "\n",
    "\n",
    "source_Text= find_SourceText(my_project_data)\n",
    "\n",
    "with open(source_Text,\"r\", encoding='utf-8' ) as f: \n",
    "   txt = f.read()\n",
    "\n",
    "\n",
    "textALength = len(txt)\n",
    "print(textALength) "
   ]
  },
  {
   "cell_type": "code",
   "execution_count": 28,
   "metadata": {},
   "outputs": [],
   "source": [
    "# ACTION: specify how many equally-sized chunks you want to divide the source text into\n",
    "\n",
    "numOfChunks = 20"
   ]
  },
  {
   "cell_type": "code",
   "execution_count": 61,
   "metadata": {},
   "outputs": [],
   "source": [
    "list_of_start_positions= make_list_startpositions(numOfChunks, txt)\n"
   ]
  },
  {
   "cell_type": "markdown",
   "metadata": {},
   "source": [
    "## 🗣️How many quotations were detected from each chunk of the text?"
   ]
  },
  {
   "cell_type": "code",
   "execution_count": 31,
   "metadata": {},
   "outputs": [],
   "source": [
    "# definition of count_quotes_per_chunk\n",
    "\n",
    "def count_quotations_per_chunk(df, list_of_start_positions):\n",
    "\n",
    "    bins = [0] * len(list_of_start_positions)\n",
    "\n",
    "    for location_list in df['Locations in A']:\n",
    "        if isinstance(location_list, list) and len(location_list) > 0:\n",
    "            for location in location_list: \n",
    "                start_location=location[0]\n",
    "                length_loop=len(list_of_start_positions)-1\n",
    "                for j in range(length_loop):\n",
    "                    if (start_location >= list_of_start_positions[j]) and (start_location < list_of_start_positions[j+1]):\n",
    "                        bins[j] +=1\n",
    "                        break\n",
    "                    else:\n",
    "                        if j== length_loop-1:\n",
    "                            bins[j+1] += 1\n",
    "                            break\n",
    "    return bins\n",
    "\n"
   ]
  },
  {
   "cell_type": "code",
   "execution_count": 32,
   "metadata": {},
   "outputs": [],
   "source": [
    "# definition of items_count_per_chunk\n",
    "\n",
    "def items_count_per_chunk(df, list_of_start_positions):\n",
    "\n",
    "    bins = [0] * len(list_of_start_positions)\n",
    "\n",
    "    for location_list in df['Locations in A']:\n",
    "        if isinstance(location_list, list) and len(location_list) > 0:\n",
    "            for location in location_list: \n",
    "                item_bins= [0] * len(list_of_start_positions)\n",
    "                start_location=location[0]\n",
    "                length_loop=len(list_of_start_positions)-1\n",
    "                for j in range(length_loop):\n",
    "                    if (start_location >= list_of_start_positions[j]) and (start_location < list_of_start_positions[j+1]):\n",
    "                        item_bins[j] =1\n",
    "                        \n",
    "                        bins[j] +=1\n",
    "                        break\n",
    "                    else:\n",
    "                        if j== length_loop-1:\n",
    "                            item_bins[j+1] = 1\n",
    "                            break\n",
    "                bins += item_bins    \n",
    "\n",
    "\n",
    "    return bins"
   ]
  },
  {
   "cell_type": "markdown",
   "metadata": {},
   "source": [
    "###  🗣️🚨 Creating a barplot of quotes per chunk"
   ]
  },
  {
   "cell_type": "code",
   "execution_count": 33,
   "metadata": {},
   "outputs": [],
   "source": [
    "list_of_startpostions = make_list_startpositions(numOfChunks, txt)\n",
    "bins = count_quotes_per_chunk(df, list_of_start_positions)"
   ]
  },
  {
   "cell_type": "code",
   "execution_count": 34,
   "metadata": {},
   "outputs": [
    {
     "data": {
      "image/png": "[encoded data removed]",
      "text/plain": [
       "<Figure size 640x480 with 1 Axes>"
      ]
     },
     "metadata": {},
     "output_type": "display_data"
    }
   ],
   "source": [
    "\n",
    "\n",
    "# Create a table of the bins\n",
    "\n",
    "\n",
    "\n",
    "bins_table = pd.DataFrame({'Bin Start Position': list_of_start_positions, 'Bin Count': bins})\n",
    "#print(bins_table)\n",
    "\n",
    "# rawcounts table barplot\n",
    "\n",
    "bins_table.plot(x='Bin Start Position', y='Bin Count', kind='bar')\n",
    "plt.xlabel('Bin Start Position')\n",
    "plt.ylabel('Bin Count')\n",
    "plt.title('Number of Quotes per Chunk')\n",
    "plt.show()\n",
    "\n",
    "\n",
    "\n"
   ]
  },
  {
   "cell_type": "markdown",
   "metadata": {},
   "source": [
    "### 🗣️🚨  Barplot of  number of quoted words per chunk"
   ]
  },
  {
   "cell_type": "code",
   "execution_count": 35,
   "metadata": {},
   "outputs": [],
   "source": [
    "# definition of count_words_quoted_in_chunks(df, list_of_start_positions, txt):\n",
    "\n",
    "\n",
    "def num_Words_in_Quotation( str):\n",
    "   return  len(str.split())\n",
    "\n",
    "def make_Quotation_str(location ,txt):\n",
    "   return txt[location[0]:location[1]+1]  \n",
    "\n",
    "def count_words_quoted_in_chunks(df, list_of_start_positions, txt):\n",
    "    bins = [0] * len(list_of_start_positions)\n",
    "    for location_list in df['Locations in A']:\n",
    "        if isinstance(location_list, list) and len(location_list) > 0:\n",
    "            for location in location_list: \n",
    "                quotation_str = make_Quotation_str(location, txt)\n",
    "                num_words_words_quoted=  num_Words_in_Quotation(quotation_str)\n",
    "                start_location=location[0]\n",
    "                length_loop=len(list_of_start_positions)-1\n",
    "                for j in range(length_loop):\n",
    "                    if (start_location >= list_of_start_positions[j]) and (start_location < list_of_start_positions[j+1]):\n",
    "                        bins[j] += num_words_words_quoted\n",
    "                        break\n",
    "                    else:\n",
    "                        if j== length_loop-1:\n",
    "                            bins[j+1] += num_words_words_quoted\n",
    "                            break\n",
    "    return bins\n"
   ]
  },
  {
   "cell_type": "code",
   "execution_count": 36,
   "metadata": {},
   "outputs": [
    {
     "data": {
      "image/png": "[encoded data removed]",
      "text/plain": [
       "<Figure size 640x480 with 1 Axes>"
      ]
     },
     "metadata": {},
     "output_type": "display_data"
    }
   ],
   "source": [
    "wordcount_bins= count_words_quoted_in_chunks(df, list_of_start_positions, txt)\n",
    "\n",
    "\n",
    "wordcount_bins_table = pd.DataFrame({'Bin Start Position': list_of_start_positions, 'Bin Count': wordcount_bins})\n",
    "#print(bins_table)\n",
    "\n",
    "# rawcounts table barplot\n",
    "\n",
    "wordcount_bins_table.plot(x='Bin Start Position', y='Bin Count', kind='bar')\n",
    "plt.xlabel('Bin Start Position')\n",
    "plt.ylabel('Bin Count')\n",
    "plt.title('Number of Quoted Words per Chunk')\n",
    "plt.show()\n"
   ]
  },
  {
   "cell_type": "markdown",
   "metadata": {},
   "source": [
    "### Given the number of chunks, what are the startpositions of these chunks in the given text?\n",
    "\n",
    "\n"
   ]
  },
  {
   "cell_type": "markdown",
   "metadata": {},
   "source": [
    "### creating a list of these startpostions"
   ]
  },
  {
   "cell_type": "code",
   "execution_count": 60,
   "metadata": {},
   "outputs": [
    {
     "name": "stdout",
     "output_type": "stream",
     "text": [
      "    Index  Start Position\n",
      "0       0               0\n",
      "1       1           17958\n",
      "2       2           35916\n",
      "3       3           53874\n",
      "4       4           71832\n",
      "5       5           89790\n",
      "6       6          107748\n",
      "7       7          125706\n",
      "8       8          143664\n",
      "9       9          161622\n",
      "10     10          179580\n",
      "11     11          197538\n",
      "12     12          215496\n",
      "13     13          233454\n",
      "14     14          251412\n",
      "15     15          269370\n",
      "16     16          287328\n",
      "17     17          305286\n",
      "18     18          323244\n",
      "19     19          341202\n",
      "20     20          359160 \n",
      "\n",
      "number_of_characters: 359167\n",
      "number of chunks: 20\n"
     ]
    }
   ],
   "source": [
    "numOfChunks=20 \n",
    "\n",
    "list_of_start_positions= make_list_startpositions(numOfChunks, txt)\n",
    "\n",
    "df_Character_Indices = pd.DataFrame({'Index': range(len(list_of_start_positions)), 'Start Position': list_of_start_positions})\n",
    "\n",
    "number_of_characters=len(txt)\n",
    "#Display the indexed table\n",
    "\n",
    "print(df_Character_Indices,\"\\n\")\n",
    "print(f'number_of_characters: {number_of_characters}')\n",
    "print(f'number of chunks: {numOfChunks}')  \n",
    "\n",
    "\n",
    "\n"
   ]
  },
  {
   "cell_type": "markdown",
   "metadata": {},
   "source": [
    "# Questions about distribution of quotations across source text"
   ]
  },
  {
   "cell_type": "markdown",
   "metadata": {},
   "source": [
    "## How many quoted words were detected from each chunk of the text?"
   ]
  },
  {
   "cell_type": "code",
   "execution_count": 38,
   "metadata": {},
   "outputs": [
    {
     "data": {
      "image/png": "[encoded data removed]",
      "text/plain": [
       "<Figure size 640x480 with 1 Axes>"
      ]
     },
     "metadata": {},
     "output_type": "display_data"
    }
   ],
   "source": [
    "# 🗣️🚨 Generate a bar chart\n",
    "\n",
    "wordcount_bins= count_words_quoted_in_chunks(df, list_of_start_positions, txt)\n",
    "\n",
    "\n",
    "wordcount_bins_table = pd.DataFrame({'Bin Start Position': list_of_start_positions, 'Bin Count': wordcount_bins})\n",
    "#print(bins_table)\n",
    "\n",
    "# rawcounts table barplot\n",
    "\n",
    "wordcount_bins_table.plot(x='Bin Start Position', y='Bin Count', kind='bar')\n",
    "plt.xlabel('Bin Start Position')\n",
    "plt.ylabel('Bin Count')\n",
    "plt.title('Number of Quoted Words per Chunk')\n",
    "plt.show()\n"
   ]
  },
  {
   "cell_type": "markdown",
   "metadata": {},
   "source": [
    "## How does the number of items quoting each chunk change over the decades?"
   ]
  },
  {
   "cell_type": "code",
   "execution_count": 39,
   "metadata": {},
   "outputs": [],
   "source": [
    "# definition of items_count_per_chunk\n",
    "\n",
    "def items_count_per_chunk(df, list_of_start_positions):\n",
    "\n",
    "    num_chunks=len(list_of_start_positions)\n",
    "    bins = [0] * num_chunks\n",
    "    help_bins= [0] * num_chunks\n",
    "\n",
    "    for location_list in df['Locations in A']:\n",
    "        item_bins= help_bins\n",
    "        if isinstance(location_list, list) and len(location_list) > 0:\n",
    "            for location in location_list: \n",
    "                start_location=location[0]\n",
    "                length_loop= num_chunks-1\n",
    "                for j in range(length_loop):\n",
    "                    if (start_location >= list_of_start_positions[j]) and (start_location < list_of_start_positions[j+1]):\n",
    "                        item_bins[j] =1\n",
    "                        break\n",
    "                    else:\n",
    "                        if j== length_loop-1:\n",
    "                            item_bins[j+1] = 1\n",
    "                            break\n",
    "        for j in range(num_chunks):\n",
    "            bins[j] += item_bins[j]    \n",
    "\n",
    "\n",
    "    return bins"
   ]
  },
  {
   "cell_type": "code",
   "execution_count": 40,
   "metadata": {},
   "outputs": [],
   "source": [
    "\n",
    "# make a relative frequency table using the sum of each column as weight factor \n",
    "\n",
    "def make_relative(df):\n",
    "   # Initialize the df1 DataFrame with the same shape as df\n",
    "   df1 = pd.DataFrame(0, index=df.index, columns=df.columns)\n",
    "   \n",
    "   # Calculate the sum of each column\n",
    "   column_sums = df.sum()\n",
    "   \n",
    "   # Divide each element by the corresponding column sum\n",
    "   for j in range(df.shape[1]):\n",
    "      factor = column_sums[j]\n",
    "      for i in range(df.shape[0]):\n",
    "         if not factor == 0: \n",
    "            df1.iloc[i, j] = int(100 * int(df.iloc[i, j]) / factor)\n",
    "         else:\n",
    "            df1.iloc[i,j]=0\n",
    "   return df1"
   ]
  },
  {
   "cell_type": "code",
   "execution_count": 59,
   "metadata": {},
   "outputs": [
    {
     "data": {
      "image/png": "[encoded data removed]",
      "text/plain": [
       "<Figure size 640x480 with 2 Axes>"
      ]
     },
     "metadata": {},
     "output_type": "display_data"
    },
    {
     "data": {
      "image/png": "[encoded data removed]",
      "text/plain": [
       "<Figure size 640x480 with 2 Axes>"
      ]
     },
     "metadata": {},
     "output_type": "display_data"
    }
   ],
   "source": [
    "\n",
    "# Generate a heat map of the number of items quoting in chunk over decades\n",
    "\n",
    "# 🚨\n",
    "\n",
    "# Create quotations_count_bins_per_decade\n",
    "items_count_bins_per_decade = {}\n",
    "\n",
    "# Get unique values of 'Decade'\n",
    "unique_decades = df['Decade'].unique()\n",
    "\n",
    "sorted_unique_decades = np.sort(unique_decades)\n",
    "\n",
    "# Initialize the variable\n",
    "quotations_count_bins_per_decade = {}  \n",
    "\n",
    "for decade in sorted_unique_decades: \n",
    "    df_decade=df[df['Decade']== decade]\n",
    "    items_count_bins_per_decade[decade] = items_count_per_chunk(df_decade, list_of_start_positions)\n",
    "\n",
    "# Create the dataframe\n",
    "df_items_count_bins_per_decade = pd.DataFrame(list(items_count_bins_per_decade.items()), columns=['Decade', 'Items Count per Decade'])\n",
    "\n",
    "# Assuming the DataFrame containing the 'Items Count per Decade' column is named df_items_count_bins_per_decade\n",
    "#bins_matrix = df_items_count_bins_per_decade[ 'Items Count per Decade'].tolist()\n",
    "\n",
    "bins_matrix = df_items_count_bins_per_decade['Items Count per Decade'].tolist()\n",
    "bins_matrix=np.transpose(bins_matrix)\n",
    "\n",
    "#print (bins_matrix)\n",
    "\n",
    "sns.heatmap(bins_matrix, cmap='YlGnBu')\n",
    "\n",
    "plt.xticks(range(len(df_items_count_bins_per_decade)), df_items_count_bins_per_decade['Decade'])\n",
    "\n",
    "plt.xticks(rotation=90)\n",
    "\n",
    "# Set the y-axis label|\n",
    "plt.ylabel('Chunk ')\n",
    "\n",
    "# Set the title\n",
    "plt.title('Quoting items, per Chunk per Decade')\n",
    "\n",
    "# Show the plot\n",
    "plt.show()\n",
    "\n",
    "bins_matrix2 =make_relative(pd.DataFrame(bins_matrix))\n",
    "\n",
    "sns.heatmap(bins_matrix2, cmap='YlGnBu')\n",
    "# Set the y-axis label\n",
    "plt.ylabel('Chunk')\n",
    "\n",
    "# Set the title\n",
    "plt.title('Items Relative Counts, per Chunk per Decade')\n",
    "\n",
    "plt.xticks(range(len(df_items_count_bins_per_decade)), df_items_count_bins_per_decade['Decade'])\n",
    "\n",
    "plt.xticks(rotation=90)\n",
    "\n",
    "# Show the plot\n",
    "plt.show()\n"
   ]
  },
  {
   "cell_type": "markdown",
   "metadata": {},
   "source": []
  },
  {
   "cell_type": "markdown",
   "metadata": {},
   "source": []
  },
  {
   "cell_type": "markdown",
   "metadata": {},
   "source": [
    "## How does the number of quotations from each chunk change over the decades?"
   ]
  },
  {
   "cell_type": "code",
   "execution_count": 42,
   "metadata": {},
   "outputs": [
    {
     "data": {
      "image/png": "[encoded data removed]",
      "text/plain": [
       "<Figure size 640x480 with 2 Axes>"
      ]
     },
     "metadata": {},
     "output_type": "display_data"
    },
    {
     "data": {
      "image/png": "[encoded data removed]",
      "text/plain": [
       "<Figure size 640x480 with 2 Axes>"
      ]
     },
     "metadata": {},
     "output_type": "display_data"
    }
   ],
   "source": [
    "# 🗣️🚨 Generate a heat map\n",
    "\n",
    "# Create quotations_count_bins_per_decade\n",
    "\n",
    "\n",
    "# Get unique values of 'Decade'\n",
    "unique_decades = df['Decade'].unique()\n",
    "\n",
    "sorted_unique_decades = np.sort(unique_decades)\n",
    "\n",
    "# Initialize the variable\n",
    "quotations_count_bins_per_decade = {}  \n",
    "\n",
    "for decade in sorted_unique_decades: \n",
    "    df_decade=df[df['Decade']== decade]\n",
    "    quotations_count_bins_per_decade[decade] = count_quotations_per_chunk(df_decade, list_of_start_positions)\n",
    "\n",
    "# Create the dataframe\n",
    "df_quotations_count_bins_per_decade = pd.DataFrame(list(quotations_count_bins_per_decade.items()), columns=['Decade', 'Quotation Count per Decade'])\n",
    "\n",
    "\n",
    "# Convert the Quotations Count per Decade column to a matrix\n",
    "bins_matrix = df_quotations_count_bins_per_decade['Quotation Count per Decade'].tolist()\n",
    "bins_matrix=np.transpose(bins_matrix)\n",
    "# Create a heatmap\n",
    "sns.heatmap(bins_matrix, cmap='YlGnBu')\n",
    "\n",
    "# Set the x-axis labels to the Decade values\n",
    "plt.xticks(range(len(df_quotations_count_bins_per_decade)), df_quotations_count_bins_per_decade['Decade'])\n",
    "\n",
    "plt.xticks(rotation=90)\n",
    "# Set the y-axis label\n",
    "plt.ylabel('Chunk ')\n",
    "\n",
    "# Set the title\n",
    "plt.title('Quotations, per Chunk per Decade')\n",
    "\n",
    "# Show the plot\n",
    "plt.show()\n",
    "\n",
    "bins_matrix2 =make_relative(pd.DataFrame(bins_matrix))\n",
    "\n",
    "sns.heatmap(bins_matrix2, cmap='YlGnBu')\n",
    "# Set the y-axis label\n",
    "plt.ylabel('Chunk')\n",
    "\n",
    "# Set the title\n",
    "plt.title('Quotations Relative Counts, per Chunk per Decade')\n",
    "\n",
    "plt.xticks(range(len(df_quotations_count_bins_per_decade)), df_quotations_count_bins_per_decade['Decade'])\n",
    "\n",
    "plt.xticks(rotation=90)\n",
    "\n",
    "# Show the plot\n",
    "plt.show()\n",
    "\n",
    "\n",
    "\n"
   ]
  },
  {
   "cell_type": "markdown",
   "metadata": {},
   "source": [
    "## How does the number of words quoted from each chunk change over the decades?"
   ]
  },
  {
   "cell_type": "code",
   "execution_count": 43,
   "metadata": {},
   "outputs": [
    {
     "data": {
      "image/png": "[encoded data removed]",
      "text/plain": [
       "<Figure size 640x480 with 2 Axes>"
      ]
     },
     "metadata": {},
     "output_type": "display_data"
    },
    {
     "data": {
      "image/png": "[encoded data removed]",
      "text/plain": [
       "<Figure size 640x480 with 2 Axes>"
      ]
     },
     "metadata": {},
     "output_type": "display_data"
    }
   ],
   "source": [
    "# 🗣️🚨 Generate a heat map\n",
    "\n",
    "\n",
    "# create a heat map for the number of qouted words per chunk\n",
    "\n",
    "# Create wordcount_bins_table\n",
    "#quoted_words_count_bins_table = pd.DataFrame({'Decade': sorted_unique_decades, 'Bin Count': quoted_words_count_bins_per_decade})\n",
    "\n",
    "# Sort the table by 'Decade'\n",
    "#quoted_words_count_bins_table = wordcount_bins_table.sort_values('Decade')\n",
    "\n",
    "# Reset the index\n",
    "#wordcount_bins_table = wordcount_bins_table.reset_index(drop=True)\n",
    "\n",
    "# Display the table\n",
    "#wordcount_bins_table\n",
    "\n",
    "\n",
    "\n",
    "\n",
    "# Calculate wordcount_bins_per_decade\n",
    "\n",
    "# Get unique values of 'Decade'\n",
    "unique_decades = df['Decade'].unique()\n",
    "sorted_unique_decades = np.sort(unique_decades)\n",
    "\n",
    "quoted_words_count_bins_per_decade = {}  # Initialize the variable\n",
    "\n",
    "for decade in sorted_unique_decades: \n",
    "    df_decade=df[df['Decade']== decade]\n",
    "    quoted_words_count_bins_per_decade[decade] = count_quotes_per_chunk(df_decade, list_of_start_positions)\n",
    "\n",
    "# Create the dataframe\n",
    "df_quoted_words_count_bins_per_decade = pd.DataFrame(list(quoted_words_count_bins_per_decade.items()), columns=['Decade', 'Quoted Words Count Bins'])\n",
    "\n",
    "# Display the dataframe\n",
    "#df_quoted_words_count_bins_per_decade\n",
    "\n",
    "\n",
    "# Convert the Quoted Words Count Bins column to a matrix\n",
    "bins_matrix = df_quoted_words_count_bins_per_decade['Quoted Words Count Bins'].tolist()\n",
    "# Assuming bins_matrix is a numpy array\n",
    "bins_matrix = np.transpose(bins_matrix)\n",
    "\n",
    "# Create a heatmap\n",
    "sns.heatmap(bins_matrix, cmap='YlGnBu')\n",
    "\n",
    "# Set the x-axis labels to the Decade values\n",
    "\n",
    "\n",
    "plt.xticks(range(len(df_quoted_words_count_bins_per_decade)), df_quoted_words_count_bins_per_decade['Decade'])\n",
    "\n",
    "plt.xticks(rotation=90)\n",
    "# Set the y-axis label\n",
    "plt.ylabel('Chunk index')\n",
    "\n",
    "# Set the title\n",
    "\n",
    "plt.title('Quoted Words Count Bins per Decade')\n",
    "\n",
    "\n",
    "\n",
    "# Show the plot\n",
    "plt.show()\n",
    "\n",
    "bins_matrix2 =make_relative(pd.DataFrame(bins_matrix))\n",
    "\n",
    "sns.heatmap(bins_matrix2, cmap='YlGnBu')\n",
    "# Set the y-axis label\n",
    "plt.ylabel('Chunk')\n",
    "\n",
    "# Set the title\n",
    "plt.title('Quoted Words Relative Counts, per Chunk per Decade')\n",
    "\n",
    "# Show the plot\n",
    "plt.show()\n",
    "\n",
    "\n",
    "\n",
    "\n",
    "\n"
   ]
  },
  {
   "cell_type": "code",
   "execution_count": null,
   "metadata": {},
   "outputs": [],
   "source": []
  },
  {
   "cell_type": "markdown",
   "metadata": {},
   "source": [
    "# Questions about frequently quoted passages"
   ]
  },
  {
   "cell_type": "code",
   "execution_count": 44,
   "metadata": {},
   "outputs": [],
   "source": [
    "# ACTION: for the cells that follow, do you want to see results for sentences or paragraphs?\n",
    "# Remove the # next to whichever unit you want to use.\n",
    "\n",
    "passageSize = \"sentence\"\n",
    "#passageSize = \"paragraph\""
   ]
  },
  {
   "cell_type": "code",
   "execution_count": 45,
   "metadata": {},
   "outputs": [],
   "source": [
    "# ACTION: for the cells that follow, how many results do you want to see? (E.g. top 3, top 5, top 10)\n",
    "\n",
    "numberOfPassages = 5"
   ]
  },
  {
   "cell_type": "markdown",
   "metadata": {},
   "source": [
    "## What are the most frequently quoted passages in the text?"
   ]
  },
  {
   "cell_type": "code",
   "execution_count": 46,
   "metadata": {},
   "outputs": [],
   "source": [
    "# Print list of sentences/paragraphs\n",
    "# plus character index range, plus raw counts of number of quotations detected and number of items quoting\n",
    "# If a sentence/paragraph is longer than 100 characters, print: first 50 chars \"[...]\" then last 50 chars."
   ]
  },
  {
   "cell_type": "markdown",
   "metadata": {},
   "source": [
    "## Which frequently-quoted passages have been most consistently quoted over time?"
   ]
  },
  {
   "cell_type": "code",
   "execution_count": 47,
   "metadata": {},
   "outputs": [],
   "source": [
    "# Calculate items quoting a given sentence/paragraph as a percentage of all items from that decade,\n",
    "# i.e. what percentage of all items in this decade quoted at least once from *this* sentence/paragraph?\n",
    "# Calculate which sentences/paragraphs have both highest overall percentages for all decades *and* smallest range\n",
    "# Question to discuss: how to balance these two factors of highest percentage/smallest range?\n",
    "\n",
    "# Print list of sentences/paragraphs, with percentage of items quoting in each decade"
   ]
  },
  {
   "cell_type": "markdown",
   "metadata": {},
   "source": [
    "## Which frequently-quoted passages have undergone the largest change over time?"
   ]
  },
  {
   "cell_type": "code",
   "execution_count": 48,
   "metadata": {},
   "outputs": [],
   "source": [
    "# Calculate percentage of items quoting per decade as above\n",
    "# Calculate largest range across decades\n",
    "\n",
    "# Print list of sentences, with percentage of items quoting in each decade - bold the min and max value"
   ]
  },
  {
   "cell_type": "markdown",
   "metadata": {},
   "source": [
    "## Which passages have increased or decreased the most in the last decade (2010s)?"
   ]
  },
  {
   "cell_type": "code",
   "execution_count": 49,
   "metadata": {},
   "outputs": [],
   "source": [
    "# Calculate percentage of items quoting per decade as above\n",
    "# Calculate average of all decades pre-2010s\n",
    "\n",
    "# Largest increases = largest ranges where max value is 2010s and min value is avg of other decades\n",
    "# Largest decreases = largest ranges where min value is in 2010s and max value is avg of other decades\n",
    "\n",
    "# Print two lists: \"Largest increases\" and \"Largest decreases\".\n",
    "# For each list, print sentences/paragraphs, values for 2010s and avg of other decades"
   ]
  },
  {
   "cell_type": "markdown",
   "metadata": {},
   "source": [
    "# Questions about a specific passage"
   ]
  },
  {
   "cell_type": "code",
   "execution_count": 50,
   "metadata": {},
   "outputs": [],
   "source": [
    "# ACTION: specify the passage you want to analyze using character indexes\n",
    "\n",
    "specifiedPassage = [13543, 13678]"
   ]
  },
  {
   "cell_type": "code",
   "execution_count": 51,
   "metadata": {},
   "outputs": [],
   "source": [
    "# Check the indices are in ascending size. If yes, print passage. If no, print error message."
   ]
  },
  {
   "cell_type": "markdown",
   "metadata": {},
   "source": [
    "## What is the most frequently quoted portion of this passage?"
   ]
  },
  {
   "cell_type": "code",
   "execution_count": 52,
   "metadata": {},
   "outputs": [],
   "source": [
    "# Print the portion with highest raw count of quotations, followed by raw count and character indices"
   ]
  },
  {
   "cell_type": "markdown",
   "metadata": {},
   "source": [
    "## How has the quotation frequency for this passage changed over time?"
   ]
  },
  {
   "cell_type": "code",
   "execution_count": 53,
   "metadata": {},
   "outputs": [],
   "source": [
    "# Table and bar chart broken down by decade showing percentage of total quotations normalized for the decade"
   ]
  },
  {
   "cell_type": "markdown",
   "metadata": {},
   "source": [
    "## What are the items quoting from this passage?"
   ]
  },
  {
   "cell_type": "code",
   "execution_count": 54,
   "metadata": {},
   "outputs": [],
   "source": [
    "# Print table containing author name, title, year, journal title (isPartOf), and id (JSTOR URL) for each item\n",
    "# Note: this code already exists in the notebook \"find-passage-indices-and-items-quoting\""
   ]
  },
  {
   "cell_type": "code",
   "execution_count": 55,
   "metadata": {},
   "outputs": [
    {
     "ename": "NameError",
     "evalue": "name 'just_matches_df' is not defined",
     "output_type": "error",
     "traceback": [
      "\u001b[1;31m---------------------------------------------------------------------------\u001b[0m",
      "\u001b[1;31mNameError\u001b[0m                                 Traceback (most recent call last)",
      "Cell \u001b[1;32mIn[55], line 17\u001b[0m\n\u001b[0;32m     13\u001b[0m context_chunks_decade \u001b[38;5;241m=\u001b[39m []\n\u001b[0;32m     16\u001b[0m \u001b[38;5;66;03m# Loop over each of the start and end locations to produce a x-character chunk of context\u001b[39;00m\n\u001b[1;32m---> 17\u001b[0m \u001b[38;5;28;01mfor\u001b[39;00m item \u001b[38;5;129;01min\u001b[39;00m \u001b[38;5;28mrange\u001b[39m(\u001b[38;5;28mlen\u001b[39m(\u001b[43mjust_matches_df\u001b[49m)):\n\u001b[0;32m     18\u001b[0m     article_URL \u001b[38;5;241m=\u001b[39m just_matches_df[\u001b[38;5;124m'\u001b[39m\u001b[38;5;124mid\u001b[39m\u001b[38;5;124m'\u001b[39m]\u001b[38;5;241m.\u001b[39mloc[item]\n\u001b[0;32m     19\u001b[0m     startandEndLocations \u001b[38;5;241m=\u001b[39m just_matches_df[\u001b[38;5;124m'\u001b[39m\u001b[38;5;124mLocations in B\u001b[39m\u001b[38;5;124m'\u001b[39m]\u001b[38;5;241m.\u001b[39mloc[item]\n",
      "\u001b[1;31mNameError\u001b[0m: name 'just_matches_df' is not defined"
     ]
    }
   ],
   "source": [
    "# Change these to desired chunk\n",
    "# PT: from the notebook \"find-passage-indices-and-items-quoting\"\n",
    "# PT: needs to be embedded and checked\n",
    "\n",
    "num_characters_before_quote = 200\n",
    "num_characters_after_quote = 750\n",
    "decades_to_check = [2010, 2000, 1990, 1980, 1970, 1960, 1950]\n",
    "list_of_VS_journals = ['Victorian Studies', 'George Eliot - George Henry Lewes Studies', 'Nineteenth-Century Fiction', 'Nineteenth-Century Literature', 'Dickens Studies Annual', 'Victorian Literature and Culture', 'Victorian Review', 'The George Eliot, George Henry Lewes Newsletter', 'Victorian Periodicals Review', 'Dickens Quarterly', 'Victorian Poetry', 'The Thomas Hardy Journal', 'The Gaskell Society Journal', 'The Gaskell Journal', 'Newsletter of the Victorian Studies Association of Western Canada', 'Dickens Studies Newsletter', 'Browning Institute Studies', 'Victorian Periodicals Newsletter', 'Carlyle Studies Annual', 'Conradiana', 'Tennyson Research Bulletin', 'The Conradian', 'The Hardy Society Journal', 'The Hardy Review', 'Studies in Browning and His Circle', 'Nineteenth-Century French Studies', 'The Wilkie Collins Journal', 'Carlyle Newsletter', 'The Wildean', 'Dickens Studies', 'Carlyle Annual', '19th-Century Music', 'The Trollopian', 'Conrad Studies']\n",
    "\n",
    "# Create an empty list that we will populate with the contexts for quotations\n",
    "context_chunks_for_quotations = []\n",
    "context_chunks_ids = []\n",
    "context_chunks_decade = []\n",
    "\n",
    "\n",
    "# Loop over each of the start and end locations to produce a x-character chunk of context\n",
    "for item in range(len(just_matches_df)):\n",
    "    article_URL = just_matches_df['id'].loc[item]\n",
    "    startandEndLocations = just_matches_df['Locations in B'].loc[item]\n",
    "    print(article_URL)\n",
    "    print(startandEndLocations[0])\n",
    "    print(startandEndLocations[1])\n",
    "    article_index = df_with_fulltexts[df_with_fulltexts['id'] == article_URL].index[0]\n",
    "    print(article_index)\n",
    "    article_title = df_with_fulltexts['title'].loc[article_index]\n",
    "    print(article_title)\n",
    "    article_decade = df_with_fulltexts['Decade'].loc[article_index]\n",
    "    print(article_decade)\n",
    "    article_journal = df_with_fulltexts['isPartOf'].loc[article_index]\n",
    "    article_text = df_with_fulltexts['fullText'].loc[article_index]\n",
    "    cleaned_article_text = Text(article_text, article_title)\n",
    "    if article_journal in list_of_VS_journals:\n",
    "    #if article_decade in decades_to_check:\n",
    "        context_chunks_for_quotations.append((cleaned_article_text.text[startandEndLocations[0]-num_characters_before_quote:startandEndLocations[0]]) + \"[...]\" + (cleaned_article_text.text[startandEndLocations[1]:startandEndLocations[1]+num_characters_after_quote]))\n",
    "        context_chunks_ids.append(df_with_fulltexts['id'].loc[article_index])\n",
    "        context_chunks_decade.append(df_with_fulltexts['Decade'].loc[article_index])"
   ]
  },
  {
   "cell_type": "code",
   "execution_count": null,
   "metadata": {},
   "outputs": [
    {
     "ename": "",
     "evalue": "",
     "output_type": "error",
     "traceback": [
      "\u001b[1;31mFailed to start the Kernel. \n",
      "\u001b[1;31mUnable to start Kernel 'base (Python 3.11.5)' due to a connection timeout. \n",
      "\u001b[1;31mView Jupyter <a href='command:jupyter.viewOutput'>log</a> for further details."
     ]
    }
   ],
   "source": [
    "# OPTIONAL: export this table as csv file"
   ]
  },
  {
   "cell_type": "markdown",
   "metadata": {},
   "source": [
    "# Questions about text quoted"
   ]
  },
  {
   "cell_type": "markdown",
   "metadata": {},
   "source": [
    "## What is the distribution of word counts for the quotations detected?"
   ]
  },
  {
   "cell_type": "code",
   "execution_count": null,
   "metadata": {},
   "outputs": [
    {
     "ename": "",
     "evalue": "",
     "output_type": "error",
     "traceback": [
      "\u001b[1;31mFailed to start the Kernel. \n",
      "\u001b[1;31mUnable to start Kernel 'base (Python 3.11.5)' due to a connection timeout. \n",
      "\u001b[1;31mView Jupyter <a href='command:jupyter.viewOutput'>log</a> for further details."
     ]
    }
   ],
   "source": [
    "# Print mean length\n",
    "# Generate box plot specifying max, min median, upper and lower quartiles"
   ]
  },
  {
   "cell_type": "markdown",
   "metadata": {},
   "source": [
    "## What are the most frequent words across all quoted passages?"
   ]
  },
  {
   "cell_type": "code",
   "execution_count": null,
   "metadata": {},
   "outputs": [
    {
     "ename": "",
     "evalue": "",
     "output_type": "error",
     "traceback": [
      "\u001b[1;31mFailed to start the Kernel. \n",
      "\u001b[1;31mUnable to start Kernel 'base (Python 3.11.5)' due to a connection timeout. \n",
      "\u001b[1;31mView Jupyter <a href='command:jupyter.viewOutput'>log</a> for further details."
     ]
    }
   ],
   "source": [
    "# List top 50 words with highest quotation frequencies"
   ]
  },
  {
   "cell_type": "markdown",
   "metadata": {},
   "source": [
    "## What are the most distinctive keywords for quoted passages compared to the rest of the text?"
   ]
  },
  {
   "cell_type": "markdown",
   "metadata": {},
   "source": [
    "### The cell below uses tf-idf (https://en.wikipedia.org/wiki/Tf%E2%80%93idf) to calculate distinctive keywords."
   ]
  },
  {
   "cell_type": "code",
   "execution_count": null,
   "metadata": {},
   "outputs": [
    {
     "ename": "",
     "evalue": "",
     "output_type": "error",
     "traceback": [
      "\u001b[1;31mFailed to start the Kernel. \n",
      "\u001b[1;31mUnable to start Kernel 'base (Python 3.11.5)' due to a connection timeout. \n",
      "\u001b[1;31mView Jupyter <a href='command:jupyter.viewOutput'>log</a> for further details."
     ]
    }
   ],
   "source": [
    "# List 25 highest and 25 lowest values for tf-idf of quoted passages (multiplied by frequency) vs rest of text"
   ]
  },
  {
   "cell_type": "markdown",
   "metadata": {},
   "source": [
    "# Question about academic journals"
   ]
  },
  {
   "cell_type": "markdown",
   "metadata": {},
   "source": [
    "Note: the questions that follow only apply to items published in academic journals (as opposed to book chapters). These items are not necessarily all journal *articles* - some may be reviews, editor's introductions, even tables of contents (although JSTOR is getting better at filtering out the latter)."
   ]
  },
  {
   "cell_type": "markdown",
   "metadata": {},
   "source": [
    "## Which journals account for the largest number of items in the dataset?"
   ]
  },
  {
   "cell_type": "code",
   "execution_count": 67,
   "metadata": {},
   "outputs": [
    {
     "name": "stdout",
     "output_type": "stream",
     "text": [
      "isPartOf\n",
      "Woolf Studies Annual                                               66\n",
      "Modern Fiction Studies                                             37\n",
      "Journal of Modern Literature                                       32\n",
      "Twentieth Century Literature                                       25\n",
      "NOVEL: A Forum on Fiction                                          16\n",
      "Studies in the Novel                                               10\n",
      "Critical Inquiry                                                    7\n",
      "Criticism                                                           6\n",
      "Contemporary Literature                                             6\n",
      "ELH                                                                 6\n",
      "Tulsa Studies in Women's Literature                                 6\n",
      "Poetics Today                                                       5\n",
      "Modern Language Studies                                             5\n",
      "Mosaic: A Journal for the Interdisciplinary Study of Literature     4\n",
      "New Literary History                                                4\n",
      "The Yearbook of English Studies                                     4\n",
      "The Modern Language Review                                          4\n",
      "College English                                                     4\n",
      "Comparative Literature Studies                                      4\n",
      "The Sewanee Review                                                  4\n",
      "CEA Critic                                                          4\n",
      "Signs                                                               3\n",
      "South Central Review                                                3\n",
      "Style                                                               3\n",
      "Texas Studies in Literature and Language                            3\n",
      "Nineteenth-Century Literature                                       3\n",
      "Feminist Studies                                                    3\n",
      "Comparative Literature                                              3\n",
      "PMLA                                                                3\n",
      "Deleuze Studies                                                     3\n",
      "Name: count, dtype: int64\n"
     ]
    }
   ],
   "source": [
    "# Print table of top n journals plus their item frequencies\n",
    "\n",
    "# Display table with top n journal counts\n",
    "\n",
    "# ACTION: specify number of journals to display\n",
    "\n",
    "numJournals = 30\n",
    "\n",
    "# Generate table of top n journal counts\n",
    "with pd.option_context('display.max_rows', None, 'display.max_columns', None):\n",
    "    print(df[\"isPartOf\"].value_counts()[0:numJournals])\n",
    "\n",
    "\n",
    "\n"
   ]
  },
  {
   "cell_type": "code",
   "execution_count": 68,
   "metadata": {},
   "outputs": [],
   "source": [
    "# Print table of top n journals plus their word counts"
   ]
  },
  {
   "cell_type": "markdown",
   "metadata": {},
   "source": [
    "## How have the top journals changed over the decades?"
   ]
  },
  {
   "cell_type": "code",
   "execution_count": null,
   "metadata": {},
   "outputs": [
    {
     "ename": "",
     "evalue": "",
     "output_type": "error",
     "traceback": [
      "\u001b[1;31mFailed to start the Kernel. \n",
      "\u001b[1;31mUnable to start Kernel 'base (Python 3.11.5)' due to a connection timeout. \n",
      "\u001b[1;31mView Jupyter <a href='command:jupyter.viewOutput'>log</a> for further details."
     ]
    }
   ],
   "source": [
    "# For each decade, print a table of top n journals measured by number of items, plus the raw number of items"
   ]
  },
  {
   "cell_type": "markdown",
   "metadata": {},
   "source": [
    "## What disciplinary affiliations do the journals have based on JSTOR metadata?"
   ]
  },
  {
   "cell_type": "code",
   "execution_count": null,
   "metadata": {},
   "outputs": [
    {
     "ename": "",
     "evalue": "",
     "output_type": "error",
     "traceback": [
      "\u001b[1;31mFailed to start the Kernel. \n",
      "\u001b[1;31mUnable to start Kernel 'base (Python 3.11.5)' due to a connection timeout. \n",
      "\u001b[1;31mView Jupyter <a href='command:jupyter.viewOutput'>log</a> for further details."
     ]
    }
   ],
   "source": [
    "# ACTION: specify if you want to weight the results relative to number of items per journal\n",
    "\n",
    "weightedByItems = True\n",
    "\n",
    "# Bar chart for top 20 keywords"
   ]
  },
  {
   "cell_type": "markdown",
   "metadata": {},
   "source": [
    "## What disciplinary affiliations do the journals have based on keywords in titles?"
   ]
  },
  {
   "cell_type": "code",
   "execution_count": null,
   "metadata": {},
   "outputs": [
    {
     "ename": "",
     "evalue": "",
     "output_type": "error",
     "traceback": [
      "\u001b[1;31mFailed to start the Kernel. \n",
      "\u001b[1;31mUnable to start Kernel 'base (Python 3.11.5)' due to a connection timeout. \n",
      "\u001b[1;31mView Jupyter <a href='command:jupyter.viewOutput'>log</a> for further details."
     ]
    }
   ],
   "source": [
    "# ACTION: specify if you want to weight the results relative to number of items per journal\n",
    "\n",
    "weightedByItems = True\n",
    "\n",
    "# Bar chart for top 20 keywords"
   ]
  },
  {
   "cell_type": "code",
   "execution_count": null,
   "metadata": {},
   "outputs": [
    {
     "ename": "",
     "evalue": "",
     "output_type": "error",
     "traceback": [
      "\u001b[1;31mFailed to start the Kernel. \n",
      "\u001b[1;31mUnable to start Kernel 'base (Python 3.11.5)' due to a connection timeout. \n",
      "\u001b[1;31mView Jupyter <a href='command:jupyter.viewOutput'>log</a> for further details."
     ]
    }
   ],
   "source": [
    "\n",
    "disciplinaryAffiliation = \"\"\n",
    "\n",
    "# ACTION: specify whether you want to filter by JSTOR metadata or journal title - remove # next to one line below\n",
    "\n",
    "#disciplinaryFilter = \"metadata\"\n",
    "#disciplinaryFilter = \"journalTitle\"\n",
    "\n",
    "# Generate side-by-side comparison (exact visualization TBD - stacked heat maps?)\n",
    "# As sanity check, print list of all journal titles included in specified subset of corpus"
   ]
  },
  {
   "cell_type": "markdown",
   "metadata": {},
   "source": [
    "## Creating a bar plot of number of quotation items  \n",
    "### filtered over the journal name \n",
    "### by a set of keywords"
   ]
  },
  {
   "cell_type": "code",
   "execution_count": 69,
   "metadata": {},
   "outputs": [
    {
     "data": {
      "image/png": "[encoded data removed]",
      "text/plain": [
       "<Figure size 640x480 with 1 Axes>"
      ]
     },
     "metadata": {},
     "output_type": "display_data"
    }
   ],
   "source": [
    "from collections import Counter\n",
    "# ACTION: specify you keyword or keywords here\n",
    "# Multiple keywords can be separated with commas inside the brackets.\n",
    "\n",
    "\n",
    "import matplotlib.pyplot as plt\n",
    "\n",
    "filter_list=['Philosoph', 'Literar', 'Soci', 'Anthropo'] \n",
    "\n",
    "# Filter the rows\n",
    "filtered_df = df[df['isPartOf'].apply(lambda x: any(value in x for value in filter_list) if x is not None else False)]\n",
    "decade_Values_filtered=filtered_df['Decade']\n",
    "\n",
    "counter_selected_Values = Counter(decade_Values_filtered) \n",
    "\n",
    "\n",
    "# Get the decades and their counts\n",
    "decades = list(counter_selected_Values.keys())\n",
    "counts_filtered = list(counter_selected_Values.values())\n",
    "\n",
    "# Create a bar chart\n",
    "plt.bar(decades, counts_filtered,width=3.5)\n",
    "\n",
    "# Add labels and title\n",
    "plt.xlabel('Decade')\n",
    "plt.ylabel('Number of quotation articles')\n",
    "plt.title('Number of quotation articles over decades,\\n filtered by set of keywords')\n",
    "\n",
    "#Show the plot\n",
    "plt.show()\n",
    " \n"
   ]
  },
  {
   "cell_type": "markdown",
   "metadata": {},
   "source": [
    " # Bar plot of  quotation items by decade \n",
    " ### filtered by combination of keywords over the journal names \n",
    " ###"
   ]
  },
  {
   "cell_type": "code",
   "execution_count": 70,
   "metadata": {},
   "outputs": [
    {
     "data": {
      "image/png": "[encoded data removed]",
      "text/plain": [
       "<Figure size 640x480 with 1 Axes>"
      ]
     },
     "metadata": {},
     "output_type": "display_data"
    }
   ],
   "source": [
    "# Proposed filterlist over 'ísPartOf' column\n",
    "\n",
    "# To Do: find a way to filter over combination of two elements in filterlist\n",
    "# not yet thoroughly tested because I did not find relevant word snippets \n",
    "# with relevant overlap in df 'isPartOf'\n",
    "\n",
    "filter_list=['Philosoph', 'Literar', 'Joyce','Soci', 'Anthropo'] \n",
    "number_of_word_items=len(filter_list)\n",
    "\n",
    "\n",
    "# Strings is a lost of two items. Defaulkt taken outof  filter_list \n",
    "\n",
    "Strings=[filter_list[1], filter_list[2]]\n",
    "# Create a new figure\n",
    "\n",
    "import matplotlib.pyplot as plt\n",
    "\n",
    "def make_overlap_Counter(Strings,df):\n",
    "   filtered_df = df[df['isPartOf'].apply(lambda x: all(value in x for value in Strings) if x is not None else False)]\n",
    "   decade_Values_filtered=filtered_df['Decade']\n",
    "   counter_selected_Values=Counter(decade_Values_filtered)\n",
    "   return counter_selected_Values\n",
    "         \n",
    "def make_bar_diagram_overlap(Strings,counter): \n",
    "   diagram_title= f\"Quotations over Decades, filtered by '{Strings[0]}' and '{Strings[1]}'\"\n",
    "   \n",
    "   counts_filtered = list(counter.values())\n",
    "   decades = list(counter.keys())\n",
    "   \n",
    "   plt.figure()\n",
    "   plt.bar(decades,counts_filtered,label= f\" '{ Strings[0]}' and '{Strings[1]}'\", width=3.5)   \n",
    "   # Add labels and title\n",
    "   plt.xlabel('Decade')\n",
    "   plt.ylabel('Count')\n",
    "   plt.title(diagram_title)\n",
    "   # Show the plot\n",
    "   plt.legend()\n",
    "   plt.show()\n",
    "   \n",
    "my_Counter=make_overlap_Counter(Strings,df)\n",
    "\n",
    "make_bar_diagram_overlap(Strings,my_Counter)\n"
   ]
  },
  {
   "cell_type": "markdown",
   "metadata": {},
   "source": [
    "## Create a bar plot of the number of items per decade, \n",
    "### filtered by a set of keywords.\n",
    "### Each keyword filters separately for the number of items "
   ]
  },
  {
   "cell_type": "code",
   "execution_count": 71,
   "metadata": {},
   "outputs": [
    {
     "data": {
      "image/png": "[encoded data removed]",
      "text/plain": [
       "<Figure size 640x480 with 1 Axes>"
      ]
     },
     "metadata": {},
     "output_type": "display_data"
    }
   ],
   "source": [
    "# Proposed filterlist over 'ísPartOf' collumn\n",
    "\n",
    "filter_list=['Philosoph', 'Literar', 'Soci', 'Anthropo'] \n",
    "number_of_word_items=len(filter_list)\n",
    "\n",
    "Decade_Lowest=1900\n",
    "Decade_Highest=2020\n",
    "\n",
    "# Create a new figure\n",
    "\n",
    "import matplotlib.pyplot as plt\n",
    "\n",
    "def diagram_counts_with_keywords_in_isPartOf(filter_list,df):   \n",
    "   # Create a new figure\n",
    "   plt.figure()\n",
    "   def make_list_of_Counters(filter_list,df):\n",
    "      number_of_key_words=len(filter_list)\n",
    "      List_of_Counters=[] \n",
    "      for i in range(number_of_key_words):\n",
    "         String = filter_list[i]\n",
    "         filtered_df = df[df['isPartOf'].str.contains(String, na=False)]   \n",
    "         decade_Values_filtered=filtered_df['Decade']\n",
    "         counter_selected_Values=Counter(decade_Values_filtered)\n",
    "         List_of_Counters.append(counter_selected_Values )     \n",
    "         decades = list(counter_selected_Values.keys())\n",
    "      return List_of_Counters   \n",
    "         \n",
    "   def make_bar_diagrams(filter_list, List_of_Counters): \n",
    "      number_of_word_items=len(List_of_Counters)\n",
    "      for i in range(number_of_word_items):\n",
    "         String = filter_list[i]\n",
    "         \n",
    "         counts_filtered = list(List_of_Counters[i].values())\n",
    "      \n",
    "         #List_of_Counters=make_list_of_Counters(filter_list,df)\n",
    "         decades = list(List_of_Counters[i].keys())\n",
    "         counts_filtered = list(List_of_Counters[i].values())\n",
    "         # Create a bar chart\n",
    "         plt.bar(decades, counts_filtered, alpha=0.7,label= String, width=3.5)   \n",
    "   List_of_Counters=make_list_of_Counters(filter_list,df)\n",
    "   make_bar_diagrams(filter_list,List_of_Counters)\n",
    "   # Add labels and title\n",
    "   plt.xlabel('Decade')\n",
    "   plt.ylabel('Count')\n",
    "   plt.title('Number of quotation items over decades, filtered')\n",
    "   # Show the plot\n",
    "   plt.legend()\n",
    "   plt.show()\n",
    "   \n",
    "   \n",
    "   \n",
    "diagram_counts_with_keywords_in_isPartOf(filter_list,df) "
   ]
  },
  {
   "cell_type": "markdown",
   "metadata": {},
   "source": [
    "## How do journals from a specified list of titles relate to the rest of the results?"
   ]
  },
  {
   "cell_type": "code",
   "execution_count": null,
   "metadata": {},
   "outputs": [
    {
     "ename": "",
     "evalue": "",
     "output_type": "error",
     "traceback": [
      "\u001b[1;31mFailed to start the Kernel. \n",
      "\u001b[1;31mUnable to start Kernel 'base (Python 3.11.5)' due to a connection timeout. \n",
      "\u001b[1;31mView Jupyter <a href='command:jupyter.viewOutput'>log</a> for further details."
     ]
    }
   ],
   "source": [
    "# ACTION: create a text (.txt) file in the same folder and list the journal titles, each on a new line\n",
    "# ACTION: specify the filename of that text file below\n",
    "\n",
    "journalTitles = \"\"\n",
    "\n",
    "# Generate side-by-side comparison (exact visualization TBD - stacked heat maps?)"
   ]
  },
  {
   "cell_type": "markdown",
   "metadata": {},
   "source": [
    "## What are the most distinctive keywords in quotations from specified journals compared to the rest of the corpus?"
   ]
  },
  {
   "cell_type": "code",
   "execution_count": null,
   "metadata": {},
   "outputs": [
    {
     "ename": "",
     "evalue": "",
     "output_type": "error",
     "traceback": [
      "\u001b[1;31mFailed to start the Kernel. \n",
      "\u001b[1;31mUnable to start Kernel 'base (Python 3.11.5)' due to a connection timeout. \n",
      "\u001b[1;31mView Jupyter <a href='command:jupyter.viewOutput'>log</a> for further details."
     ]
    }
   ],
   "source": [
    "# List 25 highest and 25 lowest values for tf-idf of keywords in quotations from\n",
    "# specified journals (three options for defining - by JSTOR metadata, by title keyword, by specified list)\n",
    "# vs in quotations from rest of corpus (multiplied by frequency in both cases)"
   ]
  },
  {
   "cell_type": "markdown",
   "metadata": {},
   "source": [
    "# Questions about change over time of journal  items \n",
    "# with or without defining the categories or journal naming snippets  "
   ]
  },
  {
   "cell_type": "code",
   "execution_count": null,
   "metadata": {},
   "outputs": [
    {
     "ename": "",
     "evalue": "",
     "output_type": "error",
     "traceback": [
      "\u001b[1;31mFailed to start the Kernel. \n",
      "\u001b[1;31mUnable to start Kernel 'base (Python 3.11.5)' due to a connection timeout. \n",
      "\u001b[1;31mView Jupyter <a href='command:jupyter.viewOutput'>log</a> for further details."
     ]
    }
   ],
   "source": []
  },
  {
   "cell_type": "markdown",
   "metadata": {},
   "source": [
    "### Bar plot with a number of journal categories with the most items quoting the source  \n",
    "\n",
    "### In the vertical axes: number of items"
   ]
  },
  {
   "cell_type": "code",
   "execution_count": 72,
   "metadata": {},
   "outputs": [
    {
     "data": {
      "text/plain": [
       "Text(0, 0.5, 'Number of articles')"
      ]
     },
     "execution_count": 72,
     "metadata": {},
     "output_type": "execute_result"
    },
    {
     "data": {
      "image/png": "[encoded data removed]",
      "text/plain": [
       "<Figure size 640x480 with 1 Axes>"
      ]
     },
     "metadata": {},
     "output_type": "display_data"
    }
   ],
   "source": [
    "# OPTIONAL : set top_N_sourceCategorie entries \n",
    "\n",
    "from itertools import chain\n",
    "from collections import Counter\n",
    "\n",
    "# Number of sourceCategory entries with highest counts of quotation articles of the primary text \n",
    "top_N_sourceCategory_entries=10\n",
    "\n",
    "\n",
    "\n",
    "\n",
    "# Filter out None values\n",
    "df_filtered = df[df['sourceCategory'].notna()]\n",
    "\n",
    "# Flatten the lists in 'sourceCategory'\n",
    "flattened_list = list(chain.from_iterable(df_filtered['sourceCategory']))\n",
    "\n",
    "# Count the occurrences of each value\n",
    "counts = Counter(flattened_list)\n",
    "\n",
    "# Convert the result to a DataFrame\n",
    "counts_df = pd.DataFrame.from_dict(counts, orient='index', columns=['Count'])\n",
    "\n",
    "# Reset the index\n",
    "counts_df.reset_index(inplace=True)\n",
    "\n",
    "# Rename the columns\n",
    "counts_df.columns = ['Value', 'Count']\n",
    "#print(counts_df)\n",
    "#counts_df.plot(x='Value', y='Count', kind='bar')\n",
    "counts_df_sorted = counts_df.sort_values(by='Count', ascending=False)\n",
    "\n",
    "# use the n= 10 first, most promenent itens\n",
    "\n",
    "counts_df_sorted=counts_df_sorted.iloc[:top_N_sourceCategory_entries-1]\n",
    "counts_df_sorted.head()\n",
    "\n",
    "#print(counts_df_sorted)\n",
    "plot1=counts_df_sorted.plot(x='Value', y='Count', label='Number of articles', kind='bar')\n",
    "\n",
    "plot1.set_title(f'Top {top_N_sourceCategory_entries} categories of journals with highest number of quotation articles')\n",
    "plot1.set_xlabel('Category')\n",
    "plot1.set_ylabel('Number of articles')\n",
    "\n"
   ]
  },
  {
   "cell_type": "code",
   "execution_count": null,
   "metadata": {},
   "outputs": [
    {
     "ename": "",
     "evalue": "",
     "output_type": "error",
     "traceback": [
      "\u001b[1;31mFailed to start the Kernel. \n",
      "\u001b[1;31mUnable to start Kernel 'base (Python 3.11.5)' due to a connection timeout. \n",
      "\u001b[1;31mView Jupyter <a href='command:jupyter.viewOutput'>log</a> for further details."
     ]
    }
   ],
   "source": [
    "# TBD\n",
    "\n",
    "# Note: For any question involving change over time,\n",
    "# decide between raw count and normalized for total items per decade"
   ]
  },
  {
   "cell_type": "code",
   "execution_count": null,
   "metadata": {},
   "outputs": [
    {
     "ename": "",
     "evalue": "",
     "output_type": "error",
     "traceback": [
      "\u001b[1;31mFailed to start the Kernel. \n",
      "\u001b[1;31mUnable to start Kernel 'base (Python 3.11.5)' due to a connection timeout. \n",
      "\u001b[1;31mView Jupyter <a href='command:jupyter.viewOutput'>log</a> for further details."
     ]
    }
   ],
   "source": []
  },
  {
   "cell_type": "markdown",
   "metadata": {},
   "source": [
    "# Code from previous version of Notebook starts below"
   ]
  },
  {
   "cell_type": "code",
   "execution_count": 73,
   "metadata": {},
   "outputs": [
    {
     "name": "stdout",
     "output_type": "stream",
     "text": [
      "isPartOf\n",
      "Woolf Studies Annual            66\n",
      "Modern Fiction Studies          37\n",
      "Journal of Modern Literature    32\n",
      "Twentieth Century Literature    25\n",
      "NOVEL: A Forum on Fiction       16\n",
      "Studies in the Novel            10\n",
      "Critical Inquiry                 7\n",
      "Criticism                        6\n",
      "Contemporary Literature          6\n",
      "ELH                              6\n",
      "Name: count, dtype: int64\n"
     ]
    }
   ],
   "source": [
    "# Display table with top n journal counts\n",
    "\n",
    "# ACTION: specify number of journals to display\n",
    "\n",
    "numJournals = 10\n",
    "\n",
    "# Generate table of top n journal counts\n",
    "with pd.option_context('display.max_rows', None, 'display.max_columns', None):\n",
    "    print(df[\"isPartOf\"].value_counts()[0:numJournals])\n"
   ]
  },
  {
   "cell_type": "markdown",
   "metadata": {},
   "source": [
    "### preparations for reading the source A textfile"
   ]
  },
  {
   "cell_type": "code",
   "execution_count": 56,
   "metadata": {},
   "outputs": [
    {
     "name": "stdout",
     "output_type": "stream",
     "text": [
      "C:\\Users\\bdt\\Documents\\Data\\Woolf\\1925_Dalloway\\SourceText\\Woolf_1925_Dalloway_plaintext.txt\n",
      "359167\n"
     ]
    }
   ],
   "source": [
    "# 🗣️🚨 preparations to find and read the Asource  Textfile  \n",
    "\n",
    "\n",
    "source_Text= find_SourceText(my_project_data)\n",
    "\n",
    "with open(source_Text,\"r\", encoding='utf-8' ) as f: \n",
    "   txt = f.read()\n",
    "\n",
    "\n",
    "textALength = len(txt)\n",
    "print(textALength) \n"
   ]
  },
  {
   "cell_type": "markdown",
   "metadata": {},
   "source": [
    "## Length of ASource text "
   ]
  },
  {
   "cell_type": "code",
   "execution_count": 57,
   "metadata": {},
   "outputs": [
    {
     "name": "stdout",
     "output_type": "stream",
     "text": [
      "359167\n"
     ]
    }
   ],
   "source": [
    "textALength = len(txt)\n",
    "print(textALength)"
   ]
  },
  {
   "cell_type": "code",
   "execution_count": 74,
   "metadata": {},
   "outputs": [],
   "source": [
    "# Make an empty array the size of the text\n",
    "\n",
    "tally = np.zeros(textALength)\n",
    "#tally = [0] * textALength\n",
    "\n",
    "# Read the matched locations from the results dataset, and literally evaluate them into lists. \n",
    "\n",
    "locationsInA = df['Locations in A']\n",
    "\n",
    "# Tally up every time a letter in the text is quoted. \n",
    "for article in locationsInA: \n",
    "    for locRange in article: \n",
    "         for i in range(locRange[0], min(locRange[1]+1, len(tally))):\n",
    "                tally[i] += 1"
   ]
  },
  {
   "cell_type": "code",
   "execution_count": 75,
   "metadata": {},
   "outputs": [
    {
     "name": "stdout",
     "output_type": "stream",
     "text": [
      "[26.0, 25.0, 23.0, 17.0, 15.0, 14.0, 13.0, 12.0, 11.0, 10.0, 9.0, 8.0, 7.0, 6.0, 5.0, 4.0, 3.0, 2.0, 1.0, 0.0]\n"
     ]
    }
   ],
   "source": [
    "# Identify top 10 highest frequencies in descending order\n",
    "topFreqs = list(set(tally))[:-21:-1]\n",
    "\n",
    "print(topFreqs)"
   ]
  },
  {
   "cell_type": "code",
   "execution_count": 76,
   "metadata": {},
   "outputs": [
    {
     "name": "stdout",
     "output_type": "stream",
     "text": [
      "[271, 272, 273, 274, 275, 276, 277, 278, 279, 280, 281, 282, 283, 284, 285, 286, 287, 288, 289, 290, 291, 292, 293, 294, 295, 296, 297, 298, 299, 300, 301, 302, 303, 304, 305, 306, 307, 308, 309, 310, 311, 312, 313, 314, 315, 316, 317, 318, 319, 434, 435, 436, 437, 438, 439, 440, 441, 442, 443, 444, 445, 446, 447, 448, 449, 450, 451, 452, 453, 454, 455, 456, 457, 458, 459, 460, 461, 462, 463, 464, 465, 466, 467, 468, 469, 470, 471, 472, 473, 474, 2753, 2754, 2755, 2756, 2757, 2758, 2759, 2760, 2761, 2762, 2763, 2764, 2765, 2766, 2767, 2768, 2769, 2770, 2771, 2772, 2773, 2774, 2775, 2806, 2807, 2808, 2809, 2810, 2811, 2812, 2813, 2814, 2815, 2820, 2821, 2822, 2823, 2824, 2825, 2826, 2827, 2828, 11845, 11846, 11847, 11848, 11849, 11850, 11851, 11852, 11853, 11854, 11855, 11856, 11857, 11858, 11859, 11860, 11861, 11862, 11863, 11864, 11865, 11866, 11867, 11868, 11869, 11870, 11871, 11872, 11873, 11874, 11875, 11876, 11877, 54288, 54289, 54290, 54291, 54292, 54293, 54294, 54295, 54296, 54297, 54298, 54299, 54300, 54301, 54302, 54303, 54304, 54305, 54306, 54541, 54542, 54543, 54544, 54545, 54546, 54547, 54548, 54549, 54550, 54551, 54552, 54553, 54554, 280442, 280443, 280444, 280445, 280446, 280447, 280448, 280449, 280450, 280451, 280452, 280453, 280454, 280455, 280456, 280457, 280458, 280459, 280460, 280461, 280462, 280463, 280464, 280465, 280466, 280480, 280481, 280482, 280483, 280484, 280485, 280486, 280487, 280488, 280489, 280490, 280491, 280510, 280511, 280512, 280513, 280514, 280515, 280516, 280517, 280518, 280519, 280520, 280521, 280522, 280523, 280524, 280525, 280526, 280527, 280528, 280529, 280530, 280531, 280532, 280533, 280534, 280535, 280536, 280537, 280538, 280539, 280540, 280541, 280542, 280543, 280544, 280545, 280546, 280547, 280548, 280549, 280550, 280551, 280552, 280553, 280554, 280555, 280556, 280557, 280558, 280559, 280560, 280561, 280562, 280563, 280564, 280565, 280566, 280567, 280568, 280569, 280570, 280571, 280572, 280573, 280574, 280575, 280576, 280577, 280578, 280579, 280580, 280581, 280582, 280583, 280584, 280585, 280586, 340202, 340203, 340204, 340205, 340206, 340207, 340208, 340209, 340210, 340211, 340212, 340213, 340214, 340215, 340216, 340217, 340218, 340219, 340220, 340221, 340222, 340223, 340224, 340225, 340226, 340227, 340228, 340229, 340230, 340231, 340232, 340233, 340234, 340235, 340236, 340237, 343781, 343782, 343783, 343784, 343785, 343837, 343838, 343839, 343840, 343841, 343842, 343843, 343844, 343845, 343846, 343847, 343848, 343849]\n"
     ]
    }
   ],
   "source": [
    "quotedRange = np.where(tally == 12)[0].tolist()\n",
    "print(quotedRange)"
   ]
  },
  {
   "cell_type": "code",
   "execution_count": 77,
   "metadata": {},
   "outputs": [
    {
     "name": "stdout",
     "output_type": "stream",
     "text": [
      "visit it had been. She was absurdly over-dressed, \"like a cockatoo,\" Clarissa had said, imitating her, and she never stopped talking. On and on she went, on and on. Clarissa imitated her. Then somebody said—Sally Seton it was—did it make any real difference to one's feelings to know that before they'd married she had had a baby? (In those days, in mixed company, it was a bold thing to say.) He could see Clarissa now, turning bright pink; somehow contracting; and saying, \"Oh, I shall never be able to speak to her again!\" Whereupon the whole party sitting round the tea-table seemed to wobble. It was very uncomfortable.\n",
      "\n",
      "He hadn't blamed her for minding the fact, since in those days a girl brought up as she was, knew nothing, but it was her manner that annoyed him; timid; hard; something arrogant; unimaginative; prudish. \"The death of the soul.\" He had said that instinctively, ticketing the moment as he used \n"
     ]
    }
   ],
   "source": [
    "print(txt[105054:105973])"
   ]
  },
  {
   "cell_type": "code",
   "execution_count": null,
   "metadata": {},
   "outputs": [
    {
     "ename": "",
     "evalue": "",
     "output_type": "error",
     "traceback": [
      "\u001b[1;31mFailed to start the Kernel. \n",
      "\u001b[1;31mUnable to start Kernel 'base (Python 3.11.5)' due to a connection timeout. \n",
      "\u001b[1;31mView Jupyter <a href='command:jupyter.viewOutput'>log</a> for further details."
     ]
    }
   ],
   "source": [
    "if quotedRange[-1] - quotedRange[0] +1 == len(quotedRange):\n",
    "    print(\"Continuous range\")\n",
    "else:\n",
    "    print(\"Multiple ranges detected\")"
   ]
  },
  {
   "cell_type": "code",
   "execution_count": null,
   "metadata": {},
   "outputs": [
    {
     "ename": "",
     "evalue": "",
     "output_type": "error",
     "traceback": [
      "\u001b[1;31mFailed to start the Kernel. \n",
      "\u001b[1;31mUnable to start Kernel 'base (Python 3.11.5)' due to a connection timeout. \n",
      "\u001b[1;31mView Jupyter <a href='command:jupyter.viewOutput'>log</a> for further details."
     ]
    }
   ],
   "source": [
    "for i in range(2, len(quotedRange)):\n",
    "    if quotedRange[i] - quotedRange[i-1] != 1:\n",
    "        print(\"Multiple ranges detected:\")\n",
    "        splitPoint = i\n",
    "        firstQuot = quotedRange[:splitPoint]\n",
    "        secondQuot = quotedRange[splitPoint:]\n",
    "        print(txt[firstQuot[0]:firstQuot[-1]])\n",
    "        print(txt[secondQuot[0]:secondQuot[-1]])\n",
    "        break\n",
    "else:\n",
    "    print(\"Continuous range\")"
   ]
  },
  {
   "cell_type": "code",
   "execution_count": null,
   "metadata": {},
   "outputs": [
    {
     "ename": "",
     "evalue": "",
     "output_type": "error",
     "traceback": [
      "\u001b[1;31mFailed to start the Kernel. \n",
      "\u001b[1;31mUnable to start Kernel 'base (Python 3.11.5)' due to a connection timeout. \n",
      "\u001b[1;31mView Jupyter <a href='command:jupyter.viewOutput'>log</a> for further details."
     ]
    }
   ],
   "source": [
    "for range in topFreqs:\n",
    "    npRange = np.where(tally == range)[0]\n",
    "    quotedRange = npRange.tolist()\n",
    "    quotedExcerpt = txt[quotedRange[0]:quotedRange[-1]]\n",
    "    print(f\"Quoted {range} times: {quotedExcerpt}\\n\")"
   ]
  },
  {
   "cell_type": "code",
   "execution_count": null,
   "metadata": {},
   "outputs": [
    {
     "ename": "",
     "evalue": "",
     "output_type": "error",
     "traceback": [
      "\u001b[1;31mFailed to start the Kernel. \n",
      "\u001b[1;31mUnable to start Kernel 'base (Python 3.11.5)' due to a connection timeout. \n",
      "\u001b[1;31mView Jupyter <a href='command:jupyter.viewOutput'>log</a> for further details."
     ]
    }
   ],
   "source": [
    "# Identify selected frequencies in descending order\n",
    "selectedFreqs = list(set(tally))[-22:-9]\n",
    "\n",
    "print(selectedFreqs)"
   ]
  },
  {
   "cell_type": "code",
   "execution_count": null,
   "metadata": {},
   "outputs": [
    {
     "ename": "",
     "evalue": "",
     "output_type": "error",
     "traceback": [
      "\u001b[1;31mFailed to start the Kernel. \n",
      "\u001b[1;31mUnable to start Kernel 'base (Python 3.11.5)' due to a connection timeout. \n",
      "\u001b[1;31mView Jupyter <a href='command:jupyter.viewOutput'>log</a> for further details."
     ]
    }
   ],
   "source": [
    "for range in selectedFreqs:\n",
    "    npRange = np.where(tally == range)[0]\n",
    "    quotedRange = npRange.tolist()\n",
    "    quotedExcerpt = txt[quotedRange[0]:quotedRange[-1]]\n",
    "    print(f\"Quoted {range} times: indices  \n",
    "          {quotedExcerpt}\\n\")"
   ]
  },
  {
   "cell_type": "code",
   "execution_count": null,
   "metadata": {},
   "outputs": [
    {
     "ename": "",
     "evalue": "",
     "output_type": "error",
     "traceback": [
      "\u001b[1;31mFailed to start the Kernel. \n",
      "\u001b[1;31mUnable to start Kernel 'base (Python 3.11.5)' due to a connection timeout. \n",
      "\u001b[1;31mView Jupyter <a href='command:jupyter.viewOutput'>log</a> for further details."
     ]
    }
   ],
   "source": [
    "# Get page locations\n",
    "pageMatches = txt.split('~')\n",
    "pageMatches = [match.strip() for match in pageMatches]\n",
    "len(pageMatches)"
   ]
  },
  {
   "cell_type": "markdown",
   "metadata": {},
   "source": [
    "## How many articles do we have published in each year? "
   ]
  },
  {
   "cell_type": "code",
   "execution_count": null,
   "metadata": {},
   "outputs": [
    {
     "ename": "",
     "evalue": "",
     "output_type": "error",
     "traceback": [
      "\u001b[1;31mFailed to start the Kernel. \n",
      "\u001b[1;31mUnable to start Kernel 'base (Python 3.11.5)' due to a connection timeout. \n",
      "\u001b[1;31mView Jupyter <a href='command:jupyter.viewOutput'>log</a> for further details."
     ]
    }
   ],
   "source": [
    "alt.Chart(df).mark_bar().encode(x='Year', y='count()').properties(width=1000)"
   ]
  },
  {
   "cell_type": "markdown",
   "metadata": {},
   "source": [
    "# Find all articles quoting a given range"
   ]
  },
  {
   "cell_type": "code",
   "execution_count": null,
   "metadata": {},
   "outputs": [
    {
     "ename": "",
     "evalue": "",
     "output_type": "error",
     "traceback": [
      "\u001b[1;31mFailed to start the Kernel. \n",
      "\u001b[1;31mUnable to start Kernel 'base (Python 3.11.5)' due to a connection timeout. \n",
      "\u001b[1;31mView Jupyter <a href='command:jupyter.viewOutput'>log</a> for further details."
     ]
    }
   ],
   "source": [
    "df[df[\"Locations in A\"].astype(str).str.contains(\"157027\") == True]"
   ]
  },
  {
   "cell_type": "code",
   "execution_count": null,
   "metadata": {},
   "outputs": [
    {
     "ename": "",
     "evalue": "",
     "output_type": "error",
     "traceback": [
      "\u001b[1;31mFailed to start the Kernel. \n",
      "\u001b[1;31mUnable to start Kernel 'base (Python 3.11.5)' due to a connection timeout. \n",
      "\u001b[1;31mView Jupyter <a href='command:jupyter.viewOutput'>log</a> for further details."
     ]
    }
   ],
   "source": [
    "df2[\"Locations in A\"].iloc[1]"
   ]
  },
  {
   "cell_type": "markdown",
   "metadata": {},
   "source": [
    "# Divide text into chunks"
   ]
  },
  {
   "cell_type": "code",
   "execution_count": null,
   "metadata": {},
   "outputs": [
    {
     "ename": "",
     "evalue": "",
     "output_type": "error",
     "traceback": [
      "\u001b[1;31mFailed to start the Kernel. \n",
      "\u001b[1;31mUnable to start Kernel 'base (Python 3.11.5)' due to a connection timeout. \n",
      "\u001b[1;31mView Jupyter <a href='command:jupyter.viewOutput'>log</a> for further details."
     ]
    }
   ],
   "source": [
    "def divideBySections(amount):\n",
    "    text_occurrence, rangeBreakdown, xLabels = {}, [], []\n",
    "\n",
    "    for i in range(0, amount):\n",
    "        text_occurrence[str(i)] = 0\n",
    "        rangeBreakdown.append(((textALength/amount)*(i), (textALength/amount)*(i+1)))\n",
    "        xLabels.append(f\"{i+1}\")\n",
    "\n",
    "    return text_occurrence, rangeBreakdown, xLabels\n",
    "\n",
    "def plotPortionsOfQuotes(amount):\n",
    "\n",
    "    text_occurrence, rangeBreakdown, xLabels = divideBySections(amount)\n",
    "\n",
    "    for index, row in df.iterrows():\n",
    "        for (quot_start,quot_end) in row['Locations in A']:\n",
    "            for index,values in enumerate(rangeBreakdown):\n",
    "                if (values[0]<=quot_start<=values[1]):\n",
    "                    text_occurrence[str(index)] += 1\n",
    "\n",
    "    total_occ = sum(text_occurrence.values())\n",
    "    print(total_occ)\n",
    "    for (key, val) in text_occurrence.items():\n",
    "        print(key,val)\n",
    "\n",
    "\n",
    "    plt.figure(facecolor='white')\n",
    "    plt.bar(range(len(text_occurrence)), list(text_occurrence.values()),tick_label=xLabels)\n",
    "\n",
    "    plt.xlabel(\"Segment of text\")\n",
    "    plt.ylabel(\"Number of quotations\")\n",
    "    plt.rcParams[\"figure.figsize\"] = (30,10)\n",
    "    plt.rcParams.update({'font.size': 18})\n",
    "    plt.title(\"Number of quotations per segment of text\")\n",
    "\n",
    "    plt.show()\n",
    "\n",
    "\n",
    "distributionCount = 10\n",
    "plotPortionsOfQuotes(distributionCount)"
   ]
  },
  {
   "cell_type": "markdown",
   "metadata": {},
   "source": [
    "# Average Numbers of Quoted Words Per Item"
   ]
  },
  {
   "cell_type": "code",
   "execution_count": null,
   "metadata": {},
   "outputs": [
    {
     "ename": "",
     "evalue": "",
     "output_type": "error",
     "traceback": [
      "\u001b[1;31mFailed to start the Kernel. \n",
      "\u001b[1;31mUnable to start Kernel 'base (Python 3.11.5)' due to a connection timeout. \n",
      "\u001b[1;31mView Jupyter <a href='command:jupyter.viewOutput'>log</a> for further details."
     ]
    }
   ],
   "source": [
    "df['Quoted Words'].describe()"
   ]
  },
  {
   "cell_type": "code",
   "execution_count": null,
   "metadata": {},
   "outputs": [
    {
     "ename": "",
     "evalue": "",
     "output_type": "error",
     "traceback": [
      "\u001b[1;31mFailed to start the Kernel. \n",
      "\u001b[1;31mUnable to start Kernel 'base (Python 3.11.5)' due to a connection timeout. \n",
      "\u001b[1;31mView Jupyter <a href='command:jupyter.viewOutput'>log</a> for further details."
     ]
    }
   ],
   "source": [
    "articlesWithMatches['Quoted Words'].describe()"
   ]
  },
  {
   "cell_type": "code",
   "execution_count": null,
   "metadata": {},
   "outputs": [
    {
     "ename": "",
     "evalue": "",
     "output_type": "error",
     "traceback": [
      "\u001b[1;31mFailed to start the Kernel. \n",
      "\u001b[1;31mUnable to start Kernel 'base (Python 3.11.5)' due to a connection timeout. \n",
      "\u001b[1;31mView Jupyter <a href='command:jupyter.viewOutput'>log</a> for further details."
     ]
    }
   ],
   "source": [
    "len(df[df['Quoted Words'] > 0])"
   ]
  },
  {
   "cell_type": "code",
   "execution_count": null,
   "metadata": {},
   "outputs": [
    {
     "ename": "",
     "evalue": "",
     "output_type": "error",
     "traceback": [
      "\u001b[1;31mFailed to start the Kernel. \n",
      "\u001b[1;31mUnable to start Kernel 'base (Python 3.11.5)' due to a connection timeout. \n",
      "\u001b[1;31mView Jupyter <a href='command:jupyter.viewOutput'>log</a> for further details."
     ]
    }
   ],
   "source": [
    "articlesWithMatches['Quoted Words'].hist()"
   ]
  },
  {
   "cell_type": "markdown",
   "metadata": {},
   "source": [
    "## Stats about Wordcounts\n",
    "\n",
    "Average number of words per match, per item: "
   ]
  },
  {
   "cell_type": "code",
   "execution_count": null,
   "metadata": {},
   "outputs": [
    {
     "ename": "",
     "evalue": "",
     "output_type": "error",
     "traceback": [
      "\u001b[1;31mFailed to start the Kernel. \n",
      "\u001b[1;31mUnable to start Kernel 'base (Python 3.11.5)' due to a connection timeout. \n",
      "\u001b[1;31mView Jupyter <a href='command:jupyter.viewOutput'>log</a> for further details."
     ]
    }
   ],
   "source": [
    "articlesWithMatches['Wordcounts'].apply(np.mean).head()"
   ]
  },
  {
   "cell_type": "code",
   "execution_count": null,
   "metadata": {},
   "outputs": [
    {
     "ename": "",
     "evalue": "",
     "output_type": "error",
     "traceback": [
      "\u001b[1;31mFailed to start the Kernel. \n",
      "\u001b[1;31mUnable to start Kernel 'base (Python 3.11.5)' due to a connection timeout. \n",
      "\u001b[1;31mView Jupyter <a href='command:jupyter.viewOutput'>log</a> for further details."
     ]
    }
   ],
   "source": [
    "articlesWithMatches['Wordcounts'].apply(np.mean).describe()"
   ]
  },
  {
   "cell_type": "markdown",
   "metadata": {},
   "source": [
    "#### Functions for extracting wordcounts, numbers of quotations for diachronic and synchronic analysis"
   ]
  },
  {
   "cell_type": "code",
   "execution_count": null,
   "metadata": {},
   "outputs": [
    {
     "ename": "",
     "evalue": "",
     "output_type": "error",
     "traceback": [
      "\u001b[1;31mFailed to start the Kernel. \n",
      "\u001b[1;31mUnable to start Kernel 'base (Python 3.11.5)' due to a connection timeout. \n",
      "\u001b[1;31mView Jupyter <a href='command:jupyter.viewOutput'>log</a> for further details."
     ]
    }
   ],
   "source": [
    "def diachronicAnalysis(df, decades=(1950, 2020), bins=chapterLocations, useWordcounts=True, normalize=True):\n",
    "    \"\"\" Turning on useWordcounts makes it so that it's weighted by wordcount. \n",
    "    Turning it off uses raw numbers of quotations. \"\"\"\n",
    "    decades = np.arange(decades[0], decades[1], 10)\n",
    "    # Make a dictionary of decades. \n",
    "    # Values are a list of locations.  \n",
    "    decadeDict = {}\n",
    "    for i, row in df.iterrows():\n",
    "        decade = row['Decade']\n",
    "        locationsAndWordcounts = row['Locations in A with Wordcounts']\n",
    "        if decade not in decadeDict: \n",
    "            decadeDict[decade] = locationsAndWordcounts.copy()\n",
    "        else: \n",
    "            decadeDict[decade] += locationsAndWordcounts.copy()\n",
    "    # Grab the beginnings of quotes. \n",
    "    decadeStartsWeights = {decade: [(item[0][0], item[1]) \n",
    "                                    for item in loc] \n",
    "                    for decade, loc in decadeDict.items()}\n",
    "    if useWordcounts: \n",
    "        decadesBinned = {decade: \n",
    "                     np.histogram([loc[0] for loc in locations], \n",
    "                                  bins=bins,\n",
    "                                  weights=[loc[1] for loc in locations],\n",
    "                                  range=(0, textALength))[0]\n",
    "                     for decade, locations in decadeStartsWeights.items() \n",
    "                         if decade in decades}\n",
    "    else: \n",
    "        decadesBinned = {decade: \n",
    "                     np.histogram([loc[0] for loc in locations], \n",
    "                                  bins=bins,\n",
    "                                  range=(0, textALength))[0]\n",
    "                     for decade, locations in decadeStartsWeights.items() \n",
    "                         if decade in decades}\n",
    "    decadesDF = pd.DataFrame(decadesBinned).T\n",
    "    #Normalize\n",
    "    if normalize: \n",
    "        decadesDF = decadesDF.div(decadesDF.max(axis=1), axis=0)\n",
    "    return decadesDF\n",
    "\n",
    "def countWords(locRange): \n",
    "    \"\"\" Counts words in middlemarch, given character ranges. \"\"\"\n",
    "    chunk = mm[locRange[0]:locRange[1]]\n",
    "    return len(chunk.split())\n",
    "\n",
    "def totalWords(locRangeSet): \n",
    "    \"\"\" Counts total words in a list of location ranges. \"\"\"\n",
    "    return sum([countWords(locRange) for locRange in locRangeSet])    \n",
    "    \n",
    "def countsPerSet(locRangeSet): \n",
    "    \"\"\" Returns an augmented location range set that includes word counts. \"\"\"\n",
    "    return [(locRange, countWords(locRange))\n",
    "             for locRange in locRangeSet]\n",
    "    \n",
    "def extractWordcounts(locsAndWordcounts): \n",
    "    \"\"\" \n",
    "    Takes pairs of location ranges and wordcounts, \n",
    "    and returns just the wordcounts. \n",
    "    \"\"\"\n",
    "    return [item[1] for item in locsAndWordcounts \n",
    "            if len(locsAndWordcounts) > 0]\n",
    "\n",
    "def synchronicAnalysis(df, bins=chapterLocations, useWordcounts=True): \n",
    "    locs = df['Locations in A'].values\n",
    "    locCounts = [(loc, countWords(loc)) for locSet in locs\n",
    "              for loc in locSet]\n",
    "    starts = [loc[0][0] for loc in locCounts]\n",
    "    counts = [loc[1] for loc in locCounts]\n",
    "    if useWordcounts: \n",
    "        binned = np.histogram(starts, bins=bins, \n",
    "                              weights=counts, range=(0, textALength))\n",
    "    else: \n",
    "        binned = np.histogram(starts, bins=bins, \n",
    "                              range=(0, textALength))\n",
    "    binnedDF = pd.Series(binned[0])\n",
    "    return binnedDF\n",
    "\n",
    "def plotDiachronicAnalysis(df, save=False, reverse=False): \n",
    "    ylabels = [str(int(decade)) for decade in df.index] + ['2020']\n",
    "    plt.pcolor(df, cmap='gnuplot')\n",
    "    plt.yticks(np.arange(len(df.index)+1), ylabels)\n",
    "    plt.gca().invert_yaxis()\n",
    "    plt.ylabel('Decade')\n",
    "    plt.xlabel('Chapter')\n",
    "    plt.gca().set_xlim((0, len(df.T)))\n",
    "    plt.colorbar(ticks=[])\n",
    "    if save: \n",
    "        plt.savefig('diachronic.png', bboxinches='tight', dpi=300, transparent=True)\n",
    "    plt.show()\n",
    "    \n",
    "def plotSynchronicAnalysis(s, useWordcounts=True): \n",
    "    ax = s.plot(kind='bar')\n",
    "    ax.set_xlabel('Chapter')\n",
    "    if useWordcounts: \n",
    "        ax.set_ylabel('Number of Words Quoted')\n",
    "    else: \n",
    "        ax.set_ylabel('Number of Quotations')\n",
    "        \n",
    "def plotSynchronicAnalysisHeatmap(s, useWordcounts=True): \n",
    "    vec1=synchronicAnalysis(df, useWordcounts=False)\n",
    "    fig, ax = plt.subplots()\n",
    "    sns.color_palette(\"magma\")\n",
    "    sns.heatmap([vec1])\n",
    "    ax.set_xlabel('Chapter')\n",
    "    ax.set_ylabel('Number of Quotations')\n",
    "    \n",
    "def plotDiachronicAnalysisBubble(df, save=False, reverse=False):\n",
    "    ylabels = [str(int(decade)) for decade in df.index] + ['2020'] \n",
    "    alt.Chart(df).mark_circle().encode(\n",
    "    x='Chapter',\n",
    "    y='Decade',\n",
    "    size='sum(count):Q'\n",
    ")\n",
    ")"
   ]
  },
  {
   "cell_type": "code",
   "execution_count": null,
   "metadata": {},
   "outputs": [
    {
     "ename": "",
     "evalue": "",
     "output_type": "error",
     "traceback": [
      "\u001b[1;31mFailed to start the Kernel. \n",
      "\u001b[1;31mUnable to start Kernel 'base (Python 3.11.5)' due to a connection timeout. \n",
      "\u001b[1;31mView Jupyter <a href='command:jupyter.viewOutput'>log</a> for further details."
     ]
    }
   ],
   "source": [
    "df['Quoted Words'] = df['Locations in A'].apply(totalWords)"
   ]
  },
  {
   "cell_type": "code",
   "execution_count": null,
   "metadata": {},
   "outputs": [
    {
     "ename": "",
     "evalue": "",
     "output_type": "error",
     "traceback": [
      "\u001b[1;31mFailed to start the Kernel. \n",
      "\u001b[1;31mUnable to start Kernel 'base (Python 3.11.5)' due to a connection timeout. \n",
      "\u001b[1;31mView Jupyter <a href='command:jupyter.viewOutput'>log</a> for further details."
     ]
    }
   ],
   "source": [
    "df['Locations in A with Wordcounts'] = df['Locations in A'].apply(countsPerSet)"
   ]
  },
  {
   "cell_type": "code",
   "execution_count": null,
   "metadata": {},
   "outputs": [
    {
     "ename": "",
     "evalue": "",
     "output_type": "error",
     "traceback": [
      "\u001b[1;31mFailed to start the Kernel. \n",
      "\u001b[1;31mUnable to start Kernel 'base (Python 3.11.5)' due to a connection timeout. \n",
      "\u001b[1;31mView Jupyter <a href='command:jupyter.viewOutput'>log</a> for further details."
     ]
    }
   ],
   "source": [
    "# Verify that the diachronic wordcounts are the same as the synchronic wordcounts\n",
    "decadeSums = diachronicAnalysis(df, decades=(1700, 2020), useWordcounts=True, normalize=False).sum(axis=1)\n",
    "decadeSums.sum()"
   ]
  },
  {
   "cell_type": "code",
   "execution_count": null,
   "metadata": {},
   "outputs": [
    {
     "ename": "",
     "evalue": "",
     "output_type": "error",
     "traceback": [
      "\u001b[1;31mFailed to start the Kernel. \n",
      "\u001b[1;31mUnable to start Kernel 'base (Python 3.11.5)' due to a connection timeout. \n",
      "\u001b[1;31mView Jupyter <a href='command:jupyter.viewOutput'>log</a> for further details."
     ]
    }
   ],
   "source": [
    "chapterSums = synchronicAnalysis(df)\n",
    "chapterSums.sum()"
   ]
  },
  {
   "cell_type": "markdown",
   "metadata": {},
   "source": [
    "# Quotation Length Statistics"
   ]
  },
  {
   "cell_type": "code",
   "execution_count": null,
   "metadata": {},
   "outputs": [
    {
     "ename": "",
     "evalue": "",
     "output_type": "error",
     "traceback": [
      "\u001b[1;31mFailed to start the Kernel. \n",
      "\u001b[1;31mUnable to start Kernel 'base (Python 3.11.5)' due to a connection timeout. \n",
      "\u001b[1;31mView Jupyter <a href='command:jupyter.viewOutput'>log</a> for further details."
     ]
    }
   ],
   "source": [
    "df['Wordcounts'] = df['Locations in A with Wordcounts'].apply(extractWordcounts)"
   ]
  },
  {
   "cell_type": "code",
   "execution_count": null,
   "metadata": {},
   "outputs": [
    {
     "ename": "",
     "evalue": "",
     "output_type": "error",
     "traceback": [
      "\u001b[1;31mFailed to start the Kernel. \n",
      "\u001b[1;31mUnable to start Kernel 'base (Python 3.11.5)' due to a connection timeout. \n",
      "\u001b[1;31mView Jupyter <a href='command:jupyter.viewOutput'>log</a> for further details."
     ]
    }
   ],
   "source": [
    "wordcounts = []\n",
    "for countSet in df['Wordcounts'].values: \n",
    "    for count in countSet: \n",
    "        wordcounts.append(count)"
   ]
  },
  {
   "cell_type": "code",
   "execution_count": null,
   "metadata": {},
   "outputs": [
    {
     "ename": "",
     "evalue": "",
     "output_type": "error",
     "traceback": [
      "\u001b[1;31mFailed to start the Kernel. \n",
      "\u001b[1;31mUnable to start Kernel 'base (Python 3.11.5)' due to a connection timeout. \n",
      "\u001b[1;31mView Jupyter <a href='command:jupyter.viewOutput'>log</a> for further details."
     ]
    }
   ],
   "source": [
    "pd.Series(wordcounts).hist()"
   ]
  },
  {
   "cell_type": "markdown",
   "metadata": {},
   "source": [
    "# Number of Quotes (and words Quoted) by Chapter"
   ]
  },
  {
   "cell_type": "code",
   "execution_count": null,
   "metadata": {},
   "outputs": [
    {
     "ename": "",
     "evalue": "",
     "output_type": "error",
     "traceback": [
      "\u001b[1;31mFailed to start the Kernel. \n",
      "\u001b[1;31mUnable to start Kernel 'base (Python 3.11.5)' due to a connection timeout. \n",
      "\u001b[1;31mView Jupyter <a href='command:jupyter.viewOutput'>log</a> for further details."
     ]
    }
   ],
   "source": [
    "plotSynchronicAnalysis(synchronicAnalysis(df))"
   ]
  },
  {
   "cell_type": "code",
   "execution_count": null,
   "metadata": {},
   "outputs": [
    {
     "ename": "",
     "evalue": "",
     "output_type": "error",
     "traceback": [
      "\u001b[1;31mFailed to start the Kernel. \n",
      "\u001b[1;31mUnable to start Kernel 'base (Python 3.11.5)' due to a connection timeout. \n",
      "\u001b[1;31mView Jupyter <a href='command:jupyter.viewOutput'>log</a> for further details."
     ]
    }
   ],
   "source": [
    "synchronicAnalysis(df, useWordcounts=True).to_csv('../papers/spring2017-middlemarch-paper/data/num-words-quoted-per-chapter.csv')"
   ]
  },
  {
   "cell_type": "markdown",
   "metadata": {},
   "source": [
    "### Total number of matches"
   ]
  },
  {
   "cell_type": "code",
   "execution_count": null,
   "metadata": {},
   "outputs": [
    {
     "ename": "",
     "evalue": "",
     "output_type": "error",
     "traceback": [
      "\u001b[1;31mFailed to start the Kernel. \n",
      "\u001b[1;31mUnable to start Kernel 'base (Python 3.11.5)' due to a connection timeout. \n",
      "\u001b[1;31mView Jupyter <a href='command:jupyter.viewOutput'>log</a> for further details."
     ]
    }
   ],
   "source": [
    "allMatches = []\n",
    "for group in df['Locations in A'].values: \n",
    "    for pair in group: \n",
    "        allMatches.append(pair)"
   ]
  },
  {
   "cell_type": "code",
   "execution_count": null,
   "metadata": {},
   "outputs": [
    {
     "ename": "",
     "evalue": "",
     "output_type": "error",
     "traceback": [
      "\u001b[1;31mFailed to start the Kernel. \n",
      "\n",
      "\u001b[1;31mUnable to start Kernel 'base (Python 3.11.5)' due to a connection timeout. \n",
      "\n",
      "\u001b[1;31mView Jupyter <a href='command:jupyter.viewOutput'>log</a> for further details."
     ]
    }
   ],
   "source": [
    "len(allMatches)"
   ]
  },
  {
   "cell_type": "code",
   "execution_count": null,
   "metadata": {},
   "outputs": [
    {
     "ename": "",
     "evalue": "",
     "output_type": "error",
     "traceback": [
      "\u001b[1;31mFailed to start the Kernel. \n",
      "\n",
      "\u001b[1;31mUnable to start Kernel 'base (Python 3.11.5)' due to a connection timeout. \n",
      "\n",
      "\u001b[1;31mView Jupyter <a href='command:jupyter.viewOutput'>log</a> for further details."
     ]
    }
   ],
   "source": []
  },
  {
   "cell_type": "code",
   "execution_count": null,
   "metadata": {},
   "outputs": [
    {
     "ename": "",
     "evalue": "",
     "output_type": "error",
     "traceback": [
      "\u001b[1;31mFailed to start the Kernel. \n",
      "\n",
      "\u001b[1;31mUnable to start Kernel 'base (Python 3.11.5)' due to a connection timeout. \n",
      "\n",
      "\u001b[1;31mView Jupyter <a href='command:jupyter.viewOutput'>log</a> for further details."
     ]
    }
   ],
   "source": [
    "plotSynchronicAnalysis(synchronicAnalysis(df, useWordcounts=False), useWordcounts=False)"
   ]
  },
  {
   "cell_type": "code",
   "execution_count": null,
   "metadata": {},
   "outputs": [
    {
     "ename": "",
     "evalue": "",
     "output_type": "error",
     "traceback": [
      "\u001b[1;31mFailed to start the Kernel. \n",
      "\n",
      "\u001b[1;31mUnable to start Kernel 'base (Python 3.11.5)' due to a connection timeout. \n",
      "\n",
      "\u001b[1;31mView Jupyter <a href='command:jupyter.viewOutput'>log</a> for further details."
     ]
    }
   ],
   "source": [
    "quotationsPerChapter = synchronicAnalysis(df, bins=chapterLocations, useWordcounts=False)\n",
    "quotationsPerChapter"
   ]
  },
  {
   "cell_type": "code",
   "execution_count": null,
   "metadata": {},
   "outputs": [
    {
     "ename": "",
     "evalue": "",
     "output_type": "error",
     "traceback": [
      "\u001b[1;31mFailed to start the Kernel. \n",
      "\n",
      "\u001b[1;31mUnable to start Kernel 'base (Python 3.11.5)' due to a connection timeout. \n",
      "\n",
      "\u001b[1;31mView Jupyter <a href='command:jupyter.viewOutput'>log</a> for further details."
     ]
    }
   ],
   "source": [
    "quotationsPerChapter = pd.DataFrame(quotationsPerChapter, index=range(0,88), columns=['Number of Quotations'])\n",
    "quotationsPerChapter['Chapter'] = range(0, 88)\n",
    "quotationsPerChapter"
   ]
  },
  {
   "cell_type": "code",
   "execution_count": null,
   "metadata": {},
   "outputs": [
    {
     "ename": "",
     "evalue": "",
     "output_type": "error",
     "traceback": [
      "\u001b[1;31mFailed to start the Kernel. \n",
      "\n",
      "\u001b[1;31mUnable to start Kernel 'base (Python 3.11.5)' due to a connection timeout. \n",
      "\n",
      "\u001b[1;31mView Jupyter <a href='command:jupyter.viewOutput'>log</a> for further details."
     ]
    }
   ],
   "source": [
    "alt.Chart(quotationsPerChapter).mark_circle().encode(x='Chapter:O', size='Number of Quotations:Q').properties(width=1000, height=150)"
   ]
  },
  {
   "cell_type": "code",
   "execution_count": null,
   "metadata": {},
   "outputs": [
    {
     "ename": "",
     "evalue": "",
     "output_type": "error",
     "traceback": [
      "\u001b[1;31mFailed to start the Kernel. \n",
      "\n",
      "\u001b[1;31mUnable to start Kernel 'base (Python 3.11.5)' due to a connection timeout. \n",
      "\n",
      "\u001b[1;31mView Jupyter <a href='command:jupyter.viewOutput'>log</a> for further details."
     ]
    }
   ],
   "source": [
    "alt.Chart(quotationsPerChapter).mark_circle().encode(x='Chapter:O', size=alt.Size('Number of Quotations:Q', scale=alt.Scale(range=[1, 1000]))).properties(width=1000, height=150)"
   ]
  },
  {
   "cell_type": "code",
   "execution_count": null,
   "metadata": {},
   "outputs": [
    {
     "ename": "",
     "evalue": "",
     "output_type": "error",
     "traceback": [
      "\u001b[1;31mFailed to start the Kernel. \n",
      "\n",
      "\u001b[1;31mUnable to start Kernel 'base (Python 3.11.5)' due to a connection timeout. \n",
      "\n",
      "\u001b[1;31mView Jupyter <a href='command:jupyter.viewOutput'>log</a> for further details."
     ]
    }
   ],
   "source": [
    "# Redo chart with horizontal labels\n",
    "alt.Chart(quotationsPerChapter).mark_circle().encode(x=alt.X('Chapter:Q', axis=alt.Axis(title=\"Chapter\", tickMinStep=5,\n",
    "                                       labelOverlap=False,labelAngle=0)), \n",
    "size=alt.Size('Number of Quotations:Q', scale=alt.Scale(range=[1, 1000]))).properties(width=1000,height=150).configure_legend(\n",
    "    titleFontSize=9,\n",
    "    labelFontSize=10\n",
    ")"
   ]
  },
  {
   "cell_type": "code",
   "execution_count": null,
   "metadata": {},
   "outputs": [
    {
     "ename": "",
     "evalue": "",
     "output_type": "error",
     "traceback": [
      "\u001b[1;31mFailed to start the Kernel. \n",
      "\n",
      "\u001b[1;31mUnable to start Kernel 'base (Python 3.11.5)' due to a connection timeout. \n",
      "\n",
      "\u001b[1;31mView Jupyter <a href='command:jupyter.viewOutput'>log</a> for further details."
     ]
    }
   ],
   "source": [
    "alt.Chart(quotationsPerChapter).mark_circle().encode(y='Chapter:O', size=alt.Size('Number of Quotations:Q', scale=alt.Scale(range=[1, 1000]))).properties(width=150)"
   ]
  },
  {
   "cell_type": "markdown",
   "metadata": {},
   "source": [
    "## Quotations Per Book"
   ]
  },
  {
   "cell_type": "code",
   "execution_count": null,
   "metadata": {},
   "outputs": [
    {
     "ename": "",
     "evalue": "",
     "output_type": "error",
     "traceback": [
      "\u001b[1;31mFailed to start the Kernel. \n",
      "\n",
      "\u001b[1;31mUnable to start Kernel 'base (Python 3.11.5)' due to a connection timeout. \n",
      "\n",
      "\u001b[1;31mView Jupyter <a href='command:jupyter.viewOutput'>log</a> for further details."
     ]
    }
   ],
   "source": [
    "quotationsPerBook = synchronicAnalysis(df, bins=bookLocations, useWordcounts=False)\n",
    "quotationsPerBook"
   ]
  },
  {
   "cell_type": "code",
   "execution_count": null,
   "metadata": {},
   "outputs": [
    {
     "ename": "",
     "evalue": "",
     "output_type": "error",
     "traceback": [
      "\u001b[1;31mFailed to start the Kernel. \n",
      "\n",
      "\u001b[1;31mUnable to start Kernel 'base (Python 3.11.5)' due to a connection timeout. \n",
      "\n",
      "\u001b[1;31mView Jupyter <a href='command:jupyter.viewOutput'>log</a> for further details."
     ]
    }
   ],
   "source": [
    "quotationsPerBook = pd.DataFrame(quotationsPerBook, index=range(1,9), columns=['Number of Quotations'])\n",
    "quotationsPerBook['Book'] = range(1, 9)\n",
    "quotationsPerBook"
   ]
  },
  {
   "cell_type": "code",
   "execution_count": null,
   "metadata": {},
   "outputs": [
    {
     "ename": "",
     "evalue": "",
     "output_type": "error",
     "traceback": [
      "\u001b[1;31mFailed to start the Kernel. \n",
      "\n",
      "\u001b[1;31mUnable to start Kernel 'base (Python 3.11.5)' due to a connection timeout. \n",
      "\n",
      "\u001b[1;31mView Jupyter <a href='command:jupyter.viewOutput'>log</a> for further details."
     ]
    }
   ],
   "source": [
    "alt.Chart(quotationsPerBook).mark_bar().encode(x='Book:O', y='Number of Quotations:Q').properties(width=500)"
   ]
  },
  {
   "cell_type": "code",
   "execution_count": null,
   "metadata": {},
   "outputs": [
    {
     "ename": "",
     "evalue": "",
     "output_type": "error",
     "traceback": [
      "\u001b[1;31mFailed to start the Kernel. \n",
      "\n",
      "\u001b[1;31mUnable to start Kernel 'base (Python 3.11.5)' due to a connection timeout. \n",
      "\n",
      "\u001b[1;31mView Jupyter <a href='command:jupyter.viewOutput'>log</a> for further details."
     ]
    }
   ],
   "source": [
    "alt.Chart(quotationsPerBook).mark_circle().encode(x='Book:O', size=alt.Size('Number of Quotations:Q')).properties(height=150).configure_legend(\n",
    "titleFontSize=9,\n",
    "labelFontSize=10\n",
    ") "
   ]
  },
  {
   "cell_type": "code",
   "execution_count": null,
   "metadata": {},
   "outputs": [
    {
     "ename": "",
     "evalue": "",
     "output_type": "error",
     "traceback": [
      "\u001b[1;31mFailed to start the Kernel. \n",
      "\n",
      "\u001b[1;31mUnable to start Kernel 'base (Python 3.11.5)' due to a connection timeout. \n",
      "\n",
      "\u001b[1;31mView Jupyter <a href='command:jupyter.viewOutput'>log</a> for further details."
     ]
    }
   ],
   "source": [
    "# Redo chart with horizontal labels\n",
    "alt.Chart(quotationsPerBook).mark_circle().encode(x=alt.X('Book:O', axis=alt.Axis(title=\"Book\", labelAngle=0,)), \n",
    "size=alt.Size('Number of Quotations:Q')).properties(height=150).configure_legend(\n",
    "    titleFontSize=9,\n",
    "    labelFontSize=10\n",
    ")"
   ]
  },
  {
   "cell_type": "markdown",
   "metadata": {},
   "source": [
    "## Raw Number of Quotations Per Chapter"
   ]
  },
  {
   "cell_type": "code",
   "execution_count": null,
   "metadata": {},
   "outputs": [
    {
     "ename": "",
     "evalue": "",
     "output_type": "error",
     "traceback": [
      "\u001b[1;31mFailed to start the Kernel. \n",
      "\n",
      "\u001b[1;31mUnable to start Kernel 'base (Python 3.11.5)' due to a connection timeout. \n",
      "\n",
      "\u001b[1;31mView Jupyter <a href='command:jupyter.viewOutput'>log</a> for further details."
     ]
    }
   ],
   "source": [
    "# Get the raw number of quotations per chapter\n",
    "# synchronicAnalysis(df, useWordcounts=False).to_csv('../papers/spring2017-middlemarch-paper/data/num-quotations-per-chapter.csv')"
   ]
  },
  {
   "cell_type": "code",
   "execution_count": null,
   "metadata": {},
   "outputs": [
    {
     "ename": "",
     "evalue": "",
     "output_type": "error",
     "traceback": [
      "\u001b[1;31mFailed to start the Kernel. \n",
      "\n",
      "\u001b[1;31mUnable to start Kernel 'base (Python 3.11.5)' due to a connection timeout. \n",
      "\n",
      "\u001b[1;31mView Jupyter <a href='command:jupyter.viewOutput'>log</a> for further details."
     ]
    }
   ],
   "source": [
    "# Adjusted for the number of words in each chapter\n",
    "ax = (synchronicAnalysis(df) / chapterLengthsSeries).plot(kind='bar')\n",
    "ax.set_xlabel('Chapter')\n",
    "ax.set_ylabel('Words Quoted, Normalized')"
   ]
  },
  {
   "cell_type": "code",
   "execution_count": null,
   "metadata": {},
   "outputs": [
    {
     "ename": "",
     "evalue": "",
     "output_type": "error",
     "traceback": [
      "\u001b[1;31mFailed to start the Kernel. \n",
      "\n",
      "\u001b[1;31mUnable to start Kernel 'base (Python 3.11.5)' due to a connection timeout. \n",
      "\n",
      "\u001b[1;31mView Jupyter <a href='command:jupyter.viewOutput'>log</a> for further details."
     ]
    }
   ],
   "source": [
    "plotDiachronicAnalysis(diachronicAnalysis(df, decades=(1950, 2020), bins=chapterLocations).sort_index())"
   ]
  },
  {
   "cell_type": "code",
   "execution_count": null,
   "metadata": {},
   "outputs": [
    {
     "ename": "",
     "evalue": "",
     "output_type": "error",
     "traceback": [
      "\u001b[1;31mFailed to start the Kernel. \n",
      "\n",
      "\u001b[1;31mUnable to start Kernel 'base (Python 3.11.5)' due to a connection timeout. \n",
      "\n",
      "\u001b[1;31mView Jupyter <a href='command:jupyter.viewOutput'>log</a> for further details."
     ]
    }
   ],
   "source": [
    "plotDiachronicAnalysis(diachronicAnalysis(df, decades=(1960, 2020), bins=chapterLocations).sort_index())"
   ]
  },
  {
   "cell_type": "code",
   "execution_count": null,
   "metadata": {},
   "outputs": [
    {
     "ename": "",
     "evalue": "",
     "output_type": "error",
     "traceback": [
      "\u001b[1;31mFailed to start the Kernel. \n",
      "\n",
      "\u001b[1;31mUnable to start Kernel 'base (Python 3.11.5)' due to a connection timeout. \n",
      "\n",
      "\u001b[1;31mView Jupyter <a href='command:jupyter.viewOutput'>log</a> for further details."
     ]
    }
   ],
   "source": [
    "# Create a one-dimensional heatmap of the synchonic raw number of quotations per chapter, as heatmap\n",
    "vec1=synchronicAnalysis(df, useWordcounts=False)\n",
    "fig, ax = plt.subplots()\n",
    "sns.color_palette(\"magma\")\n",
    "sns.heatmap([vec1])\n",
    "ax.set_xlabel('Chapter')\n",
    "ax.set_ylabel('Number of Quotations')"
   ]
  },
  {
   "cell_type": "code",
   "execution_count": null,
   "metadata": {},
   "outputs": [
    {
     "ename": "",
     "evalue": "",
     "output_type": "error",
     "traceback": [
      "\u001b[1;31mFailed to start the Kernel. \n",
      "\n",
      "\u001b[1;31mUnable to start Kernel 'base (Python 3.11.5)' due to a connection timeout. \n",
      "\n",
      "\u001b[1;31mView Jupyter <a href='command:jupyter.viewOutput'>log</a> for further details."
     ]
    }
   ],
   "source": [
    "# Create a one-dimensional heatmap of the synchonic raw number of quotations per chapter, as heatmap\n",
    "# INVERTED COLOR SCHEMA\n",
    "vec1=synchronicAnalysis(df, useWordcounts=False)\n",
    "fig, ax = plt.subplots()\n",
    "sns.heatmap([vec1], cmap = 'magma_r')\n",
    "ax.set_xlabel('Chapter')\n",
    "ax.set_ylabel('Number of Quotations')"
   ]
  },
  {
   "cell_type": "code",
   "execution_count": null,
   "metadata": {},
   "outputs": [
    {
     "ename": "",
     "evalue": "",
     "output_type": "error",
     "traceback": [
      "\u001b[1;31mFailed to start the Kernel. \n",
      "\n",
      "\u001b[1;31mUnable to start Kernel 'base (Python 3.11.5)' due to a connection timeout. \n",
      "\n",
      "\u001b[1;31mView Jupyter <a href='command:jupyter.viewOutput'>log</a> for further details."
     ]
    }
   ],
   "source": [
    "diaDF = diachronicAnalysis(df, decades=(1960, 2020), bins=chapterLocations).sort_index()"
   ]
  },
  {
   "cell_type": "code",
   "execution_count": null,
   "metadata": {},
   "outputs": [
    {
     "ename": "",
     "evalue": "",
     "output_type": "error",
     "traceback": [
      "\u001b[1;31mFailed to start the Kernel. \n",
      "\n",
      "\u001b[1;31mUnable to start Kernel 'base (Python 3.11.5)' due to a connection timeout. \n",
      "\n",
      "\u001b[1;31mView Jupyter <a href='command:jupyter.viewOutput'>log</a> for further details."
     ]
    }
   ],
   "source": [
    "diaDFquoteOnly = diachronicAnalysis(df, decades=(1960, 2020), bins=chapterLocations, useWordcounts=False, normalize=False).sort_index()"
   ]
  },
  {
   "cell_type": "code",
   "execution_count": null,
   "metadata": {},
   "outputs": [
    {
     "ename": "",
     "evalue": "",
     "output_type": "error",
     "traceback": [
      "\u001b[1;31mFailed to start the Kernel. \n",
      "\n",
      "\u001b[1;31mUnable to start Kernel 'base (Python 3.11.5)' due to a connection timeout. \n",
      "\n",
      "\u001b[1;31mView Jupyter <a href='command:jupyter.viewOutput'>log</a> for further details."
     ]
    }
   ],
   "source": [
    "plotDiachronicAnalysisBubble(diachronicAnalysis(df, decades=(1960, 2020), bins=chapterLocations).sort_index())"
   ]
  },
  {
   "cell_type": "code",
   "execution_count": null,
   "metadata": {},
   "outputs": [
    {
     "ename": "",
     "evalue": "",
     "output_type": "error",
     "traceback": [
      "\u001b[1;31mFailed to start the Kernel. \n",
      "\n",
      "\u001b[1;31mUnable to start Kernel 'base (Python 3.11.5)' due to a connection timeout. \n",
      "\n",
      "\u001b[1;31mView Jupyter <a href='command:jupyter.viewOutput'>log</a> for further details."
     ]
    }
   ],
   "source": [
    "synDF = synchronicAnalysis(df, useWordcounts=False)"
   ]
  },
  {
   "cell_type": "code",
   "execution_count": null,
   "metadata": {},
   "outputs": [
    {
     "ename": "",
     "evalue": "",
     "output_type": "error",
     "traceback": [
      "\u001b[1;31mFailed to start the Kernel. \n",
      "\n",
      "\u001b[1;31mUnable to start Kernel 'base (Python 3.11.5)' due to a connection timeout. \n",
      "\n",
      "\u001b[1;31mView Jupyter <a href='command:jupyter.viewOutput'>log</a> for further details."
     ]
    }
   ],
   "source": [
    "synDF.index.name = 'chapter'"
   ]
  },
  {
   "cell_type": "code",
   "execution_count": null,
   "metadata": {},
   "outputs": [
    {
     "ename": "",
     "evalue": "",
     "output_type": "error",
     "traceback": [
      "\u001b[1;31mFailed to start the Kernel. \n",
      "\n",
      "\u001b[1;31mUnable to start Kernel 'base (Python 3.11.5)' due to a connection timeout. \n",
      "\n",
      "\u001b[1;31mView Jupyter <a href='command:jupyter.viewOutput'>log</a> for further details."
     ]
    }
   ],
   "source": [
    "synDF"
   ]
  },
  {
   "cell_type": "markdown",
   "metadata": {},
   "source": [
    "# By Journal"
   ]
  },
  {
   "cell_type": "code",
   "execution_count": null,
   "metadata": {},
   "outputs": [
    {
     "ename": "",
     "evalue": "",
     "output_type": "error",
     "traceback": [
      "\u001b[1;31mFailed to start the Kernel. \n",
      "\n",
      "\u001b[1;31mUnable to start Kernel 'base (Python 3.11.5)' due to a connection timeout. \n",
      "\n",
      "\u001b[1;31mView Jupyter <a href='command:jupyter.viewOutput'>log</a> for further details."
     ]
    }
   ],
   "source": [
    "# Look at the top journals. \n",
    "journalStats = df['journal'].value_counts()\n",
    "journalStats[:10]"
   ]
  },
  {
   "cell_type": "code",
   "execution_count": null,
   "metadata": {},
   "outputs": [
    {
     "ename": "",
     "evalue": "",
     "output_type": "error",
     "traceback": [
      "\u001b[1;31mFailed to start the Kernel. \n",
      "\n",
      "\u001b[1;31mUnable to start Kernel 'base (Python 3.11.5)' due to a connection timeout. \n",
      "\n",
      "\u001b[1;31mView Jupyter <a href='command:jupyter.viewOutput'>log</a> for further details."
     ]
    }
   ],
   "source": [
    "journalList = journalStats.index"
   ]
  },
  {
   "cell_type": "markdown",
   "metadata": {},
   "source": [
    "Compare the specialist journal, \"George Eliot - George Henry Lewes Studies,\" with all other journals. "
   ]
  },
  {
   "cell_type": "code",
   "execution_count": null,
   "metadata": {},
   "outputs": [
    {
     "ename": "",
     "evalue": "",
     "output_type": "error",
     "traceback": [
      "\u001b[1;31mFailed to start the Kernel. \n",
      "\n",
      "\u001b[1;31mUnable to start Kernel 'base (Python 3.11.5)' due to a connection timeout. \n",
      "\n",
      "\u001b[1;31mView Jupyter <a href='command:jupyter.viewOutput'>log</a> for further details."
     ]
    }
   ],
   "source": [
    "geJournals = df.loc[df['journal'] == 'George Eliot - George Henry Lewes Studies']\n",
    "otherJournals = df.loc[df['journal'] != 'George Eliot - George Henry Lewes Studies']"
   ]
  },
  {
   "cell_type": "code",
   "execution_count": null,
   "metadata": {},
   "outputs": [
    {
     "ename": "",
     "evalue": "",
     "output_type": "error",
     "traceback": [
      "\u001b[1;31mFailed to start the Kernel. \n",
      "\n",
      "\u001b[1;31mUnable to start Kernel 'base (Python 3.11.5)' due to a connection timeout. \n",
      "\n",
      "\u001b[1;31mView Jupyter <a href='command:jupyter.viewOutput'>log</a> for further details."
     ]
    }
   ],
   "source": [
    "# Normalize\n",
    "geDF = synchronicAnalysis(geJournals)\n",
    "otherDF = synchronicAnalysis(otherJournals)\n",
    "normGE = geDF.div(geDF.max())\n",
    "normOther = otherDF.div(otherDF.max())"
   ]
  },
  {
   "cell_type": "code",
   "execution_count": null,
   "metadata": {},
   "outputs": [
    {
     "ename": "",
     "evalue": "",
     "output_type": "error",
     "traceback": [
      "\u001b[1;31mFailed to start the Kernel. \n",
      "\n",
      "\u001b[1;31mUnable to start Kernel 'base (Python 3.11.5)' due to a connection timeout. \n",
      "\n",
      "\u001b[1;31mView Jupyter <a href='command:jupyter.viewOutput'>log</a> for further details."
     ]
    }
   ],
   "source": [
    "fig = plt.figure()\n",
    "ax = (normGE - normOther).plot(kind='bar')\n",
    "fig.add_subplot(ax)\n",
    "ax.set_xlabel('Chapter')\n",
    "ax.set_ylabel('Specialization Index')\n",
    "# Save a big version for publication. \n",
    "fig.savefig('specialization.png', bboxinches='tight', dpi=300)"
   ]
  },
  {
   "cell_type": "code",
   "execution_count": null,
   "metadata": {},
   "outputs": [
    {
     "ename": "",
     "evalue": "",
     "output_type": "error",
     "traceback": [
      "\u001b[1;31mFailed to start the Kernel. \n",
      "\n",
      "\u001b[1;31mUnable to start Kernel 'base (Python 3.11.5)' due to a connection timeout. \n",
      "\n",
      "\u001b[1;31mView Jupyter <a href='command:jupyter.viewOutput'>log</a> for further details."
     ]
    }
   ],
   "source": [
    "journals = pd.DataFrame({title: synchronicAnalysis(df.loc[df['journal'] == title]) for title in journalList }).T"
   ]
  },
  {
   "cell_type": "code",
   "execution_count": null,
   "metadata": {},
   "outputs": [
    {
     "ename": "",
     "evalue": "",
     "output_type": "error",
     "traceback": [
      "\u001b[1;31mFailed to start the Kernel. \n",
      "\n",
      "\u001b[1;31mUnable to start Kernel 'base (Python 3.11.5)' due to a connection timeout. \n",
      "\n",
      "\u001b[1;31mView Jupyter <a href='command:jupyter.viewOutput'>log</a> for further details."
     ]
    }
   ],
   "source": [
    "cutoff = 1500\n",
    "topJournals = journals.loc[journals.sum(axis=1) > cutoff]\n",
    "otherJournals = journals.loc[journals.sum(axis=1) < cutoff]\n",
    "topJournals.loc['Other'] = otherJournals.sum()"
   ]
  },
  {
   "cell_type": "code",
   "execution_count": null,
   "metadata": {},
   "outputs": [
    {
     "ename": "",
     "evalue": "",
     "output_type": "error",
     "traceback": [
      "\u001b[1;31mFailed to start the Kernel. \n",
      "\n",
      "\u001b[1;31mUnable to start Kernel 'base (Python 3.11.5)' due to a connection timeout. \n",
      "\n",
      "\u001b[1;31mView Jupyter <a href='command:jupyter.viewOutput'>log</a> for further details."
     ]
    }
   ],
   "source": [
    "topJournals.T.plot(kind='bar', stacked=True, colormap='nipy_spectral')"
   ]
  },
  {
   "cell_type": "code",
   "execution_count": null,
   "metadata": {},
   "outputs": [
    {
     "ename": "",
     "evalue": "",
     "output_type": "error",
     "traceback": [
      "\u001b[1;31mFailed to start the Kernel. \n",
      "\n",
      "\u001b[1;31mUnable to start Kernel 'base (Python 3.11.5)' due to a connection timeout. \n",
      "\n",
      "\u001b[1;31mView Jupyter <a href='command:jupyter.viewOutput'>log</a> for further details."
     ]
    }
   ],
   "source": [
    "ax = topJournals.T.plot(kind='bar', stacked=True, colormap='nipy_spectral')\n",
    "fig = ax.get_figure()\n",
    "fig.savefig('synchronic-journals.png', bboxinches='tight', dpi=300)"
   ]
  },
  {
   "cell_type": "code",
   "execution_count": null,
   "metadata": {},
   "outputs": [
    {
     "ename": "",
     "evalue": "",
     "output_type": "error",
     "traceback": [
      "\u001b[1;31mFailed to start the Kernel. \n",
      "\n",
      "\u001b[1;31mUnable to start Kernel 'base (Python 3.11.5)' due to a connection timeout. \n",
      "\n",
      "\u001b[1;31mView Jupyter <a href='command:jupyter.viewOutput'>log</a> for further details."
     ]
    }
   ],
   "source": [
    "# Print the total number of journals\n",
    "len(journalStats)"
   ]
  }
 ],
 "metadata": {
  "kernelspec": {
   "display_name": "Python 3 (ipykernel)",
   "language": "python",
   "name": "python3"
  },
  "language_info": {
   "codemirror_mode": {
    "name": "ipython",
    "version": 3
   },
   "file_extension": ".py",
   "mimetype": "text/x-python",
   "name": "python",
   "nbconvert_exporter": "python",
   "pygments_lexer": "ipython3",
   "version": "3.12.3"
  },
  "vscode": {
   "interpreter": {
    "hash": "40d3a090f54c6569ab1632332b64b2c03c39dcf918b08424e98f38b5ae0af88f"
   }
  }
 },
 "nbformat": 4,
 "nbformat_minor": 4
}
