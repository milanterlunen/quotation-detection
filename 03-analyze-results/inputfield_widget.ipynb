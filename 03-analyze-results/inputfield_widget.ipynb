{
 "cells": [
  {
   "cell_type": "code",
   "execution_count": 24,
   "metadata": {},
   "outputs": [
    {
     "data": {
      "application/vnd.jupyter.widget-view+json": {
       "model_id": "f1136aaacdf745f2bd471c15e723d050",
       "version_major": 2,
       "version_minor": 0
      },
      "text/plain": [
       "VBox(children=(HTML(value='<input type=\"text\" id=\"myInput\" placeholder=\"Enter text...\">'), Button(description=…"
      ]
     },
     "metadata": {},
     "output_type": "display_data"
    },
    {
     "data": {
      "application/vnd.jupyter.widget-view+json": {
       "model_id": "f1136aaacdf745f2bd471c15e723d050",
       "version_major": 2,
       "version_minor": 0
      },
      "text/plain": [
       "VBox(children=(HTML(value='<input type=\"text\" id=\"myInput\" placeholder=\"Enter text...\">'), Button(description=…"
      ]
     },
     "metadata": {},
     "output_type": "display_data"
    },
    {
     "data": {
      "text/html": [
       "\n",
       "<!DOCTYPE html>\n",
       "<html>\n",
       "<head>\n",
       "    <title>Input Panel</title>\n",
       "</head>\n",
       "<body>\n",
       "    <div>\n",
       "        <input type=\"text\" id=\"myInput\" placeholder=\"Enter text...\">\n",
       "        <button onclick=\"commit()\">Confirm</button>\n",
       "    </div>\n",
       "</body>\n",
       "</html>\n"
      ],
      "text/plain": [
       "<IPython.core.display.HTML object>"
      ]
     },
     "metadata": {},
     "output_type": "display_data"
    }
   ],
   "source": [
    "import ipywidgets as widgets\n",
    "from IPython.display import display\n",
    "from IPython.display import display, HTML\n",
    "\n",
    "# Create the input widget\n",
    "# Create the HTML input widget\n",
    "html_input = widgets.HTML('<input type=\"text\" id=\"myInput\" placeholder=\"Enter text...\">')\n",
    "# Specify the file path\n",
    "\n",
    "# Create the commit button\n",
    "commit_button = widgets.Button(description='Confirm')\n",
    "# Define a function to handle the button click event\n",
    "def on_commit_button_clicked(button):\n",
    "    # Add your commit logic here\n",
    "    print('Commit button clicked!')\n",
    "\n",
    "# Register the function to handle the button click event\n",
    "\n",
    "commit_button.on_click(on_commit_button_clicked)\n",
    "\n",
    "panel=widgets.VBox([html_input,commit_button])\n",
    "# Display the panel\n",
    "display(panel)\n",
    "\n",
    "#html_code = widgets.HTML(value=panel.value)\n",
    "file_path = 'C:\\\\Users\\\\bdt\\\\Documents\\\\input_widget_01.html'\n",
    "# Create the HTML code for the panel\n",
    "html_code = '''\n",
    "<!DOCTYPE html>\n",
    "<html>\n",
    "<head>\n",
    "    <title>Input Panel</title>\n",
    "</head>\n",
    "<body>\n",
    "    <div>\n",
    "        <input type=\"text\" id=\"myInput\" placeholder=\"Enter text...\">\n",
    "        <button onclick=\"commit()\">Confirm</button>\n",
    "    </div>\n",
    "</body>\n",
    "</html>\n",
    "'''\n",
    "\n",
    "# Display the HTML code\n",
    "display(HTML(html_code))\n",
    "\n",
    "# Save the HTML as a file\n",
    "with open(file_path, 'w') as file:\n",
    "    file.write(html_code)\n",
    "\n"
   ]
  },
  {
   "cell_type": "code",
   "execution_count": null,
   "metadata": {},
   "outputs": [],
   "source": []
  },
  {
   "cell_type": "code",
   "execution_count": null,
   "metadata": {},
   "outputs": [],
   "source": []
  }
 ],
 "metadata": {
  "kernelspec": {
   "display_name": "Python 3",
   "language": "python",
   "name": "python3"
  },
  "language_info": {
   "codemirror_mode": {
    "name": "ipython",
    "version": 3
   },
   "file_extension": ".py",
   "mimetype": "text/x-python",
   "name": "python",
   "nbconvert_exporter": "python",
   "pygments_lexer": "ipython3",
   "version": "3.12.3"
  }
 },
 "nbformat": 4,
 "nbformat_minor": 2
}
