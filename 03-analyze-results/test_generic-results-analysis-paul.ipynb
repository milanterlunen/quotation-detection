import unittest
import matplotlib.pyplot as plt2
from mpl_toolkits.mplot3d import Axes3D

class TestFigure(unittest.TestCase):
    def test_axes3d_attached(self):
        fig = plt2.figure()
        ax = fig.add_subplot(111, projection='3d')
        self.assertTrue(isinstance(ax, Axes3D))
        self.assertEqual(len(fig.axes), 1)

if __name__ == '__main__':
    unittest.main()