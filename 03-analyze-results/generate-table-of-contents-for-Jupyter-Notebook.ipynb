{
 "cells": [
  {
   "cell_type": "markdown",
   "id": "a5083acc",
   "metadata": {},
   "source": [
    "# Generate Table of Contents for a Jupyter Notebook\n",
    "\n",
    "This notebook generates a table of contents for a specified Notebook in hyperlinked markdown format, that can be pasted at the top of the Notebook for easier navigation. "
   ]
  },
  {
   "cell_type": "code",
   "execution_count": 87,
   "id": "7f4a2d94",
   "metadata": {},
   "outputs": [],
   "source": [
    "# Import needed libraries\n",
    "import json\n",
    "import os\n",
    "import re\n",
    "from itertools import chain\n",
    "\n",
    "sep = os.path.sep"
   ]
  },
  {
   "cell_type": "code",
   "execution_count": 88,
   "id": "92c47e03",
   "metadata": {},
   "outputs": [],
   "source": [
    "# ACTION: specify Notebook\n",
    "\n",
    "inputNotebook = \"generic-results-analysis.ipynb\""
   ]
  },
  {
   "cell_type": "code",
   "execution_count": 89,
   "id": "bdfd6637",
   "metadata": {},
   "outputs": [
    {
     "name": "stdout",
     "output_type": "stream",
     "text": [
      "Loading generic-results-analysis.ipynb, found 56 MD cells.\n"
     ]
    }
   ],
   "source": [
    "# Extract markdown from Notebook\n",
    "\n",
    "with open(inputNotebook) as f:\n",
    "    json_dict = json.load(f)\n",
    "\n",
    "src_list = []\n",
    "\n",
    "for cell in json_dict[\"cells\"]:\n",
    "    if cell[\"cell_type\"] == \"markdown\":\n",
    "        src_list.append(cell[\"source\"])\n",
    "\n",
    "print(\"Loading {}, found {} MD cells.\"\n",
    "      .format(inputNotebook.split(sep)[-1], len(src_list)))\n",
    "\n",
    "markdownCells = list(chain.from_iterable(src_list))"
   ]
  },
  {
   "cell_type": "code",
   "execution_count": 90,
   "id": "b45f086d",
   "metadata": {},
   "outputs": [
    {
     "name": "stdout",
     "output_type": "stream",
     "text": [
      "Found 50 markdown headers\n"
     ]
    }
   ],
   "source": [
    "# Extract heading data\n",
    "\n",
    "output = list()\n",
    "is_code = False\n",
    "for line in markdownCells:\n",
    "    # ignore code block in MarkDown\n",
    "    if line[:3] == \"```\":\n",
    "        is_code = not(is_code)\n",
    "    if line[0] == \"#\" and not(is_code) and line != \"\\n\":\n",
    "        output.append(line)\n",
    "\n",
    "print(\"Found {} markdown headers\".format(len(output)))\n",
    "\n",
    "markdownHeaders = output"
   ]
  },
  {
   "cell_type": "code",
   "execution_count": 92,
   "id": "8e87f90f",
   "metadata": {},
   "outputs": [],
   "source": [
    "# Regex operations to create TOC with links and indentation\n",
    "\n",
    "tocText = \"\"\n",
    "\n",
    "for line in markdownHeaders:\n",
    "    line = line.rstrip().replace(\"\\t\", \"\")\n",
    "    # Calculate indentations for each line (number of # signs -1)\n",
    "    indent = len(re.findall(\"#\", line))-1\n",
    "    # Remove markdown headers (# signs) and initial space from each line\n",
    "    line = re.sub(r\"#+ \", r\"\", line)\n",
    "    # Generate a Markdown-compatible hyperlink with hyphens instead of spaces\n",
    "    hyperlink = re.sub(r\" \", r\"-\", line)\n",
    "    # Put it all together\n",
    "    line = \"\\t\" * indent + f\"- [{line}]\" + f\"(#{hyperlink})\"\n",
    "    if line != \"\":\n",
    "        tocText += line + \"\\n\""
   ]
  },
  {
   "cell_type": "code",
   "execution_count": 93,
   "id": "9890b6ee",
   "metadata": {},
   "outputs": [
    {
     "name": "stdout",
     "output_type": "stream",
     "text": [
      "- [Analysis of Quotation Data Generated from JSTOR Dataset](#Analysis-of-Quotation-Data-Generated-from-JSTOR-Dataset)\n",
      "- [Table of contents](#Table-of-contents)\n",
      "- [Terminology](#Terminology)\n",
      "- [Initial setup](#Initial-setup)\n",
      "- [Basic information about results](#Basic-information-about-results)\n",
      "- [Information about historical range](#Information-about-historical-range)\n",
      "- [Questions about distribution of quotations across source text](#Questions-about-distribution-of-quotations-across-source-text)\n",
      "\t- [How many items have quoted from each chunk of the text?](#How-many-items-have-quoted-from-each-chunk-of-the-text?)\n",
      "\t- [How many quotations were detected from each chunk of the text?](#How-many-quotations-were-detected-from-each-chunk-of-the-text?)\n",
      "\t- [How many quoted words were detected from each chunk of the text?](#How-many-quoted-words-were-detected-from-each-chunk-of-the-text?)\n",
      "\t- [How does the number of items quoting each chunk change over the decades?](#How-does-the-number-of-items-quoting-each-chunk-change-over-the-decades?)\n",
      "\t- [How does the number of quotations from each chunk change over the decades?](#How-does-the-number-of-quotations-from-each-chunk-change-over-the-decades?)\n",
      "\t- [How does the number of words quoted from each chunk change over the decades?](#How-does-the-number-of-words-quoted-from-each-chunk-change-over-the-decades?)\n",
      "- [Questions about frequently quoted passages](#Questions-about-frequently-quoted-passages)\n",
      "\t- [What are the most frequently quoted passages in the text?](#What-are-the-most-frequently-quoted-passages-in-the-text?)\n",
      "\t- [Which frequently-quoted passages have been most consistently quoted over time?](#Which-frequently-quoted-passages-have-been-most-consistently-quoted-over-time?)\n",
      "\t- [Which frequently-quoted passages have undergone the largest change over time?](#Which-frequently-quoted-passages-have-undergone-the-largest-change-over-time?)\n",
      "\t- [Which passages have increased or decreased the most in the last decade (2010s)?](#Which-passages-have-increased-or-decreased-the-most-in-the-last-decade-(2010s)?)\n",
      "- [Questions about a specific passage](#Questions-about-a-specific-passage)\n",
      "\t- [What is the most frequently quoted portion of this passage?](#What-is-the-most-frequently-quoted-portion-of-this-passage?)\n",
      "\t- [How has the quotation frequency for this passage changed over time?](#How-has-the-quotation-frequency-for-this-passage-changed-over-time?)\n",
      "\t- [What are the items quoting from this passage?](#What-are-the-items-quoting-from-this-passage?)\n",
      "- [Questions about text quoted](#Questions-about-text-quoted)\n",
      "\t- [What is the distribution of word counts for the quotations detected?](#What-is-the-distribution-of-word-counts-for-the-quotations-detected?)\n",
      "\t- [What are the most frequent words across all quoted passages?](#What-are-the-most-frequent-words-across-all-quoted-passages?)\n",
      "\t- [What are the most distinctive keywords for quoted passages compared to the rest of the text?](#What-are-the-most-distinctive-keywords-for-quoted-passages-compared-to-the-rest-of-the-text?)\n",
      "- [Question about academic journals](#Question-about-academic-journals)\n",
      "\t- [Which journals account for the largest number of items in the dataset?](#Which-journals-account-for-the-largest-number-of-items-in-the-dataset?)\n",
      "\t- [Which journals account for the largest number of quotations detected?](#Which-journals-account-for-the-largest-number-of-quotations-detected?)\n",
      "\t- [Which journals account for the largest number of words quoted?](#Which-journals-account-for-the-largest-number-of-words-quoted?)\n",
      "\t- [How have the top journals changed over the decades?](#How-have-the-top-journals-changed-over-the-decades?)\n",
      "\t- [What disciplinary affiliations do the journals have based on JSTOR metadata?](#What-disciplinary-affiliations-do-the-journals-have-based-on-JSTOR-metadata?)\n",
      "\t- [What disciplinary affiliations do the journals have based on keywords in titles?](#What-disciplinary-affiliations-do-the-journals-have-based-on-keywords-in-titles?)\n",
      "\t- [How do journals with a specified disciplinary affiliation relate to the rest of the results?](#How-do-journals-with-a-specified-disciplinary-affiliation-relate-to-the-rest-of-the-results?)\n",
      "\t- [How do journals from a specified list of titles relate to the rest of the results?](#How-do-journals-from-a-specified-list-of-titles-relate-to-the-rest-of-the-results?)\n",
      "\t- [What are the most distinctive keywords in quotations from specified journals compared to the rest of the corpus?](#What-are-the-most-distinctive-keywords-in-quotations-from-specified-journals-compared-to-the-rest-of-the-corpus?)\n",
      "- [Questions about change over time](#Questions-about-change-over-time)\n",
      "- [Code from previous version of Notebook starts below](#Code-from-previous-version-of-Notebook-starts-below)\n",
      "\t- [How many articles do we have published in each year?](#How-many-articles-do-we-have-published-in-each-year?)\n",
      "- [Find all articles quoting a given range](#Find-all-articles-quoting-a-given-range)\n",
      "- [Divide text into chunks](#Divide-text-into-chunks)\n",
      "- [Average Numbers of Quoted Words Per Item](#Average-Numbers-of-Quoted-Words-Per-Item)\n",
      "\t- [Stats about Wordcounts](#Stats-about-Wordcounts)\n",
      "\t\t\t- [Functions for extracting wordcounts, numbers of quotations for diachronic and synchronic analysis](#Functions-for-extracting-wordcounts,-numbers-of-quotations-for-diachronic-and-synchronic-analysis)\n",
      "- [Quotation Length Statistics](#Quotation-Length-Statistics)\n",
      "- [Number of Quotes (and words Quoted) by Chapter](#Number-of-Quotes-(and-words-Quoted)-by-Chapter)\n",
      "\t\t- [Total number of matches](#Total-number-of-matches)\n",
      "\t- [Quotations Per Book](#Quotations-Per-Book)\n",
      "\t- [Raw Number of Quotations Per Chapter](#Raw-Number-of-Quotations-Per-Chapter)\n",
      "- [By Journal](#By-Journal)\n",
      "\n"
     ]
    }
   ],
   "source": [
    "# Output the TOC - note: you may want to delete the first few entries up to the TOC itself\n",
    "\n",
    "print(tocText)"
   ]
  },
  {
   "cell_type": "code",
   "execution_count": null,
   "id": "9fd75dd2",
   "metadata": {},
   "outputs": [],
   "source": []
  }
 ],
 "metadata": {
  "kernelspec": {
   "display_name": "Python 3 (ipykernel)",
   "language": "python",
   "name": "python3"
  },
  "language_info": {
   "codemirror_mode": {
    "name": "ipython",
    "version": 3
   },
   "file_extension": ".py",
   "mimetype": "text/x-python",
   "name": "python",
   "nbconvert_exporter": "python",
   "pygments_lexer": "ipython3",
   "version": "3.10.9"
  }
 },
 "nbformat": 4,
 "nbformat_minor": 5
}
