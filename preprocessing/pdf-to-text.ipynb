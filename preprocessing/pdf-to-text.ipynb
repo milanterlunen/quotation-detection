{
 "cells": [
  {
   "cell_type": "markdown",
   "metadata": {},
   "source": [
    "# PDF to Text with Page Number Detection\n",
    "\n",
    "**Recommended to run notebook in browser using Jupyter Notebook since user input functionality works better there.**\n",
    "\n",
    "This notebook:\n",
    "\n",
    "- converts a PDF to a text file\n",
    "- detects page numbers printed in each page's header or footer\n",
    "- inserts both PDF page number and printed page number (where found) at each page break in the text file\n",
    "\n",
    "If multiple potential page numbers are detected, the user will be asked to confirm which of the page numbers is correct. The printed page numbers and the indexed page numbers are added after each page's text in the text file in the following format: \n",
    "\n",
    "\\~printed_page_number:[NUM HERE]\\~ \n",
    "\n",
    "\\~indexed_page_number:[NUM HERE]\\~\n",
    "\n",
    "The PDFs are converted to text using this package: https://github.com/jsvine/pdfplumber#extracting-text. Follow the installation instructions before running this notebook. If you're running jupyter notebook in your browser, just run the cell below to install packages."
   ]
  },
  {
   "cell_type": "code",
   "execution_count": 4,
   "metadata": {},
   "outputs": [
    {
     "name": "stdout",
     "output_type": "stream",
     "text": [
      "\u001b[31mERROR: Could not find a version that satisfies the requirement re (from versions: none)\u001b[0m\u001b[31m\n",
      "\u001b[0m\u001b[31mERROR: No matching distribution found for re\u001b[0m\u001b[31m\n",
      "\u001b[0mRequirement already satisfied: pdfplumber in /Users/milan/anaconda3/lib/python3.10/site-packages (0.9.0)\n",
      "Requirement already satisfied: Pillow>=9.1 in /Users/milan/anaconda3/lib/python3.10/site-packages (from pdfplumber) (9.4.0)\n",
      "Requirement already satisfied: Wand>=0.6.10 in /Users/milan/anaconda3/lib/python3.10/site-packages (from pdfplumber) (0.6.11)\n",
      "Requirement already satisfied: pdfminer.six==20221105 in /Users/milan/anaconda3/lib/python3.10/site-packages (from pdfplumber) (20221105)\n",
      "Requirement already satisfied: charset-normalizer>=2.0.0 in /Users/milan/anaconda3/lib/python3.10/site-packages (from pdfminer.six==20221105->pdfplumber) (2.0.4)\n",
      "Requirement already satisfied: cryptography>=36.0.0 in /Users/milan/anaconda3/lib/python3.10/site-packages (from pdfminer.six==20221105->pdfplumber) (39.0.1)\n",
      "Requirement already satisfied: cffi>=1.12 in /Users/milan/anaconda3/lib/python3.10/site-packages (from cryptography>=36.0.0->pdfminer.six==20221105->pdfplumber) (1.15.1)\n",
      "Requirement already satisfied: pycparser in /Users/milan/anaconda3/lib/python3.10/site-packages (from cffi>=1.12->cryptography>=36.0.0->pdfminer.six==20221105->pdfplumber) (2.21)\n"
     ]
    }
   ],
   "source": [
    "# run this cell to install packages if you're running jupyter notebook in browser \n",
    "import sys\n",
    "!{sys.executable} -m pip install re\n",
    "!{sys.executable} -m pip install pdfplumber\n",
    "import re \n",
    "import pdfplumber"
   ]
  },
  {
   "cell_type": "code",
   "execution_count": 8,
   "metadata": {},
   "outputs": [
    {
     "name": "stdout",
     "output_type": "stream",
     "text": [
      "Said_1979_Orientalism\n"
     ]
    }
   ],
   "source": [
    "# input the filename of the PDF you want to convert here (for now make sure it's in the same folder as this notebook)\n",
    "\n",
    "filepath = \"/Users/milan/Library/CloudStorage/GoogleDrive-mtt2126@columbia.edu/My Drive/iAnnotate/MIT/Quotable Content/Data/Said_1979_Orientalism\"\n",
    "PDFname = \"Said_1979_Orientalism.pdf\"\n",
    "\n",
    "# produces project name for giving output correct filename\n",
    "\n",
    "textname = PDFname.replace('.pdf', '')\n",
    "print(textname)\n"
   ]
  },
  {
   "cell_type": "code",
   "execution_count": 9,
   "metadata": {},
   "outputs": [
    {
     "name": "stdout",
     "output_type": "stream",
     "text": [
      "\n",
      "2 potential page numbers were found for this page.\n",
      "['42', 'I']\n",
      "Check PDF page 51 for the correct page number and enter it below. If the page has no printed page number, do not input anything.\n",
      "42\n",
      "42\n",
      "\n",
      "2 potential page numbers were found for this page.\n",
      "['44', 'l']\n",
      "Check PDF page 53 for the correct page number and enter it below. If the page has no printed page number, do not input anything.\n",
      "44\n",
      "44\n",
      "\n",
      "2 potential page numbers were found for this page.\n",
      "['100', 'i']\n",
      "Check PDF page 109 for the correct page number and enter it below. If the page has no printed page number, do not input anything.\n",
      "100\n",
      "100\n",
      "\n",
      "2 potential page numbers were found for this page.\n",
      "['152', 'l']\n",
      "Check PDF page 161 for the correct page number and enter it below. If the page has no printed page number, do not input anything.\n",
      "152\n",
      "152\n",
      "\n",
      "2 potential page numbers were found for this page.\n",
      "['176', 'I']\n",
      "Check PDF page 185 for the correct page number and enter it below. If the page has no printed page number, do not input anything.\n",
      "176\n",
      "176\n",
      "\n",
      "2 potential page numbers were found for this page.\n",
      "['214', '1']\n",
      "Check PDF page 223 for the correct page number and enter it below. If the page has no printed page number, do not input anything.\n",
      "214\n",
      "214\n",
      "\n",
      "2 potential page numbers were found for this page.\n",
      "['224', 'II']\n",
      "Check PDF page 233 for the correct page number and enter it below. If the page has no printed page number, do not input anything.\n",
      "224\n",
      "224\n",
      "\n",
      "2 potential page numbers were found for this page.\n",
      "['i', 'I']\n",
      "Check PDF page 299 for the correct page number and enter it below. If the page has no printed page number, do not input anything.\n",
      "290\n",
      "290\n"
     ]
    }
   ],
   "source": [
    "full_pdf_text = \"\"\n",
    "\n",
    "with pdfplumber.open(f\"{filepath}/{PDFname}\") as pdf:\n",
    "    for i in range(len(pdf.pages)):\n",
    "        full_page = pdf.pages[i].extract_text()\n",
    "\n",
    "        first_line = full_page.split(\"\\n\")[0] # where page numbers at the top of the page are likely to be found\n",
    "        last_line = full_page.split(\"\\n\")[-1] # where page numbers at the bottom of the page are likely to be found\n",
    "        full_pdf_text += full_page\n",
    "\n",
    "        if len(full_page) != 0:\n",
    "            top_left_page_matches = re.findall(\"^([xXvViIlL]+|\\d{1,3})\\s\", first_line)\n",
    "            top_right_page_matches = re.findall(\"\\s([xXvViIlL]+|\\d{1,3})$\", first_line)\n",
    "            bottom_page_matches = re.findall(\"^([xXvViIlL]+|\\d{1,3})$\", last_line)\n",
    "            \n",
    "            all_matches = []\n",
    "            if top_left_page_matches:\n",
    "                all_matches.append(top_left_page_matches[0].strip())\n",
    "            if top_right_page_matches:\n",
    "                all_matches.append(top_right_page_matches[-1].strip())\n",
    "            if bottom_page_matches:\n",
    "                all_matches.append(bottom_page_matches[-1].strip())\n",
    "                \n",
    "            if len(all_matches) > 0:\n",
    "                if len(all_matches) > 1: # more than one potential page number \n",
    "                    print(f'\\n{len(all_matches)} potential page numbers were found for this page.')\n",
    "                    print(all_matches)\n",
    "                    print(f'Check PDF page {i+1} for the correct page number and enter it below. If the page has no printed page number, do not input anything.')\n",
    "                    correct_page_number = input()\n",
    "                    print(correct_page_number)\n",
    "                    if len(correct_page_number.strip()) != 0:\n",
    "                        printed_page_number = correct_page_number.strip()\n",
    "                    else:\n",
    "                        printed_page_number = None\n",
    "                else:\n",
    "                    printed_page_number = all_matches[0]\n",
    "\n",
    "                if printed_page_number is not None: \n",
    "                    full_pdf_text += f'\\n\\n~printed_page_number:{printed_page_number}~'\n",
    "                \n",
    "        full_pdf_text += f'\\n~indexed_page_number:{i+1}~\\n\\n'\n",
    "\n",
    "# save output as a plain text file     \n",
    "with open(f\"{filepath}/{textname}_plaintext.txt\", \"w\", encoding=\"utf-8\") as text_file:\n",
    "    text_file.write(full_pdf_text)\n"
   ]
  },
  {
   "cell_type": "markdown",
   "metadata": {},
   "source": [
    "# Note\n",
    "\n",
    "The output currently saves to the preprocessing subfolder of the Github repo. Since this is copyrighted material, you should not keep either the PDF or text file in this folder, but move both back to our private shared Google Drive folder. Eventually someone should revise the code to do this automatically."
   ]
  }
 ],
 "metadata": {
  "kernelspec": {
   "display_name": "Python 3 (ipykernel)",
   "language": "python",
   "name": "python3"
  },
  "language_info": {
   "codemirror_mode": {
    "name": "ipython",
    "version": 3
   },
   "file_extension": ".py",
   "mimetype": "text/x-python",
   "name": "python",
   "nbconvert_exporter": "python",
   "pygments_lexer": "ipython3",
   "version": "3.10.9"
  },
  "vscode": {
   "interpreter": {
    "hash": "aee8b7b246df8f9039afb4144a1f6fd8d2ca17a180786b69acc140d282b71a49"
   }
  }
 },
 "nbformat": 4,
 "nbformat_minor": 2
}
