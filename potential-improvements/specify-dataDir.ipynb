{
 "cells": [
  {
   "cell_type": "markdown",
   "id": "c32449d3",
   "metadata": {},
   "source": [
    "# Code to easily specify dataDir\n",
    "\n",
    "This Notebook contains partial code written by Paul in July 2024 for specifying the dataDir in a user-friendly way."
   ]
  },
  {
   "cell_type": "code",
   "execution_count": null,
   "id": "5e4dd487",
   "metadata": {},
   "outputs": [],
   "source": [
    "# defines a function to write the path to the data directory to a file outside the Github repository\n",
    "# which is unique for the user environment\n",
    "\n",
    "def write_path_dataDir(pathDataDir):\n",
    "    strPathDataDir= str(pathDataDir)\n",
    "    print( strPathDataDir)\n",
    "    pathDatatDirLocator = os.path.join(Path.cwd().parents[3], \"quotatation_detection_dataDir_Locator\")\n",
    "    print(pathDatatDirLocator )\n",
    "    os.makedirs(pathDatatDirLocator,exist_ok = True)\n",
    "\n",
    "    pathDataDirLocator = os.path.join(pathDatatDirLocator, 'dataDirLocator.csv')\n",
    "\n",
    "    with open(pathDataDirLocator, 'w') as file:\n",
    "        file.write(strPathDataDir)\n",
    "    return"
   ]
  },
  {
   "cell_type": "code",
   "execution_count": null,
   "id": "48318e9a",
   "metadata": {},
   "outputs": [],
   "source": [
    "# test the function write_path_dataDir \n",
    "\n",
    "print(f'pathDataDir: {pathDataDir}')\n",
    "write_path_dataDir(pathDataDir)"
   ]
  },
  {
   "cell_type": "code",
   "execution_count": null,
   "id": "a4f5ae09",
   "metadata": {},
   "outputs": [],
   "source": [
    "def read_path_dataDir():\n",
    "    pathDataDirLocator = os.path.join(Path.cwd().parents[3], \"quotation_detection_dataDir_Locator\")\n",
    "    pathDataDirLocatorFile = os.path.join(pathDataDirLocator, 'dataDirLocator.csv')\n",
    "    print(pathDataDirLocatorFile)\n",
    "\n",
    "    if not os.path.exists(pathDataDirLocatorFile):\n",
    "        return \"test\"\n",
    "    else:\n",
    "        with open(pathDataDirLocatorFile, 'r') as file:\n",
    "            pathDataDir = Path(file.read())\n",
    "        return pathDataDir\n",
    "\n"
   ]
  },
  {
   "cell_type": "code",
   "execution_count": null,
   "id": "3627b531",
   "metadata": {},
   "outputs": [],
   "source": [
    "pathDataDir = read_path_dataDir()\n",
    "strPathDataDir= str(pathDataDir)\n",
    "print(f\"pathDataDir: {pathDataDir}\")\n"
   ]
  },
  {
   "cell_type": "code",
   "execution_count": null,
   "id": "36022d59",
   "metadata": {},
   "outputs": [],
   "source": [
    "# pathDataDir is the path to the data directory, \n",
    "# Its strng value is read outside the Github repository and stored in a file\n",
    "#If this file is not existing, the user is prompted to select the data directory\n",
    "\n",
    "pathDataDir = read_path_dataDir()\n",
    "print(pathDataDir)\n",
    "if pathDataDir == \"test\":\n",
    "    pathDataDir = open_folder_dialog(Path.cwd().parents[3]) \n"
   ]
  }
 ],
 "metadata": {
  "kernelspec": {
   "display_name": "Python 3 (ipykernel)",
   "language": "python",
   "name": "python3"
  },
  "language_info": {
   "codemirror_mode": {
    "name": "ipython",
    "version": 3
   },
   "file_extension": ".py",
   "mimetype": "text/x-python",
   "name": "python",
   "nbconvert_exporter": "python",
   "pygments_lexer": "ipython3",
   "version": "3.10.9"
  }
 },
 "nbformat": 4,
 "nbformat_minor": 5
}
