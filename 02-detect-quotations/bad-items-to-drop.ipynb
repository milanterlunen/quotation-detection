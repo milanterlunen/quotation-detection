{
 "cells": [
  {
   "cell_type": "markdown",
   "id": "d17db21a",
   "metadata": {},
   "source": [
    "# Bad items\n",
    "\n",
    "This notebook contains code for dropping bad items in specific datasets that cause matcher to halt with an error.\n",
    "\n",
    "Copy the relevant code into the \"detect-quotations\" notebook and run it immediately *before* running matcher."
   ]
  },
  {
   "cell_type": "code",
   "execution_count": null,
   "id": "4130a182",
   "metadata": {},
   "outputs": [],
   "source": [
    "# Silvia Federici, Caliban and the Witch corpus\n",
    "\n",
    "# Note: might still need to +1 for each successive item in the sequence:\n",
    "\n",
    "badItems = [268, 392, 1166, 1648, 2287, 2478, 3201, 3399, 3608, 3732, 4764, 4773, 5361, 6349, 6353, 7193, 7766, 8757, 8841, 9024]"
   ]
  },
  {
   "cell_type": "code",
   "execution_count": null,
   "id": "a4d80226",
   "metadata": {},
   "outputs": [],
   "source": [
    "# Dickens corpus\n",
    "\n",
    "badItems = [21148]"
   ]
  },
  {
   "cell_type": "code",
   "execution_count": null,
   "id": "4a67eb77",
   "metadata": {},
   "outputs": [],
   "source": [
    "badItemCounter = 0\n",
    "\n",
    "for item in badItems:\n",
    "    badItemCounter = badItemCounter +1\n",
    "    del data[item]\n",
    "    print(f\"Item number deleted: {item}\")\n",
    "    \n",
    "print(f\"Total number of items deleted: {badItemCounter}\")"
   ]
  }
 ],
 "metadata": {
  "kernelspec": {
   "display_name": "Python 3 (ipykernel)",
   "language": "python",
   "name": "python3"
  },
  "language_info": {
   "codemirror_mode": {
    "name": "ipython",
    "version": 3
   },
   "file_extension": ".py",
   "mimetype": "text/x-python",
   "name": "python",
   "nbconvert_exporter": "python",
   "pygments_lexer": "ipython3",
   "version": "3.10.9"
  }
 },
 "nbformat": 4,
 "nbformat_minor": 5
}
