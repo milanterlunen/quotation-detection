{
 "cells": [
  {
   "cell_type": "markdown",
   "metadata": {},
   "source": [
    "# Generate font size data visualization\n",
    "\n",
    "This notebook generates a visualization for quotation data in which each word has font size proportional to the frequency of quotation."
   ]
  },
  {
   "cell_type": "code",
   "execution_count": 20,
   "metadata": {},
   "outputs": [
    {
     "name": "stdout",
     "output_type": "stream",
     "text": [
      "3.10.9 (main, Mar  1 2023, 12:33:47) [Clang 14.0.6 ]\n"
     ]
    }
   ],
   "source": [
    "# Probably some of these are irrelevant imports used for earlier visualizations\n",
    "\n",
    "import sys\n",
    "print(sys.version)\n",
    "import pandas as pd\n",
    "import nltk\n",
    "import math\n",
    "import json\n",
    "from ast import literal_eval\n",
    "import numpy as np\n",
    "import re\n",
    "from IPython.core.display import HTML"
   ]
  },
  {
   "cell_type": "code",
   "execution_count": 21,
   "metadata": {},
   "outputs": [],
   "source": [
    "# ACTION: copy path to results JSONL file here (filename will probably end \"_results_[hyperparameters].jsonl\")\n",
    "\n",
    "startData = \"/Users/milan/Library/CloudStorage/GoogleDrive-mtt2126@columbia.edu/My Drive/iAnnotate/MIT/Quotable Content/Data/Joyce/1922_Ulysses/Results/Joyce_1922_Ulysses_results_t2-c3-n2-m3-nostops.jsonl\""
   ]
  },
  {
   "cell_type": "code",
   "execution_count": 22,
   "metadata": {},
   "outputs": [
    {
     "name": "stdout",
     "output_type": "stream",
     "text": [
      "Author surname: Joyce\n",
      "Publication year: 1922\n",
      "Text title: Ulysses\n",
      "Hyperparameters suffix: _t2-c3-n2-m3-nostops\n",
      "Data directory:/Users/milan/Library/CloudStorage/GoogleDrive-mtt2126@columbia.edu/My Drive/iAnnotate/MIT/Quotable Content/Data\n"
     ]
    }
   ],
   "source": [
    "# Infer naming variables from path\n",
    "\n",
    "textTitle = startData.rsplit(\"_\", 4)[-3]\n",
    "publicationYear = startData.rsplit(\"_\", 4)[-4]\n",
    "authorSurname = startData.rsplit(\"_\", 4)[-5]\n",
    "authorSurname = authorSurname.rsplit(\"/\", 1)[-1]\n",
    "hyperparSuffix = startData.rsplit(\"_\", 4)[-1]\n",
    "hyperparSuffix = f\"_{hyperparSuffix[:-6]}\"\n",
    "dataDir = startData.rsplit(\"/\", 4)[0]\n",
    "\n",
    "print(f\"Author surname: {authorSurname}\\nPublication year: {publicationYear}\\nText title: {textTitle}\\nHyperparameters suffix: {hyperparSuffix}\\nData directory:{dataDir}\")\n",
    "\n",
    "projectName = f\"{authorSurname}_{publicationYear}_{textTitle}\"\n",
    "sourceDir = f\"{dataDir}/{authorSurname}/{publicationYear}_{textTitle}/Source\"\n",
    "corpusDir = f\"{dataDir}/{authorSurname}/{publicationYear}_{textTitle}/Corpus\"\n",
    "resultsDir = f\"{dataDir}/{authorSurname}/{publicationYear}_{textTitle}/Results\""
   ]
  },
  {
   "cell_type": "code",
   "execution_count": 23,
   "metadata": {},
   "outputs": [],
   "source": [
    "# Load results JSONL file as pandas dataframe\n",
    "\n",
    "with open(startData) as f: \n",
    "    rawMatches = f.readlines()\n",
    "\n",
    "data = [json.loads(line) for line in rawMatches]\n",
    "df = pd.DataFrame(data)"
   ]
  },
  {
   "cell_type": "code",
   "execution_count": 24,
   "metadata": {},
   "outputs": [],
   "source": [
    "# Adapted from text-matcher\n",
    "class Text: \n",
    "    def __init__(self, filename): \n",
    "        self.filename = filename\n",
    "        tokenizer = nltk.RegexpTokenizer('[a-zA-Z]\\w+\\'?\\w*') # A custom regex tokenizer. \n",
    "        spans = list(tokenizer.span_tokenize(self.text))\n",
    "        # Take note of how many spans there are in the text\n",
    "        self.length = spans[-1][-1] \n",
    "        \n",
    "    @property\n",
    "    def text(self):\n",
    "        \"\"\" Reads the file in memory. \"\"\"\n",
    "        f = open(self.filename, encoding='utf-8', errors='ignore')\n",
    "        return f.read() \n",
    "\n",
    "    @property\n",
    "    def tokens(self, removeStopwords=True): \n",
    "        \"\"\" Tokenizes the text, breaking it up into words, removing punctuation. \"\"\"\n",
    "        tokenizer = nltk.RegexpTokenizer('[a-zA-Z]\\w+\\'?\\w*') # A custom regex tokenizer. \n",
    "        spans = list(tokenizer.span_tokenize(self.text))\n",
    "        # Take note of how many spans there are in the text\n",
    "        self.length = spans[-1][-1] \n",
    "        tokens = tokenizer.tokenize(self.text)\n",
    "        tokens = [ token.lower() for token in tokens ] # make them lowercase\n",
    "        if not removeStopwords: \n",
    "            self.spans = spans\n",
    "            return tokens\n",
    "        tokenSpans = list(zip(tokens, spans)) # zip it up\n",
    "        stopwords = nltk.corpus.stopwords.words('english') # get stopwords\n",
    "        tokenSpans = [ token for token in tokenSpans if token[0] not in stopwords ] # remove stopwords from zip\n",
    "        self.spans = [ x[1] for x in tokenSpans ] # unzip; get spans\n",
    "        return [ x[0] for x in tokenSpans ] # unzip; get tokens"
   ]
  },
  {
   "cell_type": "code",
   "execution_count": 25,
   "metadata": {},
   "outputs": [],
   "source": [
    "# Load source text\n",
    "\n",
    "sourceText = f\"{sourceDir}/{projectName}_plaintext.txt\"\n",
    "\n",
    "text = Text(sourceText)"
   ]
  },
  {
   "cell_type": "code",
   "execution_count": 26,
   "metadata": {},
   "outputs": [],
   "source": [
    "# Get the size of the text\n",
    "textALength = text.length\n",
    "\n",
    "# Make an empty array the size of the text\n",
    "tally = np.zeros(textALength, dtype=int)"
   ]
  },
  {
   "cell_type": "code",
   "execution_count": 27,
   "metadata": {},
   "outputs": [],
   "source": [
    "# Read the matched locations from the results dataset, and literally evaluate them into lists. \n",
    "\n",
    "locationsInA = df['Locations in A']"
   ]
  },
  {
   "cell_type": "code",
   "execution_count": 28,
   "metadata": {},
   "outputs": [],
   "source": [
    "# Tally up every time a letter in the text is quoted. \n",
    "for article in locationsInA: \n",
    "    for locRange in article: \n",
    "         for i in range(locRange[0], min(locRange[1]+1, len(tally))):\n",
    "                tally[i] += 1"
   ]
  },
  {
   "cell_type": "code",
   "execution_count": 29,
   "metadata": {},
   "outputs": [],
   "source": [
    "# Make a font size list for all the values in the tally. \n",
    "\n",
    "font = list(np.arange(12,(tally.max()+13)))\n",
    "fontList = font"
   ]
  },
  {
   "cell_type": "code",
   "execution_count": 30,
   "metadata": {},
   "outputs": [],
   "source": [
    "# Create a CSS Stylesheet for each font value in the map. \n",
    "fontCSS = \"\"\n",
    "for i, font in zip(range(0, tally.max()+1), fontList): \n",
    "    fontCSS += \".c-%s { font-size: %spx; }\" % (i, font)"
   ]
  },
  {
   "cell_type": "code",
   "execution_count": 31,
   "metadata": {},
   "outputs": [],
   "source": [
    "#n = 50\n",
    "#\n",
    "#checkpoints = np.linspace(0, textALength, n).round()\n",
    "#checkpoints = [int(point) for point in checkpoints]"
   ]
  },
  {
   "cell_type": "code",
   "execution_count": 32,
   "metadata": {},
   "outputs": [],
   "source": [
    "def span(val): \n",
    "    return '<span class=\"c-%s\">' % val\n",
    "\n",
    "previousVal = None\n",
    "for i, valChar in enumerate(zip(tally, text.text)):\n",
    "    val, char = valChar[0], valChar[1]\n",
    "    if previousVal == None: \n",
    "        # First character. \n",
    "        out = '<span class=\"c-%s\">' % val\n",
    "    elif val != previousVal: \n",
    "        out += '</span><span class=\"c-%s\">' % val\n",
    "    out += char\n",
    "    previousVal = val"
   ]
  },
  {
   "cell_type": "code",
   "execution_count": 33,
   "metadata": {},
   "outputs": [],
   "source": [
    "html = \"\"\"<!DOCTYPE html>\n",
    "<html>\n",
    "<head>\n",
    "  <link href=\"https://fonts.googleapis.com/css?family=Raleway\" rel=\"stylesheet\"> \n",
    "  <style>\n",
    "  main { \n",
    "      width: 600px; \n",
    "  }\n",
    "  %s\n",
    "  </style>\n",
    "  \"\"\" % (fontCSS)\n",
    "html += \"\"\"\n",
    "  </head>\n",
    "  <body><main>%s</main></body></html>\n",
    "  \"\"\" % (out)"
   ]
  },
  {
   "cell_type": "code",
   "execution_count": 34,
   "metadata": {},
   "outputs": [],
   "source": [
    "# Add html paragraph tags (for text where paragraphing is indicated by an empty line, i.e. two line breaks)\n",
    "\n",
    "html = re.sub(\"\\n\\n\", \"</p>\\n\\n<p>\", html)"
   ]
  },
  {
   "cell_type": "code",
   "execution_count": 35,
   "metadata": {},
   "outputs": [
    {
     "name": "stdout",
     "output_type": "stream",
     "text": [
      "3258\n",
      "1942\n",
      "1278\n",
      "872\n",
      "623\n",
      "455\n",
      "344\n",
      "263\n",
      "205\n",
      "165\n",
      "136\n",
      "115\n",
      "102\n",
      "91\n",
      "81\n",
      "76\n",
      "71\n",
      "66\n",
      "61\n",
      "57\n",
      "56\n",
      "55\n",
      "54\n",
      "53\n",
      "53\n",
      "Done: 53 paragraphs couldn't be corrected\n"
     ]
    }
   ],
   "source": [
    "# Where no span class is specified at start of para, reiterate most recent span class\n",
    "\n",
    "untaggedParas = len(re.findall(r'\\n\\n<p>([^<])', html))\n",
    "\n",
    "while untaggedParas != 0:\n",
    "    oldUntagged = untaggedParas\n",
    "    html = re.sub(r'(<span class=\"c-\\d\">)([^<>]*)</p>\\n\\n<p>([^<])', r'\\1\\2</p>\\n\\n<p>\\1\\3', html)\n",
    "    untaggedParas = len(re.findall(r'\\n\\n<p>([^<])', html))\n",
    "    print(untaggedParas)\n",
    "    if untaggedParas == oldUntagged:\n",
    "        print(f\"Done: {untaggedParas} paragraphs couldn't be corrected\")\n",
    "        break\n",
    "    if untaggedParas == 0:\n",
    "        print(\"Done: no untagged paragraphs remaining\")\n",
    "        break"
   ]
  },
  {
   "cell_type": "code",
   "execution_count": 36,
   "metadata": {},
   "outputs": [],
   "source": [
    "with open(f\"{resultsDir}/{projectName}_fontsizeviz{hyperparSuffix}.html\", 'w') as f: \n",
    "    f.write(html)\n",
    "    f.close()"
   ]
  },
  {
   "cell_type": "code",
   "execution_count": null,
   "metadata": {},
   "outputs": [],
   "source": []
  }
 ],
 "metadata": {
  "kernelspec": {
   "display_name": "Python 3 (ipykernel)",
   "language": "python",
   "name": "python3"
  },
  "language_info": {
   "codemirror_mode": {
    "name": "ipython",
    "version": 3
   },
   "file_extension": ".py",
   "mimetype": "text/x-python",
   "name": "python",
   "nbconvert_exporter": "python",
   "pygments_lexer": "ipython3",
   "version": "3.10.9"
  }
 },
 "nbformat": 4,
 "nbformat_minor": 2
}
