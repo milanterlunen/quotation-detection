{
 "cells": [
  {
   "cell_type": "markdown",
   "metadata": {},
   "source": [
    "# Analysis of Text Matching Data Generated from JSTOR Dataset\n",
    "#### Reference version"
   ]
  },
  {
   "cell_type": "code",
   "execution_count": 1,
   "metadata": {},
   "outputs": [],
   "source": [
    "import pandas as pd\n",
    "import numpy as np\n",
    "#import spacy\n",
    "import re\n",
    "import json\n",
    "#import altair as alt\n",
    "#new viz library for single-column heatmap\n",
    "import matplotlib.pyplot as plt\n",
    "import seaborn as sns\n",
    "sns.set()\n",
    "#from nltk.corpus import names\n",
    "from collections import Counter\n",
    "from matplotlib import pyplot as plt\n",
    "%matplotlib inline\n",
    "plt.rcParams[\"figure.figsize\"] = [16, 6]\n",
    "plt.style.use('ggplot')"
   ]
  },
  {
   "cell_type": "code",
   "execution_count": 2,
   "metadata": {},
   "outputs": [],
   "source": [
    "# ACTION: copy path to results JSONL file here (filename should end \"_results_[hyperparameters].jsonl\")\n",
    "\n",
    "startData = \"/Users/milan/Library/CloudStorage/GoogleDrive-mtt2126@columbia.edu/My Drive/iAnnotate/MIT/Quotable Content/Data/Woolf/1925_Dalloway/Results/Woolf_1925_Dalloway_results_t3-c3-n2-m5-nostops.jsonl\""
   ]
  },
  {
   "cell_type": "code",
   "execution_count": 3,
   "metadata": {},
   "outputs": [
    {
     "name": "stdout",
     "output_type": "stream",
     "text": [
      "Author surname: Woolf\n",
      "Publication year: 1925\n",
      "Text title: Dalloway\n",
      "Hyperparameters suffix: _t3-c3-n2-m5-nostops\n",
      "Data directory:/Users/milan/Library/CloudStorage/GoogleDrive-mtt2126@columbia.edu/My Drive/iAnnotate/MIT/Quotable Content/Data\n"
     ]
    }
   ],
   "source": [
    "# Infer naming variables from path\n",
    "\n",
    "textTitle = startData.rsplit(\"_\", 4)[-3]\n",
    "publicationYear = startData.rsplit(\"_\", 4)[-4]\n",
    "authorSurname = startData.rsplit(\"_\", 4)[-5]\n",
    "authorSurname = authorSurname.rsplit(\"/\", 1)[-1]\n",
    "hyperparSuffix = startData.rsplit(\"_\", 4)[-1]\n",
    "hyperparSuffix = f\"_{hyperparSuffix[:-6]}\"\n",
    "dataDir = startData.rsplit(\"/\", 4)[0]\n",
    "\n",
    "print(f\"Author surname: {authorSurname}\\nPublication year: {publicationYear}\\nText title: {textTitle}\\nHyperparameters suffix: {hyperparSuffix}\\nData directory:{dataDir}\")\n",
    "\n",
    "projectName = f\"{authorSurname}_{publicationYear}_{textTitle}\"\n",
    "sourceDir = f\"{dataDir}/{authorSurname}/{publicationYear}_{textTitle}/Source\"\n",
    "corpusDir = f\"{dataDir}/{authorSurname}/{publicationYear}_{textTitle}/Corpus\"\n",
    "resultsDir = f\"{dataDir}/{authorSurname}/{publicationYear}_{textTitle}/Results\""
   ]
  },
  {
   "cell_type": "code",
   "execution_count": 57,
   "metadata": {},
   "outputs": [
    {
     "data": {
      "text/html": [
       "<div>\n",
       "<style scoped>\n",
       "    .dataframe tbody tr th:only-of-type {\n",
       "        vertical-align: middle;\n",
       "    }\n",
       "\n",
       "    .dataframe tbody tr th {\n",
       "        vertical-align: top;\n",
       "    }\n",
       "\n",
       "    .dataframe thead th {\n",
       "        text-align: right;\n",
       "    }\n",
       "</style>\n",
       "<table border=\"1\" class=\"dataframe\">\n",
       "  <thead>\n",
       "    <tr style=\"text-align: right;\">\n",
       "      <th></th>\n",
       "      <th>creator</th>\n",
       "      <th>datePublished</th>\n",
       "      <th>docSubType</th>\n",
       "      <th>docType</th>\n",
       "      <th>id</th>\n",
       "      <th>identifier</th>\n",
       "      <th>isPartOf</th>\n",
       "      <th>issueNumber</th>\n",
       "      <th>language</th>\n",
       "      <th>outputFormat</th>\n",
       "      <th>...</th>\n",
       "      <th>volumeNumber</th>\n",
       "      <th>wordCount</th>\n",
       "      <th>numMatches</th>\n",
       "      <th>Locations in A</th>\n",
       "      <th>Locations in B</th>\n",
       "      <th>doi</th>\n",
       "      <th>keyphrase</th>\n",
       "      <th>abstract</th>\n",
       "      <th>placeOfPublication</th>\n",
       "      <th>subTitle</th>\n",
       "    </tr>\n",
       "  </thead>\n",
       "  <tbody>\n",
       "    <tr>\n",
       "      <th>0</th>\n",
       "      <td>[Ellen Tremper]</td>\n",
       "      <td>1994-07-01</td>\n",
       "      <td>research-article</td>\n",
       "      <td>article</td>\n",
       "      <td>http://www.jstor.org/stable/3831453</td>\n",
       "      <td>[{'name': 'issn', 'value': '0022281X'}, {'name...</td>\n",
       "      <td>Journal of Modern Literature</td>\n",
       "      <td>1</td>\n",
       "      <td>[eng]</td>\n",
       "      <td>[unigram, bigram, trigram]</td>\n",
       "      <td>...</td>\n",
       "      <td>19</td>\n",
       "      <td>5607</td>\n",
       "      <td>0</td>\n",
       "      <td>[]</td>\n",
       "      <td>[]</td>\n",
       "      <td>None</td>\n",
       "      <td>None</td>\n",
       "      <td>None</td>\n",
       "      <td>None</td>\n",
       "      <td>None</td>\n",
       "    </tr>\n",
       "    <tr>\n",
       "      <th>1</th>\n",
       "      <td>[Beth Rigel Daugherty, Arnold Weinstein]</td>\n",
       "      <td>2007-01-01</td>\n",
       "      <td>None</td>\n",
       "      <td>document</td>\n",
       "      <td>http://www.jstor.org/stable/24907105</td>\n",
       "      <td>[{'name': 'doi', 'value': '10.2307/24907105'},...</td>\n",
       "      <td>Woolf Studies Annual</td>\n",
       "      <td>None</td>\n",
       "      <td>[eng]</td>\n",
       "      <td>[unigrams, bigrams, trigrams]</td>\n",
       "      <td>...</td>\n",
       "      <td>13</td>\n",
       "      <td>3021</td>\n",
       "      <td>0</td>\n",
       "      <td>[]</td>\n",
       "      <td>[]</td>\n",
       "      <td>10.2307/24907105</td>\n",
       "      <td>[weinstein, readers, moderns, woolf faulkner, ...</td>\n",
       "      <td>None</td>\n",
       "      <td>None</td>\n",
       "      <td>None</td>\n",
       "    </tr>\n",
       "    <tr>\n",
       "      <th>2</th>\n",
       "      <td>[Christine MacLeod]</td>\n",
       "      <td>1997-01-01</td>\n",
       "      <td>book-review</td>\n",
       "      <td>article</td>\n",
       "      <td>http://www.jstor.org/stable/3509206</td>\n",
       "      <td>[{'name': 'issn', 'value': '03062473'}, {'name...</td>\n",
       "      <td>The Yearbook of English Studies</td>\n",
       "      <td>None</td>\n",
       "      <td>[eng]</td>\n",
       "      <td>[unigram, bigram, trigram]</td>\n",
       "      <td>...</td>\n",
       "      <td>27</td>\n",
       "      <td>1210</td>\n",
       "      <td>0</td>\n",
       "      <td>[]</td>\n",
       "      <td>[]</td>\n",
       "      <td>None</td>\n",
       "      <td>None</td>\n",
       "      <td>None</td>\n",
       "      <td>None</td>\n",
       "      <td>None</td>\n",
       "    </tr>\n",
       "    <tr>\n",
       "      <th>3</th>\n",
       "      <td>[Margaret Harris]</td>\n",
       "      <td>1973-10-01</td>\n",
       "      <td>None</td>\n",
       "      <td>document</td>\n",
       "      <td>http://www.jstor.org/stable/42946111</td>\n",
       "      <td>[{'name': 'doi', 'value': '10.2307/42946111'},...</td>\n",
       "      <td>None</td>\n",
       "      <td>3</td>\n",
       "      <td>[eng]</td>\n",
       "      <td>[unigrams, bigrams, trigrams]</td>\n",
       "      <td>...</td>\n",
       "      <td>7</td>\n",
       "      <td>9110</td>\n",
       "      <td>4</td>\n",
       "      <td>[[0, 203], [902, 1418], [1831, 2251], [2957, 2...</td>\n",
       "      <td>[[39742, 39944], [41338, 41854], [42922, 43343...</td>\n",
       "      <td>10.2307/42946111</td>\n",
       "      <td>[merediths, victors, merediths prose, george m...</td>\n",
       "      <td>Meredith's prose style has frequently been att...</td>\n",
       "      <td>None</td>\n",
       "      <td>None</td>\n",
       "    </tr>\n",
       "    <tr>\n",
       "      <th>4</th>\n",
       "      <td>[Frank Baldanza]</td>\n",
       "      <td>1958-07-01</td>\n",
       "      <td>research-article</td>\n",
       "      <td>article</td>\n",
       "      <td>http://www.jstor.org/stable/41395513</td>\n",
       "      <td>[{'name': 'doi', 'value': '10.2307/41395513'},...</td>\n",
       "      <td>None</td>\n",
       "      <td>2</td>\n",
       "      <td>[eng]</td>\n",
       "      <td>[unigrams, bigrams, trigrams]</td>\n",
       "      <td>...</td>\n",
       "      <td>12</td>\n",
       "      <td>7337</td>\n",
       "      <td>0</td>\n",
       "      <td>[]</td>\n",
       "      <td>[]</td>\n",
       "      <td>10.2307/41395513</td>\n",
       "      <td>[mccullers, miss mccullers, carson mccullers, ...</td>\n",
       "      <td>None</td>\n",
       "      <td>None</td>\n",
       "      <td>None</td>\n",
       "    </tr>\n",
       "    <tr>\n",
       "      <th>...</th>\n",
       "      <td>...</td>\n",
       "      <td>...</td>\n",
       "      <td>...</td>\n",
       "      <td>...</td>\n",
       "      <td>...</td>\n",
       "      <td>...</td>\n",
       "      <td>...</td>\n",
       "      <td>...</td>\n",
       "      <td>...</td>\n",
       "      <td>...</td>\n",
       "      <td>...</td>\n",
       "      <td>...</td>\n",
       "      <td>...</td>\n",
       "      <td>...</td>\n",
       "      <td>...</td>\n",
       "      <td>...</td>\n",
       "      <td>...</td>\n",
       "      <td>...</td>\n",
       "      <td>...</td>\n",
       "      <td>...</td>\n",
       "      <td>...</td>\n",
       "    </tr>\n",
       "    <tr>\n",
       "      <th>2490</th>\n",
       "      <td>[Mia Carter, ﻣﻴﺎ ﻛﺎﺭﺗﺭ]</td>\n",
       "      <td>2007-01-01</td>\n",
       "      <td>None</td>\n",
       "      <td>document</td>\n",
       "      <td>http://www.jstor.org/stable/30197973</td>\n",
       "      <td>[{'name': 'doi', 'value': '10.2307/30197973'},...</td>\n",
       "      <td>Alif: Journal of Comparative Poetics</td>\n",
       "      <td>27</td>\n",
       "      <td>[eng]</td>\n",
       "      <td>[unigrams, bigrams, trigrams]</td>\n",
       "      <td>...</td>\n",
       "      <td>None</td>\n",
       "      <td>11192</td>\n",
       "      <td>0</td>\n",
       "      <td>[]</td>\n",
       "      <td>[]</td>\n",
       "      <td>10.2307/30197973</td>\n",
       "      <td>[woolfs, passionate apprentice, virginia woolf...</td>\n",
       "      <td>This article argues that Woolf's juvenilia, yo...</td>\n",
       "      <td>None</td>\n",
       "      <td>None</td>\n",
       "    </tr>\n",
       "    <tr>\n",
       "      <th>2491</th>\n",
       "      <td>[Shyam M. Asnani, Mulk Raj Anand]</td>\n",
       "      <td>1983-03-01</td>\n",
       "      <td>None</td>\n",
       "      <td>document</td>\n",
       "      <td>http://www.jstor.org/stable/23331532</td>\n",
       "      <td>[{'name': 'doi', 'value': '10.2307/23331532'},...</td>\n",
       "      <td>Indian Literature</td>\n",
       "      <td>2</td>\n",
       "      <td>[eng]</td>\n",
       "      <td>[unigrams, bigrams, trigrams]</td>\n",
       "      <td>...</td>\n",
       "      <td>26</td>\n",
       "      <td>1706</td>\n",
       "      <td>0</td>\n",
       "      <td>[]</td>\n",
       "      <td>[]</td>\n",
       "      <td>10.2307/23331532</td>\n",
       "      <td>[indian, mulk raj, raj anand, dobree, british ...</td>\n",
       "      <td>None</td>\n",
       "      <td>None</td>\n",
       "      <td>None</td>\n",
       "    </tr>\n",
       "    <tr>\n",
       "      <th>2492</th>\n",
       "      <td>[Susan Stanford Friedman]</td>\n",
       "      <td>2013-04-01</td>\n",
       "      <td>None</td>\n",
       "      <td>document</td>\n",
       "      <td>http://www.jstor.org/stable/43653363</td>\n",
       "      <td>[{'name': 'doi', 'value': '10.2307/43653363'},...</td>\n",
       "      <td>Tulsa Studies in Women's Literature</td>\n",
       "      <td>1</td>\n",
       "      <td>[eng]</td>\n",
       "      <td>[unigrams, bigrams, trigrams]</td>\n",
       "      <td>...</td>\n",
       "      <td>32</td>\n",
       "      <td>13023</td>\n",
       "      <td>0</td>\n",
       "      <td>[]</td>\n",
       "      <td>[]</td>\n",
       "      <td>10.2307/43653363</td>\n",
       "      <td>[cosmopolitanism, three guineas, persepolis, w...</td>\n",
       "      <td>This comparative essay argues that Virginia Wo...</td>\n",
       "      <td>None</td>\n",
       "      <td>None</td>\n",
       "    </tr>\n",
       "    <tr>\n",
       "      <th>2493</th>\n",
       "      <td>[Judith Yaross Lee]</td>\n",
       "      <td>2009-01-01</td>\n",
       "      <td>None</td>\n",
       "      <td>document</td>\n",
       "      <td>http://www.jstor.org/stable/42573565</td>\n",
       "      <td>[{'name': 'doi', 'value': '10.2307/42573565'},...</td>\n",
       "      <td>Studies in American Humor</td>\n",
       "      <td>19</td>\n",
       "      <td>[eng]</td>\n",
       "      <td>[unigrams, bigrams, trigrams]</td>\n",
       "      <td>...</td>\n",
       "      <td>None</td>\n",
       "      <td>13888</td>\n",
       "      <td>0</td>\n",
       "      <td>[]</td>\n",
       "      <td>[]</td>\n",
       "      <td>10.2307/42573565</td>\n",
       "      <td>[keatons, dialect, vernacular, american, socia...</td>\n",
       "      <td>None</td>\n",
       "      <td>None</td>\n",
       "      <td>None</td>\n",
       "    </tr>\n",
       "    <tr>\n",
       "      <th>2494</th>\n",
       "      <td>None</td>\n",
       "      <td>1987-10-01</td>\n",
       "      <td>misc</td>\n",
       "      <td>article</td>\n",
       "      <td>http://www.jstor.org/stable/3831515</td>\n",
       "      <td>[{'name': 'issn', 'value': '0022281X'}, {'name...</td>\n",
       "      <td>Journal of Modern Literature</td>\n",
       "      <td>2/3</td>\n",
       "      <td>[eng]</td>\n",
       "      <td>[unigram, bigram, trigram]</td>\n",
       "      <td>...</td>\n",
       "      <td>14</td>\n",
       "      <td>63340</td>\n",
       "      <td>0</td>\n",
       "      <td>[]</td>\n",
       "      <td>[]</td>\n",
       "      <td>None</td>\n",
       "      <td>None</td>\n",
       "      <td>None</td>\n",
       "      <td>None</td>\n",
       "      <td>None</td>\n",
       "    </tr>\n",
       "  </tbody>\n",
       "</table>\n",
       "<p>2495 rows × 31 columns</p>\n",
       "</div>"
      ],
      "text/plain": [
       "                                       creator datePublished  \\\n",
       "0                              [Ellen Tremper]    1994-07-01   \n",
       "1     [Beth Rigel Daugherty, Arnold Weinstein]    2007-01-01   \n",
       "2                          [Christine MacLeod]    1997-01-01   \n",
       "3                            [Margaret Harris]    1973-10-01   \n",
       "4                             [Frank Baldanza]    1958-07-01   \n",
       "...                                        ...           ...   \n",
       "2490                   [Mia Carter, ﻣﻴﺎ ﻛﺎﺭﺗﺭ]    2007-01-01   \n",
       "2491         [Shyam M. Asnani, Mulk Raj Anand]    1983-03-01   \n",
       "2492                 [Susan Stanford Friedman]    2013-04-01   \n",
       "2493                       [Judith Yaross Lee]    2009-01-01   \n",
       "2494                                      None    1987-10-01   \n",
       "\n",
       "            docSubType   docType                                    id  \\\n",
       "0     research-article   article   http://www.jstor.org/stable/3831453   \n",
       "1                 None  document  http://www.jstor.org/stable/24907105   \n",
       "2          book-review   article   http://www.jstor.org/stable/3509206   \n",
       "3                 None  document  http://www.jstor.org/stable/42946111   \n",
       "4     research-article   article  http://www.jstor.org/stable/41395513   \n",
       "...                ...       ...                                   ...   \n",
       "2490              None  document  http://www.jstor.org/stable/30197973   \n",
       "2491              None  document  http://www.jstor.org/stable/23331532   \n",
       "2492              None  document  http://www.jstor.org/stable/43653363   \n",
       "2493              None  document  http://www.jstor.org/stable/42573565   \n",
       "2494              misc   article   http://www.jstor.org/stable/3831515   \n",
       "\n",
       "                                             identifier  \\\n",
       "0     [{'name': 'issn', 'value': '0022281X'}, {'name...   \n",
       "1     [{'name': 'doi', 'value': '10.2307/24907105'},...   \n",
       "2     [{'name': 'issn', 'value': '03062473'}, {'name...   \n",
       "3     [{'name': 'doi', 'value': '10.2307/42946111'},...   \n",
       "4     [{'name': 'doi', 'value': '10.2307/41395513'},...   \n",
       "...                                                 ...   \n",
       "2490  [{'name': 'doi', 'value': '10.2307/30197973'},...   \n",
       "2491  [{'name': 'doi', 'value': '10.2307/23331532'},...   \n",
       "2492  [{'name': 'doi', 'value': '10.2307/43653363'},...   \n",
       "2493  [{'name': 'doi', 'value': '10.2307/42573565'},...   \n",
       "2494  [{'name': 'issn', 'value': '0022281X'}, {'name...   \n",
       "\n",
       "                                  isPartOf issueNumber language  \\\n",
       "0             Journal of Modern Literature           1    [eng]   \n",
       "1                     Woolf Studies Annual        None    [eng]   \n",
       "2          The Yearbook of English Studies        None    [eng]   \n",
       "3                                     None           3    [eng]   \n",
       "4                                     None           2    [eng]   \n",
       "...                                    ...         ...      ...   \n",
       "2490  Alif: Journal of Comparative Poetics          27    [eng]   \n",
       "2491                     Indian Literature           2    [eng]   \n",
       "2492   Tulsa Studies in Women's Literature           1    [eng]   \n",
       "2493             Studies in American Humor          19    [eng]   \n",
       "2494          Journal of Modern Literature         2/3    [eng]   \n",
       "\n",
       "                       outputFormat  ...  volumeNumber wordCount numMatches  \\\n",
       "0        [unigram, bigram, trigram]  ...            19      5607          0   \n",
       "1     [unigrams, bigrams, trigrams]  ...            13      3021          0   \n",
       "2        [unigram, bigram, trigram]  ...            27      1210          0   \n",
       "3     [unigrams, bigrams, trigrams]  ...             7      9110          4   \n",
       "4     [unigrams, bigrams, trigrams]  ...            12      7337          0   \n",
       "...                             ...  ...           ...       ...        ...   \n",
       "2490  [unigrams, bigrams, trigrams]  ...          None     11192          0   \n",
       "2491  [unigrams, bigrams, trigrams]  ...            26      1706          0   \n",
       "2492  [unigrams, bigrams, trigrams]  ...            32     13023          0   \n",
       "2493  [unigrams, bigrams, trigrams]  ...          None     13888          0   \n",
       "2494     [unigram, bigram, trigram]  ...            14     63340          0   \n",
       "\n",
       "                                         Locations in A  \\\n",
       "0                                                    []   \n",
       "1                                                    []   \n",
       "2                                                    []   \n",
       "3     [[0, 203], [902, 1418], [1831, 2251], [2957, 2...   \n",
       "4                                                    []   \n",
       "...                                                 ...   \n",
       "2490                                                 []   \n",
       "2491                                                 []   \n",
       "2492                                                 []   \n",
       "2493                                                 []   \n",
       "2494                                                 []   \n",
       "\n",
       "                                         Locations in B               doi  \\\n",
       "0                                                    []              None   \n",
       "1                                                    []  10.2307/24907105   \n",
       "2                                                    []              None   \n",
       "3     [[39742, 39944], [41338, 41854], [42922, 43343...  10.2307/42946111   \n",
       "4                                                    []  10.2307/41395513   \n",
       "...                                                 ...               ...   \n",
       "2490                                                 []  10.2307/30197973   \n",
       "2491                                                 []  10.2307/23331532   \n",
       "2492                                                 []  10.2307/43653363   \n",
       "2493                                                 []  10.2307/42573565   \n",
       "2494                                                 []              None   \n",
       "\n",
       "                                              keyphrase  \\\n",
       "0                                                  None   \n",
       "1     [weinstein, readers, moderns, woolf faulkner, ...   \n",
       "2                                                  None   \n",
       "3     [merediths, victors, merediths prose, george m...   \n",
       "4     [mccullers, miss mccullers, carson mccullers, ...   \n",
       "...                                                 ...   \n",
       "2490  [woolfs, passionate apprentice, virginia woolf...   \n",
       "2491  [indian, mulk raj, raj anand, dobree, british ...   \n",
       "2492  [cosmopolitanism, three guineas, persepolis, w...   \n",
       "2493  [keatons, dialect, vernacular, american, socia...   \n",
       "2494                                               None   \n",
       "\n",
       "                                               abstract placeOfPublication  \\\n",
       "0                                                  None               None   \n",
       "1                                                  None               None   \n",
       "2                                                  None               None   \n",
       "3     Meredith's prose style has frequently been att...               None   \n",
       "4                                                  None               None   \n",
       "...                                                 ...                ...   \n",
       "2490  This article argues that Woolf's juvenilia, yo...               None   \n",
       "2491                                               None               None   \n",
       "2492  This comparative essay argues that Virginia Wo...               None   \n",
       "2493                                               None               None   \n",
       "2494                                               None               None   \n",
       "\n",
       "     subTitle  \n",
       "0        None  \n",
       "1        None  \n",
       "2        None  \n",
       "3        None  \n",
       "4        None  \n",
       "...       ...  \n",
       "2490     None  \n",
       "2491     None  \n",
       "2492     None  \n",
       "2493     None  \n",
       "2494     None  \n",
       "\n",
       "[2495 rows x 31 columns]"
      ]
     },
     "execution_count": 57,
     "metadata": {},
     "output_type": "execute_result"
    }
   ],
   "source": [
    "# Load results as pandas dataframe\n",
    "\n",
    "df = pd.read_json(startData, lines=True)\n",
    "df"
   ]
  },
  {
   "cell_type": "code",
   "execution_count": 58,
   "metadata": {},
   "outputs": [
    {
     "name": "stdout",
     "output_type": "stream",
     "text": [
      "Items with matches: 434\n",
      "Items without matches: 2061\n"
     ]
    }
   ],
   "source": [
    "# Count number of items with/without matches\n",
    "\n",
    "print(f\"Items with matches: {len(df[df['numMatches']>=1])}\\nItems without matches: {len(df[df['numMatches']==0])}\")"
   ]
  },
  {
   "cell_type": "code",
   "execution_count": 59,
   "metadata": {},
   "outputs": [
    {
     "data": {
      "text/html": [
       "<div>\n",
       "<style scoped>\n",
       "    .dataframe tbody tr th:only-of-type {\n",
       "        vertical-align: middle;\n",
       "    }\n",
       "\n",
       "    .dataframe tbody tr th {\n",
       "        vertical-align: top;\n",
       "    }\n",
       "\n",
       "    .dataframe thead th {\n",
       "        text-align: right;\n",
       "    }\n",
       "</style>\n",
       "<table border=\"1\" class=\"dataframe\">\n",
       "  <thead>\n",
       "    <tr style=\"text-align: right;\">\n",
       "      <th></th>\n",
       "      <th>creator</th>\n",
       "      <th>datePublished</th>\n",
       "      <th>docSubType</th>\n",
       "      <th>docType</th>\n",
       "      <th>id</th>\n",
       "      <th>identifier</th>\n",
       "      <th>isPartOf</th>\n",
       "      <th>issueNumber</th>\n",
       "      <th>language</th>\n",
       "      <th>outputFormat</th>\n",
       "      <th>...</th>\n",
       "      <th>volumeNumber</th>\n",
       "      <th>wordCount</th>\n",
       "      <th>numMatches</th>\n",
       "      <th>Locations in A</th>\n",
       "      <th>Locations in B</th>\n",
       "      <th>doi</th>\n",
       "      <th>keyphrase</th>\n",
       "      <th>abstract</th>\n",
       "      <th>placeOfPublication</th>\n",
       "      <th>subTitle</th>\n",
       "    </tr>\n",
       "  </thead>\n",
       "  <tbody>\n",
       "    <tr>\n",
       "      <th>3</th>\n",
       "      <td>[Margaret Harris]</td>\n",
       "      <td>1973-10-01</td>\n",
       "      <td>None</td>\n",
       "      <td>document</td>\n",
       "      <td>http://www.jstor.org/stable/42946111</td>\n",
       "      <td>[{'name': 'doi', 'value': '10.2307/42946111'},...</td>\n",
       "      <td>None</td>\n",
       "      <td>3</td>\n",
       "      <td>[eng]</td>\n",
       "      <td>[unigrams, bigrams, trigrams]</td>\n",
       "      <td>...</td>\n",
       "      <td>7</td>\n",
       "      <td>9110</td>\n",
       "      <td>4</td>\n",
       "      <td>[[0, 203], [902, 1418], [1831, 2251], [2957, 2...</td>\n",
       "      <td>[[39742, 39944], [41338, 41854], [42922, 43343...</td>\n",
       "      <td>10.2307/42946111</td>\n",
       "      <td>[merediths, victors, merediths prose, george m...</td>\n",
       "      <td>Meredith's prose style has frequently been att...</td>\n",
       "      <td>None</td>\n",
       "      <td>None</td>\n",
       "    </tr>\n",
       "    <tr>\n",
       "      <th>20</th>\n",
       "      <td>[Beth C. Schwartz]</td>\n",
       "      <td>1991-10-01</td>\n",
       "      <td>research-article</td>\n",
       "      <td>article</td>\n",
       "      <td>http://www.jstor.org/stable/2873462</td>\n",
       "      <td>[{'name': 'issn', 'value': '00138304'}, {'name...</td>\n",
       "      <td>ELH</td>\n",
       "      <td>3</td>\n",
       "      <td>[eng]</td>\n",
       "      <td>[unigram, bigram, trigram]</td>\n",
       "      <td>...</td>\n",
       "      <td>58</td>\n",
       "      <td>11088</td>\n",
       "      <td>1</td>\n",
       "      <td>[[146124, 146293]]</td>\n",
       "      <td>[[28012, 28559]]</td>\n",
       "      <td>None</td>\n",
       "      <td>None</td>\n",
       "      <td>None</td>\n",
       "      <td>None</td>\n",
       "      <td>None</td>\n",
       "    </tr>\n",
       "    <tr>\n",
       "      <th>23</th>\n",
       "      <td>[Karen Kaivola]</td>\n",
       "      <td>1998-01-01</td>\n",
       "      <td>None</td>\n",
       "      <td>document</td>\n",
       "      <td>http://www.jstor.org/stable/24906336</td>\n",
       "      <td>[{'name': 'doi', 'value': '10.2307/24906336'},...</td>\n",
       "      <td>Woolf Studies Annual</td>\n",
       "      <td>None</td>\n",
       "      <td>[eng]</td>\n",
       "      <td>[unigrams, bigrams, trigrams]</td>\n",
       "      <td>...</td>\n",
       "      <td>4</td>\n",
       "      <td>10877</td>\n",
       "      <td>1</td>\n",
       "      <td>[[53836, 53913]]</td>\n",
       "      <td>[[46150, 46227]]</td>\n",
       "      <td>10.2307/24906336</td>\n",
       "      <td>[lesbian, identity, sackville wests, sexual id...</td>\n",
       "      <td>None</td>\n",
       "      <td>None</td>\n",
       "      <td>None</td>\n",
       "    </tr>\n",
       "    <tr>\n",
       "      <th>26</th>\n",
       "      <td>[David Neal Miller]</td>\n",
       "      <td>1972-05-01</td>\n",
       "      <td>None</td>\n",
       "      <td>document</td>\n",
       "      <td>http://www.jstor.org/stable/30225278</td>\n",
       "      <td>[{'name': 'doi', 'value': '10.2307/30225278'},...</td>\n",
       "      <td>None</td>\n",
       "      <td>2</td>\n",
       "      <td>[eng]</td>\n",
       "      <td>[unigrams, bigrams, trigrams]</td>\n",
       "      <td>...</td>\n",
       "      <td>2</td>\n",
       "      <td>3851</td>\n",
       "      <td>5</td>\n",
       "      <td>[[68337, 69056], [255507, 255978], [274856, 27...</td>\n",
       "      <td>[[2113, 2802], [4050, 4521], [10849, 10908], [...</td>\n",
       "      <td>10.2307/30225278</td>\n",
       "      <td>[authorial, septimus, authorial point, clariss...</td>\n",
       "      <td>None</td>\n",
       "      <td>None</td>\n",
       "      <td>None</td>\n",
       "    </tr>\n",
       "    <tr>\n",
       "      <th>35</th>\n",
       "      <td>[Stefan Oltean]</td>\n",
       "      <td>1993-12-01</td>\n",
       "      <td>research-article</td>\n",
       "      <td>article</td>\n",
       "      <td>http://www.jstor.org/stable/3301100</td>\n",
       "      <td>[{'name': 'issn', 'value': '03335372'}, {'name...</td>\n",
       "      <td>Poetics Today</td>\n",
       "      <td>4</td>\n",
       "      <td>[eng]</td>\n",
       "      <td>[unigram, bigram, trigram]</td>\n",
       "      <td>...</td>\n",
       "      <td>14</td>\n",
       "      <td>10061</td>\n",
       "      <td>2</td>\n",
       "      <td>[[55110, 55201], [62742, 62789]]</td>\n",
       "      <td>[[3607, 3702], [5348, 5395]]</td>\n",
       "      <td>None</td>\n",
       "      <td>None</td>\n",
       "      <td>This article proposes an interpretation of the...</td>\n",
       "      <td>None</td>\n",
       "      <td>None</td>\n",
       "    </tr>\n",
       "    <tr>\n",
       "      <th>...</th>\n",
       "      <td>...</td>\n",
       "      <td>...</td>\n",
       "      <td>...</td>\n",
       "      <td>...</td>\n",
       "      <td>...</td>\n",
       "      <td>...</td>\n",
       "      <td>...</td>\n",
       "      <td>...</td>\n",
       "      <td>...</td>\n",
       "      <td>...</td>\n",
       "      <td>...</td>\n",
       "      <td>...</td>\n",
       "      <td>...</td>\n",
       "      <td>...</td>\n",
       "      <td>...</td>\n",
       "      <td>...</td>\n",
       "      <td>...</td>\n",
       "      <td>...</td>\n",
       "      <td>...</td>\n",
       "      <td>...</td>\n",
       "      <td>...</td>\n",
       "    </tr>\n",
       "    <tr>\n",
       "      <th>2473</th>\n",
       "      <td>[Gretchen A. Craft]</td>\n",
       "      <td>1992-11-01</td>\n",
       "      <td>None</td>\n",
       "      <td>document</td>\n",
       "      <td>http://www.jstor.org/stable/796846</td>\n",
       "      <td>[{'name': 'doi', 'value': '10.2307/796846'}, {...</td>\n",
       "      <td>None</td>\n",
       "      <td>2</td>\n",
       "      <td>[eng]</td>\n",
       "      <td>[unigrams, bigrams, trigrams]</td>\n",
       "      <td>...</td>\n",
       "      <td>102</td>\n",
       "      <td>13555</td>\n",
       "      <td>1</td>\n",
       "      <td>[[480, 773]]</td>\n",
       "      <td>[[66669, 66962]]</td>\n",
       "      <td>10.2307/796846</td>\n",
       "      <td>[literature, law and literature, yale law, bil...</td>\n",
       "      <td>None</td>\n",
       "      <td>None</td>\n",
       "      <td>None</td>\n",
       "    </tr>\n",
       "    <tr>\n",
       "      <th>2474</th>\n",
       "      <td>[Teresa Fulker]</td>\n",
       "      <td>1995-01-01</td>\n",
       "      <td>None</td>\n",
       "      <td>document</td>\n",
       "      <td>http://www.jstor.org/stable/24906315</td>\n",
       "      <td>[{'name': 'doi', 'value': '10.2307/24906315'},...</td>\n",
       "      <td>Woolf Studies Annual</td>\n",
       "      <td>None</td>\n",
       "      <td>[eng]</td>\n",
       "      <td>[unigrams, bigrams, trigrams]</td>\n",
       "      <td>...</td>\n",
       "      <td>1</td>\n",
       "      <td>11519</td>\n",
       "      <td>13</td>\n",
       "      <td>[[5199, 5452], [5665, 5928], [13017, 13060], [...</td>\n",
       "      <td>[[34076, 34329], [34343, 34606], [34834, 34877...</td>\n",
       "      <td>10.2307/24906315</td>\n",
       "      <td>None</td>\n",
       "      <td>None</td>\n",
       "      <td>None</td>\n",
       "      <td>None</td>\n",
       "    </tr>\n",
       "    <tr>\n",
       "      <th>2477</th>\n",
       "      <td>[R. T. Chapman]</td>\n",
       "      <td>1972-10-01</td>\n",
       "      <td>None</td>\n",
       "      <td>document</td>\n",
       "      <td>http://www.jstor.org/stable/26279210</td>\n",
       "      <td>[{'name': 'doi', 'value': '10.2307/26279210'},...</td>\n",
       "      <td>Modern Fiction Studies</td>\n",
       "      <td>3</td>\n",
       "      <td>[eng]</td>\n",
       "      <td>[unigrams, bigrams, trigrams]</td>\n",
       "      <td>...</td>\n",
       "      <td>18</td>\n",
       "      <td>3219</td>\n",
       "      <td>1</td>\n",
       "      <td>[[10753, 10795]]</td>\n",
       "      <td>[[5066, 5108]]</td>\n",
       "      <td>10.2307/26279210</td>\n",
       "      <td>[virginia woolfs, isabella, isabella tyson, lo...</td>\n",
       "      <td>None</td>\n",
       "      <td>None</td>\n",
       "      <td>None</td>\n",
       "    </tr>\n",
       "    <tr>\n",
       "      <th>2481</th>\n",
       "      <td>[Keith A. Dickson]</td>\n",
       "      <td>1973-01-01</td>\n",
       "      <td>research-article</td>\n",
       "      <td>article</td>\n",
       "      <td>http://www.jstor.org/stable/3726209</td>\n",
       "      <td>[{'name': 'issn', 'value': '00267937'}, {'name...</td>\n",
       "      <td>The Modern Language Review</td>\n",
       "      <td>1</td>\n",
       "      <td>[eng]</td>\n",
       "      <td>[unigram, bigram, trigram]</td>\n",
       "      <td>...</td>\n",
       "      <td>68</td>\n",
       "      <td>8469</td>\n",
       "      <td>1</td>\n",
       "      <td>[[174199, 174266]]</td>\n",
       "      <td>[[86, 151]]</td>\n",
       "      <td>None</td>\n",
       "      <td>None</td>\n",
       "      <td>None</td>\n",
       "      <td>None</td>\n",
       "      <td>None</td>\n",
       "    </tr>\n",
       "    <tr>\n",
       "      <th>2488</th>\n",
       "      <td>[Emily James]</td>\n",
       "      <td>2017-09-01</td>\n",
       "      <td>research-article</td>\n",
       "      <td>article</td>\n",
       "      <td>http://www.jstor.org/stable/26806792</td>\n",
       "      <td>[{'name': 'doi', 'value': '10.2307/26806792'},...</td>\n",
       "      <td>Twentieth Century Literature</td>\n",
       "      <td>3</td>\n",
       "      <td>[eng]</td>\n",
       "      <td>[unigrams, bigrams, trigrams]</td>\n",
       "      <td>...</td>\n",
       "      <td>63</td>\n",
       "      <td>11873</td>\n",
       "      <td>2</td>\n",
       "      <td>[[35058, 35158], [204926, 204980]]</td>\n",
       "      <td>[[12282, 12379], [22771, 22825]]</td>\n",
       "      <td>10.2307/26806792</td>\n",
       "      <td>[inkblot, blotting paper, modernist inkblot, w...</td>\n",
       "      <td>This essay explores the inkblot as a modernist...</td>\n",
       "      <td>None</td>\n",
       "      <td>None</td>\n",
       "    </tr>\n",
       "  </tbody>\n",
       "</table>\n",
       "<p>434 rows × 31 columns</p>\n",
       "</div>"
      ],
      "text/plain": [
       "                  creator datePublished        docSubType   docType  \\\n",
       "3       [Margaret Harris]    1973-10-01              None  document   \n",
       "20     [Beth C. Schwartz]    1991-10-01  research-article   article   \n",
       "23        [Karen Kaivola]    1998-01-01              None  document   \n",
       "26    [David Neal Miller]    1972-05-01              None  document   \n",
       "35        [Stefan Oltean]    1993-12-01  research-article   article   \n",
       "...                   ...           ...               ...       ...   \n",
       "2473  [Gretchen A. Craft]    1992-11-01              None  document   \n",
       "2474      [Teresa Fulker]    1995-01-01              None  document   \n",
       "2477      [R. T. Chapman]    1972-10-01              None  document   \n",
       "2481   [Keith A. Dickson]    1973-01-01  research-article   article   \n",
       "2488        [Emily James]    2017-09-01  research-article   article   \n",
       "\n",
       "                                        id  \\\n",
       "3     http://www.jstor.org/stable/42946111   \n",
       "20     http://www.jstor.org/stable/2873462   \n",
       "23    http://www.jstor.org/stable/24906336   \n",
       "26    http://www.jstor.org/stable/30225278   \n",
       "35     http://www.jstor.org/stable/3301100   \n",
       "...                                    ...   \n",
       "2473    http://www.jstor.org/stable/796846   \n",
       "2474  http://www.jstor.org/stable/24906315   \n",
       "2477  http://www.jstor.org/stable/26279210   \n",
       "2481   http://www.jstor.org/stable/3726209   \n",
       "2488  http://www.jstor.org/stable/26806792   \n",
       "\n",
       "                                             identifier  \\\n",
       "3     [{'name': 'doi', 'value': '10.2307/42946111'},...   \n",
       "20    [{'name': 'issn', 'value': '00138304'}, {'name...   \n",
       "23    [{'name': 'doi', 'value': '10.2307/24906336'},...   \n",
       "26    [{'name': 'doi', 'value': '10.2307/30225278'},...   \n",
       "35    [{'name': 'issn', 'value': '03335372'}, {'name...   \n",
       "...                                                 ...   \n",
       "2473  [{'name': 'doi', 'value': '10.2307/796846'}, {...   \n",
       "2474  [{'name': 'doi', 'value': '10.2307/24906315'},...   \n",
       "2477  [{'name': 'doi', 'value': '10.2307/26279210'},...   \n",
       "2481  [{'name': 'issn', 'value': '00267937'}, {'name...   \n",
       "2488  [{'name': 'doi', 'value': '10.2307/26806792'},...   \n",
       "\n",
       "                          isPartOf issueNumber language  \\\n",
       "3                             None           3    [eng]   \n",
       "20                             ELH           3    [eng]   \n",
       "23            Woolf Studies Annual        None    [eng]   \n",
       "26                            None           2    [eng]   \n",
       "35                   Poetics Today           4    [eng]   \n",
       "...                            ...         ...      ...   \n",
       "2473                          None           2    [eng]   \n",
       "2474          Woolf Studies Annual        None    [eng]   \n",
       "2477        Modern Fiction Studies           3    [eng]   \n",
       "2481    The Modern Language Review           1    [eng]   \n",
       "2488  Twentieth Century Literature           3    [eng]   \n",
       "\n",
       "                       outputFormat  ...  volumeNumber wordCount numMatches  \\\n",
       "3     [unigrams, bigrams, trigrams]  ...             7      9110          4   \n",
       "20       [unigram, bigram, trigram]  ...            58     11088          1   \n",
       "23    [unigrams, bigrams, trigrams]  ...             4     10877          1   \n",
       "26    [unigrams, bigrams, trigrams]  ...             2      3851          5   \n",
       "35       [unigram, bigram, trigram]  ...            14     10061          2   \n",
       "...                             ...  ...           ...       ...        ...   \n",
       "2473  [unigrams, bigrams, trigrams]  ...           102     13555          1   \n",
       "2474  [unigrams, bigrams, trigrams]  ...             1     11519         13   \n",
       "2477  [unigrams, bigrams, trigrams]  ...            18      3219          1   \n",
       "2481     [unigram, bigram, trigram]  ...            68      8469          1   \n",
       "2488  [unigrams, bigrams, trigrams]  ...            63     11873          2   \n",
       "\n",
       "                                         Locations in A  \\\n",
       "3     [[0, 203], [902, 1418], [1831, 2251], [2957, 2...   \n",
       "20                                   [[146124, 146293]]   \n",
       "23                                     [[53836, 53913]]   \n",
       "26    [[68337, 69056], [255507, 255978], [274856, 27...   \n",
       "35                     [[55110, 55201], [62742, 62789]]   \n",
       "...                                                 ...   \n",
       "2473                                       [[480, 773]]   \n",
       "2474  [[5199, 5452], [5665, 5928], [13017, 13060], [...   \n",
       "2477                                   [[10753, 10795]]   \n",
       "2481                                 [[174199, 174266]]   \n",
       "2488                 [[35058, 35158], [204926, 204980]]   \n",
       "\n",
       "                                         Locations in B               doi  \\\n",
       "3     [[39742, 39944], [41338, 41854], [42922, 43343...  10.2307/42946111   \n",
       "20                                     [[28012, 28559]]              None   \n",
       "23                                     [[46150, 46227]]  10.2307/24906336   \n",
       "26    [[2113, 2802], [4050, 4521], [10849, 10908], [...  10.2307/30225278   \n",
       "35                         [[3607, 3702], [5348, 5395]]              None   \n",
       "...                                                 ...               ...   \n",
       "2473                                   [[66669, 66962]]    10.2307/796846   \n",
       "2474  [[34076, 34329], [34343, 34606], [34834, 34877...  10.2307/24906315   \n",
       "2477                                     [[5066, 5108]]  10.2307/26279210   \n",
       "2481                                        [[86, 151]]              None   \n",
       "2488                   [[12282, 12379], [22771, 22825]]  10.2307/26806792   \n",
       "\n",
       "                                              keyphrase  \\\n",
       "3     [merediths, victors, merediths prose, george m...   \n",
       "20                                                 None   \n",
       "23    [lesbian, identity, sackville wests, sexual id...   \n",
       "26    [authorial, septimus, authorial point, clariss...   \n",
       "35                                                 None   \n",
       "...                                                 ...   \n",
       "2473  [literature, law and literature, yale law, bil...   \n",
       "2474                                               None   \n",
       "2477  [virginia woolfs, isabella, isabella tyson, lo...   \n",
       "2481                                               None   \n",
       "2488  [inkblot, blotting paper, modernist inkblot, w...   \n",
       "\n",
       "                                               abstract placeOfPublication  \\\n",
       "3     Meredith's prose style has frequently been att...               None   \n",
       "20                                                 None               None   \n",
       "23                                                 None               None   \n",
       "26                                                 None               None   \n",
       "35    This article proposes an interpretation of the...               None   \n",
       "...                                                 ...                ...   \n",
       "2473                                               None               None   \n",
       "2474                                               None               None   \n",
       "2477                                               None               None   \n",
       "2481                                               None               None   \n",
       "2488  This essay explores the inkblot as a modernist...               None   \n",
       "\n",
       "     subTitle  \n",
       "3        None  \n",
       "20       None  \n",
       "23       None  \n",
       "26       None  \n",
       "35       None  \n",
       "...       ...  \n",
       "2473     None  \n",
       "2474     None  \n",
       "2477     None  \n",
       "2481     None  \n",
       "2488     None  \n",
       "\n",
       "[434 rows x 31 columns]"
      ]
     },
     "execution_count": 59,
     "metadata": {},
     "output_type": "execute_result"
    }
   ],
   "source": [
    "# Drop items with no matches from dataframe\n",
    "\n",
    "df = df[df['numMatches']>=1]\n",
    "df"
   ]
  },
  {
   "cell_type": "code",
   "execution_count": 60,
   "metadata": {},
   "outputs": [
    {
     "name": "stdout",
     "output_type": "stream",
     "text": [
      "Woolf Studies Annual                                                          55\n",
      "Modern Fiction Studies                                                        39\n",
      "Journal of Modern Literature                                                  27\n",
      "Twentieth Century Literature                                                  20\n",
      "NOVEL: A Forum on Fiction                                                     14\n",
      "Studies in the Novel                                                           7\n",
      "ELH                                                                            6\n",
      "Contemporary Literature                                                        5\n",
      "Poetics Today                                                                  5\n",
      "Critical Inquiry                                                               5\n",
      "College English                                                                5\n",
      "The Sewanee Review                                                             5\n",
      "The Modern Language Review                                                     5\n",
      "Modern Language Studies                                                        4\n",
      "Tulsa Studies in Women's Literature                                            4\n",
      "CEA Critic                                                                     4\n",
      "Comparative Literature Studies                                                 4\n",
      "The Yearbook of English Studies                                                4\n",
      "Criticism                                                                      4\n",
      "Feminist Studies                                                               3\n",
      "Neuphilologische Mitteilungen                                                  3\n",
      "Comparative Literature                                                         3\n",
      "Signs                                                                          3\n",
      "South Central Review                                                           3\n",
      "PMLA                                                                           3\n",
      "The Virginia Quarterly Review                                                  3\n",
      "New Literary History                                                           3\n",
      "The Review of English Studies                                                  3\n",
      "Deleuze Studies                                                                3\n",
      "Mosaic: A Journal for the Interdisciplinary Study of Literature                3\n",
      "Modern Philology                                                               2\n",
      "Southwest Review                                                               2\n",
      "Nineteenth-Century Literature                                                  2\n",
      "Conradiana                                                                     2\n",
      "The Journal of Aesthetics and Art Criticism                                    2\n",
      "Representations                                                                2\n",
      "Oxford Literary Review                                                         2\n",
      "World Literature Today                                                         2\n",
      "International Ford Madox Ford Studies                                          2\n",
      "NWSA Journal                                                                   2\n",
      "African American Review                                                        2\n",
      "Counterpoints                                                                  2\n",
      "The San Francisco Jung Institute Library Journal                               2\n",
      "Diacritics                                                                     2\n",
      "James Joyce Quarterly                                                          2\n",
      "The Mississippi Quarterly                                                      2\n",
      "Journal of the History of Ideas                                                2\n",
      "New Blackfriars                                                                2\n",
      "The Journal of the Midwest Modern Language Association                         2\n",
      "Agni                                                                           1\n",
      "Literature and Theology                                                        1\n",
      "Text                                                                           1\n",
      "South Atlantic Review                                                          1\n",
      "Christianity and Literature                                                    1\n",
      "Economic and Political Weekly                                                  1\n",
      "The Journal of Aesthetic Education                                             1\n",
      "The Powys Journal                                                              1\n",
      "The English Journal                                                            1\n",
      "Japanese Language and Literature                                               1\n",
      "The Cambridge Quarterly                                                        1\n",
      "Soundings: An Interdisciplinary Journal                                        1\n",
      "Film Criticism                                                                 1\n",
      "History and Theory                                                             1\n",
      "Edith Wharton Review                                                           1\n",
      "The Translator's Doubts: Vladimir Nabokov and the Ambiguity of Translation     1\n",
      "Interdisciplinary Literary Studies                                             1\n",
      "Texas Studies in Literature and Language                                       1\n",
      "Mosaic: An Interdisciplinary Critical Journal                                  1\n",
      "Narrative                                                                      1\n",
      "Biography                                                                      1\n",
      "Pilgrimages: The Journal of Dorothy Richardson Studies                         1\n",
      "Cultural Critique                                                              1\n",
      "Weary Warriors: Power, Knowledge, and the Invisible Wounds of Soldiers         1\n",
      "Studies in American Humor                                                      1\n",
      "Greatness Engendered: George Eliot and Virginia Woolf                          1\n",
      "The Women's Review of Books                                                    1\n",
      "Alif: Journal of Comparative Poetics                                           1\n",
      "Modern Chinese Literature and Culture                                          1\n",
      "James Joyce Literary Supplement                                                1\n",
      "The Centennial Review                                                          1\n",
      "The Annals of the Hitotsubashi Academy                                         1\n",
      "Natural Language Semantics                                                     1\n",
      "Creative Nonfiction                                                            1\n",
      "Popular Music                                                                  1\n",
      "Dance Chronicle                                                                1\n",
      "Style                                                                          1\n",
      "American Literary History                                                      1\n",
      "Greatness Engendered                                                           1\n",
      "The Threepenny Review                                                          1\n",
      "Feminist Review                                                                1\n",
      "Hebrew Studies                                                                 1\n",
      "Journal of the Fantastic in the Arts                                           1\n",
      "Journal of African Cultural Studies                                            1\n",
      "Early American Literature                                                      1\n",
      "College Literature                                                             1\n",
      "Key Words: A Journal of Cultural Materialism                                   1\n",
      "George Eliot - George Henry Lewes Studies                                      1\n",
      "Jane Austen, Virginia Woolf and Worldly Realism                                1\n",
      "Pacific Coast Philology                                                        1\n",
      "Lectura Dantis                                                                 1\n",
      "Journal of British Studies                                                     1\n",
      "Architecture and Modern Literature                                             1\n",
      "Bulletin d'informations proustiennes                                           1\n",
      "Modernism and the Choreographic Imagination: Salome’s Dance after 1890         1\n",
      "Wisconsin Studies in Contemporary Literature                                   1\n",
      "The Journal of American Folklore                                               1\n",
      "London's Urban Landscape: Another Way of Telling                               1\n",
      "International Affairs (Royal Institute of International Affairs 1944-)         1\n",
      "The D.H. Lawrence Review                                                       1\n",
      "Hispamérica                                                                    1\n",
      "Woman's Art Journal                                                            1\n",
      "American Imago                                                                 1\n",
      "Harvard Review                                                                 1\n",
      "India International Centre Quarterly                                           1\n",
      "Revue française d'études américaines                                           1\n",
      "Research in Phenomenology                                                      1\n",
      "Keats-Shelley Journal                                                          1\n",
      "The Hudson Review                                                              1\n",
      "CLA Journal                                                                    1\n",
      "Music and the Moving Image                                                     1\n",
      "Journal of Contemporary History                                                1\n",
      "MELUS                                                                          1\n",
      "Vergilius (1959-)                                                              1\n",
      "Callaloo                                                                       1\n",
      "Name: isPartOf, dtype: int64\n"
     ]
    }
   ],
   "source": [
    "# Display table with journal counts\n",
    "\n",
    "with pd.option_context('display.max_rows', None, 'display.max_columns', None):\n",
    "    print(df[\"isPartOf\"].value_counts())"
   ]
  },
  {
   "cell_type": "code",
   "execution_count": 61,
   "metadata": {},
   "outputs": [],
   "source": [
    "inputText = f\"{sourceDir}/{projectName}_plaintext.txt\"\n",
    "with open(inputText) as f: \n",
    "    txt = f.read()"
   ]
  },
  {
   "cell_type": "code",
   "execution_count": 62,
   "metadata": {},
   "outputs": [
    {
     "name": "stdout",
     "output_type": "stream",
     "text": [
      "359167\n"
     ]
    }
   ],
   "source": [
    "textALength = print(len(txt))"
   ]
  },
  {
   "cell_type": "code",
   "execution_count": 63,
   "metadata": {},
   "outputs": [
    {
     "data": {
      "text/plain": [
       "1"
      ]
     },
     "execution_count": 63,
     "metadata": {},
     "output_type": "execute_result"
    }
   ],
   "source": [
    "# Get page locations\n",
    "pageMatches = txt.split('~')\n",
    "pageMatches = [match.strip() for match in pageMatches]\n",
    "len(pageMatches)"
   ]
  },
  {
   "cell_type": "code",
   "execution_count": null,
   "metadata": {},
   "outputs": [],
   "source": [
    "df.loc[df[\"numMatches\"] >=1]"
   ]
  },
  {
   "cell_type": "code",
   "execution_count": null,
   "metadata": {},
   "outputs": [],
   "source": [
    "sum([len(item) for item in df['Locations in A'].values])"
   ]
  },
  {
   "cell_type": "markdown",
   "metadata": {},
   "source": [
    "# How many articles do we have? "
   ]
  },
  {
   "cell_type": "code",
   "execution_count": null,
   "metadata": {},
   "outputs": [],
   "source": [
    "len(df) # Total articles with the article in question mentioned somewhere"
   ]
  },
  {
   "cell_type": "markdown",
   "metadata": {},
   "source": [
    "Find only those with non-trivial quotations: "
   ]
  },
  {
   "cell_type": "code",
   "execution_count": null,
   "metadata": {},
   "outputs": [],
   "source": [
    "articlesWithMatches = df[df['Locations in A'].apply(lambda x: len(x) > 0)]\n",
    "articlesWithMatches.datePublished.describe()"
   ]
  },
  {
   "cell_type": "code",
   "execution_count": null,
   "metadata": {},
   "outputs": [],
   "source": [
    "articlesWithMatches.Wordcounts.apply(len).head()"
   ]
  },
  {
   "cell_type": "code",
   "execution_count": null,
   "metadata": {},
   "outputs": [],
   "source": [
    "# articlesWithMatches.to_json('../data/cleaned-matches.json')"
   ]
  },
  {
   "cell_type": "markdown",
   "metadata": {},
   "source": [
    "## How many articles do we have published in each year? "
   ]
  },
  {
   "cell_type": "code",
   "execution_count": null,
   "metadata": {},
   "outputs": [],
   "source": [
    "alt.Chart(articlesWithMatches).mark_bar().encode(x='year:O', y='count()').properties(width=1000)"
   ]
  },
  {
   "cell_type": "code",
   "execution_count": null,
   "metadata": {},
   "outputs": [],
   "source": [
    "df.columns"
   ]
  },
  {
   "cell_type": "code",
   "execution_count": null,
   "metadata": {},
   "outputs": [],
   "source": [
    "df[df['Quoted Words'] > 0]['disc_name'].value_counts().head()"
   ]
  },
  {
   "cell_type": "markdown",
   "metadata": {},
   "source": [
    "## Find Number of Garbage Articles\n",
    "I.e., articles that just contain front matter, contents, etc. "
   ]
  },
  {
   "cell_type": "code",
   "execution_count": null,
   "metadata": {},
   "outputs": [],
   "source": [
    "def isGarbage(itemTitle): \n",
    "    badTitles = ['front matter', 'back matter', 'table of contents', 'cover']\n",
    "    if itemTitle == None: \n",
    "        return False\n",
    "    for title in itemTitle: \n",
    "        for badTitle in badTitles: \n",
    "            if badTitle in title.lower(): \n",
    "                return True\n",
    "    return False"
   ]
  },
  {
   "cell_type": "code",
   "execution_count": null,
   "metadata": {},
   "outputs": [],
   "source": [
    "len(df[df.title.apply(isGarbage)]) # How many garbage items? "
   ]
  },
  {
   "cell_type": "markdown",
   "metadata": {},
   "source": [
    "# Average Numbers of Quoted Words Per Item"
   ]
  },
  {
   "cell_type": "code",
   "execution_count": null,
   "metadata": {},
   "outputs": [],
   "source": [
    "df['Quoted Words'].describe()"
   ]
  },
  {
   "cell_type": "code",
   "execution_count": null,
   "metadata": {},
   "outputs": [],
   "source": [
    "articlesWithMatches['Quoted Words'].describe()"
   ]
  },
  {
   "cell_type": "code",
   "execution_count": null,
   "metadata": {},
   "outputs": [],
   "source": [
    "len(df[df['Quoted Words'] > 0])"
   ]
  },
  {
   "cell_type": "code",
   "execution_count": null,
   "metadata": {},
   "outputs": [],
   "source": [
    "articlesWithMatches['Quoted Words'].hist()"
   ]
  },
  {
   "cell_type": "markdown",
   "metadata": {},
   "source": [
    "## Stats about Wordcounts\n",
    "\n",
    "Average number of words per match, per item: "
   ]
  },
  {
   "cell_type": "code",
   "execution_count": null,
   "metadata": {},
   "outputs": [],
   "source": [
    "articlesWithMatches['Wordcounts'].apply(np.mean).head()"
   ]
  },
  {
   "cell_type": "code",
   "execution_count": null,
   "metadata": {},
   "outputs": [],
   "source": [
    "articlesWithMatches['Wordcounts'].apply(np.mean).describe()"
   ]
  },
  {
   "cell_type": "markdown",
   "metadata": {},
   "source": [
    "#### Functions for extracting wordcounts, numbers of quotations for diachronic and synchronic analysis"
   ]
  },
  {
   "cell_type": "code",
   "execution_count": null,
   "metadata": {},
   "outputs": [],
   "source": [
    "def diachronicAnalysis(df, decades=(1950, 2020), bins=chapterLocations, useWordcounts=True, normalize=True):\n",
    "    \"\"\" Turning on useWordcounts makes it so that it's weighted by wordcount. \n",
    "    Turning it off uses raw numbers of quotations. \"\"\"\n",
    "    decades = np.arange(decades[0], decades[1], 10)\n",
    "    # Make a dictionary of decades. \n",
    "    # Values are a list of locations.  \n",
    "    decadeDict = {}\n",
    "    for i, row in df.iterrows():\n",
    "        decade = row['Decade']\n",
    "        locationsAndWordcounts = row['Locations in A with Wordcounts']\n",
    "        if decade not in decadeDict: \n",
    "            decadeDict[decade] = locationsAndWordcounts.copy()\n",
    "        else: \n",
    "            decadeDict[decade] += locationsAndWordcounts.copy()\n",
    "    # Grab the beginnings of quotes. \n",
    "    decadeStartsWeights = {decade: [(item[0][0], item[1]) \n",
    "                                    for item in loc] \n",
    "                    for decade, loc in decadeDict.items()}\n",
    "    if useWordcounts: \n",
    "        decadesBinned = {decade: \n",
    "                     np.histogram([loc[0] for loc in locations], \n",
    "                                  bins=bins,\n",
    "                                  weights=[loc[1] for loc in locations],\n",
    "                                  range=(0, textALength))[0]\n",
    "                     for decade, locations in decadeStartsWeights.items() \n",
    "                         if decade in decades}\n",
    "    else: \n",
    "        decadesBinned = {decade: \n",
    "                     np.histogram([loc[0] for loc in locations], \n",
    "                                  bins=bins,\n",
    "                                  range=(0, textALength))[0]\n",
    "                     for decade, locations in decadeStartsWeights.items() \n",
    "                         if decade in decades}\n",
    "    decadesDF = pd.DataFrame(decadesBinned).T\n",
    "    #Normalize\n",
    "    if normalize: \n",
    "        decadesDF = decadesDF.div(decadesDF.max(axis=1), axis=0)\n",
    "    return decadesDF\n",
    "\n",
    "def countWords(locRange): \n",
    "    \"\"\" Counts words in middlemarch, given character ranges. \"\"\"\n",
    "    chunk = mm[locRange[0]:locRange[1]]\n",
    "    return len(chunk.split())\n",
    "\n",
    "def totalWords(locRangeSet): \n",
    "    \"\"\" Counts total words in a list of location ranges. \"\"\"\n",
    "    return sum([countWords(locRange) for locRange in locRangeSet])    \n",
    "    \n",
    "def countsPerSet(locRangeSet): \n",
    "    \"\"\" Returns an augmented location range set that includes word counts. \"\"\"\n",
    "    return [(locRange, countWords(locRange))\n",
    "             for locRange in locRangeSet]\n",
    "    \n",
    "def extractWordcounts(locsAndWordcounts): \n",
    "    \"\"\" \n",
    "    Takes pairs of location ranges and wordcounts, \n",
    "    and returns just the wordcounts. \n",
    "    \"\"\"\n",
    "    return [item[1] for item in locsAndWordcounts \n",
    "            if len(locsAndWordcounts) > 0]\n",
    "\n",
    "def synchronicAnalysis(df, bins=chapterLocations, useWordcounts=True): \n",
    "    locs = df['Locations in A'].values\n",
    "    locCounts = [(loc, countWords(loc)) for locSet in locs\n",
    "              for loc in locSet]\n",
    "    starts = [loc[0][0] for loc in locCounts]\n",
    "    counts = [loc[1] for loc in locCounts]\n",
    "    if useWordcounts: \n",
    "        binned = np.histogram(starts, bins=bins, \n",
    "                              weights=counts, range=(0, textALength))\n",
    "    else: \n",
    "        binned = np.histogram(starts, bins=bins, \n",
    "                              range=(0, textALength))\n",
    "    binnedDF = pd.Series(binned[0])\n",
    "    return binnedDF\n",
    "\n",
    "def plotDiachronicAnalysis(df, save=False, reverse=False): \n",
    "    ylabels = [str(int(decade)) for decade in df.index] + ['2020']\n",
    "    plt.pcolor(df, cmap='gnuplot')\n",
    "    plt.yticks(np.arange(len(df.index)+1), ylabels)\n",
    "    plt.gca().invert_yaxis()\n",
    "    plt.ylabel('Decade')\n",
    "    plt.xlabel('Chapter')\n",
    "    plt.gca().set_xlim((0, len(df.T)))\n",
    "    plt.colorbar(ticks=[])\n",
    "    if save: \n",
    "        plt.savefig('diachronic.png', bboxinches='tight', dpi=300, transparent=True)\n",
    "    plt.show()\n",
    "    \n",
    "def plotSynchronicAnalysis(s, useWordcounts=True): \n",
    "    ax = s.plot(kind='bar')\n",
    "    ax.set_xlabel('Chapter')\n",
    "    if useWordcounts: \n",
    "        ax.set_ylabel('Number of Words Quoted')\n",
    "    else: \n",
    "        ax.set_ylabel('Number of Quotations')\n",
    "        \n",
    "def plotSynchronicAnalysisHeatmap(s, useWordcounts=True): \n",
    "    vec1=synchronicAnalysis(df, useWordcounts=False)\n",
    "    fig, ax = plt.subplots()\n",
    "    sns.color_palette(\"magma\")\n",
    "    sns.heatmap([vec1])\n",
    "    ax.set_xlabel('Chapter')\n",
    "    ax.set_ylabel('Number of Quotations')\n",
    "    \n",
    "def plotDiachronicAnalysisBubble(df, save=False, reverse=False):\n",
    "    ylabels = [str(int(decade)) for decade in df.index] + ['2020'] \n",
    "    alt.Chart(df).mark_circle().encode(\n",
    "    x='Chapter',\n",
    "    y='Decade',\n",
    "    size='sum(count):Q'\n",
    ")"
   ]
  },
  {
   "cell_type": "code",
   "execution_count": null,
   "metadata": {},
   "outputs": [],
   "source": [
    "df['Quoted Words'] = df['Locations in A'].apply(totalWords)"
   ]
  },
  {
   "cell_type": "code",
   "execution_count": null,
   "metadata": {},
   "outputs": [],
   "source": [
    "df['Locations in A with Wordcounts'] = df['Locations in A'].apply(countsPerSet)"
   ]
  },
  {
   "cell_type": "code",
   "execution_count": null,
   "metadata": {},
   "outputs": [],
   "source": [
    "# Verify that the diachronic wordcounts are the same as the synchronic wordcounts\n",
    "decadeSums = diachronicAnalysis(df, decades=(1700, 2020), useWordcounts=True, normalize=False).sum(axis=1)\n",
    "decadeSums.sum()"
   ]
  },
  {
   "cell_type": "code",
   "execution_count": null,
   "metadata": {},
   "outputs": [],
   "source": [
    "chapterSums = synchronicAnalysis(df)\n",
    "chapterSums.sum()"
   ]
  },
  {
   "cell_type": "markdown",
   "metadata": {},
   "source": [
    "# Quotation Length Statistics"
   ]
  },
  {
   "cell_type": "code",
   "execution_count": null,
   "metadata": {},
   "outputs": [],
   "source": [
    "df['Wordcounts'] = df['Locations in A with Wordcounts'].apply(extractWordcounts)"
   ]
  },
  {
   "cell_type": "code",
   "execution_count": null,
   "metadata": {},
   "outputs": [],
   "source": [
    "wordcounts = []\n",
    "for countSet in df['Wordcounts'].values: \n",
    "    for count in countSet: \n",
    "        wordcounts.append(count)"
   ]
  },
  {
   "cell_type": "code",
   "execution_count": null,
   "metadata": {},
   "outputs": [],
   "source": [
    "pd.Series(wordcounts).hist()"
   ]
  },
  {
   "cell_type": "markdown",
   "metadata": {},
   "source": [
    "# Number of Quotes (and words Quoted) by Chapter"
   ]
  },
  {
   "cell_type": "code",
   "execution_count": null,
   "metadata": {},
   "outputs": [],
   "source": [
    "plotSynchronicAnalysis(synchronicAnalysis(df))"
   ]
  },
  {
   "cell_type": "code",
   "execution_count": null,
   "metadata": {},
   "outputs": [],
   "source": [
    "synchronicAnalysis(df, useWordcounts=True).to_csv('../papers/spring2017-middlemarch-paper/data/num-words-quoted-per-chapter.csv')"
   ]
  },
  {
   "cell_type": "markdown",
   "metadata": {},
   "source": [
    "### Total number of matches"
   ]
  },
  {
   "cell_type": "code",
   "execution_count": null,
   "metadata": {},
   "outputs": [],
   "source": [
    "allMatches = []\n",
    "for group in df['Locations in A'].values: \n",
    "    for pair in group: \n",
    "        allMatches.append(pair)"
   ]
  },
  {
   "cell_type": "code",
   "execution_count": null,
   "metadata": {},
   "outputs": [],
   "source": [
    "len(allMatches)"
   ]
  },
  {
   "cell_type": "code",
   "execution_count": null,
   "metadata": {},
   "outputs": [],
   "source": []
  },
  {
   "cell_type": "code",
   "execution_count": null,
   "metadata": {},
   "outputs": [],
   "source": [
    "plotSynchronicAnalysis(synchronicAnalysis(df, useWordcounts=False), useWordcounts=False)"
   ]
  },
  {
   "cell_type": "code",
   "execution_count": null,
   "metadata": {},
   "outputs": [],
   "source": [
    "quotationsPerChapter = synchronicAnalysis(df, bins=chapterLocations, useWordcounts=False)\n",
    "quotationsPerChapter"
   ]
  },
  {
   "cell_type": "code",
   "execution_count": null,
   "metadata": {},
   "outputs": [],
   "source": [
    "quotationsPerChapter = pd.DataFrame(quotationsPerChapter, index=range(0,88), columns=['Number of Quotations'])\n",
    "quotationsPerChapter['Chapter'] = range(0, 88)\n",
    "quotationsPerChapter"
   ]
  },
  {
   "cell_type": "code",
   "execution_count": null,
   "metadata": {},
   "outputs": [],
   "source": [
    "alt.Chart(quotationsPerChapter).mark_circle().encode(x='Chapter:O', size='Number of Quotations:Q').properties(width=1000, height=150)"
   ]
  },
  {
   "cell_type": "code",
   "execution_count": null,
   "metadata": {},
   "outputs": [],
   "source": [
    "alt.Chart(quotationsPerChapter).mark_circle().encode(x='Chapter:O', size=alt.Size('Number of Quotations:Q', scale=alt.Scale(range=[1, 1000]))).properties(width=1000, height=150)"
   ]
  },
  {
   "cell_type": "code",
   "execution_count": null,
   "metadata": {},
   "outputs": [],
   "source": [
    "# Redo chart with horizontal labels\n",
    "alt.Chart(quotationsPerChapter).mark_circle().encode(x=alt.X('Chapter:Q', axis=alt.Axis(title=\"Chapter\", tickMinStep=5,\n",
    "                                       labelOverlap=False,labelAngle=0)), \n",
    "size=alt.Size('Number of Quotations:Q', scale=alt.Scale(range=[1, 1000]))).properties(width=1000,height=150).configure_legend(\n",
    "    titleFontSize=9,\n",
    "    labelFontSize=10\n",
    ")"
   ]
  },
  {
   "cell_type": "code",
   "execution_count": null,
   "metadata": {},
   "outputs": [],
   "source": [
    "alt.Chart(quotationsPerChapter).mark_circle().encode(y='Chapter:O', size=alt.Size('Number of Quotations:Q', scale=alt.Scale(range=[1, 1000]))).properties(width=150)"
   ]
  },
  {
   "cell_type": "markdown",
   "metadata": {},
   "source": [
    "## Quotations Per Book"
   ]
  },
  {
   "cell_type": "code",
   "execution_count": null,
   "metadata": {},
   "outputs": [],
   "source": [
    "quotationsPerBook = synchronicAnalysis(df, bins=bookLocations, useWordcounts=False)\n",
    "quotationsPerBook"
   ]
  },
  {
   "cell_type": "code",
   "execution_count": null,
   "metadata": {},
   "outputs": [],
   "source": [
    "quotationsPerBook = pd.DataFrame(quotationsPerBook, index=range(1,9), columns=['Number of Quotations'])\n",
    "quotationsPerBook['Book'] = range(1, 9)\n",
    "quotationsPerBook"
   ]
  },
  {
   "cell_type": "code",
   "execution_count": null,
   "metadata": {},
   "outputs": [],
   "source": [
    "alt.Chart(quotationsPerBook).mark_bar().encode(x='Book:O', y='Number of Quotations:Q').properties(width=500)"
   ]
  },
  {
   "cell_type": "code",
   "execution_count": null,
   "metadata": {},
   "outputs": [],
   "source": [
    "alt.Chart(quotationsPerBook).mark_circle().encode(x='Book:O', size=alt.Size('Number of Quotations:Q')).properties(height=150).configure_legend(\n",
    "titleFontSize=9,\n",
    "labelFontSize=10\n",
    ") "
   ]
  },
  {
   "cell_type": "code",
   "execution_count": null,
   "metadata": {},
   "outputs": [],
   "source": [
    "# Redo chart with horizontal labels\n",
    "alt.Chart(quotationsPerBook).mark_circle().encode(x=alt.X('Book:O', axis=alt.Axis(title=\"Book\", labelAngle=0,)), \n",
    "size=alt.Size('Number of Quotations:Q')).properties(height=150).configure_legend(\n",
    "    titleFontSize=9,\n",
    "    labelFontSize=10\n",
    ")"
   ]
  },
  {
   "cell_type": "markdown",
   "metadata": {},
   "source": [
    "## Raw Number of Quotations Per Chapter"
   ]
  },
  {
   "cell_type": "code",
   "execution_count": null,
   "metadata": {},
   "outputs": [],
   "source": [
    "# Get the raw number of quotations per chapter\n",
    "# synchronicAnalysis(df, useWordcounts=False).to_csv('../papers/spring2017-middlemarch-paper/data/num-quotations-per-chapter.csv')"
   ]
  },
  {
   "cell_type": "code",
   "execution_count": null,
   "metadata": {},
   "outputs": [],
   "source": [
    "# Adjusted for the number of words in each chapter\n",
    "ax = (synchronicAnalysis(df) / chapterLengthsSeries).plot(kind='bar')\n",
    "ax.set_xlabel('Chapter')\n",
    "ax.set_ylabel('Words Quoted, Normalized')"
   ]
  },
  {
   "cell_type": "code",
   "execution_count": null,
   "metadata": {},
   "outputs": [],
   "source": [
    "plotDiachronicAnalysis(diachronicAnalysis(df, decades=(1950, 2020), bins=chapterLocations).sort_index())"
   ]
  },
  {
   "cell_type": "code",
   "execution_count": null,
   "metadata": {},
   "outputs": [],
   "source": [
    "plotDiachronicAnalysis(diachronicAnalysis(df, decades=(1960, 2020), bins=chapterLocations).sort_index())"
   ]
  },
  {
   "cell_type": "code",
   "execution_count": null,
   "metadata": {},
   "outputs": [],
   "source": [
    "# Create a one-dimensional heatmap of the synchonic raw number of quotations per chapter, as heatmap\n",
    "vec1=synchronicAnalysis(df, useWordcounts=False)\n",
    "fig, ax = plt.subplots()\n",
    "sns.color_palette(\"magma\")\n",
    "sns.heatmap([vec1])\n",
    "ax.set_xlabel('Chapter')\n",
    "ax.set_ylabel('Number of Quotations')"
   ]
  },
  {
   "cell_type": "code",
   "execution_count": null,
   "metadata": {},
   "outputs": [],
   "source": [
    "# Create a one-dimensional heatmap of the synchonic raw number of quotations per chapter, as heatmap\n",
    "# INVERTED COLOR SCHEMA\n",
    "vec1=synchronicAnalysis(df, useWordcounts=False)\n",
    "fig, ax = plt.subplots()\n",
    "sns.heatmap([vec1], cmap = 'magma_r')\n",
    "ax.set_xlabel('Chapter')\n",
    "ax.set_ylabel('Number of Quotations')"
   ]
  },
  {
   "cell_type": "code",
   "execution_count": null,
   "metadata": {},
   "outputs": [],
   "source": [
    "diaDF = diachronicAnalysis(df, decades=(1960, 2020), bins=chapterLocations).sort_index()"
   ]
  },
  {
   "cell_type": "code",
   "execution_count": null,
   "metadata": {},
   "outputs": [],
   "source": [
    "diaDFquoteOnly = diachronicAnalysis(df, decades=(1960, 2020), bins=chapterLocations, useWordcounts=False, normalize=False).sort_index()"
   ]
  },
  {
   "cell_type": "code",
   "execution_count": null,
   "metadata": {},
   "outputs": [],
   "source": [
    "plotDiachronicAnalysisBubble(diachronicAnalysis(df, decades=(1960, 2020), bins=chapterLocations).sort_index())"
   ]
  },
  {
   "cell_type": "code",
   "execution_count": null,
   "metadata": {},
   "outputs": [],
   "source": [
    "synDF = synchronicAnalysis(df, useWordcounts=False)"
   ]
  },
  {
   "cell_type": "code",
   "execution_count": null,
   "metadata": {},
   "outputs": [],
   "source": [
    "synDF.index.name = 'chapter'"
   ]
  },
  {
   "cell_type": "code",
   "execution_count": null,
   "metadata": {},
   "outputs": [],
   "source": [
    "synDF"
   ]
  },
  {
   "cell_type": "markdown",
   "metadata": {},
   "source": [
    "## Redo chart in Altair"
   ]
  },
  {
   "cell_type": "code",
   "execution_count": null,
   "metadata": {},
   "outputs": [],
   "source": [
    "diaDF.columns.name = 'chapter'\n",
    "diaDF.index.name = 'decade'"
   ]
  },
  {
   "cell_type": "code",
   "execution_count": null,
   "metadata": {},
   "outputs": [],
   "source": [
    "diaDF"
   ]
  },
  {
   "cell_type": "code",
   "execution_count": null,
   "metadata": {},
   "outputs": [],
   "source": [
    "# Redo with raw quotations, not normalized by decade\n",
    "diaDFquoteOnly.columns.name ='chapter'\n",
    "diaDFquoteOnly.index.name = 'decade'"
   ]
  },
  {
   "cell_type": "code",
   "execution_count": null,
   "metadata": {},
   "outputs": [],
   "source": [
    "diaDFquoteOnly"
   ]
  },
  {
   "cell_type": "code",
   "execution_count": null,
   "metadata": {},
   "outputs": [],
   "source": [
    "diaDF.columns"
   ]
  },
  {
   "cell_type": "code",
   "execution_count": null,
   "metadata": {},
   "outputs": [],
   "source": [
    "diaDF['decade'] = diaDF.index"
   ]
  },
  {
   "cell_type": "code",
   "execution_count": null,
   "metadata": {},
   "outputs": [],
   "source": [
    "diaMelted = diaDF.melt(id_vars='decade')"
   ]
  },
  {
   "cell_type": "code",
   "execution_count": null,
   "metadata": {},
   "outputs": [],
   "source": [
    "diaDFquoteOnly['decade'] = diaDFquoteOnly.index"
   ]
  },
  {
   "cell_type": "code",
   "execution_count": null,
   "metadata": {},
   "outputs": [],
   "source": [
    "diaDFquoteOnlyMelted = diaDFquoteOnly.melt(id_vars='decade')"
   ]
  },
  {
   "cell_type": "code",
   "execution_count": null,
   "metadata": {},
   "outputs": [],
   "source": [
    "alt.Chart(diaMelted).mark_rect().encode(x='chapter:O', y='decade:O', color=alt.Color('value', legend=alt.Legend(title=\"# of Quotations (normalized)\"))).properties(width=1000, height=300).configure(background='#eeeeeeff')"
   ]
  },
  {
   "cell_type": "code",
   "execution_count": null,
   "metadata": {},
   "outputs": [],
   "source": [
    "alt.Chart(diaMelted).mark_circle().encode(x='chapter:O', y='decade:O', size=alt.Size('value',  legend=alt.Legend(title=\"Number of Quotations (normalized)\"), scale=alt.Scale(type = 'threshold', domain = [0, 0.1, 0.2, 0.3, 0.4, 0.5, 0.6, 0.7, 0.8, 0.9, 1], range =[0, 20, 60, 100, 150, 250, 350, 500, 750, 1000, 1500, 2000,]))).properties(width=1000, height=300).configure_legend(\n",
    "titleFontSize=9,\n",
    "labelFontSize=10\n",
    ") "
   ]
  },
  {
   "cell_type": "code",
   "execution_count": null,
   "metadata": {},
   "outputs": [],
   "source": [
    "#Redo Chart to rotate tick marks\n",
    "alt.Chart(diaMelted).mark_circle().encode(\n",
    "    x=alt.X('chapter:Q', axis=alt.Axis(tickMinStep=5,\n",
    "                                       labelOverlap=False,\n",
    "                                   labelAngle=0)), \n",
    "    y=alt.Y('decade:O'), \n",
    "    size=alt.Size('value',  legend=alt.Legend(title=\"Number of Quotations (normalized)\"), \n",
    "                  scale=alt.Scale(type = 'threshold', domain = [0, 0.1, 0.2, 0.3, 0.4, 0.5, 0.6, 0.7, 0.8, 0.9, 1], range =[0, 20, 60, 100, 150, 250, 350, 500, 750, 1000, 1500, 2000,]))).properties(width=1000, height=300).configure_legend(\n",
    "titleFontSize=9,\n",
    "labelFontSize=10\n",
    ") "
   ]
  },
  {
   "cell_type": "code",
   "execution_count": null,
   "metadata": {},
   "outputs": [],
   "source": [
    "#Chart with raw quotations\n",
    "alt.Chart(diaDFquoteOnlyMelted).mark_rect().encode(x='chapter:O', y='decade:O', color='value').properties(width=1000, height=300)"
   ]
  },
  {
   "cell_type": "code",
   "execution_count": null,
   "metadata": {},
   "outputs": [],
   "source": [
    "alt.Chart(diaDFquoteOnlyMelted).mark_circle().encode(x='chapter:O', y='decade:O', size='value').properties(width=1000, height=300)"
   ]
  },
  {
   "cell_type": "code",
   "execution_count": null,
   "metadata": {},
   "outputs": [],
   "source": [
    "booksDiaDF = diachronicAnalysis(df, decades=(1960, 2020), bins=bookLocations).sort_index()\n",
    "booksDiaDF"
   ]
  },
  {
   "cell_type": "code",
   "execution_count": null,
   "metadata": {},
   "outputs": [],
   "source": [
    "booksDiaDF['decade'] = booksDiaDF.index"
   ]
  },
  {
   "cell_type": "code",
   "execution_count": null,
   "metadata": {},
   "outputs": [],
   "source": [
    "booksMelted = booksDiaDF.melt(id_vars='decade', var_name='book')"
   ]
  },
  {
   "cell_type": "code",
   "execution_count": null,
   "metadata": {},
   "outputs": [],
   "source": [
    "booksMelted.head()"
   ]
  },
  {
   "cell_type": "code",
   "execution_count": null,
   "metadata": {},
   "outputs": [],
   "source": [
    "booksMelted = booksMelted[booksMelted.book != 0]\n",
    "booksMelted"
   ]
  },
  {
   "cell_type": "code",
   "execution_count": null,
   "metadata": {},
   "outputs": [],
   "source": [
    "alt.Chart(booksMelted).mark_rect().encode(x='book:O', y='decade:O', color=alt.Color('value', legend=alt.Legend(title=\"# of Quotations (normalized)\"))).properties(width=500, height=300).configure(background='#eeeeeeff')"
   ]
  },
  {
   "cell_type": "code",
   "execution_count": null,
   "metadata": {},
   "outputs": [],
   "source": [
    "alt.Chart(booksMelted).mark_circle().encode(x='book:O', y='decade:O', size='value').properties(width=500, height=300)"
   ]
  },
  {
   "cell_type": "code",
   "execution_count": null,
   "metadata": {},
   "outputs": [],
   "source": [
    "alt.Chart(booksMelted).mark_circle().encode(x='book:O', y='decade:O', size=alt.Size('value', legend=alt.Legend(title=\"Number of Quotations (normalized)\"), scale=alt.Scale(type = 'threshold', domain = [0, 0.1, 0.2, 0.3, 0.4, 0.5, 0.6, 0.7, 0.8, 0.9, 1], range =[0, 20, 60, 100, 150, 250, 350, 500, 750, 1000, 1500, 2000,]))).properties(width=500, height=300).configure_legend(\n",
    "titleFontSize=9,\n",
    "labelFontSize=10\n",
    ") "
   ]
  },
  {
   "cell_type": "code",
   "execution_count": null,
   "metadata": {},
   "outputs": [],
   "source": [
    "#Redo Chart to rotate tick marks\n",
    "alt.Chart(booksMelted).mark_circle().encode(\n",
    "    x=alt.X('book:O', axis=alt.Axis(labelOverlap=True,\n",
    "                                   labelAngle=0)), \n",
    "    y=alt.Y('decade:O'), \n",
    "    size=alt.Size('value',  legend=alt.Legend(title=\"Number of Quotations (normalized)\"), \n",
    "                  scale=alt.Scale(type = 'threshold', domain = [0, 0.1, 0.2, 0.3, 0.4, 0.5, 0.6, 0.7, 0.8, 0.9, 1], range =[0, 20, 60, 100, 150, 250, 350, 500, 750, 1000, 1500, 2000,]))).properties(width=500, height=300).configure_legend(\n",
    "titleFontSize=9,\n",
    "labelFontSize=10\n",
    ") "
   ]
  },
  {
   "cell_type": "code",
   "execution_count": null,
   "metadata": {},
   "outputs": [],
   "source": [
    "def plotDiachronicAnalysisBooks(df, save=False, reverse=False): \n",
    "    ylabels = [str(int(decade)) for decade in df.index] + ['2020']\n",
    "    plt.pcolor(df, cmap='gnuplot')\n",
    "    plt.yticks(np.arange(len(df.index)+1), ylabels)\n",
    "    plt.gca().invert_yaxis()\n",
    "    plt.ylabel('Decade')\n",
    "    plt.xlabel('Book')\n",
    "    plt.gca().set_xlim((1, len(df.T)))\n",
    "    plt.colorbar(ticks=[])\n",
    "    if save: \n",
    "        plt.savefig('diachronic.png', bboxinches='tight', dpi=300, transparent=True)\n",
    "    plt.show()\n",
    "\n",
    "plotDiachronicAnalysisBooks(diachronicAnalysis(df, decades=(1950, 2020), bins=bookLocations).sort_index())"
   ]
  },
  {
   "cell_type": "code",
   "execution_count": null,
   "metadata": {},
   "outputs": [],
   "source": [
    "# Export image for publication\n",
    "# plotDiachronicAnalysis(diachronicAnalysis(df, decades=(1950, 2020), bins=chapterLocations), save=True)"
   ]
  },
  {
   "cell_type": "code",
   "execution_count": null,
   "metadata": {},
   "outputs": [],
   "source": [
    "# Get the normalized proportion of, say, Chapter 20 in 1950: \n",
    "diachronicAnalysis(df)[20][1950]"
   ]
  },
  {
   "cell_type": "markdown",
   "metadata": {},
   "source": [
    "# By (Guessed) Gender of Author"
   ]
  },
  {
   "cell_type": "code",
   "execution_count": null,
   "metadata": {},
   "outputs": [],
   "source": [
    "maleNames, femaleNames = names.words('male.txt'), names.words('female.txt')\n",
    "maleNames = [name.lower() for name in maleNames]\n",
    "femaleNames = [name.lower() for name in femaleNames]"
   ]
  },
  {
   "cell_type": "code",
   "execution_count": null,
   "metadata": {},
   "outputs": [],
   "source": [
    "def guessGender(name): \n",
    "    name = name.split()[0].lower() # Grab the first name. \n",
    "    if name in maleNames and name in femaleNames: \n",
    "        return 'A' #Ambiguous\n",
    "    elif name in maleNames: \n",
    "        return 'M'\n",
    "    elif name in femaleNames: \n",
    "        return 'F'\n",
    "    else: \n",
    "        return 'U'\n",
    "\n",
    "def averageGender(names): \n",
    "    if type(names) != list: \n",
    "        return 'U'\n",
    "    genderGuesses = [guessGender(name) for name in names]\n",
    "    stats = Counter(genderGuesses).most_common()\n",
    "    if len(stats) == 1: \n",
    "        # Only one author. We can just use that's author's gender guess. \n",
    "        return stats[0][0]\n",
    "    elif stats[0][1] == stats[1][1]: # There's a tie. \n",
    "        return 'A' # Ambiguous. \n",
    "    else: \n",
    "        return stats[0][0] # Return the most common gender. \n",
    "        "
   ]
  },
  {
   "cell_type": "code",
   "execution_count": null,
   "metadata": {
    "scrolled": true
   },
   "outputs": [],
   "source": [
    "df['gender'] = df['author'].apply(averageGender)\n",
    "dfF = df.loc[df['gender'] == 'F']\n",
    "dfM = df.loc[df['gender'] == 'M']"
   ]
  },
  {
   "cell_type": "code",
   "execution_count": null,
   "metadata": {},
   "outputs": [],
   "source": [
    "# Differences in citations between genders. \n",
    "plotSynchronicAnalysis(synchronicAnalysis(dfM) - synchronicAnalysis(dfF))"
   ]
  },
  {
   "cell_type": "markdown",
   "metadata": {},
   "source": [
    "# By (Guessed) Country of Publication"
   ]
  },
  {
   "cell_type": "code",
   "execution_count": null,
   "metadata": {},
   "outputs": [],
   "source": [
    "def getFirst(row): \n",
    "    if type(row) == list: \n",
    "        return row[0]\n",
    "    else: \n",
    "        return row\n",
    "\n",
    "topPublishers = df['publisher_name'].apply(getFirst).value_counts()"
   ]
  },
  {
   "cell_type": "code",
   "execution_count": null,
   "metadata": {},
   "outputs": [],
   "source": [
    "publishers = topPublishers[:80].index"
   ]
  },
  {
   "cell_type": "code",
   "execution_count": null,
   "metadata": {},
   "outputs": [],
   "source": [
    "publishers = publishers.tolist()"
   ]
  },
  {
   "cell_type": "code",
   "execution_count": null,
   "metadata": {},
   "outputs": [],
   "source": [
    "def getCountry(publisher): \n",
    "    brits = ['Oxford University Press', 'Cambridge University Press', 'Modern Humanities Research Association', \\\n",
    "             'BMJ', 'Taylor & Francis, Ltd.', 'Edinburgh University Press', \\\n",
    "             'Royal Society for the Encouragement of Arts, Manufactures and Commerce']\n",
    "    canadians = ['Victorian Studies Association of Western Canada'] \n",
    "    if type(publisher) != list: \n",
    "        return 'Unknown'\n",
    "    publisher = publisher[0]\n",
    "    if publisher in brits: \n",
    "        return 'Britain' \n",
    "    elif publisher in canadians or 'Canada' in publisher: \n",
    "        return 'Canada' \n",
    "    elif 'GmbH' in publisher: \n",
    "        return 'Germany'\n",
    "    elif 'estudios' in publisher: \n",
    "        return 'Spain'\n",
    "    elif 'France' in publisher: \n",
    "        return 'France' \n",
    "    elif 'Ireland' in publisher: \n",
    "        return 'Ireland'\n",
    "    else: \n",
    "        return 'US'"
   ]
  },
  {
   "cell_type": "code",
   "execution_count": null,
   "metadata": {
    "scrolled": true
   },
   "outputs": [],
   "source": [
    "df['country'] = df['publisher_name'].apply(getCountry)"
   ]
  },
  {
   "cell_type": "code",
   "execution_count": null,
   "metadata": {},
   "outputs": [],
   "source": [
    "df['country'].value_counts()"
   ]
  },
  {
   "cell_type": "code",
   "execution_count": null,
   "metadata": {},
   "outputs": [],
   "source": [
    "dfBrits = df.loc[df['country'] == 'Britain']\n",
    "dfYanks = df.loc[df['country'] == 'US']\n",
    "dfCanadians = df.loc[df['country'] == 'Canada']"
   ]
  },
  {
   "cell_type": "code",
   "execution_count": null,
   "metadata": {},
   "outputs": [],
   "source": [
    "# Since British authors are greatly outnumbered in this corpus, we should normalize the data. \n",
    "britsHist = synchronicAnalysis(dfBrits) \n",
    "normBrits = britsHist.div(britsHist.max())\n",
    "yanksHist = synchronicAnalysis(dfYanks)\n",
    "normYanks = yanksHist.div(yanksHist.max())"
   ]
  },
  {
   "cell_type": "code",
   "execution_count": null,
   "metadata": {},
   "outputs": [],
   "source": [
    "plotSynchronicAnalysis(normYanks - normBrits)"
   ]
  },
  {
   "cell_type": "markdown",
   "metadata": {},
   "source": [
    "# By Journal"
   ]
  },
  {
   "cell_type": "code",
   "execution_count": null,
   "metadata": {},
   "outputs": [],
   "source": [
    "# Look at the top journals. \n",
    "journalStats = df['journal'].value_counts()\n",
    "journalStats[:10]"
   ]
  },
  {
   "cell_type": "code",
   "execution_count": null,
   "metadata": {},
   "outputs": [],
   "source": [
    "journalList = journalStats.index"
   ]
  },
  {
   "cell_type": "markdown",
   "metadata": {},
   "source": [
    "Compare the specialist journal, \"George Eliot - George Henry Lewes Studies,\" with all other journals. "
   ]
  },
  {
   "cell_type": "code",
   "execution_count": null,
   "metadata": {},
   "outputs": [],
   "source": [
    "geJournals = df.loc[df['journal'] == 'George Eliot - George Henry Lewes Studies']\n",
    "otherJournals = df.loc[df['journal'] != 'George Eliot - George Henry Lewes Studies']"
   ]
  },
  {
   "cell_type": "code",
   "execution_count": null,
   "metadata": {},
   "outputs": [],
   "source": [
    "# Normalize\n",
    "geDF = synchronicAnalysis(geJournals)\n",
    "otherDF = synchronicAnalysis(otherJournals)\n",
    "normGE = geDF.div(geDF.max())\n",
    "normOther = otherDF.div(otherDF.max())"
   ]
  },
  {
   "cell_type": "code",
   "execution_count": null,
   "metadata": {},
   "outputs": [],
   "source": [
    "fig = plt.figure()\n",
    "ax = (normGE - normOther).plot(kind='bar')\n",
    "fig.add_subplot(ax)\n",
    "ax.set_xlabel('Chapter')\n",
    "ax.set_ylabel('Specialization Index')\n",
    "# Save a big version for publication. \n",
    "fig.savefig('specialization.png', bboxinches='tight', dpi=300)"
   ]
  },
  {
   "cell_type": "code",
   "execution_count": null,
   "metadata": {},
   "outputs": [],
   "source": [
    "journals = pd.DataFrame({title: synchronicAnalysis(df.loc[df['journal'] == title]) for title in journalList }).T"
   ]
  },
  {
   "cell_type": "code",
   "execution_count": null,
   "metadata": {},
   "outputs": [],
   "source": [
    "cutoff = 1500\n",
    "topJournals = journals.loc[journals.sum(axis=1) > cutoff]\n",
    "otherJournals = journals.loc[journals.sum(axis=1) < cutoff]\n",
    "topJournals.loc['Other'] = otherJournals.sum()"
   ]
  },
  {
   "cell_type": "code",
   "execution_count": null,
   "metadata": {},
   "outputs": [],
   "source": [
    "topJournals.T.plot(kind='bar', stacked=True, colormap='nipy_spectral')"
   ]
  },
  {
   "cell_type": "code",
   "execution_count": null,
   "metadata": {},
   "outputs": [],
   "source": [
    "ax = topJournals.T.plot(kind='bar', stacked=True, colormap='nipy_spectral')\n",
    "fig = ax.get_figure()\n",
    "fig.savefig('synchronic-journals.png', bboxinches='tight', dpi=300)"
   ]
  },
  {
   "cell_type": "code",
   "execution_count": null,
   "metadata": {},
   "outputs": [],
   "source": [
    "# Print the total number of journals\n",
    "len(journalStats)"
   ]
  },
  {
   "cell_type": "markdown",
   "metadata": {},
   "source": [
    "# Detour: Ch. 15"
   ]
  },
  {
   "cell_type": "code",
   "execution_count": null,
   "metadata": {},
   "outputs": [],
   "source": [
    "# Try to find out why Ch. 15 was so big in the 80s and 90s. \n",
    "chap15s = []\n",
    "ids = []\n",
    "for i, row in df.iterrows(): \n",
    "    locations = row['Locations in A']\n",
    "    starts = [item[0] for item in locations]\n",
    "    if row['Decade'] in [1980, 1990]: \n",
    "        for start in starts: \n",
    "            if start > 290371 and start < 322052: # Does it cite Chapter XV? \n",
    "                if row.id not in ids: \n",
    "                    chap15s.append(row)\n",
    "                    ids.append(row.id)"
   ]
  },
  {
   "cell_type": "code",
   "execution_count": null,
   "metadata": {
    "scrolled": true
   },
   "outputs": [],
   "source": [
    "# Get the titles of those articles. \n",
    "[item.title for item in chap15s]"
   ]
  },
  {
   "cell_type": "code",
   "execution_count": null,
   "metadata": {
    "scrolled": false
   },
   "outputs": [],
   "source": [
    "ch15Topics =  [item.topics for item in chap15s]\n",
    "chap15TopicsFlat = [item for sublist in ch15Topics for item in sublist]\n",
    "Counter(chap15TopicsFlat).most_common(20)"
   ]
  },
  {
   "cell_type": "code",
   "execution_count": null,
   "metadata": {},
   "outputs": [],
   "source": [
    "xvStart, xvEnd = chapterLocations[15:17]"
   ]
  },
  {
   "cell_type": "code",
   "execution_count": null,
   "metadata": {},
   "outputs": [],
   "source": [
    "print(mm[xvStart:xvStart+1000]) "
   ]
  },
  {
   "cell_type": "code",
   "execution_count": null,
   "metadata": {},
   "outputs": [],
   "source": [
    "# Try to find out which articles cite the first 2/3 of Chapter XV (with Lydgate's scientific research) \n",
    "# vs the last 1/3 on the story of Laure\n",
    "chap15p1s = []\n",
    "ids = []\n",
    "for i, row in df.iterrows(): \n",
    "    locations = row['Locations in A']\n",
    "    starts = [item[0] for item in locations]\n",
    "    if row['Decade'] in [1980, 1990]: \n",
    "        for start in starts: \n",
    "            if start > 290371 and start < 313892: # Does it cite the first 2/3 of Chapter XV? \n",
    "                if row.id not in ids: \n",
    "                    chap15p1s.append(row)\n",
    "                    ids.append(row.id)\n",
    "chap15p2s = []\n",
    "ids = []\n",
    "for i, row in df.iterrows(): \n",
    "    locations = row['Locations in A']\n",
    "    starts = [item[0] for item in locations]\n",
    "    if row['Decade'] in [1980, 1990]: \n",
    "        for start in starts: \n",
    "            if start > 313892 and start < 322052: # Does it cite the last 1/3 of Chapter XV? \n",
    "                if row.id not in ids: \n",
    "                    chap15p2s.append(row)\n",
    "                    ids.append(row.id)                   \n",
    "                    "
   ]
  },
  {
   "cell_type": "code",
   "execution_count": null,
   "metadata": {},
   "outputs": [],
   "source": [
    "# Get the titles of articles citing the first 2/3 \n",
    "[item.title for item in chap15p1s]"
   ]
  },
  {
   "cell_type": "code",
   "execution_count": null,
   "metadata": {},
   "outputs": [],
   "source": [
    "# Get the titles of those articles. \n",
    "[item.title for item in chap15p2s]"
   ]
  },
  {
   "cell_type": "code",
   "execution_count": null,
   "metadata": {},
   "outputs": [],
   "source": [
    "# Verify that we have the right location for the start of Laure's story in the last 1/3 of Chapter XV\n",
    "print(mm[313892:313892+1500]) "
   ]
  },
  {
   "cell_type": "code",
   "execution_count": null,
   "metadata": {},
   "outputs": [],
   "source": [
    "# Verify the location of the eipgraph and first paragraph\n",
    "print(mm[290371:290371+1571]) "
   ]
  },
  {
   "cell_type": "code",
   "execution_count": null,
   "metadata": {},
   "outputs": [],
   "source": [
    "chap15para1s = []\n",
    "ids = []\n",
    "for i, row in df.iterrows(): \n",
    "    locations = row['Locations in A']\n",
    "    starts = [item[0] for item in locations]\n",
    "    if row['Decade'] in [1980, 1990]: \n",
    "        for start in starts: \n",
    "            if start > 290371 and start < 291943: # Does it cite the last 1/3 of Chapter XV? \n",
    "                if row.id not in ids: \n",
    "                    chap15para1s.append(row)\n",
    "                    ids.append(row.id)    "
   ]
  },
  {
   "cell_type": "code",
   "execution_count": null,
   "metadata": {},
   "outputs": [],
   "source": [
    "# Get the titles of articles that cite paragraph 1 of Chapter 15\n",
    "[item.title for item in chap15para1s]"
   ]
  },
  {
   "cell_type": "code",
   "execution_count": null,
   "metadata": {},
   "outputs": [],
   "source": [
    "chap15Lydgates = []\n",
    "ids = []\n",
    "for i, row in df.iterrows(): \n",
    "    locations = row['Locations in A']\n",
    "    starts = [item[0] for item in locations]\n",
    "    if row['Decade'] in [1980, 1990]: \n",
    "        for start in starts: \n",
    "            if start > 291942 and start < 313892: # Does it cite the first 2/3 of Chapter XV? \n",
    "                if row.id not in ids: \n",
    "                    chap15Lydgates.append(row)\n",
    "                    ids.append(row.id)\n",
    "                    \n",
    "# Get the titles of articles that cite Lydgate section\n",
    "[item.title for item in chap15Lydgates]"
   ]
  },
  {
   "cell_type": "markdown",
   "metadata": {},
   "source": [
    "# Chapter 20"
   ]
  },
  {
   "cell_type": "markdown",
   "metadata": {},
   "source": [
    "Chapter 20 Detour\n"
   ]
  },
  {
   "cell_type": "code",
   "execution_count": null,
   "metadata": {},
   "outputs": [],
   "source": [
    "# Try to find out what articles cited chapter 20 \n",
    "chap20s = []\n",
    "ids = []\n",
    "for i, row in df.iterrows(): \n",
    "    locations = row['Locations in A']\n",
    "    starts = [item[0] for item in locations]\n",
    "    if row['Decade'] in [1870, 1900, 1910, 1920, 1930, 1940, 1950, 1960, 1970, 1980, 1990, 2000, 2010]: \n",
    "        for start in starts: \n",
    "            if start > 406324 and start < 432778: # Does it cite Chapter XX? \n",
    "                if row.id not in ids: \n",
    "                    chap20s.append(row)\n",
    "                    ids.append(row.id)\n"
   ]
  },
  {
   "cell_type": "code",
   "execution_count": null,
   "metadata": {},
   "outputs": [],
   "source": [
    "# Get the titles of those articles. \n",
    "[item.title for item in chap20s]"
   ]
  },
  {
   "cell_type": "code",
   "execution_count": null,
   "metadata": {},
   "outputs": [],
   "source": [
    "# articlesWithoutMatches.title #Print the titles of articles without matches\n"
   ]
  },
  {
   "cell_type": "code",
   "execution_count": null,
   "metadata": {},
   "outputs": [],
   "source": [
    "len(chap20s)"
   ]
  },
  {
   "cell_type": "code",
   "execution_count": null,
   "metadata": {},
   "outputs": [],
   "source": [
    "# Try to find out what articles cite paragraph 6 in Chapter 20\n",
    "chap20par6s = []\n",
    "ids = []\n",
    "for i, row in df.iterrows(): \n",
    "    locations = row['Locations in A']\n",
    "    starts = [item[0] for item in locations]\n",
    "    if row['Decade'] in [1870, 1900, 1910, 1920, 1930, 1940, 1950, 1960, 1970, 1980, 1990, 2000, 2010]: \n",
    "        for start in starts: \n",
    "            if start > 411152 and start < 412177: # Does it cite Chapter XX? \n",
    "                if row.id not in ids: \n",
    "                    chap20par6s.append(row)\n",
    "                    ids.append(row.id)\n"
   ]
  },
  {
   "cell_type": "code",
   "execution_count": null,
   "metadata": {},
   "outputs": [],
   "source": [
    "# Get the titles of those articles.\n",
    "[item.title for item in chap20par6s]"
   ]
  },
  {
   "cell_type": "code",
   "execution_count": null,
   "metadata": {},
   "outputs": [],
   "source": [
    "len(chap20par6s) # The number of items citing paragraph 6 in chapter 20"
   ]
  },
  {
   "cell_type": "code",
   "execution_count": null,
   "metadata": {},
   "outputs": [],
   "source": [
    "xxStart, xxEnd = chapterLocations[20:22] # Chapter 20 Boundaries"
   ]
  },
  {
   "cell_type": "code",
   "execution_count": null,
   "metadata": {},
   "outputs": [],
   "source": [
    "print(mm[xxStart:xxStart+1000]) # Verify we have Ch. 20"
   ]
  },
  {
   "cell_type": "code",
   "execution_count": null,
   "metadata": {},
   "outputs": [],
   "source": [
    "xx = mm[xxStart:xxEnd]"
   ]
  },
  {
   "cell_type": "code",
   "execution_count": null,
   "metadata": {},
   "outputs": [],
   "source": [
    "xxParaLocations = [match.start() for match in re.finditer('\\n\\n+', mm)]\n",
    "xxParaLocations = [x for x in xxParaLocations if (x > xxStart) and (x < xxEnd)] "
   ]
  },
  {
   "cell_type": "code",
   "execution_count": null,
   "metadata": {},
   "outputs": [],
   "source": [
    "mm[xxParaLocations[4]:xxParaLocations[5]]"
   ]
  },
  {
   "cell_type": "code",
   "execution_count": null,
   "metadata": {},
   "outputs": [],
   "source": [
    "articlesWithMatches['Locations in A'].loc[0]"
   ]
  },
  {
   "cell_type": "code",
   "execution_count": null,
   "metadata": {},
   "outputs": [],
   "source": [
    "def inXX(matches): \n",
    "    \"\"\" Determine if the article has a match in Ch. 20\"\"\"\n",
    "    for match in matches: \n",
    "        if match[0] > xxStart and match[0] < xxEnd:\n",
    "            return True\n",
    "    return False"
   ]
  },
  {
   "cell_type": "code",
   "execution_count": null,
   "metadata": {},
   "outputs": [],
   "source": [
    "articlesWithMatches['Locations in A'].apply(inXX).head()"
   ]
  },
  {
   "cell_type": "code",
   "execution_count": null,
   "metadata": {},
   "outputs": [],
   "source": [
    "def paraIndicesIn20(matches, paraLocations=xxParaLocations): \n",
    "    \"\"\" Determine paragraph number (index) for match in Ch. 20. \"\"\"\n",
    "    paraIndices = []\n",
    "    if inXX(matches): \n",
    "        paraBoundaries = list(zip(paraLocations, paraLocations[1:]))\n",
    "        for match in matches: \n",
    "            for i, paraBoundary in enumerate(paraBoundaries): \n",
    "                if set(range(match[0], match[1])) & set(range(paraBoundary[0], paraBoundary[1])): # find the set intersection of the ranges of pairs\n",
    "                    paraIndices.append(i)\n",
    "                else: \n",
    "                    paraIndices.append(None)\n",
    "    return paraIndices\n",
    "                    \n",
    "                "
   ]
  },
  {
   "cell_type": "code",
   "execution_count": null,
   "metadata": {},
   "outputs": [],
   "source": [
    "len(set(range(8, 10)) & set(range(1, 9)))"
   ]
  },
  {
   "cell_type": "code",
   "execution_count": null,
   "metadata": {},
   "outputs": [],
   "source": [
    "articlesWithMatches['paraIndicesIn20'] = articlesWithMatches['Locations in A'].apply(paraIndicesIn20)"
   ]
  },
  {
   "cell_type": "code",
   "execution_count": null,
   "metadata": {},
   "outputs": [],
   "source": [
    "counters = list(articlesWithMatches['paraIndicesIn20'].apply(Counter))"
   ]
  },
  {
   "cell_type": "code",
   "execution_count": null,
   "metadata": {},
   "outputs": [],
   "source": [
    "grandTally = Counter()"
   ]
  },
  {
   "cell_type": "code",
   "execution_count": null,
   "metadata": {},
   "outputs": [],
   "source": [
    "for counter in counters: \n",
    "    grandTally += counter"
   ]
  },
  {
   "cell_type": "code",
   "execution_count": null,
   "metadata": {},
   "outputs": [],
   "source": [
    "del grandTally[None]"
   ]
  },
  {
   "cell_type": "code",
   "execution_count": null,
   "metadata": {},
   "outputs": [],
   "source": [
    "dict(grandTally)"
   ]
  },
  {
   "cell_type": "code",
   "execution_count": null,
   "metadata": {},
   "outputs": [],
   "source": [
    "pd.Series(dict(grandTally)).sort_index().plot(kind='bar')"
   ]
  },
  {
   "cell_type": "code",
   "execution_count": null,
   "metadata": {},
   "outputs": [],
   "source": [
    "print(mm[xxParaLocations[5]:xxParaLocations[7]]) # What are paragraphs #5 and #6? "
   ]
  },
  {
   "cell_type": "markdown",
   "metadata": {},
   "source": [
    "# NLH, ELH and GE-GHL"
   ]
  },
  {
   "cell_type": "markdown",
   "metadata": {},
   "source": [
    "## George Eliot - George Henry Lewes Studies"
   ]
  },
  {
   "cell_type": "markdown",
   "metadata": {},
   "source": [
    "### George Eliot - George Henry Lewes Studies articles where journal title is \"George Eliot - George Henry Lewes Studies\""
   ]
  },
  {
   "cell_type": "code",
   "execution_count": null,
   "metadata": {},
   "outputs": [],
   "source": [
    "geJournals = df.loc[df['journal'] == 'George Eliot - George Henry Lewes Studies']"
   ]
  },
  {
   "cell_type": "code",
   "execution_count": null,
   "metadata": {},
   "outputs": [],
   "source": [
    "pd.set_option('display.max_columns', 207)"
   ]
  },
  {
   "cell_type": "code",
   "execution_count": null,
   "metadata": {},
   "outputs": [],
   "source": [
    "geJournals "
   ]
  },
  {
   "cell_type": "code",
   "execution_count": null,
   "metadata": {},
   "outputs": [],
   "source": [
    "print(geJournals.title)"
   ]
  },
  {
   "cell_type": "code",
   "execution_count": null,
   "metadata": {},
   "outputs": [],
   "source": [
    "print(\"Number of George ELiot - George Henry Lewes Studies articles where journal title is 'George ELiot - George Henry Lewes Studies':\")\n",
    "len(geJournals)"
   ]
  },
  {
   "cell_type": "markdown",
   "metadata": {},
   "source": [
    "### George Eliot - George Henry Lewes Studies articles where journal code is \"georelioghlstud\""
   ]
  },
  {
   "cell_type": "code",
   "execution_count": null,
   "metadata": {},
   "outputs": [],
   "source": [
    "print(\"Number of George Eliot - George Henry Lewes Studies articles where journal code is 'georelioghlstud':\")\n",
    "geJournalCodes = df.loc[df['jcode'].str[0] == 'georelioghlstud']\n",
    "len(geJournalCodes)"
   ]
  },
  {
   "cell_type": "markdown",
   "metadata": {},
   "source": [
    "## NLH"
   ]
  },
  {
   "cell_type": "markdown",
   "metadata": {},
   "source": [
    "### NLH articles where journal title is \"New Literary History\""
   ]
  },
  {
   "cell_type": "code",
   "execution_count": null,
   "metadata": {},
   "outputs": [],
   "source": [
    "nlhJournals = df.loc[df['journal'] == 'New Literary History']"
   ]
  },
  {
   "cell_type": "code",
   "execution_count": null,
   "metadata": {},
   "outputs": [],
   "source": [
    "pd.set_option('display.max_rows', 300)"
   ]
  },
  {
   "cell_type": "code",
   "execution_count": null,
   "metadata": {},
   "outputs": [],
   "source": [
    "nlhJournals "
   ]
  },
  {
   "cell_type": "code",
   "execution_count": null,
   "metadata": {},
   "outputs": [],
   "source": [
    "print(\"Number of NLH articles where journal title is 'New Literary History':\")\n",
    "len(nlhJournals)"
   ]
  },
  {
   "cell_type": "markdown",
   "metadata": {},
   "source": [
    "### NLH articles where journal code is \"newlitehist\""
   ]
  },
  {
   "cell_type": "code",
   "execution_count": null,
   "metadata": {},
   "outputs": [],
   "source": [
    "print('NLH articles where journal code is \"newlitehist\":')\n",
    "nlhJournalCodes = df.loc[df['jcode'].str[0] == 'newlitehist']\n",
    "len(nlhJournalCodes)"
   ]
  },
  {
   "cell_type": "markdown",
   "metadata": {},
   "source": [
    "## ELH"
   ]
  },
  {
   "cell_type": "markdown",
   "metadata": {},
   "source": [
    "### ELH articles where journal title is \"ELH\""
   ]
  },
  {
   "cell_type": "code",
   "execution_count": null,
   "metadata": {},
   "outputs": [],
   "source": [
    "elhJournals = df.loc[df['journal'] == 'ELH']\n",
    "elhJournals"
   ]
  },
  {
   "cell_type": "code",
   "execution_count": null,
   "metadata": {},
   "outputs": [],
   "source": [
    "len(elhJournals)"
   ]
  },
  {
   "cell_type": "markdown",
   "metadata": {},
   "source": [
    "### ELH articles where journal code is \"elh\""
   ]
  },
  {
   "cell_type": "code",
   "execution_count": null,
   "metadata": {},
   "outputs": [],
   "source": [
    "elhJournalCodes = df.loc[df['jcode'].str[0] == 'elh']\n",
    "len(elhJournalCodes)"
   ]
  },
  {
   "cell_type": "markdown",
   "metadata": {},
   "source": [
    "# Nonmatches"
   ]
  },
  {
   "cell_type": "code",
   "execution_count": null,
   "metadata": {},
   "outputs": [],
   "source": [
    "df # Print the dataframe"
   ]
  },
  {
   "cell_type": "code",
   "execution_count": null,
   "metadata": {},
   "outputs": [],
   "source": [
    "df[df.title.apply(isGarbage)] # How many garbage items? "
   ]
  },
  {
   "cell_type": "code",
   "execution_count": null,
   "metadata": {},
   "outputs": [],
   "source": [
    "# Try to find out what articles contain no Middlemarch citations\n",
    "articlesWithoutMatches = df[df['Locations in A'].apply(lambda x: len(x) == 0)]\n"
   ]
  },
  {
   "cell_type": "code",
   "execution_count": null,
   "metadata": {},
   "outputs": [],
   "source": [
    "n = 10\n",
    "articlesWithoutMatches['title'].value_counts()[:n].index.tolist()"
   ]
  },
  {
   "cell_type": "code",
   "execution_count": null,
   "metadata": {},
   "outputs": [],
   "source": [
    "# What is the most frequent name of articles with no citations?\n",
    "articlesWithoutMatches['title'].describe()"
   ]
  },
  {
   "cell_type": "markdown",
   "metadata": {},
   "source": [
    "## Generating samples of dataset for evaluating the precision and recall of text matcher\n",
    "First, we're going to generate a smaller sample dataset, which we'll then perform bootstrapping on.\n",
    "\n",
    "First, let's stratify our dataset by year, and then take a random sample in that year."
   ]
  },
  {
   "cell_type": "code",
   "execution_count": null,
   "metadata": {},
   "outputs": [],
   "source": [
    "articlesWithMatches1960_2015 = articlesWithMatches[articlesWithMatches['Decade'] >= 1960]\n",
    "len(articlesWithMatches1960_2015)"
   ]
  },
  {
   "cell_type": "code",
   "execution_count": null,
   "metadata": {},
   "outputs": [],
   "source": [
    "len(articlesWithMatches1960_2015['year'].value_counts())"
   ]
  },
  {
   "cell_type": "markdown",
   "metadata": {},
   "source": [
    "### Generate random sample"
   ]
  },
  {
   "cell_type": "code",
   "execution_count": null,
   "metadata": {},
   "outputs": [],
   "source": [
    "sampleData = articlesWithMatches1960_2015.sample(n=56, random_state=56)\n",
    "sampleData['journal'].value_counts(sort=False)"
   ]
  },
  {
   "cell_type": "code",
   "execution_count": null,
   "metadata": {},
   "outputs": [],
   "source": [
    "sampleData.to_csv('../data/sample_dataset.csv', encoding='utf-8')"
   ]
  },
  {
   "cell_type": "code",
   "execution_count": null,
   "metadata": {},
   "outputs": [],
   "source": [
    "# Function to loop over each row, extracting locations in A and metadata, then output that to a new text file\n",
    "def extractSampleDataMatches(sampleData):\n",
    "    for i, row in sampleData.iterrows():\n",
    "        title = row['title']\n",
    "        year = row['year']\n",
    "        # Print a break between each article\n",
    "        with open('../data/sample-data-matches.txt', \"a\") as f:\n",
    "            print(\"---------------------------------------\\n\", file=f)\n",
    "            print(title, file=f)\n",
    "            print(year, file=f)\n",
    "        # For each pair of locations in the \"Locations in A\" column, iterate over, printing the location indexes\n",
    "        # Followed by the\n",
    "            for pair in row['Locations in A']:\n",
    "                print(f\"Location in A: {pair}\", file=f)\n",
    "                print(mm[pair[0]:pair[1]]+\"\\n\", file=f)\n",
    "    \n",
    "extractSampleDataMatches(sampleData)"
   ]
  },
  {
   "cell_type": "markdown",
   "metadata": {},
   "source": [
    "### Evaluation metrics\n",
    "\n",
    "Terminology\n",
    "TP (True Positives):\n",
    "TN (True Negatives): \n",
    "FP (False Posiives): \n",
    "FN (False Negatives): \n",
    "\n",
    "**Classification accuracy:** percentage of correctly identified quotes and non-quotes, or overall, how often is the matcher correct? classification_accuracy = (TP + TN) / float(TP + TN + FP + FN)))\n",
    "\n",
    " **Recall (or \"sensitivity\")**: When the actual match is correc, how often is the prediction correct? recall = TP / float(FN + TP)\n",
    "\n",
    "\n",
    "**Precision:** When a match is detected, how often is that match correct? precision = TP / float(TP + FP)\n"
   ]
  },
  {
   "cell_type": "code",
   "execution_count": null,
   "metadata": {},
   "outputs": [],
   "source": []
  }
 ],
 "metadata": {
  "kernelspec": {
   "display_name": "Python 3 (ipykernel)",
   "language": "python",
   "name": "python3"
  },
  "language_info": {
   "codemirror_mode": {
    "name": "ipython",
    "version": 3
   },
   "file_extension": ".py",
   "mimetype": "text/x-python",
   "name": "python",
   "nbconvert_exporter": "python",
   "pygments_lexer": "ipython3",
   "version": "3.10.9"
  },
  "vscode": {
   "interpreter": {
    "hash": "40d3a090f54c6569ab1632332b64b2c03c39dcf918b08424e98f38b5ae0af88f"
   }
  }
 },
 "nbformat": 4,
 "nbformat_minor": 2
}
