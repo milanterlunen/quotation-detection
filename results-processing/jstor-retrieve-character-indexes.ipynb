{
 "cells": [
  {
   "cell_type": "markdown",
   "metadata": {},
   "source": [
    "# Checking and retrieving character indexes from quotations\n",
    "\n",
    "\n",
    "What you will need to run this notebook:\n",
    "\n",
    "+ The Project Gutenberg fulltext of your source text (text A). In this case, the Project Gutenberg version of *Middlemarch*: `middlemarch.txt`\n",
    "+ The JSON file with the output of `text-matcher`. In this case, this is `default.json`\n",
    "\n",
    "Both of these files must be in the same directory as this notebook for the filepaths below to run correctly.\n",
    "\n",
    "\n",
    "In addition, you will need a list of the JSTOR article ids for the sample texts in the corpus.\n",
    "\n",
    "\n",
    "### A preliminary note about  character indexes:\n",
    "\n",
    "A match in text matcher takes the form of a pair, or a list of pairs, of character indexes. These character indexes store the position of a match and can be used to retrieve the corresponding text.\n",
    "\n",
    "Let's say you were looking at an output :  [[173657, 173756], [292143, 292406]]. \n",
    "\n",
    "In each pair, the first number corresponds to the **starting character index**, and the second number corresponds to the **ending character index** of a quotation. \n",
    "\n",
    "So in this example, for match [173657, 173756].\n",
    "+ the **starting charcter** is 173657\n",
    "+ the **ending character** is 173756"
   ]
  },
  {
   "cell_type": "markdown",
   "metadata": {},
   "source": [
    "### Import libraries\n",
    "Run the cell below to import libraries"
   ]
  },
  {
   "cell_type": "code",
   "execution_count": 1,
   "metadata": {},
   "outputs": [],
   "source": [
    "from text_matcher.matcher import Text, Matcher\n",
    "import json\n",
    "import pandas as pd\n",
    "from IPython.display import clear_output\n",
    "%matplotlib inline\n",
    "import matplotlib.pyplot as plt\n",
    "plt.rcParams[\"figure.figsize\"] = [16, 6]\n",
    "#pd.set_option('display.max_colwidth', None)"
   ]
  },
  {
   "cell_type": "markdown",
   "metadata": {},
   "source": [
    "### Load in our data files:"
   ]
  },
  {
   "cell_type": "code",
   "execution_count": 125,
   "metadata": {},
   "outputs": [],
   "source": [
    "# Load Middlemarch .txt file \n",
    "# (Note: must have 'middlemarch.txt' in this directory)\n",
    "with open('middlemarch.txt') as f: \n",
    "    rawMM = f.read()\n",
    "\n",
    "mm = Text(rawMM, 'Middlemarch')\n",
    "\n",
    "# Load in the JSON file with our JSTOR articles and data from TextMatcher\n",
    "# (Note: must have the file 'default.json' in the same directory as this notebook)\n",
    "#df = pd.read_json('default.json')\n",
    "df = pd.read_json('hyperparameter-data/t2-c3-n2-m3-no-stops.json')"
   ]
  },
  {
   "cell_type": "code",
   "execution_count": 126,
   "metadata": {},
   "outputs": [
    {
     "data": {
      "text/html": [
       "<div>\n",
       "<style scoped>\n",
       "    .dataframe tbody tr th:only-of-type {\n",
       "        vertical-align: middle;\n",
       "    }\n",
       "\n",
       "    .dataframe tbody tr th {\n",
       "        vertical-align: top;\n",
       "    }\n",
       "\n",
       "    .dataframe thead th {\n",
       "        text-align: right;\n",
       "    }\n",
       "</style>\n",
       "<table border=\"1\" class=\"dataframe\">\n",
       "  <thead>\n",
       "    <tr style=\"text-align: right;\">\n",
       "      <th></th>\n",
       "      <th>creator</th>\n",
       "      <th>datePublished</th>\n",
       "      <th>docSubType</th>\n",
       "      <th>docType</th>\n",
       "      <th>id</th>\n",
       "      <th>identifier</th>\n",
       "      <th>isPartOf</th>\n",
       "      <th>issueNumber</th>\n",
       "      <th>language</th>\n",
       "      <th>outputFormat</th>\n",
       "      <th>...</th>\n",
       "      <th>title</th>\n",
       "      <th>url</th>\n",
       "      <th>volumeNumber</th>\n",
       "      <th>wordCount</th>\n",
       "      <th>numMatches</th>\n",
       "      <th>Locations in A</th>\n",
       "      <th>Locations in B</th>\n",
       "      <th>abstract</th>\n",
       "      <th>keyphrase</th>\n",
       "      <th>subTitle</th>\n",
       "    </tr>\n",
       "  </thead>\n",
       "  <tbody>\n",
       "    <tr>\n",
       "      <th>0</th>\n",
       "      <td>[Rainer Emig]</td>\n",
       "      <td>2006-01-01</td>\n",
       "      <td>book-review</td>\n",
       "      <td>article</td>\n",
       "      <td>http://www.jstor.org/stable/41158244</td>\n",
       "      <td>[{'name': 'issn', 'value': '03402827'}, {'name...</td>\n",
       "      <td>Amerikastudien / American Studies</td>\n",
       "      <td>3</td>\n",
       "      <td>[eng]</td>\n",
       "      <td>[unigram, bigram, trigram]</td>\n",
       "      <td>...</td>\n",
       "      <td>Review Article</td>\n",
       "      <td>http://www.jstor.org/stable/41158244</td>\n",
       "      <td>51</td>\n",
       "      <td>1109</td>\n",
       "      <td>1</td>\n",
       "      <td>[[130022, 130046]]</td>\n",
       "      <td>[[6851, 6875]]</td>\n",
       "      <td>None</td>\n",
       "      <td>None</td>\n",
       "      <td>None</td>\n",
       "    </tr>\n",
       "    <tr>\n",
       "      <th>1</th>\n",
       "      <td>[Martin Green]</td>\n",
       "      <td>1970-01-01</td>\n",
       "      <td>book-review</td>\n",
       "      <td>article</td>\n",
       "      <td>http://www.jstor.org/stable/3722819</td>\n",
       "      <td>[{'name': 'issn', 'value': '00267937'}, {'name...</td>\n",
       "      <td>The Modern Language Review</td>\n",
       "      <td>1</td>\n",
       "      <td>[eng]</td>\n",
       "      <td>[unigram, bigram, trigram]</td>\n",
       "      <td>...</td>\n",
       "      <td>Review Article</td>\n",
       "      <td>http://www.jstor.org/stable/3722819</td>\n",
       "      <td>65</td>\n",
       "      <td>1342</td>\n",
       "      <td>0</td>\n",
       "      <td>[]</td>\n",
       "      <td>[]</td>\n",
       "      <td>None</td>\n",
       "      <td>None</td>\n",
       "      <td>None</td>\n",
       "    </tr>\n",
       "    <tr>\n",
       "      <th>2</th>\n",
       "      <td>[Richard Exner]</td>\n",
       "      <td>1982-01-01</td>\n",
       "      <td>book-review</td>\n",
       "      <td>article</td>\n",
       "      <td>http://www.jstor.org/stable/40137021</td>\n",
       "      <td>[{'name': 'issn', 'value': '01963570'}, {'name...</td>\n",
       "      <td>World Literature Today</td>\n",
       "      <td>1</td>\n",
       "      <td>[eng]</td>\n",
       "      <td>[unigram, bigram, trigram]</td>\n",
       "      <td>...</td>\n",
       "      <td>Review Article</td>\n",
       "      <td>http://www.jstor.org/stable/40137021</td>\n",
       "      <td>56</td>\n",
       "      <td>493</td>\n",
       "      <td>0</td>\n",
       "      <td>[]</td>\n",
       "      <td>[]</td>\n",
       "      <td>None</td>\n",
       "      <td>None</td>\n",
       "      <td>None</td>\n",
       "    </tr>\n",
       "    <tr>\n",
       "      <th>3</th>\n",
       "      <td>[Ruth Evelyn Henderson]</td>\n",
       "      <td>1925-10-01</td>\n",
       "      <td>research-article</td>\n",
       "      <td>article</td>\n",
       "      <td>http://www.jstor.org/stable/802346</td>\n",
       "      <td>[{'name': 'issn', 'value': '00138274'}, {'name...</td>\n",
       "      <td>The English Journal</td>\n",
       "      <td>8</td>\n",
       "      <td>[eng]</td>\n",
       "      <td>[unigram, bigram, trigram, fullText]</td>\n",
       "      <td>...</td>\n",
       "      <td>American Education Week--November 16-22; Some ...</td>\n",
       "      <td>http://www.jstor.org/stable/802346</td>\n",
       "      <td>14</td>\n",
       "      <td>2161</td>\n",
       "      <td>0</td>\n",
       "      <td>[]</td>\n",
       "      <td>[]</td>\n",
       "      <td>None</td>\n",
       "      <td>None</td>\n",
       "      <td>None</td>\n",
       "    </tr>\n",
       "    <tr>\n",
       "      <th>4</th>\n",
       "      <td>[Alan Palmer]</td>\n",
       "      <td>2011-12-01</td>\n",
       "      <td>research-article</td>\n",
       "      <td>article</td>\n",
       "      <td>http://www.jstor.org/stable/10.5325/style.45.4...</td>\n",
       "      <td>[{'name': 'issn', 'value': '00394238'}, {'name...</td>\n",
       "      <td>Style</td>\n",
       "      <td>4</td>\n",
       "      <td>[eng]</td>\n",
       "      <td>[unigram, bigram, trigram]</td>\n",
       "      <td>...</td>\n",
       "      <td>Rejoinder to Response by Marie-Laure Ryan</td>\n",
       "      <td>http://www.jstor.org/stable/10.5325/style.45.4...</td>\n",
       "      <td>45</td>\n",
       "      <td>1127</td>\n",
       "      <td>0</td>\n",
       "      <td>[]</td>\n",
       "      <td>[]</td>\n",
       "      <td>None</td>\n",
       "      <td>None</td>\n",
       "      <td>None</td>\n",
       "    </tr>\n",
       "    <tr>\n",
       "      <th>...</th>\n",
       "      <td>...</td>\n",
       "      <td>...</td>\n",
       "      <td>...</td>\n",
       "      <td>...</td>\n",
       "      <td>...</td>\n",
       "      <td>...</td>\n",
       "      <td>...</td>\n",
       "      <td>...</td>\n",
       "      <td>...</td>\n",
       "      <td>...</td>\n",
       "      <td>...</td>\n",
       "      <td>...</td>\n",
       "      <td>...</td>\n",
       "      <td>...</td>\n",
       "      <td>...</td>\n",
       "      <td>...</td>\n",
       "      <td>...</td>\n",
       "      <td>...</td>\n",
       "      <td>...</td>\n",
       "      <td>...</td>\n",
       "      <td>...</td>\n",
       "    </tr>\n",
       "    <tr>\n",
       "      <th>5879</th>\n",
       "      <td>[Michaela Giesenkirchen]</td>\n",
       "      <td>2005-10-01</td>\n",
       "      <td>research-article</td>\n",
       "      <td>article</td>\n",
       "      <td>http://www.jstor.org/stable/27747183</td>\n",
       "      <td>[{'name': 'issn', 'value': '15403084'}, {'name...</td>\n",
       "      <td>American Literary Realism</td>\n",
       "      <td>1</td>\n",
       "      <td>[eng]</td>\n",
       "      <td>[unigram, bigram, trigram]</td>\n",
       "      <td>...</td>\n",
       "      <td>Ethnic Types and Problems of Characterization ...</td>\n",
       "      <td>http://www.jstor.org/stable/27747183</td>\n",
       "      <td>38</td>\n",
       "      <td>7349</td>\n",
       "      <td>1</td>\n",
       "      <td>[[23799, 24121]]</td>\n",
       "      <td>[[41472, 41793]]</td>\n",
       "      <td>None</td>\n",
       "      <td>None</td>\n",
       "      <td>None</td>\n",
       "    </tr>\n",
       "    <tr>\n",
       "      <th>5880</th>\n",
       "      <td>[Leon Botstein]</td>\n",
       "      <td>2005-07-01</td>\n",
       "      <td>misc</td>\n",
       "      <td>article</td>\n",
       "      <td>http://www.jstor.org/stable/4123220</td>\n",
       "      <td>[{'name': 'issn', 'value': '00274631'}, {'name...</td>\n",
       "      <td>The Musical Quarterly</td>\n",
       "      <td>2</td>\n",
       "      <td>[eng]</td>\n",
       "      <td>[unigram, bigram, trigram]</td>\n",
       "      <td>...</td>\n",
       "      <td>On the Power of Music</td>\n",
       "      <td>http://www.jstor.org/stable/4123220</td>\n",
       "      <td>88</td>\n",
       "      <td>1525</td>\n",
       "      <td>0</td>\n",
       "      <td>[]</td>\n",
       "      <td>[]</td>\n",
       "      <td>None</td>\n",
       "      <td>None</td>\n",
       "      <td>None</td>\n",
       "    </tr>\n",
       "    <tr>\n",
       "      <th>5881</th>\n",
       "      <td>[Linda M. Shires]</td>\n",
       "      <td>2013-01-01</td>\n",
       "      <td>research-article</td>\n",
       "      <td>article</td>\n",
       "      <td>http://www.jstor.org/stable/24575734</td>\n",
       "      <td>[{'name': 'issn', 'value': '10601503'}, {'name...</td>\n",
       "      <td>Victorian Literature and Culture</td>\n",
       "      <td>4</td>\n",
       "      <td>[eng]</td>\n",
       "      <td>[unigram, bigram, trigram]</td>\n",
       "      <td>...</td>\n",
       "      <td>HARDY'S MEMORIAL ART: IMAGE AND TEXT IN \"WESSE...</td>\n",
       "      <td>http://www.jstor.org/stable/24575734</td>\n",
       "      <td>41</td>\n",
       "      <td>10736</td>\n",
       "      <td>1</td>\n",
       "      <td>[[173657, 173756]]</td>\n",
       "      <td>[[33963, 34061]]</td>\n",
       "      <td>None</td>\n",
       "      <td>None</td>\n",
       "      <td>None</td>\n",
       "    </tr>\n",
       "    <tr>\n",
       "      <th>5882</th>\n",
       "      <td>[Edward H. Cohen]</td>\n",
       "      <td>1990-07-01</td>\n",
       "      <td>misc</td>\n",
       "      <td>article</td>\n",
       "      <td>http://www.jstor.org/stable/3827815</td>\n",
       "      <td>[{'name': 'issn', 'value': '00425222'}, {'name...</td>\n",
       "      <td>Victorian Studies</td>\n",
       "      <td>4</td>\n",
       "      <td>[eng]</td>\n",
       "      <td>[unigram, bigram, trigram]</td>\n",
       "      <td>...</td>\n",
       "      <td>Victorian Bibliography for 1989</td>\n",
       "      <td>http://www.jstor.org/stable/3827815</td>\n",
       "      <td>33</td>\n",
       "      <td>81819</td>\n",
       "      <td>0</td>\n",
       "      <td>[]</td>\n",
       "      <td>[]</td>\n",
       "      <td>None</td>\n",
       "      <td>None</td>\n",
       "      <td>None</td>\n",
       "    </tr>\n",
       "    <tr>\n",
       "      <th>5883</th>\n",
       "      <td>None</td>\n",
       "      <td>1964-06-01</td>\n",
       "      <td>misc</td>\n",
       "      <td>article</td>\n",
       "      <td>http://www.jstor.org/stable/2932781</td>\n",
       "      <td>[{'name': 'issn', 'value': '00290564'}, {'name...</td>\n",
       "      <td>Nineteenth-Century Fiction</td>\n",
       "      <td>1</td>\n",
       "      <td>[eng]</td>\n",
       "      <td>[unigram, bigram, trigram]</td>\n",
       "      <td>...</td>\n",
       "      <td>Volume Information</td>\n",
       "      <td>http://www.jstor.org/stable/2932781</td>\n",
       "      <td>19</td>\n",
       "      <td>694</td>\n",
       "      <td>0</td>\n",
       "      <td>[]</td>\n",
       "      <td>[]</td>\n",
       "      <td>None</td>\n",
       "      <td>None</td>\n",
       "      <td>None</td>\n",
       "    </tr>\n",
       "  </tbody>\n",
       "</table>\n",
       "<p>5884 rows × 29 columns</p>\n",
       "</div>"
      ],
      "text/plain": [
       "                       creator datePublished        docSubType  docType  \\\n",
       "0                [Rainer Emig]    2006-01-01       book-review  article   \n",
       "1               [Martin Green]    1970-01-01       book-review  article   \n",
       "2              [Richard Exner]    1982-01-01       book-review  article   \n",
       "3      [Ruth Evelyn Henderson]    1925-10-01  research-article  article   \n",
       "4                [Alan Palmer]    2011-12-01  research-article  article   \n",
       "...                        ...           ...               ...      ...   \n",
       "5879  [Michaela Giesenkirchen]    2005-10-01  research-article  article   \n",
       "5880           [Leon Botstein]    2005-07-01              misc  article   \n",
       "5881         [Linda M. Shires]    2013-01-01  research-article  article   \n",
       "5882         [Edward H. Cohen]    1990-07-01              misc  article   \n",
       "5883                      None    1964-06-01              misc  article   \n",
       "\n",
       "                                                     id  \\\n",
       "0                  http://www.jstor.org/stable/41158244   \n",
       "1                   http://www.jstor.org/stable/3722819   \n",
       "2                  http://www.jstor.org/stable/40137021   \n",
       "3                    http://www.jstor.org/stable/802346   \n",
       "4     http://www.jstor.org/stable/10.5325/style.45.4...   \n",
       "...                                                 ...   \n",
       "5879               http://www.jstor.org/stable/27747183   \n",
       "5880                http://www.jstor.org/stable/4123220   \n",
       "5881               http://www.jstor.org/stable/24575734   \n",
       "5882                http://www.jstor.org/stable/3827815   \n",
       "5883                http://www.jstor.org/stable/2932781   \n",
       "\n",
       "                                             identifier  \\\n",
       "0     [{'name': 'issn', 'value': '03402827'}, {'name...   \n",
       "1     [{'name': 'issn', 'value': '00267937'}, {'name...   \n",
       "2     [{'name': 'issn', 'value': '01963570'}, {'name...   \n",
       "3     [{'name': 'issn', 'value': '00138274'}, {'name...   \n",
       "4     [{'name': 'issn', 'value': '00394238'}, {'name...   \n",
       "...                                                 ...   \n",
       "5879  [{'name': 'issn', 'value': '15403084'}, {'name...   \n",
       "5880  [{'name': 'issn', 'value': '00274631'}, {'name...   \n",
       "5881  [{'name': 'issn', 'value': '10601503'}, {'name...   \n",
       "5882  [{'name': 'issn', 'value': '00425222'}, {'name...   \n",
       "5883  [{'name': 'issn', 'value': '00290564'}, {'name...   \n",
       "\n",
       "                               isPartOf issueNumber language  \\\n",
       "0     Amerikastudien / American Studies           3    [eng]   \n",
       "1            The Modern Language Review           1    [eng]   \n",
       "2                World Literature Today           1    [eng]   \n",
       "3                   The English Journal           8    [eng]   \n",
       "4                                 Style           4    [eng]   \n",
       "...                                 ...         ...      ...   \n",
       "5879          American Literary Realism           1    [eng]   \n",
       "5880              The Musical Quarterly           2    [eng]   \n",
       "5881   Victorian Literature and Culture           4    [eng]   \n",
       "5882                  Victorian Studies           4    [eng]   \n",
       "5883         Nineteenth-Century Fiction           1    [eng]   \n",
       "\n",
       "                              outputFormat  ...  \\\n",
       "0               [unigram, bigram, trigram]  ...   \n",
       "1               [unigram, bigram, trigram]  ...   \n",
       "2               [unigram, bigram, trigram]  ...   \n",
       "3     [unigram, bigram, trigram, fullText]  ...   \n",
       "4               [unigram, bigram, trigram]  ...   \n",
       "...                                    ...  ...   \n",
       "5879            [unigram, bigram, trigram]  ...   \n",
       "5880            [unigram, bigram, trigram]  ...   \n",
       "5881            [unigram, bigram, trigram]  ...   \n",
       "5882            [unigram, bigram, trigram]  ...   \n",
       "5883            [unigram, bigram, trigram]  ...   \n",
       "\n",
       "                                                  title  \\\n",
       "0                                        Review Article   \n",
       "1                                        Review Article   \n",
       "2                                        Review Article   \n",
       "3     American Education Week--November 16-22; Some ...   \n",
       "4             Rejoinder to Response by Marie-Laure Ryan   \n",
       "...                                                 ...   \n",
       "5879  Ethnic Types and Problems of Characterization ...   \n",
       "5880                              On the Power of Music   \n",
       "5881  HARDY'S MEMORIAL ART: IMAGE AND TEXT IN \"WESSE...   \n",
       "5882                    Victorian Bibliography for 1989   \n",
       "5883                                 Volume Information   \n",
       "\n",
       "                                                    url volumeNumber  \\\n",
       "0                  http://www.jstor.org/stable/41158244           51   \n",
       "1                   http://www.jstor.org/stable/3722819           65   \n",
       "2                  http://www.jstor.org/stable/40137021           56   \n",
       "3                    http://www.jstor.org/stable/802346           14   \n",
       "4     http://www.jstor.org/stable/10.5325/style.45.4...           45   \n",
       "...                                                 ...          ...   \n",
       "5879               http://www.jstor.org/stable/27747183           38   \n",
       "5880                http://www.jstor.org/stable/4123220           88   \n",
       "5881               http://www.jstor.org/stable/24575734           41   \n",
       "5882                http://www.jstor.org/stable/3827815           33   \n",
       "5883                http://www.jstor.org/stable/2932781           19   \n",
       "\n",
       "     wordCount numMatches      Locations in A    Locations in B abstract  \\\n",
       "0         1109          1  [[130022, 130046]]    [[6851, 6875]]     None   \n",
       "1         1342          0                  []                []     None   \n",
       "2          493          0                  []                []     None   \n",
       "3         2161          0                  []                []     None   \n",
       "4         1127          0                  []                []     None   \n",
       "...        ...        ...                 ...               ...      ...   \n",
       "5879      7349          1    [[23799, 24121]]  [[41472, 41793]]     None   \n",
       "5880      1525          0                  []                []     None   \n",
       "5881     10736          1  [[173657, 173756]]  [[33963, 34061]]     None   \n",
       "5882     81819          0                  []                []     None   \n",
       "5883       694          0                  []                []     None   \n",
       "\n",
       "     keyphrase subTitle  \n",
       "0         None     None  \n",
       "1         None     None  \n",
       "2         None     None  \n",
       "3         None     None  \n",
       "4         None     None  \n",
       "...        ...      ...  \n",
       "5879      None     None  \n",
       "5880      None     None  \n",
       "5881      None     None  \n",
       "5882      None     None  \n",
       "5883      None     None  \n",
       "\n",
       "[5884 rows x 29 columns]"
      ]
     },
     "execution_count": 126,
     "metadata": {},
     "output_type": "execute_result"
    }
   ],
   "source": [
    "# Let's peek inside our DataFrame\n",
    "df"
   ]
  },
  {
   "cell_type": "markdown",
   "metadata": {},
   "source": [
    "# Check quotation matches for particular articles\n"
   ]
  },
  {
   "cell_type": "markdown",
   "metadata": {},
   "source": [
    "## Set the `article_id` ‼️\n",
    "\n",
    "In the cell below, change the variable `article_id` to the id of the article you wish to exampine.\n",
    "\n",
    "**Where can I find the article id?**\n",
    "\n",
    "+ This can be found in the `id` column of URL of a given article.\n",
    "+ For *Middlemarch*, please use the following article IDs: \n",
    "http://www.jstor.org/stable/41059781,\n",
    "http://www.jstor.org/stable/2928567,\n",
    "http://www.jstor.org/stable/25088885,\n",
    "http://www.jstor.org/stable/462077,\n",
    "http://www.jstor.org/stable/42827730,\n",
    "http://www.jstor.org/stable/2933477,\n",
    "http://www.jstor.org/stable/2873079,\n",
    "http://www.jstor.org/stable/2932968,\n",
    "http://www.jstor.org/stable/42827900,\n",
    "http://www.jstor.org/stable/10.1525/ncl.2001.56.2.160,\n",
    "http://www.jstor.org/stable/437748,\n",
    "http://www.jstor.org/stable/27919123,\n",
    "http://www.jstor.org/stable/2872038,\n",
    "http://www.jstor.org/stable/3044620,\n",
    "http://www.jstor.org/stable/591341,\n",
    "http://www.jstor.org/stable/4334358,\n",
    "http://www.jstor.org/stable/2933096,\n",
    "http://www.jstor.org/stable/23539270,\n",
    "http://www.jstor.org/stable/3751142,\n",
    "http://www.jstor.org/stable/3825796,\n",
    "http://www.jstor.org/stable/3826242,\n",
    "http://www.jstor.org/stable/2932697,\n",
    "http://www.jstor.org/stable/40754482,\n",
    "http://www.jstor.org/stable/10.1525/ncl.2012.66.4.494,\n",
    "http://www.jstor.org/stable/3828324,\n",
    "http://www.jstor.org/stable/23099626,\n",
    "http://www.jstor.org/stable/42965156,\n",
    "http://www.jstor.org/stable/j.ctt155j8bf.9,\n",
    "http://www.jstor.org/stable/3044863,\n",
    "http://www.jstor.org/stable/2873139,\n",
    "http://www.jstor.org/stable/3044571,\n",
    "http://www.jstor.org/stable/29533514,\n",
    "http://www.jstor.org/stable/42827934,\n",
    "http://www.jstor.org/stable/43028240,\n",
    "http://www.jstor.org/stable/30030019,\n",
    "http://www.jstor.org/stable/40549795,\n",
    "http://www.jstor.org/stable/25733489,\n",
    "http://www.jstor.org/stable/1345484,\n",
    "http://www.jstor.org/stable/27708593,\n",
    "http://www.jstor.org/stable/27708062,\n",
    "http://www.jstor.org/stable/3044589,\n",
    "http://www.jstor.org/stable/42827827,\n",
    "http://www.jstor.org/stable/25459494,\n",
    "http://www.jstor.org/stable/439034\n",
    "\n",
    "\n",
    "*Note: JSTOR outputs the fulltext of articles text as a list of strings, so we have to concatenate them using text-matcher;s `Text()` function.*\n"
   ]
  },
  {
   "cell_type": "code",
   "execution_count": 140,
   "metadata": {},
   "outputs": [
    {
     "name": "stdout",
     "output_type": "stream",
     "text": [
      "\n",
      "Article selected:\n",
      "ID: http://www.jstor.org/stable/10.5325/georelioghlstud.70.2.0143\n",
      "Title: Hidden Allusion in the Finale of <em>Middlemarch</em>: George Eliot and the Jewish Myth of the <em>Lamed Vov</em>\n",
      "\n"
     ]
    }
   ],
   "source": [
    "# ‼️ 🛑 Make sure to change the variable below to the correct article id 🛑  ‼️\n",
    "article_id  = 'http://www.jstor.org/stable/10.5325/georelioghlstud.70.2.0143' # CHANGE THIS to article id\n",
    "default_df = pd.read_json('default.json')\n",
    "\n",
    "# Use article_id to get the index of the article in our DataFrame\n",
    "article_index1 = df[df['id'] == article_id].index[0]\n",
    "article_index2 = default_df[default_df['id'] == article_id].index[0]\n",
    "article_text = default_df['fullText'].loc[article_index2]\n",
    "article_title = df['title'].loc[article_index2]\n",
    "\n",
    "# Assign the full text of this article to a variable called `cleaned_article_text`, with text-matcher's Text function\n",
    "cleaned_article_text = Text(article_text, article_title)\n",
    "\n",
    "# Print out the title and ID of the article we selected as confirmation\n",
    "print(f\"\"\"\n",
    "Article selected:\n",
    "ID: {article_id}\n",
    "Title: {article_title}\n",
    "\"\"\")\n"
   ]
  },
  {
   "cell_type": "code",
   "execution_count": 103,
   "metadata": {},
   "outputs": [
    {
     "data": {
      "text/html": [
       "<div>\n",
       "<style scoped>\n",
       "    .dataframe tbody tr th:only-of-type {\n",
       "        vertical-align: middle;\n",
       "    }\n",
       "\n",
       "    .dataframe tbody tr th {\n",
       "        vertical-align: top;\n",
       "    }\n",
       "\n",
       "    .dataframe thead th {\n",
       "        text-align: right;\n",
       "    }\n",
       "</style>\n",
       "<table border=\"1\" class=\"dataframe\">\n",
       "  <thead>\n",
       "    <tr style=\"text-align: right;\">\n",
       "      <th></th>\n",
       "      <th>creator</th>\n",
       "      <th>datePublished</th>\n",
       "      <th>docSubType</th>\n",
       "      <th>docType</th>\n",
       "      <th>id</th>\n",
       "      <th>identifier</th>\n",
       "      <th>isPartOf</th>\n",
       "      <th>issueNumber</th>\n",
       "      <th>language</th>\n",
       "      <th>outputFormat</th>\n",
       "      <th>...</th>\n",
       "      <th>title</th>\n",
       "      <th>url</th>\n",
       "      <th>volumeNumber</th>\n",
       "      <th>wordCount</th>\n",
       "      <th>numMatches</th>\n",
       "      <th>Locations in A</th>\n",
       "      <th>Locations in B</th>\n",
       "      <th>abstract</th>\n",
       "      <th>keyphrase</th>\n",
       "      <th>subTitle</th>\n",
       "    </tr>\n",
       "  </thead>\n",
       "  <tbody>\n",
       "    <tr>\n",
       "      <th>1219</th>\n",
       "      <td>[Carol-Ann Farkas]</td>\n",
       "      <td>2000-01-01</td>\n",
       "      <td>research-article</td>\n",
       "      <td>article</td>\n",
       "      <td>http://www.jstor.org/stable/44371993</td>\n",
       "      <td>[{'name': 'issn', 'value': '00849812'}, {'name...</td>\n",
       "      <td>Dickens Studies Annual</td>\n",
       "      <td>None</td>\n",
       "      <td>[eng]</td>\n",
       "      <td>[unigram, bigram, trigram]</td>\n",
       "      <td>...</td>\n",
       "      <td>Beauty is as Beauty Does: Action and Appearanc...</td>\n",
       "      <td>http://www.jstor.org/stable/44371993</td>\n",
       "      <td>29</td>\n",
       "      <td>13529</td>\n",
       "      <td>8</td>\n",
       "      <td>[[1303, 1639], [1840, 2312], [1161110, 1161366...</td>\n",
       "      <td>[[43890, 44226], [44234, 44706], [46016, 46270...</td>\n",
       "      <td>In Jane Eyre and Villette, and Middlemarch and...</td>\n",
       "      <td>None</td>\n",
       "      <td>None</td>\n",
       "    </tr>\n",
       "  </tbody>\n",
       "</table>\n",
       "<p>1 rows × 29 columns</p>\n",
       "</div>"
      ],
      "text/plain": [
       "                 creator datePublished        docSubType  docType  \\\n",
       "1219  [Carol-Ann Farkas]    2000-01-01  research-article  article   \n",
       "\n",
       "                                        id  \\\n",
       "1219  http://www.jstor.org/stable/44371993   \n",
       "\n",
       "                                             identifier  \\\n",
       "1219  [{'name': 'issn', 'value': '00849812'}, {'name...   \n",
       "\n",
       "                    isPartOf issueNumber language                outputFormat  \\\n",
       "1219  Dickens Studies Annual        None    [eng]  [unigram, bigram, trigram]   \n",
       "\n",
       "      ...                                              title  \\\n",
       "1219  ...  Beauty is as Beauty Does: Action and Appearanc...   \n",
       "\n",
       "                                       url volumeNumber wordCount numMatches  \\\n",
       "1219  http://www.jstor.org/stable/44371993           29     13529          8   \n",
       "\n",
       "                                         Locations in A  \\\n",
       "1219  [[1303, 1639], [1840, 2312], [1161110, 1161366...   \n",
       "\n",
       "                                         Locations in B  \\\n",
       "1219  [[43890, 44226], [44234, 44706], [46016, 46270...   \n",
       "\n",
       "                                               abstract keyphrase subTitle  \n",
       "1219  In Jane Eyre and Villette, and Middlemarch and...      None     None  \n",
       "\n",
       "[1 rows x 29 columns]"
      ]
     },
     "execution_count": 103,
     "metadata": {},
     "output_type": "execute_result"
    }
   ],
   "source": [
    "df[df['id'] ==  'http://www.jstor.org/stable/44371993']"
   ]
  },
  {
   "cell_type": "markdown",
   "metadata": {},
   "source": [
    "## Part 1: Get quotes (& their character indexes) from `text-matcher` output\n"
   ]
  },
  {
   "cell_type": "markdown",
   "metadata": {},
   "source": [
    "### What are the index positions of matches in our source text (Text \"A\")?\n",
    "Retrieve the character indexes in for the source text (Text A):"
   ]
  },
  {
   "cell_type": "code",
   "execution_count": 93,
   "metadata": {},
   "outputs": [],
   "source": [
    "article_id  = 'https://www.jstor.org/stable/44371993'"
   ]
  },
  {
   "cell_type": "code",
   "execution_count": 136,
   "metadata": {
    "scrolled": true
   },
   "outputs": [
    {
     "name": "stdout",
     "output_type": "stream",
     "text": [
      "Middlemarch character indexes:\n"
     ]
    },
    {
     "data": {
      "text/plain": [
       "[[1792915, 1793447]]"
      ]
     },
     "execution_count": 136,
     "metadata": {},
     "output_type": "execute_result"
    }
   ],
   "source": [
    "# What are the locations in A?\n",
    "print(\"Middlemarch character indexes:\")\n",
    "df.loc[df['id'] == article_id, 'Locations in A'].item()"
   ]
  },
  {
   "cell_type": "markdown",
   "metadata": {},
   "source": [
    "### What's the text of one of those matches?\n",
    "\n",
    "Let's check the corresponding text in Middlemarch for one of the matches output above.  \n",
    "Change the start and end character indexes to one of the index ranges in the cell above. "
   ]
  },
  {
   "cell_type": "code",
   "execution_count": 132,
   "metadata": {},
   "outputs": [
    {
     "name": "stdout",
     "output_type": "stream",
     "text": [
      "Middlemarch character indexes: [1793108, 1793148]\n"
     ]
    },
    {
     "data": {
      "text/plain": [
       "'great name on\\nthe earth.  But the effect'"
      ]
     },
     "execution_count": 132,
     "metadata": {},
     "output_type": "execute_result"
    }
   ],
   "source": [
    "#‼️ 🛑 IMPORTANT: Change the start and end character indexes to one of the ouputs above\n",
    "\n",
    "mm_start = 1793108  # 🛑 REPLACE the number with one of the starting character indexes\n",
    "mm_end =  1793148 # 🛑 REPLACE the number with one of the ending character indexes\n",
    "\n",
    "# Output the text in \"A\" for the start and end characters selected above\n",
    "print(\"Middlemarch character indexes:\", f\"[{mm_start}, {mm_end}]\")\n",
    "mm.text[mm_start:mm_end]"
   ]
  },
  {
   "cell_type": "code",
   "execution_count": 137,
   "metadata": {},
   "outputs": [
    {
     "name": "stdout",
     "output_type": "stream",
     "text": [
      "Middlemarch character indexes: [1792915, 1793447]\n"
     ]
    },
    {
     "data": {
      "text/plain": [
       "'finely touched spirit had still its fine issues, though they were\\nnot widely visible.  Her full nature, like that river of which Cyrus\\nbroke the strength, spent itself in channels which had no great name on\\nthe earth.  But the effect of her being on those around her was\\nincalculably diffusive: for the growing good of the world is partly\\ndependent on unhistoric acts; and that things are not so ill with you\\nand me as they might have been, is half owing to the number who lived\\nfaithfully a hidden life, and rest in unvisited tombs'"
      ]
     },
     "execution_count": 137,
     "metadata": {},
     "output_type": "execute_result"
    }
   ],
   "source": [
    "#‼️ 🛑 IMPORTANT: Change the start and end character indexes to one of the ouputs above\n",
    "\n",
    "mm_start = 1792915  # 🛑 REPLACE the number with one of the starting character indexes\n",
    "mm_end =  1793447 # 🛑 REPLACE the number with one of the ending character indexes\n",
    "\n",
    "# Output the text in \"A\" for the start and end characters selected above\n",
    "print(\"Middlemarch character indexes:\", f\"[{mm_start}, {mm_end}]\")\n",
    "mm.text[mm_start:mm_end]"
   ]
  },
  {
   "cell_type": "markdown",
   "metadata": {},
   "source": [
    "### What are the indexes positions of matches in our target text (Text \"B\")?\n",
    "Retrieve the indexes in the B text (that is, the article index: "
   ]
  },
  {
   "cell_type": "code",
   "execution_count": 138,
   "metadata": {},
   "outputs": [
    {
     "name": "stdout",
     "output_type": "stream",
     "text": [
      "Character index locations for http://www.jstor.org/stable/10.5325/georelioghlstud.70.2.0143:\n"
     ]
    },
    {
     "data": {
      "text/plain": [
       "[[350, 876]]"
      ]
     },
     "execution_count": 138,
     "metadata": {},
     "output_type": "execute_result"
    }
   ],
   "source": [
    "# What are the locations in B?\n",
    "print(f\"Character index locations for {article_id}:\")\n",
    "df.loc[df['id'] == article_id, 'Locations in B'].item()"
   ]
  },
  {
   "cell_type": "markdown",
   "metadata": {},
   "source": [
    "### What's the text of one of those matches in Text \"B\" (the article)?\n",
    "Change the start and end character indexes to one of the index ranges in the cell above."
   ]
  },
  {
   "cell_type": "code",
   "execution_count": 141,
   "metadata": {},
   "outputs": [
    {
     "name": "stdout",
     "output_type": "stream",
     "text": [
      "Character index locations for http://www.jstor.org/stable/10.5325/georelioghlstud.70.2.0143: [350, 876]\n"
     ]
    },
    {
     "data": {
      "text/plain": [
       "'finely-touched spirit had still its fine issues, though they were not widely visible. Her full nature, like that river of which Cyrus broke the strength, spent itself in channels which had no great name on earth. But the effect of her being on those around her was incalculably diffusive: for the growing good of the world is partly dependent on unhistoric acts; and that things are not so ill with you and me as they might have been, is half owing to the number who lived faithfully a hidden life, and rest in unvisited tombs'"
      ]
     },
     "execution_count": 141,
     "metadata": {},
     "output_type": "execute_result"
    }
   ],
   "source": [
    "#‼️ 🛑 IMPORTANT: Change the start and end character indexes to one of the ouputs above\n",
    "\n",
    "textB_start = 350 # 🛑 REPLACE the number to the left with one of the starting character indexes\n",
    "textB_end = 876 # 🛑 REPLACE the number to the left with one of the ending character indexes\n",
    "\n",
    "# Output the text in \"B\" for the start and end characters selected above \n",
    "print(f\"Character index locations for {article_id}:\", f\"[{textB_start}, {textB_end}]\")\n",
    "cleaned_article_text.text[textB_start:textB_end]"
   ]
  },
  {
   "cell_type": "markdown",
   "metadata": {},
   "source": [
    "---"
   ]
  },
  {
   "cell_type": "markdown",
   "metadata": {},
   "source": [
    "## Find the index positions of a given quotation\n",
    "\n",
    "To establish all of the \"ground truth\" quotations (and their character indexes), we'll want to get the index characters not just for quotations that text-matcher successfully matched, but for *all* quotations in that article.\n",
    "\n",
    "To retrieve the index characters for all quotations in an article legilbe to human eyes, follow the following steps.\n"
   ]
  },
  {
   "cell_type": "markdown",
   "metadata": {},
   "source": [
    "### Step 1: Locate the quotation in the PDF of the article."
   ]
  },
  {
   "cell_type": "markdown",
   "metadata": {},
   "source": [
    "### Step 2:  Locate the text of that quotation as it appears in the JSON file in the \"\"fullText\" field\n",
    "(🛑 Make sure you've entered the `article_id` for the article in the section \"Set the `article_id`\", first!!)  \n",
    "Run the cell below, and then use \"CTRL+F\" in your browser to find the quotation as it appears in the article text."
   ]
  },
  {
   "cell_type": "code",
   "execution_count": null,
   "metadata": {},
   "outputs": [],
   "source": [
    "print(cleaned_article_text.text)"
   ]
  },
  {
   "cell_type": "markdown",
   "metadata": {},
   "source": [
    "### Step 3: Copy that text of the quotation as it appears exactly in the article text above."
   ]
  },
  {
   "cell_type": "markdown",
   "metadata": {},
   "source": [
    "### Step 4: Paste the text of the quotation in the `quotation` field below\n",
    "Make sure that you enclose the quotation in quotation marks.\n",
    "\n",
    "If there are are quotation marks in the text of the quote, either place an escape character `\\` in front of them, or change the quotation marks that you use. (Eg, if there are single quotes (`'`) in the text, use double quotes (`\"`) to surround the text.\n",
    "\n",
    "Run the cell below."
   ]
  },
  {
   "cell_type": "code",
   "execution_count": 12,
   "metadata": {},
   "outputs": [
    {
     "name": "stdout",
     "output_type": "stream",
     "text": [
      "Article id: http://www.jstor.org/stable/30030019\n",
      "Starting index: 14718\n",
      "Ending index: 14816\n",
      "Character indexes for match: [14718, 14816]\n",
      "\n",
      " Corresponding text:\n"
     ]
    },
    {
     "data": {
      "text/plain": [
       "'All of us, grave or light, get our thoughts entangled in metaphors and act fatally on the strength'"
      ]
     },
     "execution_count": 12,
     "metadata": {},
     "output_type": "execute_result"
    }
   ],
   "source": [
    "# PASTE the quotation below in the field, replacing the text below ‼️\n",
    "# Make sure to include quotation marks around the string\n",
    "quotation = \"All of us, grave or light, get our thoughts entangled in metaphors and act fatally on the strength\" #pas\n",
    "\n",
    "index = cleaned_article_text.text.rindex(quotation)\n",
    "print(f\"Article id: {article_id}\")\n",
    "print('Starting index:', index) \n",
    "print('Ending index:', index + len(quotation))\n",
    "print(f'Character indexes for match: [{index}, {index + len(quotation)}]')\n",
    "print(\"\\n Corresponding text:\")\n",
    "cleaned_article_text.text[index:index + len(quotation)]\n",
    "\n"
   ]
  },
  {
   "cell_type": "markdown",
   "metadata": {},
   "source": [
    "### Step 5: Record the character indexes and article id in spreadsheet\n",
    "Add the character indexes and article ID as a new row in a spreadsheet"
   ]
  },
  {
   "cell_type": "code",
   "execution_count": null,
   "metadata": {},
   "outputs": [],
   "source": []
  },
  {
   "cell_type": "code",
   "execution_count": 74,
   "metadata": {},
   "outputs": [
    {
     "name": "stdout",
     "output_type": "stream",
     "text": [
      "Starting index: 1278826\n",
      "Ending index: 1278838\n"
     ]
    }
   ],
   "source": [
    "quotation = \"CHAPTER LIX.\" #pas\n",
    "\n",
    "index = mm.text.rindex(quotation)\n",
    "print('Starting index:', index) \n",
    "print('Ending index:', index + len(quotation))"
   ]
  },
  {
   "cell_type": "code",
   "execution_count": 51,
   "metadata": {},
   "outputs": [
    {
     "data": {
      "text/plain": [
       "252"
      ]
     },
     "execution_count": 51,
     "metadata": {},
     "output_type": "execute_result"
    }
   ],
   "source": [
    "len(\"helped to fill some dull blanks with love and knowledge, had not yet penetrated the times with its leaven and entered into everybody's food; it was fermenting still as a distinguishable vigorous enthusiasm in certain long-haired German artists at Rome,\")"
   ]
  },
  {
   "cell_type": "code",
   "execution_count": 75,
   "metadata": {},
   "outputs": [
    {
     "data": {
      "text/plain": [
       "'CHAPTER LVIII.\\n\\n    \"For there can live no hatred in thine eye,\\n     Therefore in that I cannot know thy change:\\n     In many\\'s looks the false heart\\'s history\\n     Is writ in moods and frowns and wrinkles strange:\\n     But Heaven in thy creation did decree\\n     That in thy face sweet love should ever dwell:\\n     Whate\\'er thy thoughts or thy heart\\'s workings be\\n     Thy looks should nothing thence but sweetness tell.\"\\n                                       --SHAKESPEARE: Sonnets.\\n\\n\\nAt the time when Mr. Vincy uttered that presentiment about Rosamond,\\nshe herself had never had the idea that she should be driven to make\\nthe sort of appeal which he foresaw.  She had not yet had any anxiety\\nabout ways and means, although her domestic life had been expensive as\\nwell as eventful.  Her baby had been born prematurely, and all the\\nembroidered robes and caps had to be laid by in darkness.  This\\nmisfortune was attributed entirely to her having persisted in going out\\non horseback one day when her husband had desired her not to do so; but\\nit must not be supposed that she had shown temper on the occasion, or\\nrudely told him that she would do as she liked.\\n\\nWhat led her particularly to desire horse-exercise was a visit from\\nCaptain Lydgate, the baronet\\'s third son, who, I am sorry to say, was\\ndetested by our Tertius of that name as a vapid fop \"parting his hair\\nfrom brow to nape in a despicable fashion\" (not followed by Tertius\\nhimself), and showing an ignorant security that he knew the proper\\nthing to say on every topic.  Lydgate inwardly cursed his own folly\\nthat he had drawn down this visit by consenting to go to his uncle\\'s on\\nthe wedding-tour, and he made himself rather disagreeable to Rosamond\\nby saying so in private.  For to Rosamond this visit was a source of\\nunprecedented but gracefully concealed exultation.  She was so\\nintensely conscious of having a cousin who was a baronet\\'s son staying\\nin the house, that she imagined the knowledge of what was implied by\\nhis presence to be diffused through all other minds; and when she\\nintroduced Captain Lydgate to her guests, she had a placid sense that\\nhis rank penetrated them as if it had been an odor.  The satisfaction\\nwas enough for the time to melt away some disappointment in the\\nconditions of marriage with a medical man even of good birth: it seemed\\nnow that her marriage was visibly as well as ideally floating her above\\nthe Middlemarch level, and the future looked bright with letters and\\nvisits to and from Quallingham, and vague advancement in consequence\\nfor Tertius.  Especially as, probably at the Captain\\'s suggestion, his\\nmarried sister, Mrs. Mengan, had come with her maid, and stayed two\\nnights on her way from town.  Hence it was clearly worth while for\\nRosamond to take pains with her music and the careful selection of her\\nlace.\\n\\nAs to Captain Lydgate himself, his low brow, his aquiline nose bent on\\none side, and his rather heavy utterance, might have been\\ndisadvantageous in any young gentleman who had not a military bearing\\nand mustache to give him what is doted on by some flower-like blond\\nheads as \"style.\"  He had, moreover, that sort of high-breeding which\\nconsists in being free from the petty solicitudes of middle-class\\ngentility, and he was a great critic of feminine charms.  Rosamond\\ndelighted in his admiration now even more than she had done at\\nQuallingham, and he found it easy to spend several hours of the day in\\nflirting with her.  The visit altogether was one of the pleasantest\\nlarks he had ever had, not the less so perhaps because he suspected\\nthat his queer cousin Tertius wished him away: though Lydgate, who\\nwould rather (hyperbolically speaking) have died than have failed in\\npolite hospitality, suppressed his dislike, and only pretended\\ngenerally not to hear what the gallant officer said, consigning the\\ntask of answering him to Rosamond.  For he was not at all a jealous\\nhusband, and preferred leaving a feather-headed young gentleman alone\\nwith his wife to bearing him company.\\n\\n\"I wish you would talk more to the Captain at dinner, Tertius,\" said\\nRosamond, one evening when the important guest was gone to Loamford to\\nsee some brother officers stationed there.  \"You really look so absent\\nsometimes--you seem to be seeing through his head into something behind\\nit, instead of looking at him.\"\\n\\n\"My dear Rosy, you don\\'t expect me to talk much to such a conceited ass\\nas that, I hope,\" said Lydgate, brusquely.  \"If he got his head broken,\\nI might look at it with interest, not before.\"\\n\\n\"I cannot conceive why you should speak of your cousin so\\ncontemptuously,\" said Rosamond, her fingers moving at her work while\\nshe spoke with a mild gravity which had a touch of disdain in it.\\n\\n\"Ask Ladislaw if he doesn\\'t think your Captain the greatest bore he\\never met with.  Ladislaw has almost forsaken the house since he came.\"\\n\\nRosamond thought she knew perfectly well why Mr. Ladislaw disliked the\\nCaptain: he was jealous, and she liked his being jealous.\\n\\n\"It is impossible to say what will suit eccentric persons,\" she\\nanswered, \"but in my opinion Captain Lydgate is a thorough gentleman,\\nand I think you ought not, out of respect to Sir Godwin, to treat him\\nwith neglect.\"\\n\\n\"No, dear; but we have had dinners for him.  And he comes in and goes\\nout as he likes.  He doesn\\'t want me.\"\\n\\n\"Still, when he is in the room, you might show him more attention.  He\\nmay not be a phoenix of cleverness in your sense; his profession is\\ndifferent; but it would be all the better for you to talk a little on\\nhis subjects.  _I_ think his conversation is quite agreeable.  And he\\nis anything but an unprincipled man.\"\\n\\n\"The fact is, you would wish me to be a little more like him, Rosy,\"\\nsaid Lydgate, in a sort of resigned murmur, with a smile which was not\\nexactly tender, and certainly not merry.  Rosamond was silent and did\\nnot smile again; but the lovely curves of her face looked good-tempered\\nenough without smiling.\\n\\nThose words of Lydgate\\'s were like a sad milestone marking how far he\\nhad travelled from his old dreamland, in which Rosamond Vincy appeared\\nto be that perfect piece of womanhood who would reverence her husband\\'s\\nmind after the fashion of an accomplished mermaid, using her comb and\\nlooking-glass and singing her song for the relaxation of his adored\\nwisdom alone.  He had begun to distinguish between that imagined\\nadoration and the attraction towards a man\\'s talent because it gives\\nhim prestige, and is like an order in his button-hole or an Honorable\\nbefore his name.\\n\\nIt might have been supposed that Rosamond had travelled too, since she\\nhad found the pointless conversation of Mr. Ned Plymdale perfectly\\nwearisome; but to most mortals there is a stupidity which is\\nunendurable and a stupidity which is altogether acceptable--else,\\nindeed, what would become of social bonds?  Captain Lydgate\\'s stupidity\\nwas delicately scented, carried itself with \"style,\" talked with a good\\naccent, and was closely related to Sir Godwin.  Rosamond found it quite\\nagreeable and caught many of its phrases.\\n\\nTherefore since Rosamond, as we know, was fond of horseback, there were\\nplenty of reasons why she should be tempted to resume her riding when\\nCaptain Lydgate, who had ordered his man with two horses to follow him\\nand put up at the \"Green Dragon,\" begged her to go out on the gray\\nwhich he warranted to be gentle and trained to carry a lady--indeed, he\\nhad bought it for his sister, and was taking it to Quallingham.\\nRosamond went out the first time without telling her husband, and came\\nback before his return; but the ride had been so thorough a success,\\nand she declared herself so much the better in consequence, that he was\\ninformed of it with full reliance on his consent that she should go\\nriding again.\\n\\nOn the contrary Lydgate was more than hurt--he was utterly confounded\\nthat she had risked herself on a strange horse without referring the\\nmatter to his wish.  After the first almost thundering exclamations of\\nastonishment, which sufficiently warned Rosamond of what was coming, he\\nwas silent for some moments.\\n\\n\"However, you have come back safely,\" he said, at last, in a decisive\\ntone.  \"You will not go again, Rosy; that is understood.  If it were\\nthe quietest, most familiar horse in the world, there would always be\\nthe chance of accident.  And you know very well that I wished you to\\ngive up riding the roan on that account.\"\\n\\n\"But there is the chance of accident indoors, Tertius.\"\\n\\n\"My darling, don\\'t talk nonsense,\" said Lydgate, in an imploring tone;\\n\"surely I am the person to judge for you.  I think it is enough that I\\nsay you are not to go again.\"\\n\\nRosamond was arranging her hair before dinner, and the reflection of\\nher head in the glass showed no change in its loveliness except a\\nlittle turning aside of the long neck.  Lydgate had been moving about\\nwith his hands in his pockets, and now paused near her, as if he\\nawaited some assurance.\\n\\n\"I wish you would fasten up my plaits, dear,\" said Rosamond, letting\\nher arms fall with a little sigh, so as to make a husband ashamed of\\nstanding there like a brute.  Lydgate had often fastened the plaits\\nbefore, being among the deftest of men with his large finely formed\\nfingers.  He swept up the soft festoons of plaits and fastened in the\\ntall comb (to such uses do men come!); and what could he do then but\\nkiss the exquisite nape which was shown in all its delicate curves?\\nBut when we do what we have done before, it is often with a difference.\\nLydgate was still angry, and had not forgotten his point.\\n\\n\"I shall tell the Captain that he ought to have known better than offer\\nyou his horse,\" he said, as he moved away.\\n\\n\"I beg you will not do anything of the kind, Tertius,\" said Rosamond,\\nlooking at him with something more marked than usual in her speech.\\n\"It will be treating me as if I were a child.  Promise that you will\\nleave the subject to me.\"\\n\\nThere did seem to be some truth in her objection.  Lydgate said, \"Very\\nwell,\" with a surly obedience, and thus the discussion ended with his\\npromising Rosamond, and not with her promising him.\\n\\nIn fact, she had been determined not to promise.  Rosamond had that\\nvictorious obstinacy which never wastes its energy in impetuous\\nresistance.  What she liked to do was to her the right thing, and all\\nher cleverness was directed to getting the means of doing it.  She\\nmeant to go out riding again on the gray, and she did go on the next\\nopportunity of her husband\\'s absence, not intending that he should know\\nuntil it was late enough not to signify to her.  The temptation was\\ncertainly great: she was very fond of the exercise, and the\\ngratification of riding on a fine horse, with Captain Lydgate, Sir\\nGodwin\\'s son, on another fine horse by her side, and of being met in\\nthis position by any one but her husband, was something as good as her\\ndreams before marriage: moreover she was riveting the connection with\\nthe family at Quallingham, which must be a wise thing to do.\\n\\nBut the gentle gray, unprepared for the crash of a tree that was being\\nfelled on the edge of Halsell wood, took fright, and caused a worse\\nfright to Rosamond, leading finally to the loss of her baby.  Lydgate\\ncould not show his anger towards her, but he was rather bearish to the\\nCaptain, whose visit naturally soon came to an end.\\n\\nIn all future conversations on the subject, Rosamond was mildly certain\\nthat the ride had made no difference, and that if she had stayed at\\nhome the same symptoms would have come on and would have ended in the\\nsame way, because she had felt something like them before.\\n\\nLydgate could only say, \"Poor, poor darling!\"--but he secretly wondered\\nover the terrible tenacity of this mild creature.  There was gathering\\nwithin him an amazed sense of his powerlessness over Rosamond.  His\\nsuperior knowledge and mental force, instead of being, as he had\\nimagined, a shrine to consult on all occasions, was simply set aside on\\nevery practical question.  He had regarded Rosamond\\'s cleverness as\\nprecisely of the receptive kind which became a woman.  He was now\\nbeginning to find out what that cleverness was--what was the shape into\\nwhich it had run as into a close network aloof and independent.  No one\\nquicker than Rosamond to see causes and effects which lay within the\\ntrack of her own tastes and interests: she had seen clearly Lydgate\\'s\\npreeminence in Middlemarch society, and could go on imaginatively\\ntracing still more agreeable social effects when his talent should have\\nadvanced him; but for her, his professional and scientific ambition had\\nno other relation to these desirable effects than if they had been the\\nfortunate discovery of an ill-smelling oil.  And that oil apart, with\\nwhich she had nothing to do, of course she believed in her own opinion\\nmore than she did in his.  Lydgate was astounded to find in numberless\\ntrifling matters, as well as in this last serious case of the riding,\\nthat affection did not make her compliant.  He had no doubt that the\\naffection was there, and had no presentiment that he had done anything\\nto repel it.  For his own part he said to himself that he loved her as\\ntenderly as ever, and could make up his mind to her negations;\\nbut--well!  Lydgate was much worried, and conscious of new elements in\\nhis life as noxious to him as an inlet of mud to a creature that has\\nbeen used to breathe and bathe and dart after its illuminated prey in\\nthe clearest of waters.\\n\\nRosamond was soon looking lovelier than ever at her worktable, enjoying\\ndrives in her father\\'s phaeton and thinking it likely that she might be\\ninvited to Quallingham.  She knew that she was a much more exquisite\\nornament to the drawing-room there than any daughter of the family, and\\nin reflecting that the gentlemen were aware of that, did not perhaps\\nsufficiently consider whether the ladies would be eager to see\\nthemselves surpassed.\\n\\nLydgate, relieved from anxiety about her, relapsed into what she\\ninwardly called his moodiness--a name which to her covered his\\nthoughtful preoccupation with other subjects than herself, as well as\\nthat uneasy look of the brow and distaste for all ordinary things as if\\nthey were mixed with bitter herbs, which really made a sort of\\nweather-glass to his vexation and foreboding.  These latter states of\\nmind had one cause amongst others, which he had generously but\\nmistakenly avoided mentioning to Rosamond, lest it should affect her\\nhealth and spirits.  Between him and her indeed there was that total\\nmissing of each other\\'s mental track, which is too evidently possible\\neven between persons who are continually thinking of each other.  To\\nLydgate it seemed that he had been spending month after month in\\nsacrificing more than half of his best intent and best power to his\\ntenderness for Rosamond; bearing her little claims and interruptions\\nwithout impatience, and, above all, bearing without betrayal of\\nbitterness to look through less and less of interfering illusion at the\\nblank unreflecting surface her mind presented to his ardor for the more\\nimpersonal ends of his profession and his scientific study, an ardor\\nwhich he had fancied that the ideal wife must somehow worship as\\nsublime, though not in the least knowing why.  But his endurance was\\nmingled with a self-discontent which, if we know how to be candid, we\\nshall confess to make more than half our bitterness under grievances,\\nwife or husband included.  It always remains true that if we had been\\ngreater, circumstance would have been less strong against us.  Lydgate\\nwas aware that his concessions to Rosamond were often little more than\\nthe lapse of slackening resolution, the creeping paralysis apt to seize\\nan enthusiasm which is out of adjustment to a constant portion of our\\nlives.  And on Lydgate\\'s enthusiasm there was constantly pressing not a\\nsimple weight of sorrow, but the biting presence of a petty degrading\\ncare, such as casts the blight of irony over all higher effort.\\n\\nThis was the care which he had hitherto abstained from mentioning to\\nRosamond; and he believed, with some wonder, that it had never entered\\nher mind, though certainly no difficulty could be less mysterious.  It\\nwas an inference with a conspicuous handle to it, and had been easily\\ndrawn by indifferent observers, that Lydgate was in debt; and he could\\nnot succeed in keeping out of his mind for long together that he was\\nevery day getting deeper into that swamp, which tempts men towards it\\nwith such a pretty covering of flowers and verdure.  It is wonderful\\nhow soon a man gets up to his chin there--in a condition in which,\\nin spite of himself, he is forced to think chiefly of release, though he\\nhad a scheme of the universe in his soul.\\n\\nEighteen months ago Lydgate was poor, but had never known the eager\\nwant of small sums, and felt rather a burning contempt for any one who\\ndescended a step in order to gain them.  He was now experiencing\\nsomething worse than a simple deficit: he was assailed by the vulgar\\nhateful trials of a man who has bought and used a great many things\\nwhich might have been done without, and which he is unable to pay for,\\nthough the demand for payment has become pressing.\\n\\nHow this came about may be easily seen without much arithmetic or\\nknowledge of prices.  When a man in setting up a house and preparing\\nfor marriage finds that his furniture and other initial expenses come\\nto between four and five hundred pounds more than he has capital to pay\\nfor; when at the end of a year it appears that his household expenses,\\nhorses and et caeteras, amount to nearly a thousand, while the proceeds\\nof the practice reckoned from the old books to be worth eight hundred\\nper annum have sunk like a summer pond and make hardly five hundred,\\nchiefly in unpaid entries, the plain inference is that, whether he\\nminds it or not, he is in debt.  Those were less expensive times than\\nour own, and provincial life was comparatively modest; but the ease\\nwith which a medical man who had lately bought a practice, who thought\\nthat he was obliged to keep two horses, whose table was supplied\\nwithout stint, and who paid an insurance on his life and a high rent\\nfor house and garden, might find his expenses doubling his receipts,\\ncan be conceived by any one who does not think these details beneath\\nhis consideration.  Rosamond, accustomed from her childhood to an extravagant\\nhousehold, thought that good housekeeping consisted simply in ordering\\nthe best of everything--nothing else \"answered;\" and Lydgate supposed\\nthat \"if things were done at all, they must be done properly\"--he did\\nnot see how they were to live otherwise.  If each head of household\\nexpenditure had been mentioned to him beforehand, he would have\\nprobably observed that \"it could hardly come to much,\" and if any one\\nhad suggested a saving on a particular article--for example, the\\nsubstitution of cheap fish for dear--it would have appeared to him\\nsimply a penny-wise, mean notion.  Rosamond, even without such an\\noccasion as Captain Lydgate\\'s visit, was fond of giving invitations,\\nand Lydgate, though he often thought the guests tiresome, did not\\ninterfere.  This sociability seemed a necessary part of professional\\nprudence, and the entertainment must be suitable.  It is true Lydgate\\nwas constantly visiting the homes of the poor and adjusting his\\nprescriptions of diet to their small means; but, dear me! has it not by\\nthis time ceased to be remarkable--is it not rather that we expect in\\nmen, that they should have numerous strands of experience lying side by\\nside and never compare them with each other?  Expenditure--like\\nugliness and errors--becomes a totally new thing when we attach our own\\npersonality to it, and measure it by that wide difference which is\\nmanifest (in our own sensations) between ourselves and others.  Lydgate\\nbelieved himself to be careless about his dress, and he despised a man\\nwho calculated the effects of his costume; it seemed to him only a\\nmatter of course that he had abundance of fresh garments--such things\\nwere naturally ordered in sheaves.  It must be remembered that he had\\nnever hitherto felt the check of importunate debt, and he walked by\\nhabit, not by self-criticism.  But the check had come.\\n\\nIts novelty made it the more irritating.  He was amazed, disgusted that\\nconditions so foreign to all his purposes, so hatefully disconnected\\nwith the objects he cared to occupy himself with, should have lain in\\nambush and clutched him when he was unaware.  And there was not only\\nthe actual debt; there was the certainty that in his present position\\nhe must go on deepening it.  Two furnishing tradesmen at Brassing,\\nwhose bills had been incurred before his marriage, and whom\\nuncalculated current expenses had ever since prevented him from paying,\\nhad repeatedly sent him unpleasant letters which had forced themselves\\non his attention.  This could hardly have been more galling to any\\ndisposition than to Lydgate\\'s, with his intense pride--his dislike of\\nasking a favor or being under an obligation to any one.  He had scorned\\neven to form conjectures about Mr. Vincy\\'s intentions on money matters,\\nand nothing but extremity could have induced him to apply to his\\nfather-in-law, even if he had not been made aware in various indirect\\nways since his marriage that Mr. Vincy\\'s own affairs were not\\nflourishing, and that the expectation of help from him would be\\nresented.  Some men easily trust in the readiness of friends; it had\\nnever in the former part of his life occurred to Lydgate that he should\\nneed to do so: he had never thought what borrowing would be to him; but\\nnow that the idea had entered his mind, he felt that he would rather\\nincur any other hardship.  In the mean time he had no money or\\nprospects of money; and his practice was not getting more lucrative.\\n\\nNo wonder that Lydgate had been unable to suppress all signs of inward\\ntrouble during the last few months, and now that Rosamond was regaining\\nbrilliant health, he meditated taking her entirely into confidence on\\nhis difficulties.  New conversance with tradesmen\\'s bills had forced\\nhis reasoning into a new channel of comparison: he had begun to\\nconsider from a new point of view what was necessary and unnecessary in\\ngoods ordered, and to see that there must be some change of habits.\\nHow could such a change be made without Rosamond\\'s concurrence?  The\\nimmediate occasion of opening the disagreeable fact to her was forced\\nupon him.\\n\\nHaving no money, and having privately sought advice as to what security\\ncould possibly be given by a man in his position, Lydgate had offered\\nthe one good security in his power to the less peremptory creditor, who\\nwas a silversmith and jeweller, and who consented to take on himself\\nthe upholsterer\\'s credit also, accepting interest for a given term.\\nThe security necessary was a bill of sale on the furniture of his\\nhouse, which might make a creditor easy for a reasonable time about a\\ndebt amounting to less than four hundred pounds; and the silversmith,\\nMr. Dover, was willing to reduce it by taking back a portion of the\\nplate and any other article which was as good as new.  \"Any other\\narticle\" was a phrase delicately implying jewellery, and more\\nparticularly some purple amethysts costing thirty pounds, which Lydgate\\nhad bought as a bridal present.\\n\\nOpinions may be divided as to his wisdom in making this present: some\\nmay think that it was a graceful attention to be expected from a man\\nlike Lydgate, and that the fault of any troublesome consequences lay in\\nthe pinched narrowness of provincial life at that time, which offered\\nno conveniences for professional people whose fortune was not\\nproportioned to their tastes; also, in Lydgate\\'s ridiculous\\nfastidiousness about asking his friends for money.\\n\\nHowever, it had seemed a question of no moment to him on that fine\\nmorning when he went to give a final order for plate: in the presence\\nof other jewels enormously expensive, and as an addition to orders of\\nwhich the amount had not been exactly calculated, thirty pounds for\\nornaments so exquisitely suited to Rosamond\\'s neck and arms could\\nhardly appear excessive when there was no ready cash for it to exceed.\\nBut at this crisis Lydgate\\'s imagination could not help dwelling on the\\npossibility of letting the amethysts take their place again among Mr.\\nDover\\'s stock, though he shrank from the idea of proposing this to\\nRosamond.  Having been roused to discern consequences which he had\\nnever been in the habit of tracing, he was preparing to act on this\\ndiscernment with some of the rigor (by no means all) that he would have\\napplied in pursuing experiment.  He was nerving himself to this rigor\\nas he rode from Brassing, and meditated on the representations he must\\nmake to Rosamond.\\n\\nIt was evening when he got home.  He was intensely miserable, this\\nstrong man of nine-and-twenty and of many gifts.  He was not saying\\nangrily within himself that he had made a profound mistake; but the\\nmistake was at work in him like a recognized chronic disease, mingling\\nits uneasy importunities with every prospect, and enfeebling every\\nthought.  As he went along the passage to the drawing-room, he heard\\nthe piano and singing.  Of course, Ladislaw was there.  It was some\\nweeks since Will had parted from Dorothea, yet he was still at the old\\npost in Middlemarch.  Lydgate had no objection in general to Ladislaw\\'s\\ncoming, but just now he was annoyed that he could not find his hearth\\nfree.  When he opened the door the two singers went on towards the\\nkey-note, raising their eyes and looking at him indeed, but not\\nregarding his entrance as an interruption.  To a man galled with his\\nharness as poor Lydgate was, it is not soothing to see two people\\nwarbling at him, as he comes in with the sense that the painful day has\\nstill pains in store.  His face, already paler than usual, took on a\\nscowl as he walked across the room and flung himself into a chair.\\n\\nThe singers feeling themselves excused by the fact that they had only\\nthree bars to sing, now turned round.\\n\\n\"How are you, Lydgate?\" said Will, coming forward to shake hands.\\n\\nLydgate took his hand, but did not think it necessary to speak.\\n\\n\"Have you dined, Tertius?  I expected you much earlier,\" said Rosamond,\\nwho had already seen that her husband was in a \"horrible humor.\" She\\nseated herself in her usual place as she spoke.\\n\\n\"I have dined.  I should like some tea, please,\" said Lydgate, curtly,\\nstill scowling and looking markedly at his legs stretched out before\\nhim.\\n\\nWill was too quick to need more.  \"I shall be off,\" he said, reaching\\nhis hat.\\n\\n\"Tea is coming,\" said Rosamond; \"pray don\\'t go.\"\\n\\n\"Yes, Lydgate is bored,\" said Will, who had more comprehension of\\nLydgate than Rosamond had, and was not offended by his manner, easily\\nimagining outdoor causes of annoyance.\\n\\n\"There is the more need for you to stay,\" said Rosamond, playfully, and\\nin her lightest accent; \"he will not speak to me all the evening.\"\\n\\n\"Yes, Rosamond, I shall,\" said Lydgate, in his strong baritone.  \"I\\nhave some serious business to speak to you about.\"\\n\\nNo introduction of the business could have been less like that which\\nLydgate had intended; but her indifferent manner had been too provoking.\\n\\n\"There! you see,\" said Will.  \"I\\'m going to the meeting about the\\nMechanics\\' Institute.  Good-by;\" and he went quickly out of the room.\\n\\nRosamond did not look at her husband, but presently rose and took her\\nplace before the tea-tray. She was thinking that she had never seen him\\nso disagreeable.  Lydgate turned his dark eyes on her and watched her\\nas she delicately handled the tea-service with her taper fingers, and\\nlooked at the objects immediately before her with no curve in her face\\ndisturbed, and yet with an ineffable protest in her air against all\\npeople with unpleasant manners.  For the moment he lost the sense of\\nhis wound in a sudden speculation about this new form of feminine\\nimpassibility revealing itself in the sylph-like frame which he had\\nonce interpreted as the sign of a ready intelligent sensitiveness.  His\\nmind glancing back to Laure while he looked at Rosamond, he said\\ninwardly, \"Would _she_ kill me because I wearied her?\" and then, \"It is\\nthe way with all women.\" But this power of generalizing which gives men\\nso much the superiority in mistake over the dumb animals, was\\nimmediately thwarted by Lydgate\\'s memory of wondering impressions from\\nthe behavior of another woman--from Dorothea\\'s looks and tones of\\nemotion about her husband when Lydgate began to attend him--from her\\npassionate cry to be taught what would best comfort that man for whose\\nsake it seemed as if she must quell every impulse in her except the\\nyearnings of faithfulness and compassion.  These revived impressions\\nsucceeded each other quickly and dreamily in Lydgate\\'s mind while the\\ntea was being brewed.  He had shut his eyes in the last instant of\\nreverie while he heard Dorothea saying, \"Advise me--think what I can\\ndo--he has been all his life laboring and looking forward.  He minds\\nabout nothing else--and I mind about nothing else.\"\\n\\nThat voice of deep-souled womanhood had remained within him as the\\nenkindling conceptions of dead and sceptred genius had remained within\\nhim (is there not a genius for feeling nobly which also reigns over\\nhuman spirits and their conclusions?); the tones were a music from\\nwhich he was falling away--he had really fallen into a momentary doze,\\nwhen Rosamond said in her silvery neutral way, \"Here is your tea,\\nTertius,\" setting it on the small table by his side, and then moved\\nback to her place without looking at him.  Lydgate was too hasty in\\nattributing insensibility to her; after her own fashion, she was\\nsensitive enough, and took lasting impressions.  Her impression now was\\none of offence and repulsion.  But then, Rosamond had no scowls and had\\nnever raised her voice: she was quite sure that no one could justly\\nfind fault with her.\\n\\nPerhaps Lydgate and she had never felt so far off each other before;\\nbut there were strong reasons for not deferring his revelation, even if\\nhe had not already begun it by that abrupt announcement; indeed some of\\nthe angry desire to rouse her into more sensibility on his account\\nwhich had prompted him to speak prematurely, still mingled with his\\npain in the prospect of her pain.  But he waited till the tray was\\ngone, the candles were lit, and the evening quiet might be counted on:\\nthe interval had left time for repelled tenderness to return into the\\nold course.  He spoke kindly.\\n\\n\"Dear Rosy, lay down your work and come to sit by me,\" he said, gently,\\npushing away the table, and stretching out his arm to draw a chair near\\nhis own.\\n\\nRosamond obeyed.  As she came towards him in her drapery of transparent\\nfaintly tinted muslin, her slim yet round figure never looked more\\ngraceful; as she sat down by him and laid one hand on the elbow of his\\nchair, at last looking at him and meeting his eyes, her delicate neck\\nand cheek and purely cut lips never had more of that untarnished beauty\\nwhich touches as in spring-time and infancy and all sweet freshness.\\nIt touched Lydgate now, and mingled the early moments of his love for\\nher with all the other memories which were stirred in this crisis of\\ndeep trouble.  He laid his ample hand softly on hers, saying--\\n\\n\"Dear!\" with the lingering utterance which affection gives to the word.\\nRosamond too was still under the power of that same past, and her\\nhusband was still in part the Lydgate whose approval had stirred\\ndelight.  She put his hair lightly away from his forehead, then laid\\nher other hand on his, and was conscious of forgiving him.\\n\\n\"I am obliged to tell you what will hurt you, Rosy.  But there are\\nthings which husband and wife must think of together.  I dare say it\\nhas occurred to you already that I am short of money.\"\\n\\nLydgate paused; but Rosamond turned her neck and looked at a vase on\\nthe mantel-piece.\\n\\n\"I was not able to pay for all the things we had to get before we were\\nmarried, and there have been expenses since which I have been obliged\\nto meet.  The consequence is, there is a large debt at Brassing--three\\nhundred and eighty pounds--which has been pressing on me a good while,\\nand in fact we are getting deeper every day, for people don\\'t pay me\\nthe faster because others want the money.  I took pains to keep it from\\nyou while you were not well; but now we must think together about it,\\nand you must help me.\"\\n\\n\"What can--I--do, Tertius?\" said Rosamond, turning her eyes on him\\nagain.  That little speech of four words, like so many others in all\\nlanguages, is capable by varied vocal inflections of expressing all\\nstates of mind from helpless dimness to exhaustive argumentative\\nperception, from the completest self-devoting fellowship to the most\\nneutral aloofness.  Rosamond\\'s thin utterance threw into the words\\n\"What can--I--do!\" as much neutrality as they could hold.  They fell\\nlike a mortal chill on Lydgate\\'s roused tenderness.  He did not storm\\nin indignation--he felt too sad a sinking of the heart.  And when he\\nspoke again it was more in the tone of a man who forces himself to\\nfulfil a task.\\n\\n\"It is necessary for you to know, because I have to give security for a\\ntime, and a man must come to make an inventory of the furniture.\"\\n\\nRosamond colored deeply.  \"Have you not asked papa for money?\" she\\nsaid, as soon as she could speak.\\n\\n\"No.\"\\n\\n\"Then I must ask him!\" she said, releasing her hands from Lydgate\\'s,\\nand rising to stand at two yards\\' distance from him.\\n\\n\"No, Rosy,\" said Lydgate, decisively.  \"It is too late to do that.  The\\ninventory will be begun to-morrow. Remember it is a mere security: it\\nwill make no difference: it is a temporary affair.  I insist upon it\\nthat your father shall not know, unless I choose to tell him,\" added\\nLydgate, with a more peremptory emphasis.\\n\\nThis certainly was unkind, but Rosamond had thrown him back on evil\\nexpectation as to what she would do in the way of quiet steady\\ndisobedience.  The unkindness seemed unpardonable to her: she was not\\ngiven to weeping and disliked it, but now her chin and lips began to\\ntremble and the tears welled up.  Perhaps it was not possible for\\nLydgate, under the double stress of outward material difficulty and of\\nhis own proud resistance to humiliating consequences, to imagine fully\\nwhat this sudden trial was to a young creature who had known nothing\\nbut indulgence, and whose dreams had all been of new indulgence, more\\nexactly to her taste.  But he did wish to spare her as much as he\\ncould, and her tears cut him to the heart.  He could not speak again\\nimmediately; but Rosamond did not go on sobbing: she tried to conquer\\nher agitation and wiped away her tears, continuing to look before her\\nat the mantel-piece.\\n\\n\"Try not to grieve, darling,\" said Lydgate, turning his eyes up towards\\nher.  That she had chosen to move away from him in this moment of her\\ntrouble made everything harder to say, but he must absolutely go on.\\n\"We must brace ourselves to do what is necessary.  It is I who have\\nbeen in fault: I ought to have seen that I could not afford to live in\\nthis way. But many things have told against me in my practice, and it\\nreally just now has ebbed to a low point.  I may recover it, but in the\\nmean time we must pull up--we must change our way of living.  We shall\\nweather it.  When I have given this security I shall have time to look\\nabout me; and you are so clever that if you turn your mind to managing\\nyou will school me into carefulness.  I have been a thoughtless rascal\\nabout squaring prices--but come, dear, sit down and forgive me.\"\\n\\nLydgate was bowing his neck under the yoke like a creature who had\\ntalons, but who had Reason too, which often reduces us to meekness.\\nWhen he had spoken the last words in an imploring tone, Rosamond\\nreturned to the chair by his side.  His self-blame gave her some hope\\nthat he would attend to her opinion, and she said--\\n\\n\"Why can you not put off having the inventory made?  You can send the\\nmen away to-morrow when they come.\"\\n\\n\"I shall not send them away,\" said Lydgate, the peremptoriness rising\\nagain.  Was it of any use to explain?\\n\\n\"If we left Middlemarch? there would of course be a sale, and that\\nwould do as well.\"\\n\\n\"But we are not going to leave Middlemarch.\"\\n\\n\"I am sure, Tertius, it would be much better to do so.  Why can we not\\ngo to London?  Or near Durham, where your family is known?\"\\n\\n\"We can go nowhere without money, Rosamond.\"\\n\\n\"Your friends would not wish you to be without money.  And surely these\\nodious tradesmen might be made to understand that, and to wait, if you\\nwould make proper representations to them.\"\\n\\n\"This is idle Rosamond,\" said Lydgate, angrily.  \"You must learn to\\ntake my judgment on questions you don\\'t understand.  I have made\\nnecessary arrangements, and they must be carried out.  As to friends, I\\nhave no expectations whatever from them, and shall not ask them for\\nanything.\"\\n\\nRosamond sat perfectly still.  The thought in her mind was that if she\\nhad known how Lydgate would behave, she would never have married him.\\n\\n\"We have no time to waste now on unnecessary words, dear,\" said\\nLydgate, trying to be gentle again.  \"There are some details that I\\nwant to consider with you.  Dover says he will take a good deal of the\\nplate back again, and any of the jewellery we like.  He really behaves\\nvery well.\"\\n\\n\"Are we to go without spoons and forks then?\" said Rosamond, whose very\\nlips seemed to get thinner with the thinness of her utterance.  She was\\ndetermined to make no further resistance or suggestions.\\n\\n\"Oh no, dear!\" said Lydgate.  \"But look here,\" he continued, drawing a\\npaper from his pocket and opening it; \"here is Dover\\'s account.  See, I\\nhave marked a number of articles, which if we returned them would\\nreduce the amount by thirty pounds and more.  I have not marked any\\nof the jewellery.\"  Lydgate had really felt this point of the jewellery\\nvery bitter to himself; but he had overcome the feeling by severe\\nargument.  He could not propose to Rosamond that she should return any\\nparticular present of his, but he had told himself that he was bound to\\nput Dover\\'s offer before her, and her inward prompting might make the\\naffair easy.\\n\\n\"It is useless for me to look, Tertius,\" said Rosamond, calmly; \"you\\nwill return what you please.\"  She would not turn her eyes on the\\npaper, and Lydgate, flushing up to the roots of his hair, drew it back\\nand let it fall on his knee.  Meanwhile Rosamond quietly went out of\\nthe room, leaving Lydgate helpless and wondering.  Was she not coming\\nback?  It seemed that she had no more identified herself with him than\\nif they had been creatures of different species and opposing interests.\\nHe tossed his head and thrust his hands deep into his pockets with a\\nsort of vengeance.  There was still science--there were still good\\nobjects to work for.  He must give a tug still--all the stronger\\nbecause other satisfactions were going.\\n\\nBut the door opened and Rosamond re-entered. She carried the leather\\nbox containing the amethysts, and a tiny ornamental basket which\\ncontained other boxes, and laying them on the chair where she had been\\nsitting, she said, with perfect propriety in her air--\\n\\n\"This is all the jewellery you ever gave me.  You can return what you\\nlike of it, and of the plate also.  You will not, of course, expect me\\nto stay at home to-morrow. I shall go to papa\\'s.\"\\n\\nTo many women the look Lydgate cast at her would have been more\\nterrible than one of anger: it had in it a despairing acceptance of the\\ndistance she was placing between them.\\n\\n\"And when shall you come back again?\" he said, with a bitter edge on\\nhis accent.\\n\\n\"Oh, in the evening.  Of course I shall not mention the subject to\\nmamma.\"  Rosamond was convinced that no woman could behave more\\nirreproachably than she was behaving; and she went to sit down at her\\nwork-table. Lydgate sat meditating a minute or two, and the result was\\nthat he said, with some of the old emotion in his tone--\\n\\n\"Now we have been united, Rosy, you should not leave me to myself in\\nthe first trouble that has come.\"\\n\\n\"Certainly not,\" said Rosamond; \"I shall do everything it becomes me to\\ndo.\"\\n\\n\"It is not right that the thing should be left to servants, or that I\\nshould have to speak to them about it.  And I shall be obliged to go\\nout--I don\\'t know how early.  I understand your shrinking from the\\nhumiliation of these money affairs.  But, my dear Rosamond, as a\\nquestion of pride, which I feel just as much as you can, it is surely\\nbetter to manage the thing ourselves, and let the servants see as\\nlittle of it as possible; and since you are my wife, there is no\\nhindering your share in my disgraces--if there were disgraces.\"\\n\\nRosamond did not answer immediately, but at last she said, \"Very well,\\nI will stay at home.\"\\n\\n\"I shall not touch these jewels, Rosy.  Take them away again.  But I\\nwill write out a list of plate that we may return, and that can be\\npacked up and sent at once.\"\\n\\n\"The servants will know _that_,\" said Rosamond, with the slightest\\ntouch of sarcasm.\\n\\n\"Well, we must meet some disagreeables as necessities.  Where is the\\nink, I wonder?\" said Lydgate, rising, and throwing the account on the\\nlarger table where he meant to write.\\n\\nRosamond went to reach the inkstand, and after setting it on the table\\nwas going to turn away, when Lydgate, who was standing close by, put\\nhis arm round her and drew her towards him, saying--\\n\\n\"Come, darling, let us make the best of things.  It will only be for a\\ntime, I hope, that we shall have to be stingy and particular.  Kiss me.\"\\n\\nHis native warm-heartedness took a great deal of quenching, and it is a\\npart of manliness for a husband to feel keenly the fact that an\\ninexperienced girl has got into trouble by marrying him.  She received\\nhis kiss and returned it faintly, and in this way an appearance of\\naccord was recovered for the time.  But Lydgate could not help looking\\nforward with dread to the inevitable future discussions about\\nexpenditure and the necessity for a complete change in their way of\\nliving.\\n\\n\\n\\n'"
      ]
     },
     "execution_count": 75,
     "metadata": {},
     "output_type": "execute_result"
    }
   ],
   "source": [
    "mm.text[1236993:1278826]"
   ]
  },
  {
   "cell_type": "code",
   "execution_count": 52,
   "metadata": {},
   "outputs": [
    {
     "data": {
      "text/plain": [
       "398622"
      ]
     },
     "execution_count": 52,
     "metadata": {},
     "output_type": "execute_result"
    }
   ],
   "source": [
    "398370+252"
   ]
  }
 ],
 "metadata": {
  "kernelspec": {
   "display_name": "Python 3 (ipykernel)",
   "language": "python",
   "name": "python3"
  },
  "language_info": {
   "codemirror_mode": {
    "name": "ipython",
    "version": 3
   },
   "file_extension": ".py",
   "mimetype": "text/x-python",
   "name": "python",
   "nbconvert_exporter": "python",
   "pygments_lexer": "ipython3",
   "version": "3.10.9"
  }
 },
 "nbformat": 4,
 "nbformat_minor": 1
}
