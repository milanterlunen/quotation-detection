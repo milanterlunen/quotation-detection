{
 "cells": [
  {
   "cell_type": "markdown",
   "metadata": {},
   "source": [
    "<font size=5>Run Text_Matcher Algorithm</font>"
   ]
  },
  {
   "cell_type": "code",
   "execution_count": 2,
   "metadata": {},
   "outputs": [],
   "source": [
    "#Troubleshooting: !jupyter notebook --NotebookApp.iopub_data_rate_limit=1.0e10 if you \n",
    "# get a message about the data rate limit\n",
    "from matcher import Text, Matcher\n",
    "import json\n",
    "import pandas as pd\n",
    "from IPython.display import clear_output\n",
    "%matplotlib inline\n",
    "import matplotlib.pyplot as plt\n",
    "plt.rcParams[\"figure.figsize\"] = [16, 6]"
   ]
  },
  {
   "cell_type": "code",
   "execution_count": 5,
   "metadata": {},
   "outputs": [],
   "source": [
    "# Replace with the format: AuthorLastName_TitleOfText (ex: Butler_GenderTrouble)\n",
    "textname = 'Preciado_2013_Testo_junkie'\n",
    "\n",
    "# Load the data. Replace articles with the path of the jsonl file you want to use - \n",
    "# should be a file of all the articles that cite the text you're looking at.\n",
    "articles = '/Users/annie/Downloads/Kuhn_Hacking_2012_The_structure_of_scientific_revolutions.jsonl'\n",
    "with open(articles) as f: \n",
    "    rawArticles = f.readlines()\n",
    "\n",
    "# Parse the data. \n",
    "data = [json.loads(line) for line in rawArticles]\n",
    "\n",
    "df = pd.DataFrame(data)\n",
    "# Drop the irrelevant columns and rows with no full text.\n",
    "df = df.drop(['url', 'outputFormat', 'volumeNumber', 'subTitle', 'provider', 'datePublished', \\\n",
    "              'pagination', 'pageEnd', 'pageStart'], axis=1)\n",
    "df.dropna(subset=['fullText'], inplace=True)\n",
    "df.to_json(path_or_buf=f'{textname}_processed.jsonl', orient='records', lines=True)\n",
    "\n",
    "processedData = f'{textname}_processed.jsonl'\n",
    "with open(processedData) as f:\n",
    "    rawProcessedData = f.readlines()\n",
    "data = [json.loads(line) for line in rawProcessedData]\n",
    "\n",
    "# Load the text you want to find quotations from. Replace text with the text file you want to use.\n",
    "\n",
    "text = '/Users/annie/Downloads/Kuhn_Hacking_2012_The_structure_of_scientific_revolutions_plaintext.txt'\n",
    "with open(text) as f: \n",
    "    rawText = f.read()\n",
    "\n",
    "tx = Text(rawText, textname)"
   ]
  },
  {
   "cell_type": "code",
   "execution_count": 6,
   "metadata": {},
   "outputs": [
    {
     "name": "stdout",
     "output_type": "stream",
     "text": [
      " Matching article 101 of 102"
     ]
    }
   ],
   "source": [
    "for i, article in enumerate(data): \n",
    "    clear_output()\n",
    "    print('\\r', 'Matching article %s of %s' % (i, len(data)), end='')\n",
    "    if 'numMatches' not in article: \n",
    "        articleText = Text(article['fullText'], article['id'])\n",
    "        article['numMatches'], article['Locations in A'], article['Locations in B'] = \\\n",
    "        Matcher(tx, articleText).match()\n",
    "        article['fullText'] = ''"
   ]
  },
  {
   "cell_type": "code",
   "execution_count": 8,
   "metadata": {},
   "outputs": [],
   "source": [
    "df = pd.DataFrame(data)\n",
    "df = df.drop(['fullText'], axis=1)\n",
    "\n",
    "#Replace 'finaldata.jsonl' with whatever name you want to give this file.\n",
    "textname = 'Kuhn_Hacking_2012_The_structure_of_scientific_revolutions'\n",
    "df.to_json(path_or_buf=f'{textname}.jsonl', orient='records', lines=True)\n"
   ]
  }
 ],
 "metadata": {
  "kernelspec": {
   "display_name": "Python 3 (ipykernel)",
   "language": "python",
   "name": "python3"
  },
  "language_info": {
   "codemirror_mode": {
    "name": "ipython",
    "version": 3
   },
   "file_extension": ".py",
   "mimetype": "text/x-python",
   "name": "python",
   "nbconvert_exporter": "python",
   "pygments_lexer": "ipython3",
   "version": "3.8.8"
  }
 },
 "nbformat": 4,
 "nbformat_minor": 2
}
